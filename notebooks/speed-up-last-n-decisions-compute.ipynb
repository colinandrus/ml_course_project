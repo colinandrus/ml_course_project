{
 "cells": [
  {
   "cell_type": "code",
   "execution_count": 23,
   "metadata": {
    "collapsed": true
   },
   "outputs": [],
   "source": [
    "import numpy as np \n",
    "import pandas as pd \n",
    "import os \n",
    "import time "
   ]
  },
  {
   "cell_type": "markdown",
   "metadata": {},
   "source": [
    "## Import Test Data"
   ]
  },
  {
   "cell_type": "code",
   "execution_count": 117,
   "metadata": {
    "collapsed": false
   },
   "outputs": [],
   "source": [
    "DATAFOLDER = \"~/Documents/data-science-coursework/nyu-ml/project/\"\n",
    "fp = os.path.join(DATAFOLDER, 'data_for_model/data_with_trends_all_features_2018-05-08_v2.csv')\n",
    "appeals_with_trends = pd.read_csv(fp)\n",
    "test_judges = appeals_with_trends['ij_code'].value_counts()[:10].index.tolist()\n",
    "appeals_with_trends = appeals_with_trends[appeals_with_trends['ij_code'].isin(test_judges)].copy()\n",
    "appeals_with_trends['datAppealFiled_dt'] = pd.to_datetime(appeals_with_trends['datAppealFiled_dt'])\n",
    "appeals_with_trends['datBIADecision_dt'] = pd.to_datetime(appeals_with_trends['datBIADecision_dt'])"
   ]
  },
  {
   "cell_type": "markdown",
   "metadata": {},
   "source": [
    "## Break Into Data and Ref Tables"
   ]
  },
  {
   "cell_type": "code",
   "execution_count": 87,
   "metadata": {
    "collapsed": false
   },
   "outputs": [
    {
     "name": "stdout",
     "output_type": "stream",
     "text": [
      "<class 'pandas.core.frame.DataFrame'>\n",
      "Int64Index: 15308 entries, 223820 to 8653\n",
      "Data columns (total 3 columns):\n",
      "ij_code              15308 non-null object\n",
      "datBIADecision_dt    15308 non-null datetime64[ns]\n",
      "granted              15308 non-null int64\n",
      "dtypes: datetime64[ns](1), int64(1), object(1)\n",
      "memory usage: 478.4+ KB\n",
      "None\n",
      "<class 'pandas.core.frame.DataFrame'>\n",
      "Int64Index: 15308 entries, 52 to 247234\n",
      "Data columns (total 3 columns):\n",
      "idnAppeal            15308 non-null int64\n",
      "ij_code              15308 non-null object\n",
      "datAppealFiled_dt    15308 non-null datetime64[ns]\n",
      "dtypes: datetime64[ns](1), int64(1), object(1)\n",
      "memory usage: 478.4+ KB\n",
      "None\n"
     ]
    }
   ],
   "source": [
    "ref = appeals_with_trends[['ij_code', 'datBIADecision_dt', 'granted']].copy() \n",
    "ref = ref.sort_values(by=['ij_code', 'datBIADecision_dt'], ascending=[True, False])\n",
    "data = appeals_with_trends[['idnAppeal', 'ij_code', 'datAppealFiled_dt']].copy()\n",
    "print(ref.info())\n",
    "print(data.info())"
   ]
  },
  {
   "cell_type": "markdown",
   "metadata": {},
   "source": [
    "## Test Various Methods"
   ]
  },
  {
   "cell_type": "code",
   "execution_count": 88,
   "metadata": {
    "collapsed": true
   },
   "outputs": [],
   "source": [
    "# use multiprocessing to generate average grant rate of last n appeals with the same feature \n",
    "\n",
    "from multiprocessing import Pool\n",
    "from functools import partial \n",
    "\n",
    "def apply_func_to_row(row, feature, last_n): \n",
    "    \"\"\" Creates function to be applied to a dataframe row. Normally we would do df.apply(func, axis=1) \n",
    "        but this proves too slow for our purpose. \"\"\"\n",
    "    return ref[(ref['ij_code'] == row[feature]) & \n",
    "               (ref['datBIADecision_dt'] < row['datAppealFiled_dt'])]['granted'].head(last_n).mean() \n",
    "\n",
    "def apply_func_to_data(data, row_func):\n",
    "    \"\"\" Applies function to a (subset of) data and returns ()'idnAppeal', 'judge_last_10_decisions') as a df\"\"\"\n",
    "    data['judge_last_10_decisions'] = data.apply(row_func, axis=1) \n",
    "    return data[['idnAppeal', 'judge_last_10_decisions']] \n",
    "\n",
    "def parallelize_dataframe(df, func):\n",
    "    \"\"\" Splits data and runs above func in parallel, then combines results to return as a single df \"\"\"\n",
    "    df_split = np.array_split(df, 8)\n",
    "    pool = Pool(4)\n",
    "    df = pd.concat(pool.map(func, df_split))\n",
    "    pool.close()\n",
    "    pool.join()\n",
    "    return df\n",
    "\n",
    "def get_recent_decisions(df, feature, last_n): \n",
    "    \"\"\" Ties above helper methods to get average grant rate of last n appeals that share same feature \"\"\"\n",
    "    row_func = partial(apply_func_to_row, feature=feature, last_n=last_n)\n",
    "    data_func = partial(apply_func_to_data, row_func=row_func) \n",
    "    recent_decisions = parallelize_dataframe(df, data_func)\n",
    "    return recent_decisions "
   ]
  },
  {
   "cell_type": "markdown",
   "metadata": {},
   "source": [
    "#### Regular Apply"
   ]
  },
  {
   "cell_type": "code",
   "execution_count": 89,
   "metadata": {
    "collapsed": false
   },
   "outputs": [
    {
     "name": "stdout",
     "output_type": "stream",
     "text": [
      "Computed judge_last_10_decisions in 44.3526830673 seconds\n"
     ]
    }
   ],
   "source": [
    "# with regular apply \n",
    "start_time = time.time()\n",
    "judge_last_10_decisions = data.apply(partial(apply_func_to_row, feature='ij_code', last_n=10), axis=1)\n",
    "print(\"Computed judge_last_10_decisions in {} seconds\".format(time.time() - start_time))"
   ]
  },
  {
   "cell_type": "markdown",
   "metadata": {},
   "source": [
    "#### Multiprocessing "
   ]
  },
  {
   "cell_type": "code",
   "execution_count": 90,
   "metadata": {
    "collapsed": false
   },
   "outputs": [
    {
     "name": "stdout",
     "output_type": "stream",
     "text": [
      "Computed judge_last_10_decisions in 23.5769910812 seconds\n"
     ]
    }
   ],
   "source": [
    "# with multiprocessing \n",
    "start_time = time.time()\n",
    "judge_last_10_decisions = get_recent_decisions(data, 'ij_code', 10)\n",
    "print(\"Computed judge_last_10_decisions in {} seconds\".format(time.time() - start_time))"
   ]
  },
  {
   "cell_type": "markdown",
   "metadata": {},
   "source": [
    "#### Chunk Self-Join"
   ]
  },
  {
   "cell_type": "code",
   "execution_count": 91,
   "metadata": {
    "collapsed": true
   },
   "outputs": [],
   "source": [
    "# chunk self-join \n",
    "def chunk_compute(data_chunk, ref_chunk): \n",
    "    start_time = time.time() \n",
    "    df = data_chunk.merge(ref_chunk, how='left', on='ij_code')\n",
    "    results = df[df['datBIADecision_dt'] < df['datAppealFiled_dt']].groupby('idnAppeal').apply(\n",
    "        lambda f: f.head(10)['granted'].mean()) \n",
    "    print(\"Completed in {} seconds\".format(time.time() - start_time)) \n",
    "    return results "
   ]
  },
  {
   "cell_type": "code",
   "execution_count": 95,
   "metadata": {
    "collapsed": false
   },
   "outputs": [
    {
     "name": "stdout",
     "output_type": "stream",
     "text": [
      "Completed in 13.7086651325 seconds\n"
     ]
    }
   ],
   "source": [
    "results = chunk_compute(data, ref)"
   ]
  },
  {
   "cell_type": "markdown",
   "metadata": {},
   "source": [
    "## Proceed with Chunk Compute "
   ]
  },
  {
   "cell_type": "code",
   "execution_count": 94,
   "metadata": {
    "collapsed": true
   },
   "outputs": [],
   "source": [
    "def break_into_chunks(data, dimension, max_chunk): \n",
    "    \"\"\" Returns a dictionary of lists to instruct breaking up dataset into chunks, \n",
    "        where resulting rows from self-join on ij_code does not exceed max_df_rows \"\"\"\n",
    "    dimensions = pd.DataFrame(data.groupby(dimension).size().sort_values(ascending=False)) \n",
    "    dimensions = dimensions.rename(columns={0: 'rows'}).reset_index() \n",
    "    dimensions['self_join'] = dimensions['rows'] ** 2\n",
    "    dimensions['self_join_cumulative'] = dimensions['self_join'].cumsum() \n",
    "    dimensions['chunk'] = np.floor(dimensions['self_join_cumulative'] / max_chunk).astype(int)\n",
    "    chunk_assignments = dimensions.groupby('chunk')[dimension].apply(list).to_dict()\n",
    "    return chunk_assignments"
   ]
  },
  {
   "cell_type": "code",
   "execution_count": 124,
   "metadata": {
    "collapsed": false
   },
   "outputs": [],
   "source": [
    "def compute_recent_decisions(data, dimension, max_chunk=50000000): \n",
    "    \n",
    "    # get chunk assignments \n",
    "    chunk_assignments = break_into_chunks(data, dimension, max_chunk)\n",
    "    \n",
    "    # initialize empty list \n",
    "    results = [] \n",
    "    \n",
    "    # loop through each chunk \n",
    "    for chunk, selected in chunk_assignments.iteritems(): \n",
    "        data_variables = ['idnAppeal', 'datAppealFiled_dt'] + [dimension]\n",
    "        ref_variables = ['datBIADecision_dt', 'granted'] + [dimension] \n",
    "        data_chunk = data[data[dimension].isin(selected)][data_variables]\n",
    "        ref_chunk = data[data[dimension].isin(selected)][ref_variables].sort_values(\n",
    "            by=[dimension] + ['datBIADecision_dt'], ascending=[True, False])  \n",
    "        result = chunk_compute(data_chunk, ref_chunk)\n",
    "        results.append(result)\n",
    "    \n",
    "    return pd.concat(results) "
   ]
  },
  {
   "cell_type": "code",
   "execution_count": 125,
   "metadata": {
    "collapsed": false
   },
   "outputs": [
    {
     "name": "stdout",
     "output_type": "stream",
     "text": [
      "Completed in 15.0160229206 seconds\n",
      "Completed in 7.08671593666 seconds\n"
     ]
    }
   ],
   "source": [
    "results = compute_recent_decisions(appeals_with_trends, 'ij_code', max_chunk=50000000)"
   ]
  },
  {
   "cell_type": "markdown",
   "metadata": {},
   "source": [
    "#### Check "
   ]
  },
  {
   "cell_type": "code",
   "execution_count": 130,
   "metadata": {
    "collapsed": false
   },
   "outputs": [
    {
     "data": {
      "text/plain": [
       "0.22222222222222221"
      ]
     },
     "execution_count": 130,
     "metadata": {},
     "output_type": "execute_result"
    }
   ],
   "source": [
    "results.loc[86]"
   ]
  },
  {
   "cell_type": "code",
   "execution_count": 38,
   "metadata": {
    "collapsed": false
   },
   "outputs": [
    {
     "data": {
      "text/html": [
       "<div>\n",
       "<table border=\"1\" class=\"dataframe\">\n",
       "  <thead>\n",
       "    <tr style=\"text-align: right;\">\n",
       "      <th></th>\n",
       "      <th>idnAppeal</th>\n",
       "      <th>ij_code</th>\n",
       "      <th>datAppealFiled_dt</th>\n",
       "    </tr>\n",
       "  </thead>\n",
       "  <tbody>\n",
       "    <tr>\n",
       "      <th>40173</th>\n",
       "      <td>86</td>\n",
       "      <td>RJF</td>\n",
       "      <td>1994-04-08</td>\n",
       "    </tr>\n",
       "  </tbody>\n",
       "</table>\n",
       "</div>"
      ],
      "text/plain": [
       "       idnAppeal ij_code datAppealFiled_dt\n",
       "40173         86     RJF        1994-04-08"
      ]
     },
     "execution_count": 38,
     "metadata": {},
     "output_type": "execute_result"
    }
   ],
   "source": [
    "data[data['idnAppeal'] == 86]"
   ]
  },
  {
   "cell_type": "code",
   "execution_count": 39,
   "metadata": {
    "collapsed": false
   },
   "outputs": [
    {
     "data": {
      "text/html": [
       "<div>\n",
       "<table border=\"1\" class=\"dataframe\">\n",
       "  <thead>\n",
       "    <tr style=\"text-align: right;\">\n",
       "      <th></th>\n",
       "      <th>ij_code</th>\n",
       "      <th>datBIADecision_dt</th>\n",
       "      <th>granted</th>\n",
       "    </tr>\n",
       "  </thead>\n",
       "  <tbody>\n",
       "    <tr>\n",
       "      <th>57329</th>\n",
       "      <td>RJF</td>\n",
       "      <td>1994-03-28</td>\n",
       "      <td>0</td>\n",
       "    </tr>\n",
       "    <tr>\n",
       "      <th>70861</th>\n",
       "      <td>RJF</td>\n",
       "      <td>1994-03-23</td>\n",
       "      <td>1</td>\n",
       "    </tr>\n",
       "    <tr>\n",
       "      <th>70766</th>\n",
       "      <td>RJF</td>\n",
       "      <td>1994-02-25</td>\n",
       "      <td>0</td>\n",
       "    </tr>\n",
       "    <tr>\n",
       "      <th>70730</th>\n",
       "      <td>RJF</td>\n",
       "      <td>1994-02-15</td>\n",
       "      <td>0</td>\n",
       "    </tr>\n",
       "    <tr>\n",
       "      <th>70688</th>\n",
       "      <td>RJF</td>\n",
       "      <td>1994-02-14</td>\n",
       "      <td>1</td>\n",
       "    </tr>\n",
       "    <tr>\n",
       "      <th>14770</th>\n",
       "      <td>RJF</td>\n",
       "      <td>1994-02-10</td>\n",
       "      <td>0</td>\n",
       "    </tr>\n",
       "    <tr>\n",
       "      <th>70760</th>\n",
       "      <td>RJF</td>\n",
       "      <td>1993-11-05</td>\n",
       "      <td>0</td>\n",
       "    </tr>\n",
       "    <tr>\n",
       "      <th>70695</th>\n",
       "      <td>RJF</td>\n",
       "      <td>1993-11-04</td>\n",
       "      <td>0</td>\n",
       "    </tr>\n",
       "    <tr>\n",
       "      <th>70868</th>\n",
       "      <td>RJF</td>\n",
       "      <td>1993-10-28</td>\n",
       "      <td>0</td>\n",
       "    </tr>\n",
       "  </tbody>\n",
       "</table>\n",
       "</div>"
      ],
      "text/plain": [
       "      ij_code datBIADecision_dt  granted\n",
       "57329     RJF        1994-03-28        0\n",
       "70861     RJF        1994-03-23        1\n",
       "70766     RJF        1994-02-25        0\n",
       "70730     RJF        1994-02-15        0\n",
       "70688     RJF        1994-02-14        1\n",
       "14770     RJF        1994-02-10        0\n",
       "70760     RJF        1993-11-05        0\n",
       "70695     RJF        1993-11-04        0\n",
       "70868     RJF        1993-10-28        0"
      ]
     },
     "execution_count": 39,
     "metadata": {},
     "output_type": "execute_result"
    }
   ],
   "source": [
    "ref[(ref['ij_code'] == 'RJF') & (ref['datBIADecision_dt'] < '1994-04-08')]"
   ]
  },
  {
   "cell_type": "code",
   "execution_count": null,
   "metadata": {
    "collapsed": true
   },
   "outputs": [],
   "source": []
  }
 ],
 "metadata": {
  "kernelspec": {
   "display_name": "Python 2",
   "language": "python",
   "name": "python2"
  },
  "language_info": {
   "codemirror_mode": {
    "name": "ipython",
    "version": 2
   },
   "file_extension": ".py",
   "mimetype": "text/x-python",
   "name": "python",
   "nbconvert_exporter": "python",
   "pygments_lexer": "ipython2",
   "version": "2.7.11"
  }
 },
 "nbformat": 4,
 "nbformat_minor": 0
}
