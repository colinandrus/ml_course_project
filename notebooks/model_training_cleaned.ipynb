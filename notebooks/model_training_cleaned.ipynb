{
 "cells": [
  {
   "cell_type": "code",
   "execution_count": 17,
   "metadata": {
    "collapsed": true
   },
   "outputs": [],
   "source": [
    "# import dependencies \n",
    "import numpy as np\n",
    "import pandas as pd \n",
    "from sklearn.ensemble import RandomForestClassifier \n",
    "from sklearn.model_selection import train_test_split \n",
    "from sklearn.metrics import roc_curve, auc, roc_auc_score, accuracy_score, log_loss, \\\n",
    "    precision_score, recall_score, precision_recall_curve, average_precision_score\n",
    "from sklearn.pipeline import make_pipeline, Pipeline \n",
    "from sklearn.base import TransformerMixin, BaseEstimator\n",
    "from sklearn.feature_selection import SelectFromModel\n",
    "import matplotlib.pyplot as plt\n",
    "import os\n",
    "from xgboost import XGBClassifier\n",
    "%matplotlib inline "
   ]
  },
  {
   "cell_type": "markdown",
   "metadata": {},
   "source": [
    "# Load Data"
   ]
  },
  {
   "cell_type": "code",
   "execution_count": 18,
   "metadata": {
    "collapsed": true
   },
   "outputs": [],
   "source": [
    "# define folder where data resides \n",
    "DATAFOLDER = \"~/Documents/data-science-coursework/nyu-ml/project/\""
   ]
  },
  {
   "cell_type": "code",
   "execution_count": 19,
   "metadata": {
    "collapsed": true
   },
   "outputs": [],
   "source": [
    "# function to load data \n",
    "def load_data(filename, root_path=DATAFOLDER):\n",
    "    csv_path = os.path.join(root_path, filename)\n",
    "    df = pd.read_csv(csv_path)\n",
    "    return df "
   ]
  },
  {
   "cell_type": "code",
   "execution_count": 20,
   "metadata": {
    "collapsed": false
   },
   "outputs": [
    {
     "name": "stdout",
     "output_type": "stream",
     "text": [
      "<class 'pandas.core.frame.DataFrame'>\n",
      "Float64Index: 242466 entries, 4657002.0 to 5021568.0\n",
      "Columns: 231 entries, idncase to last_10_appeal_grant_by_judge_nat\n",
      "dtypes: bool(1), float64(96), int64(41), object(93)\n",
      "memory usage: 427.6+ MB\n",
      "None\n",
      "['idncase', 'idnproceeding', 'nat', 'case_type', 'c_asy_type', 'base_city_code', 'hearing_loc_code', 'dec_type', 'dec_code', 'other_comp', 'attorney_flag', 'ij_code', 'tracid', 'case_type_string', '_mcase', 'original_dec_type_string', '_mdectype', 'outcome_recorded_in_field', 'original_dec_string', '_mdecproceeddec', '_mdecproceedoth', 'nat_string', '_mnat', 'base_city_street', 'base_city_string', 'base_city_state', 'base_city_zip5', 'base_city_zip4', 'base_city_phone', '_mbasecity', 'hearing_loc_string1', 'hearing_loc_string2', 'hearing_loc_street', 'hearing_loc_city', 'hearing_loc_state', 'hearing_loc_zip5', 'hearing_loc_phone', '_mhearingloc', 'judge_name_caps', '_mlookupijcode', 'idncode', 'idnproceedingappln', 'appl_code', 'appl_dec', '_mappln', 'application_type_string', '_mapplcode', 'application_dec_string', '_mappldec', 'cityid', 'judgeid', 'natid', 'comp_year', 'comp_month', 'comp_day', 'comp_date', 'osc_year', 'osc_month', 'osc_day', 'osc_date', 'input_year', 'input_month', 'input_day', 'input_date', 'appl_year', 'appl_month', 'appl_day', 'appl_recd_date', 'strdescription', 'torture', 'asylum', 'waiver', 'child', 'voluntary', 'original_granted', 'deny', 'abandoned', 'withdrawn', 'venue_change', 'deport', 'relief_granted', 'remove', 'terminated', 'voluntary_departure', 'oral', 'written', 'deport_form', 'voluntary_form', 'deportation_proceeding', 'exclusion_proceeding', 'removal_proceeding', 'asylum_only_proceeding', 'withholding_only_proceeding', 'lawyer', 'defensive', 'affirmative', 'mistakegrantdeny', 'idnschedule', 'generation', 'sub_generation', 'rec_type', 'alien_atty_code', 'lang', 'interpreter_code', 'input_time', 'update_date', 'update_time', 'assignment_path', 'continue_flag', 'cal_type', 'adj_date', 'adj_time_start', 'adj_time_stop', 'adj_rsn', 'adj_medium', 'adj_msg', 'adj_elap_days', 'id_1', 'lngsessnid', 'schedule_type', 'notice_code', 'datbatchmodified', 'strcreatedby', 'strmodifiedby', 'blnclockoverride', 'eoirattorneyid', 'idncasedups', 'adj_rsn_string', 'adj_requested_by', 'adj_clock_status', '_madj', 'cal_type_string', '_mcaltype', 'notice_code_string', '_mnotice', 'schedule_type_string', '_mschedcodes', 'adj_completion_prior_to_hearing', 'adj_case_conversion', 'adj_alien_to_seek_representation', 'adj_merits_hearing', 'adj_to_file', 'adj_preparation', 'adj_consolidation_family', 'government_requested', 'alien_requested', 'either_requested', 'clock_stopped', 'clock_running', 'clock_end', 'individual_cal', 'multiple_cal', 'deportation_notice', 'exclusion_notice', 'removal_notice', 'asylum_only_notice', 'withholding_only_notice', 'custody_notice', 'family_notice', 'initial_notice', 'individual_sched', 'multiple_sched', 'unknown_sched', 'adj_date_stamp', 'adj_year', 'adj_month', 'adj_day', 'adj_input_year', 'adj_input_month', 'adj_input_day', 'adj_input_date', 'adj_osc_year', 'adj_osc_month', 'adj_osc_day', 'adj_osc_date', 'eoirattyid', 'alienattyid', 'langid', 'hearingid', 'basecityid', 'last_hearing_on_comp_date', 'idnProceeding', 'strAppealCategory', 'strAppealType', 'datAppealFiled', 'strFiledBy', 'datAttorneyE27', 'datBIADecision', 'strBIADecision', 'strBIADecisionType', 'strCaseType', 'strLang', 'strNat', 'strProceedingIHP', 'strCustody', 'strProbono', 'strAppealCategoryDesc', 'strAppealTypeDesc', 'strBIADecisionDesc', 'strBIADecisionTypeDesc', 'Male_judge', 'Year_Appointed_SLR', 'Year_College_SLR', 'Year_Law_school_SLR', 'Government_Years_SLR', 'Govt_nonINS_SLR', 'INS_Years_SLR', 'Military_Years_SLR', 'NGO_Years_SLR', 'Privateprac_Years_SLR', 'Academia_Years_SLR', 'judge_missing_bio', 'ij_code_nat', 'datAppealFiled_dt', 'datAppealFiled_year', 'datAppealFiled_month', 'datAppealFiled_year_month', 'datBIADecision_dt', 'datBIADecision_year', 'datBIADecision_month', 'datBIADecision_year_month', 'appealed', 'granted', 'ij_code_grouped', 'nat_grouped', 'ij_code_nat_grouped', 'hearing_loc_code_grouped', 'years_since_judge_appointment', 'years_since_law_school', 'last_10_appeal_grant_by_judge', 'last_10_appeal_grant_by_judge_nat']\n"
     ]
    }
   ],
   "source": [
    "# load data \n",
    "df = load_data(filename=\"data_for_model/appeals_data_final.csv\", root_path=DATAFOLDER)\n",
    "df.set_index('idnAppeal', inplace=True) \n",
    "print(df.info()) \n",
    "print(df.columns.tolist())"
   ]
  },
  {
   "cell_type": "markdown",
   "metadata": {},
   "source": [
    "# Data Pipelines"
   ]
  },
  {
   "cell_type": "code",
   "execution_count": 21,
   "metadata": {
    "collapsed": true
   },
   "outputs": [],
   "source": [
    "# impute missing data\n",
    "\n",
    "def impute_columns_udf(col, imputation_type): \n",
    "    \"\"\" \n",
    "    UDF to specify imputation method for a given variable. \n",
    "    col is the pd.Series for which you want to impute, imputation_type should be chosen from \n",
    "    ['mode', 'mean', 'median', 'zero', 'none'] \n",
    "    \"\"\" \n",
    "    if imputation_type == 'mode':\n",
    "        val = col.mode()[0]\n",
    "        return col.fillna(val)\n",
    "    \n",
    "    elif imputation_type == 'mean': \n",
    "        val = col.mean() \n",
    "        return col.fillna(val)\n",
    "    \n",
    "    elif imputation_type == 'median': \n",
    "        val = col.median() \n",
    "        return col.fillna(val)\n",
    "    \n",
    "    elif imputation_type == 'zero': \n",
    "        return col.fillna(0)\n",
    "    \n",
    "    elif imputation_type == 'none':\n",
    "        return col.fillna('None')\n",
    "    \n",
    "    else: \n",
    "        raise ValueError('imputation_type argument not valid')\n",
    "\n",
    "class ImputeMissingData(BaseEstimator, TransformerMixin):\n",
    "    \"\"\" Pipeline step that impute missing values, given impute methods specified. \n",
    "        Note that numerical features with NaN's and no impute methods will raise an error, \n",
    "        categorical features on the other hand will be filled with 'None' by default unless specified otherwise.\n",
    "    \"\"\"\n",
    "    def __init__(self, impute_methods, num_features, cat_features): \n",
    "        self.impute_methods = impute_methods\n",
    "        self.num_features = num_features\n",
    "        self.cat_features = cat_features\n",
    "    \n",
    "    def fit(self, X, y=None): \n",
    "        return self \n",
    "    \n",
    "    def transform(self, input_data): \n",
    "        output_data = input_data.copy() \n",
    "\n",
    "        # check which features have missing values but imputation methods not specified \n",
    "        features_nulls = output_data.isnull().sum() \n",
    "        features_nulls = features_nulls[features_nulls > 0].index.tolist() \n",
    "        features_need_impute = [f for f in features_nulls if f not in self.impute_methods.keys()]\n",
    "        num_features_need_impute = [f for f in features_need_impute if f in self.num_features]\n",
    "        cat_features_need_impute = [f for f in features_need_impute if f in self.cat_features]\n",
    "        \n",
    "        # raise exception for numerical features with missing values and no imputation method specified \n",
    "        if num_features_need_impute: \n",
    "            raise Exception(\"\"\"These numerical features have missing values: {}. \n",
    "            Please specify their impute methods.\"\"\".format(num_features_need_impute)) \n",
    "        \n",
    "        # set imputation method as 'none' for cat features with missing values with no imputation method specified \n",
    "        if cat_features_need_impute: \n",
    "            for cat_f in cat_features_need_impute: \n",
    "                self.impute_methods[cat_f] = 'none'\n",
    "            print(\"\"\"{} have missing values with no imputation method specified. \n",
    "            By default, they have been filled with 'None'.\"\"\".format(cat_features_need_impute)) \n",
    "                \n",
    "        # apply imputations \n",
    "        for col, imp_method in self.impute_methods.items(): \n",
    "            output_data[col] = impute_columns_udf(output_data[col], imp_method)\n",
    "            \n",
    "        return output_data "
   ]
  },
  {
   "cell_type": "code",
   "execution_count": 22,
   "metadata": {
    "collapsed": true
   },
   "outputs": [],
   "source": [
    "# convert data types\n",
    "class ConvertDataTypes(BaseEstimator, TransformerMixin): \n",
    "    \"\"\" Coerce data types to specifications defined by CAT_FEATURES and NUM_FEATURES \"\"\"\n",
    "    def __init__(self, num_features, cat_features): \n",
    "        self.num_features = num_features \n",
    "        self.cat_features = cat_features\n",
    "    \n",
    "    def fit(self, X, y=None):\n",
    "        return self \n",
    "    \n",
    "    def transform(self, input_data): \n",
    "        output_data = input_data.copy() \n",
    "        output_data[self.num_features] = output_data[self.num_features].astype(float)\n",
    "        output_data[self.cat_features] = output_data[self.cat_features].astype(str)\n",
    "        return output_data "
   ]
  },
  {
   "cell_type": "code",
   "execution_count": 23,
   "metadata": {
    "collapsed": true
   },
   "outputs": [],
   "source": [
    "# dummify data \n",
    "\n",
    "class Dummify(BaseEstimator, TransformerMixin): \n",
    "    \"\"\" Pipeline step that dummifies all categorical variables \"\"\"\n",
    "    def __init__(self, cat_feature_values): \n",
    "        self.cat_feature_values = cat_feature_values\n",
    "    \n",
    "    def fit(self, X, y=None): \n",
    "        return self\n",
    "    \n",
    "    def transform(self, input_data):\n",
    "        output_data = input_data.copy()\n",
    "        # specify values categorical features can take on, to ensure train/test DF have same cols \n",
    "        cat_features = self.cat_feature_values.keys()\n",
    "        for col in cat_features: \n",
    "            output_data[col] = pd.Categorical(output_data[col], categories=self.cat_feature_values[col])        \n",
    "        output_data = pd.get_dummies(output_data, columns=cat_features, prefix_sep=':::')\n",
    "        return output_data"
   ]
  },
  {
   "cell_type": "markdown",
   "metadata": {},
   "source": [
    "# Model Methods"
   ]
  },
  {
   "cell_type": "code",
   "execution_count": 24,
   "metadata": {
    "collapsed": true
   },
   "outputs": [],
   "source": [
    "# method to subset and transform data (impute, convert, dummify)\n",
    "\n",
    "def transform_features(data, df, cat_features, num_features, impute_methods): \n",
    "    \"\"\" Impute, convert and dummify features \n",
    "        TODO: save cat_feature_values to pickle so that we don't have to read df \n",
    "    \"\"\"  \n",
    "    \n",
    "    # subsets features we are interested in \n",
    "    cat_feature_values = dict([(f, [str(x) for x in df[f].dropna().unique().tolist()]) for f in cat_features])\n",
    "    data = data[cat_features + num_features].copy() \n",
    "\n",
    "    # make pipeline \n",
    "    data_pipeline = Pipeline([\n",
    "        ('impute', ImputeMissingData(impute_methods, num_features, cat_features)),         \n",
    "        ('convert_dtypes', ConvertDataTypes(num_features, cat_features)), \n",
    "        ('dummify', Dummify(cat_feature_values))\n",
    "    ])\n",
    "    \n",
    "    # run pipeline \n",
    "    X = data_pipeline.fit_transform(data)\n",
    "    \n",
    "    return X\n",
    "\n",
    "# method to split train-test and transform features \n",
    "\n",
    "def get_model_data(df, label, cat_features, num_features, impute_methods, test_size=0.2, print_summary=False): \n",
    "    \"\"\" Subsets features used, splits into train-test, and transforms features \"\"\"\n",
    "    \n",
    "    # subsets features we are interested in \n",
    "    data = df[cat_features + num_features + [label]].copy() \n",
    "    \n",
    "    # train test split \n",
    "    X, y = data.drop(label, axis=1).copy(), data[label].copy() \n",
    "    x_train, x_test, y_train, y_test = train_test_split(X, y, test_size=test_size, random_state=44)\n",
    "\n",
    "    # transform features\n",
    "    X_train = transform_features(x_train, df, cat_features, num_features, impute_methods)\n",
    "    X_test = transform_features(x_test, df, cat_features, num_features, impute_methods)\n",
    "\n",
    "    if print_summary:\n",
    "        print(\"Training Data: {} | Test Data: {}\".format(X_train.shape, X_test.shape)) \n",
    "    \n",
    "    return X_train, X_test, y_train, y_test "
   ]
  },
  {
   "cell_type": "code",
   "execution_count": 25,
   "metadata": {
    "collapsed": true
   },
   "outputs": [],
   "source": [
    "# # method to subset data for training model - DEPRECATE - doesn't work on pure prediction data \n",
    "# def get_model_data(df, label, cat_features, num_features, impute_methods, test_size=0.2, print_summary=False): \n",
    "#     \"\"\" Subsets variables used for model, runs it through pipeline to output data for model \n",
    "#         Set test_size = 0 if generating data only for prediction \n",
    "#         (TODO: IF HAVE TIME SPLIT INTO SEPARATE FUNCTION)\n",
    "#     \"\"\"\n",
    "    \n",
    "#     # subsets features we are interested in \n",
    "#     cat_feature_values = dict([(f, [str(x) for x in df[f].dropna().unique().tolist()]) for f in cat_features]) # do EDA and limit to smaller list\n",
    "#     data = df[cat_features + num_features + [label]].copy() \n",
    "    \n",
    "#     # train test split \n",
    "#     X, y = data.drop(label, axis=1).copy(), data[label].copy() \n",
    "#     x_train, x_test, y_train, y_test = train_test_split(X, y, test_size=test_size, random_state=44)\n",
    "    \n",
    "#     # make pipeline \n",
    "#     data_pipeline = Pipeline([\n",
    "#         ('impute', ImputeMissingData(impute_methods, num_features, cat_features)),         \n",
    "#         ('convert_dtypes', ConvertDataTypes(num_features, cat_features)), \n",
    "#         ('dummify', Dummify(cat_feature_values))\n",
    "#     ])\n",
    "    \n",
    "#     # run pipeline \n",
    "#     X_train = data_pipeline.fit_transform(x_train)\n",
    "#     X_test = data_pipeline.transform(x_test)\n",
    "#     if print_summary:\n",
    "#         print(\"Training Data: {} | Test Data: {}\".format(X_train.shape, X_test.shape)) \n",
    "    \n",
    "#     return X_train, X_test, y_train, y_test "
   ]
  },
  {
   "cell_type": "code",
   "execution_count": 26,
   "metadata": {
    "collapsed": true
   },
   "outputs": [],
   "source": [
    "# method to return model evaluation metrics \n",
    "def evaluate_model(truth, pred): \n",
    "    \"\"\" Takes in arrays of truth and pred y values and return accuracy, logloss, roc_auc, and plot ROC \"\"\" \n",
    "    accuracy = accuracy_score(truth, (pred>0.5).astype(int))\n",
    "    logloss = log_loss(truth, pred)\n",
    "    fpr, tpr, thresholds = roc_curve(truth, pred)\n",
    "    roc_auc = auc(fpr, tpr)\n",
    "    precision = precision_score(truth, (pred>0.5).astype(int))\n",
    "    recall = recall_score(truth, (pred>0.5).astype(int))\n",
    "    metrics = {'Accuracy': accuracy, 'ROC AUC': roc_auc, 'Log Loss': logloss, \n",
    "               'Precision': precision, 'Recall': recall}\n",
    "    return metrics"
   ]
  },
  {
   "cell_type": "code",
   "execution_count": 27,
   "metadata": {
    "collapsed": true
   },
   "outputs": [],
   "source": [
    "# method to plot ROC \n",
    "\n",
    "def plot_roc(truth, pred, model_name=None, title=None): \n",
    "    \"\"\" Takes in arrays of truth classes and pred probs to plot ROC curve \"\"\"\n",
    "    fpr, tpr, thresholds = roc_curve(truth, pred)\n",
    "    roc_auc = auc(fpr, tpr)\n",
    "    if model_name is not None: \n",
    "        plt.plot(fpr, tpr, label= '{0} (AUC = {1:.3f})'.format(model_name, roc_auc)) \n",
    "    else: \n",
    "        plt.plot(fpr, tpr, label= 'AUC:{0:.3f}'.format(roc_auc)) \n",
    "    plt.plot([0, 1], [0, 1], 'k--')\n",
    "    plt.xlim([0.0, 1.0])\n",
    "    plt.ylim([0.0, 1.0])\n",
    "    plt.xlabel('FPR')\n",
    "    plt.ylabel('TPR')\n",
    "    if title is not None: \n",
    "        plt.title(title)\n",
    "    else: \n",
    "        plt.title('ROC')\n",
    "    plt.legend(loc=\"lower right\")   "
   ]
  },
  {
   "cell_type": "code",
   "execution_count": 28,
   "metadata": {
    "collapsed": true
   },
   "outputs": [],
   "source": [
    "# method to plot precision-recall curve \n",
    "\n",
    "def plot_precision_recall(truth, pred, model_name=None, title=None): \n",
    "    \"\"\" Takes in arrays of truth classes and pred probs to plot precision-recall curve\n",
    "        Code borrowed from http://scikit-learn.org/stable/auto_examples/model_selection/plot_precision_recall.html\n",
    "    \"\"\"    \n",
    "    precision, recall, _ = precision_recall_curve(truth, pred)\n",
    "    average_precision = average_precision_score(truth, pred)\n",
    "    plt.step(recall, precision, color='b', alpha=0.2, where='post')\n",
    "    plt.fill_between(recall, precision, step='post', alpha=0.2, color='b', \n",
    "                     label='Avg Precision:{0:.3f}'.format(average_precision))\n",
    "    plt.xlabel('Recall')\n",
    "    plt.ylabel('Precision')\n",
    "    plt.ylim([0.0, 1.05])\n",
    "    plt.xlim([0.0, 1.0])\n",
    "    if title is not None: \n",
    "        plt.title(title)\n",
    "    else: \n",
    "        plt.title('Precision-Recall curve') \n",
    "    plt.legend(loc='lower right')"
   ]
  },
  {
   "cell_type": "code",
   "execution_count": 29,
   "metadata": {
    "collapsed": true
   },
   "outputs": [],
   "source": [
    "# method to train a model, output results, and plot AUC \n",
    "\n",
    "def train_model(model, X_train, y_train, X_test, y_test, \n",
    "                print_metrics=True, print_charts=False, sample_weight=None):\n",
    "    if sample_weight is not None: \n",
    "        model.fit(X_train, y_train.values.ravel(), sample_weight)\n",
    "    else: \n",
    "        model.fit(X_train, y_train.values.ravel())\n",
    "    truth = y_test.values.ravel()\n",
    "    pred = model.predict_proba(X_test)[:,1]\n",
    "    metrics = evaluate_model(truth, pred)\n",
    "    try: \n",
    "        fi, cfi = get_feature_importances(model, X_train)\n",
    "    except AttributeError: \n",
    "        fi, cfi = None, None \n",
    "    \n",
    "    if print_metrics: \n",
    "        print(metrics)\n",
    "    if print_charts: \n",
    "        plot_metrics(truth, pred)\n",
    "    return model, metrics, fi, cfi, truth, pred   "
   ]
  },
  {
   "cell_type": "code",
   "execution_count": 30,
   "metadata": {
    "collapsed": true
   },
   "outputs": [],
   "source": [
    "# method to train a model, output results, and plot AUC (WITH FEATURE SELECTION)\n",
    "\n",
    "# def train_model_with_feature_selection(model, X_train, y_train, X_test, y_test, \n",
    "#                                        print_metrics=True, print_charts=False, sample_weight=None,\n",
    "#                                        feature_selection_threshold=\"0.25*mean\"):\n",
    "    \n",
    "#     print(\"Original Features: {}\".format(X_train.shape[1]))\n",
    "    \n",
    "#     # perform feature selection \n",
    "#     sfm = SelectFromModel(model, threshold=feature_selection_threshold)\n",
    "#     sfm.fit(X_train, y_train)\n",
    "#     X_train = sfm.transform(X_train)\n",
    "#     X_test = sfm.transform(X_test)\n",
    "#     print(\"New Features: {}\".format(X_train.shape[1]))\n",
    "    \n",
    "#     if sample_weight is not None: \n",
    "#         model.fit(X_train, y_train.values.ravel(), sample_weight)\n",
    "#     else: \n",
    "#         model.fit(X_train, y_train.values.ravel())\n",
    "#     truth = y_test.values.ravel()\n",
    "#     pred = model.predict_proba(X_test)[:,1]\n",
    "#     metrics = evaluate_model(truth, pred)\n",
    "# #    fi, cfi = get_feature_importances(model, X_train)\n",
    "    \n",
    "#     if print_metrics: \n",
    "#         print(metrics)\n",
    "#     if print_charts: \n",
    "#         plot_metrics(truth, pred)\n",
    "#     return model, metrics, truth, pred  \n",
    "# #    return model, metrics, fi, cfi, truth, pred   "
   ]
  },
  {
   "cell_type": "code",
   "execution_count": 31,
   "metadata": {
    "collapsed": true
   },
   "outputs": [],
   "source": [
    "# method to plot ROC and Precision-Recall\n",
    "\n",
    "def plot_metrics(truth, pred): \n",
    "    \"\"\" Plots ROC and Precision-Recall curves \"\"\"\n",
    "    plt.figure(figsize=(12, 4))\n",
    "    plt.subplot(1, 2, 1)\n",
    "    plot_roc(truth, pred)\n",
    "    plt.subplot(1, 2, 2)\n",
    "    plot_precision_recall(truth, pred) "
   ]
  },
  {
   "cell_type": "code",
   "execution_count": 32,
   "metadata": {
    "collapsed": true
   },
   "outputs": [],
   "source": [
    "# method to get feature importances \n",
    "\n",
    "def get_feature_importances(model, X_train):\n",
    "    \n",
    "    \"\"\" Takes model and train data as inputs, outputs regular and collapsed feature importances \"\"\"\n",
    "    \n",
    "    # get 'regular' feature importances \n",
    "    fi = pd.Series(data=model.feature_importances_, index=X_train.columns).sort_values(ascending=False)\n",
    "    \n",
    "    # get 'collapsed' feature importances (dummy variables of parent feature aggregated as one)\n",
    "    cfi = pd.DataFrame(fi).reset_index().rename(columns={'index': 'feature', 0: 'importance'})\n",
    "    cfi['parent_feature'] = cfi['feature'].apply(lambda x: x.split(':::')[0])\n",
    "    cfi = cfi.groupby('parent_feature')['importance'].sum().sort_values(ascending=False) \n",
    "    \n",
    "    return fi, cfi "
   ]
  },
  {
   "cell_type": "markdown",
   "metadata": {},
   "source": [
    "# Test Different Variables "
   ]
  },
  {
   "cell_type": "markdown",
   "metadata": {},
   "source": [
    "#### One Variable  "
   ]
  },
  {
   "cell_type": "code",
   "execution_count": 33,
   "metadata": {
    "collapsed": false
   },
   "outputs": [
    {
     "name": "stdout",
     "output_type": "stream",
     "text": [
      "Training Data: (193972, 217) | Test Data: (48494, 217)\n",
      "{'Recall': 0.090585920142195131, 'Log Loss': 0.59390245578952106, 'Precision': 0.57913961038961037, 'ROC AUC': 0.66562832386584836, 'Accuracy': 0.68319792139233715}\n"
     ]
    }
   ],
   "source": [
    "# nationality only \n",
    "CAT_FEATURES = ['nat_string']\n",
    "NUM_FEATURES = []\n",
    "IMPUTE_METHODS = {'nat_string': 'none'}\n",
    "MODEL = (RandomForestClassifier(n_estimators=10, random_state=44))\n",
    "\n",
    "X_train, X_test, y_train, y_test = get_model_data(df, label='granted', cat_features = CAT_FEATURES, \n",
    "                                                  num_features = NUM_FEATURES, impute_methods = IMPUTE_METHODS, \n",
    "                                                  print_summary=True) \n",
    "model, metrics, fi, cfi, _, _  = train_model(MODEL, X_train, y_train, X_test, y_test, \n",
    "                                             print_metrics=True, print_charts=False)"
   ]
  },
  {
   "cell_type": "code",
   "execution_count": 34,
   "metadata": {
    "collapsed": false
   },
   "outputs": [
    {
     "name": "stdout",
     "output_type": "stream",
     "text": [
      "Training Data: (193972, 421) | Test Data: (48494, 421)\n",
      "{'Recall': 0.064241731733638036, 'Log Loss': 0.60965700167868064, 'Precision': 0.50398406374501992, 'ROC AUC': 0.62538189457937787, 'Accuracy': 0.67548562708788717}\n"
     ]
    }
   ],
   "source": [
    "# judge only \n",
    "CAT_FEATURES = ['ij_code']\n",
    "NUM_FEATURES = []\n",
    "IMPUTE_METHODS = {}\n",
    "MODEL = (RandomForestClassifier(n_estimators=10, random_state=44))\n",
    "\n",
    "X_train, X_test, y_train, y_test = get_model_data(df, label='granted', cat_features = CAT_FEATURES, \n",
    "                                                  num_features = NUM_FEATURES, impute_methods = IMPUTE_METHODS,\n",
    "                                                  print_summary=True) \n",
    "model, metrics, fi, cfi, _, _ = train_model(MODEL, X_train, y_train, X_test, y_test, \n",
    "                                            print_metrics=True, print_charts=False)"
   ]
  },
  {
   "cell_type": "code",
   "execution_count": 35,
   "metadata": {
    "collapsed": false
   },
   "outputs": [
    {
     "name": "stdout",
     "output_type": "stream",
     "text": [
      "{'Recall': 0.034850504665777944, 'Log Loss': 0.61956671125385254, 'Precision': 0.50880444856348472, 'ROC AUC': 0.58836151530192948, 'Accuracy': 0.67554749041118489}\n"
     ]
    }
   ],
   "source": [
    "# appeal year only\n",
    "CAT_FEATURES = []\n",
    "NUM_FEATURES = ['datAppealFiled_year']\n",
    "IMPUTE_METHODS = {}\n",
    "MODEL = (RandomForestClassifier(n_estimators=10, random_state=44))\n",
    "\n",
    "X_train, X_test, y_train, y_test = get_model_data(df, label='granted', cat_features = CAT_FEATURES, \n",
    "                                                  num_features = NUM_FEATURES, impute_methods = IMPUTE_METHODS) \n",
    "model, metrics, fi, cfi, _, _ = train_model(MODEL, X_train, y_train, X_test, y_test, \n",
    "                                            print_metrics=True, print_charts=False)"
   ]
  },
  {
   "cell_type": "markdown",
   "metadata": {},
   "source": [
    "#### Two Variables "
   ]
  },
  {
   "cell_type": "code",
   "execution_count": null,
   "metadata": {
    "collapsed": false
   },
   "outputs": [],
   "source": [
    "# nationality + judge \n",
    "CAT_FEATURES = ['nat_string', 'ij_code']\n",
    "NUM_FEATURES = []\n",
    "IMPUTE_METHODS = {'nat_string': 'none'}\n",
    "MODEL = (RandomForestClassifier(n_estimators=10, random_state=44))\n",
    "\n",
    "X_train, X_test, y_train, y_test = get_model_data(df, label='granted', cat_features = CAT_FEATURES, \n",
    "                                                  num_features = NUM_FEATURES, impute_methods = IMPUTE_METHODS) \n",
    "model, metrics, fi, cfi, _, _ = train_model(MODEL, X_train, y_train, X_test, y_test, \n",
    "                                            print_metrics=True, print_charts=False)\n",
    "print(cfi)"
   ]
  },
  {
   "cell_type": "code",
   "execution_count": null,
   "metadata": {
    "collapsed": false
   },
   "outputs": [],
   "source": [
    "# nationality + judge (grouped) - yields better AUC, will use grouped from here \n",
    "CAT_FEATURES = ['nat_grouped', 'ij_code_grouped']\n",
    "NUM_FEATURES = []\n",
    "IMPUTE_METHODS = {'nat_grouped': 'none'}\n",
    "MODEL = (RandomForestClassifier(n_estimators=10, random_state=44))\n",
    "\n",
    "X_train, X_test, y_train, y_test = get_model_data(df, label='granted', cat_features = CAT_FEATURES, \n",
    "                                                  num_features = NUM_FEATURES, impute_methods = IMPUTE_METHODS) \n",
    "model, metrics, fi, cfi, _, _ = train_model(MODEL, X_train, y_train, X_test, y_test, \n",
    "                                            print_metrics=True, print_charts=False)\n",
    "print(cfi)"
   ]
  },
  {
   "cell_type": "code",
   "execution_count": null,
   "metadata": {
    "collapsed": false
   },
   "outputs": [],
   "source": [
    "# nationality + appeal year \n",
    "CAT_FEATURES = ['nat_grouped']\n",
    "NUM_FEATURES = ['datAppealFiled_year']\n",
    "IMPUTE_METHODS = {'nat_grouped': 'none'}\n",
    "MODEL = (RandomForestClassifier(n_estimators=10, random_state=44))\n",
    "\n",
    "X_train, X_test, y_train, y_test = get_model_data(df, label='granted', cat_features = CAT_FEATURES, \n",
    "                                                  num_features = NUM_FEATURES, impute_methods = IMPUTE_METHODS) \n",
    "model, metrics, fi, cfi, _, _ = train_model(MODEL, X_train, y_train, X_test, y_test, \n",
    "                                            print_metrics=True, print_charts=False)\n",
    "print(cfi)"
   ]
  },
  {
   "cell_type": "code",
   "execution_count": null,
   "metadata": {
    "collapsed": false
   },
   "outputs": [],
   "source": [
    "# judge + appeal year \n",
    "CAT_FEATURES = ['ij_code_grouped']\n",
    "NUM_FEATURES = ['datAppealFiled_year']\n",
    "IMPUTE_METHODS = {}\n",
    "MODEL = (RandomForestClassifier(n_estimators=10, random_state=44))\n",
    "\n",
    "X_train, X_test, y_train, y_test = get_model_data(df, label='granted', cat_features = CAT_FEATURES, \n",
    "                                                  num_features = NUM_FEATURES, impute_methods = IMPUTE_METHODS) \n",
    "model, metrics, fi, cfi, _, _ = train_model(MODEL, X_train, y_train, X_test, y_test, \n",
    "                                            print_metrics=True, print_charts=False)\n",
    "print(cfi)"
   ]
  },
  {
   "cell_type": "markdown",
   "metadata": {},
   "source": [
    "#### Multiple Variables  "
   ]
  },
  {
   "cell_type": "code",
   "execution_count": null,
   "metadata": {
    "collapsed": false
   },
   "outputs": [],
   "source": [
    "# nationality + judge + appeal year \n",
    "CAT_FEATURES = ['nat_grouped', 'ij_code_grouped']\n",
    "NUM_FEATURES = ['datAppealFiled_year']\n",
    "IMPUTE_METHODS = {'nat_grouped': 'none'}\n",
    "MODEL = (RandomForestClassifier(n_estimators=10, random_state=44))\n",
    "\n",
    "X_train, X_test, y_train, y_test = get_model_data(df, label='granted', cat_features = CAT_FEATURES, \n",
    "                                                  num_features = NUM_FEATURES, impute_methods = IMPUTE_METHODS) \n",
    "model, metrics, fi, cfi, _, _ = train_model(MODEL, X_train, y_train, X_test, y_test, \n",
    "                                            print_metrics=True, print_charts=True)\n",
    "print(cfi)"
   ]
  },
  {
   "cell_type": "code",
   "execution_count": null,
   "metadata": {
    "collapsed": false
   },
   "outputs": [],
   "source": [
    "# case type + custody + probono + lawyer + defensive/affirmative + oral/written\n",
    "CAT_FEATURES = ['nat_grouped', 'ij_code_grouped', 'case_type_string', 'strCustody', 'strProbono']\n",
    "NUM_FEATURES = ['datAppealFiled_year', 'lawyer', 'defensive', 'affirmative', 'oral', 'written']\n",
    "IMPUTE_METHODS = {'nat_grouped': 'none', 'strCustody': 'none', 'strProbono': 'none', 'case_type_string': 'none', \n",
    "                  'defensive': 'zero', 'affirmative': 'zero', 'oral': 'zero', 'written': 'zero'}\n",
    "MODEL = (RandomForestClassifier(n_estimators=10, random_state=44))\n",
    "\n",
    "X_train, X_test, y_train, y_test = get_model_data(df, label='granted', cat_features = CAT_FEATURES, \n",
    "                                                  num_features = NUM_FEATURES, impute_methods = IMPUTE_METHODS) \n",
    "model, metrics, fi, cfi, _, _ = train_model(MODEL, X_train, y_train, X_test, y_test, \n",
    "                                            print_metrics=True, print_charts=True)\n",
    "print(cfi)"
   ]
  },
  {
   "cell_type": "code",
   "execution_count": null,
   "metadata": {
    "collapsed": false
   },
   "outputs": [],
   "source": [
    "# + comp/osc/input years \n",
    "CAT_FEATURES = ['nat_grouped', 'ij_code_grouped', 'case_type_string', 'strCustody', 'strProbono']\n",
    "NUM_FEATURES = ['datAppealFiled_year', 'lawyer', 'defensive', 'affirmative', 'oral', 'written',\n",
    "                'comp_year', 'osc_year', 'input_year']\n",
    "IMPUTE_METHODS = {'nat_grouped': 'none', 'strCustody': 'none', 'strProbono': 'none', 'case_type_string': 'none', \n",
    "                  'defensive': 'zero', 'affirmative': 'zero', 'oral': 'zero', 'written': 'zero', 'input_year': 'zero'}\n",
    "MODEL = (RandomForestClassifier(n_estimators=10, random_state=44))\n",
    "\n",
    "X_train, X_test, y_train, y_test = get_model_data(df, label='granted', cat_features = CAT_FEATURES, \n",
    "                                                  num_features = NUM_FEATURES, impute_methods = IMPUTE_METHODS) \n",
    "model, metrics, fi, cfi, _, _ = train_model(MODEL, X_train, y_train, X_test, y_test, \n",
    "                                            print_metrics=True, print_charts=True)\n",
    "print(cfi)"
   ]
  },
  {
   "cell_type": "code",
   "execution_count": null,
   "metadata": {
    "collapsed": false
   },
   "outputs": [],
   "source": [
    "# + original proceeding decisions  \n",
    "CAT_FEATURES = ['nat_grouped', 'ij_code_grouped', 'case_type_string', 'strCustody', 'strProbono', \n",
    "                'original_dec_type_string', 'original_dec_string']\n",
    "NUM_FEATURES = ['datAppealFiled_year', 'lawyer', 'defensive', 'affirmative', 'oral', 'written',\n",
    "                'comp_year', 'osc_year', 'input_year']\n",
    "IMPUTE_METHODS = {'nat_grouped': 'none', 'strCustody': 'none', 'strProbono': 'none', 'case_type_string': 'none', \n",
    "                  'defensive': 'zero', 'affirmative': 'zero', 'oral': 'zero', 'written': 'zero', 'input_year': 'zero'}\n",
    "MODEL = (RandomForestClassifier(n_estimators=10, random_state=44))\n",
    "\n",
    "X_train, X_test, y_train, y_test = get_model_data(df, label='granted', cat_features = CAT_FEATURES, \n",
    "                                                  num_features = NUM_FEATURES, impute_methods = IMPUTE_METHODS) \n",
    "model, metrics, fi, cfi, _, _ = train_model(MODEL, X_train, y_train, X_test, y_test, \n",
    "                                            print_metrics=True, print_charts=True)\n",
    "print(cfi)"
   ]
  },
  {
   "cell_type": "code",
   "execution_count": null,
   "metadata": {
    "collapsed": false
   },
   "outputs": [],
   "source": [
    "# + last 10 decisions by judge, judge+nationality (improves AUC by 0.0052, keep)\n",
    "CAT_FEATURES = ['nat_grouped', 'ij_code_grouped', 'case_type_string', 'strCustody', 'strProbono', \n",
    "                'original_dec_type_string', 'original_dec_string']\n",
    "NUM_FEATURES = ['datAppealFiled_year', 'lawyer', 'defensive', 'affirmative', 'oral', 'written',\n",
    "                'comp_year', 'osc_year', 'input_year', \n",
    "                'last_10_appeal_grant_by_judge', 'last_10_appeal_grant_by_judge_nat']\n",
    "IMPUTE_METHODS = {'nat_grouped': 'none', 'strCustody': 'none', 'strProbono': 'none', 'case_type_string': 'none', \n",
    "                  'defensive': 'zero', 'affirmative': 'zero', 'oral': 'zero', 'written': 'zero', 'input_year': 'zero',\n",
    "                  'last_10_appeal_grant_by_judge': 'median', 'last_10_appeal_grant_by_judge_nat': 'median'}\n",
    "MODEL = (RandomForestClassifier(n_estimators=10, random_state=44))\n",
    "\n",
    "X_train, X_test, y_train, y_test = get_model_data(df, label='granted', cat_features = CAT_FEATURES, \n",
    "                                                  num_features = NUM_FEATURES, impute_methods = IMPUTE_METHODS) \n",
    "model, metrics, fi, cfi, _, _ = train_model(MODEL, X_train, y_train, X_test, y_test, \n",
    "                                            print_metrics=True, print_charts=True)\n",
    "print(cfi)"
   ]
  },
  {
   "cell_type": "code",
   "execution_count": null,
   "metadata": {
    "collapsed": false
   },
   "outputs": [],
   "source": [
    "# + judge experience --> AUC slightly worse, exclude \n",
    "\n",
    "CAT_FEATURES = ['nat_grouped', 'ij_code_grouped', 'case_type_string', 'strCustody', 'strProbono', \n",
    "                'original_dec_type_string', 'original_dec_string']\n",
    "NUM_FEATURES = ['datAppealFiled_year', 'lawyer', 'defensive', 'affirmative', 'oral', 'written',\n",
    "                'comp_year', 'osc_year', 'input_year', \n",
    "                'last_10_appeal_grant_by_judge', 'last_10_appeal_grant_by_judge_nat', \n",
    "                'years_since_judge_appointment', 'years_since_law_school']\n",
    "IMPUTE_METHODS = {'nat_grouped': 'none', 'strCustody': 'none', 'strProbono': 'none', 'case_type_string': 'none', \n",
    "                  'defensive': 'zero', 'affirmative': 'zero', 'oral': 'zero', 'written': 'zero', 'input_year': 'zero',\n",
    "                  'last_10_appeal_grant_by_judge': 'median', 'last_10_appeal_grant_by_judge_nat': 'median'}\n",
    "MODEL = (RandomForestClassifier(n_estimators=10, random_state=44))\n",
    "\n",
    "X_train, X_test, y_train, y_test = get_model_data(df, label='granted', cat_features = CAT_FEATURES, \n",
    "                                                  num_features = NUM_FEATURES, impute_methods = IMPUTE_METHODS) \n",
    "model, metrics, fi, cfi, _, _ = train_model(MODEL, X_train, y_train, X_test, y_test, \n",
    "                                            print_metrics=True, print_charts=True)\n",
    "print(cfi)"
   ]
  },
  {
   "cell_type": "code",
   "execution_count": null,
   "metadata": {
    "collapsed": false
   },
   "outputs": [],
   "source": [
    "# best with more trees \n",
    "CAT_FEATURES = ['nat_grouped', 'ij_code_grouped', 'case_type_string', 'strCustody', 'strProbono', \n",
    "                'original_dec_type_string', 'original_dec_string']\n",
    "NUM_FEATURES = ['datAppealFiled_year', 'lawyer', 'defensive', 'affirmative', 'oral', 'written',\n",
    "                'comp_year', 'osc_year', 'input_year', \n",
    "                'last_10_appeal_grant_by_judge', 'last_10_appeal_grant_by_judge_nat']\n",
    "IMPUTE_METHODS = {'nat_grouped': 'none', 'strCustody': 'none', 'strProbono': 'none', 'case_type_string': 'none', \n",
    "                  'defensive': 'zero', 'affirmative': 'zero', 'oral': 'zero', 'written': 'zero', 'input_year': 'zero',\n",
    "                  'last_10_appeal_grant_by_judge': 'median', 'last_10_appeal_grant_by_judge_nat': 'median',\n",
    "                  'original_dec_type_string': 'none', 'original_dec_string': 'none'}\n",
    "MODEL = (RandomForestClassifier(n_estimators=100, random_state=44))\n",
    "\n",
    "X_train, X_test, y_train, y_test = get_model_data(df, label='granted', cat_features = CAT_FEATURES, \n",
    "                                                  num_features = NUM_FEATURES, impute_methods = IMPUTE_METHODS) \n",
    "rf_model, rf_metrics, rf_fi, rf_cfi, rf_truth, rf_pred = train_model(MODEL, X_train, y_train, X_test, y_test, \n",
    "                                                                     print_metrics=True, print_charts=True)\n",
    "print(cfi)"
   ]
  },
  {
   "cell_type": "markdown",
   "metadata": {},
   "source": [
    "# Fit Different Algorithms"
   ]
  },
  {
   "cell_type": "markdown",
   "metadata": {},
   "source": [
    "#### Logistic Regression"
   ]
  },
  {
   "cell_type": "code",
   "execution_count": null,
   "metadata": {
    "collapsed": false
   },
   "outputs": [],
   "source": [
    "# for lr we dummify \"numerical variables\" so we don't assume any linear or monotonic relationship \n",
    "# between the numerical variable and log odds \n",
    "\n",
    "from sklearn.linear_model import LogisticRegression\n",
    "\n",
    "CAT_FEATURES = ['nat_grouped', 'ij_code_grouped', 'case_type_string', 'strCustody', 'strProbono', \n",
    "                'original_dec_type_string', 'original_dec_string', \n",
    "                'datAppealFiled_year', 'lawyer', 'defensive', 'affirmative', 'oral', 'written',\n",
    "                'comp_year', 'osc_year', 'input_year', \n",
    "                'last_10_appeal_grant_by_judge', 'last_10_appeal_grant_by_judge_nat']\n",
    "NUM_FEATURES = []\n",
    "IMPUTE_METHODS = {'nat_grouped': 'none', 'strCustody': 'none', 'strProbono': 'none', 'case_type_string': 'none', \n",
    "                  'defensive': 'zero', 'affirmative': 'zero', 'oral': 'zero', 'written': 'zero', 'input_year': 'zero',\n",
    "                  'last_10_appeal_grant_by_judge': 'median', 'last_10_appeal_grant_by_judge_nat': 'median',\n",
    "                  'original_dec_type_string': 'none', 'original_dec_string': 'none'}\n",
    "MODEL = (LogisticRegression(penalty='l2', C=1, random_state=44))\n",
    "\n",
    "X_train, X_test, y_train, y_test = get_model_data(df, label='granted', cat_features = CAT_FEATURES, \n",
    "                                                  num_features = NUM_FEATURES, impute_methods = IMPUTE_METHODS) \n",
    "lr_model, lr_metrics, lr_fi, lr_cfi, lr_truth, lr_pred = train_model(MODEL, X_train, y_train, X_test, y_test, \n",
    "                                                                     print_metrics=True, print_charts=True)"
   ]
  },
  {
   "cell_type": "markdown",
   "metadata": {},
   "source": [
    "#### Gradient Boosting"
   ]
  },
  {
   "cell_type": "code",
   "execution_count": null,
   "metadata": {
    "collapsed": false
   },
   "outputs": [],
   "source": [
    "from sklearn.ensemble import GradientBoostingClassifier\n",
    "\n",
    "CAT_FEATURES = ['nat_grouped', 'ij_code_grouped', 'case_type_string', 'strCustody', 'strProbono', \n",
    "                'original_dec_type_string', 'original_dec_string']\n",
    "NUM_FEATURES = ['datAppealFiled_year', 'lawyer', 'defensive', 'affirmative', 'oral', 'written',\n",
    "                'comp_year', 'osc_year', 'input_year', \n",
    "                'last_10_appeal_grant_by_judge', 'last_10_appeal_grant_by_judge_nat']\n",
    "IMPUTE_METHODS = {'nat_grouped': 'none', 'strCustody': 'none', 'strProbono': 'none', 'case_type_string': 'none', \n",
    "                  'defensive': 'zero', 'affirmative': 'zero', 'oral': 'zero', 'written': 'zero', 'input_year': 'zero',\n",
    "                  'last_10_appeal_grant_by_judge': 'median', 'last_10_appeal_grant_by_judge_nat': 'median',\n",
    "                  'original_dec_type_string': 'none', 'original_dec_string': 'none'}\n",
    "MODEL = (GradientBoostingClassifier(loss='deviance', learning_rate=.1, n_estimators=100, random_state=44))\n",
    "\n",
    "X_train, X_test, y_train, y_test = get_model_data(df, label='granted', cat_features = CAT_FEATURES, \n",
    "                                                  num_features = NUM_FEATURES, impute_methods = IMPUTE_METHODS) \n",
    "gb_model, gb_metrics, gb_fi, gb_cfi, gb_truth, gb_pred = train_model(MODEL, X_train, y_train, X_test, y_test, \n",
    "                                                                     print_metrics=True, print_charts=True)"
   ]
  },
  {
   "cell_type": "markdown",
   "metadata": {},
   "source": [
    "#### XGBoost "
   ]
  },
  {
   "cell_type": "code",
   "execution_count": null,
   "metadata": {
    "collapsed": false
   },
   "outputs": [],
   "source": [
    "CAT_FEATURES = ['nat_grouped', 'ij_code_grouped', 'case_type_string', 'strCustody', 'strProbono', \n",
    "                'original_dec_type_string', 'original_dec_string']\n",
    "NUM_FEATURES = ['datAppealFiled_year', 'lawyer', 'defensive', 'affirmative', 'oral', 'written',\n",
    "                'comp_year', 'osc_year', 'input_year', \n",
    "                'last_10_appeal_grant_by_judge', 'last_10_appeal_grant_by_judge_nat']\n",
    "IMPUTE_METHODS = {'nat_grouped': 'none', 'strCustody': 'none', 'strProbono': 'none', 'case_type_string': 'none', \n",
    "                  'defensive': 'zero', 'affirmative': 'zero', 'oral': 'zero', 'written': 'zero', 'input_year': 'zero',\n",
    "                  'last_10_appeal_grant_by_judge': 'median', 'last_10_appeal_grant_by_judge_nat': 'median',\n",
    "                  'original_dec_type_string': 'none', 'original_dec_string': 'none'}\n",
    "MODEL = (XGBClassifier(max_depth=3, learning_rate=0.1, n_estimators=100, seed=44))\n",
    "\n",
    "X_train, X_test, y_train, y_test = get_model_data(df, label='granted', cat_features = CAT_FEATURES, \n",
    "                                                  num_features = NUM_FEATURES, impute_methods = IMPUTE_METHODS) \n",
    "xgb_model, xgb_metrics, xgb_fi, xgb_cfi, xgb_truth, xgb_pred = train_model(MODEL, X_train, y_train, X_test, y_test, \n",
    "                                                                           print_metrics=True, print_charts=True)"
   ]
  },
  {
   "cell_type": "markdown",
   "metadata": {},
   "source": [
    "#### Algorithm Comparison (out-of-the-box)"
   ]
  },
  {
   "cell_type": "code",
   "execution_count": null,
   "metadata": {
    "collapsed": false
   },
   "outputs": [],
   "source": [
    "algo_comparison = {'Random Forest': rf_metrics, \n",
    "                   'Logistic Regression': lr_metrics, \n",
    "                   'Gradient Boosting': gb_metrics, \n",
    "                   'XGBoost': xgb_metrics}\n",
    "\n",
    "pd.DataFrame.from_dict(algo_comparison, orient='index').sort_values(by='ROC AUC', ascending=False)"
   ]
  },
  {
   "cell_type": "code",
   "execution_count": null,
   "metadata": {
    "collapsed": false
   },
   "outputs": [],
   "source": [
    "# plot all ROC in a single chart \n",
    "plot_roc(rf_truth, rf_pred, 'Random Forest')\n",
    "plot_roc(xgb_truth, xgb_pred, 'XGBoost')\n",
    "plot_roc(gb_truth, gb_pred, 'Gradient Boosting')\n",
    "plot_roc(lr_truth, lr_pred, 'Logistic Regression')\n",
    "plt.title('Model Comparison by ROC AUC'); "
   ]
  },
  {
   "cell_type": "markdown",
   "metadata": {},
   "source": [
    "Since Random Forest outperforms other algorithms significantly in accuracy and ROC AUC out-of-the-box, we will move forward with Random Forest and tune it to get our best model.  "
   ]
  },
  {
   "cell_type": "markdown",
   "metadata": {},
   "source": [
    "# Tune Random Forest "
   ]
  },
  {
   "cell_type": "code",
   "execution_count": null,
   "metadata": {
    "collapsed": false
   },
   "outputs": [],
   "source": [
    "from sklearn.model_selection import GridSearchCV\n",
    "\n",
    "# define search scope \n",
    "max_features = ['sqrt', 'log2']\n",
    "max_depth = list(np.arange(20, 200, 20))\n",
    "max_depth.append(None)\n",
    "min_samples_split = [2, 5, 10]\n",
    "min_samples_leaf = [1, 2, 4]\n",
    "\n",
    "# construct param grid \n",
    "param_grid = {'max_features': max_features, 'max_depth': max_depth, \n",
    "              'min_samples_split': min_samples_split, 'min_samples_leaf': min_samples_leaf}\n",
    "\n",
    "# run randomized search cv \n",
    "CAT_FEATURES = ['nat_grouped', 'ij_code_grouped', 'case_type_string', 'strCustody', 'strProbono', \n",
    "                'original_dec_type_string', 'original_dec_string']\n",
    "NUM_FEATURES = ['datAppealFiled_year', 'lawyer', 'defensive', 'affirmative', 'oral', 'written',\n",
    "                'comp_year', 'osc_year', 'input_year', \n",
    "                'last_10_appeal_grant_by_judge', 'last_10_appeal_grant_by_judge_nat']\n",
    "IMPUTE_METHODS = {'nat_grouped': 'none', 'strCustody': 'none', 'strProbono': 'none', 'case_type_string': 'none', \n",
    "                  'defensive': 'zero', 'affirmative': 'zero', 'oral': 'zero', 'written': 'zero', 'input_year': 'zero',\n",
    "                  'last_10_appeal_grant_by_judge': 'median', 'last_10_appeal_grant_by_judge_nat': 'median',\n",
    "                  'original_dec_type_string': 'none', 'original_dec_string': 'none'}\n",
    "X_train, _, y_train, _ = get_model_data(df, label='granted', cat_features = CAT_FEATURES, \n",
    "                                        num_features = NUM_FEATURES, impute_methods = IMPUTE_METHODS) \n",
    "rf_clf = RandomForestClassifier(n_estimators=20, random_state=44)\n",
    "rf_gridsearch = GridSearchCV(rf_clf, param_grid, scoring=['roc_auc', 'accuracy', 'neg_log_loss'], refit='roc_auc')\n",
    "rf_gridsearch.fit(X_train, y_train)"
   ]
  },
  {
   "cell_type": "code",
   "execution_count": null,
   "metadata": {
    "collapsed": true
   },
   "outputs": [],
   "source": [
    "def evaluate_search_cv(cv_object): \n",
    "    \"\"\" Print results for randomized search cv \"\"\"\n",
    "    rename_cols = {'param_max_depth': 'max_depth', \n",
    "                   'param_max_features': 'max_features', \n",
    "                   'param_min_samples_leaf': 'min_samples_leaf', \n",
    "                   'param_min_samples_split': 'min_samples_split', \n",
    "                   'mean_test_roc_auc': 'roc_auc', \n",
    "                   'mean_test_accuracy': 'accuracy', \n",
    "                   'mean_train_neg_log_loss': 'neg_log_loss'}\n",
    "    results = pd.DataFrame(cv_object.cv_results_)\n",
    "    results.rename(columns=rename_cols, inplace=True)\n",
    "    results = results[['max_depth', 'max_features', 'min_samples_leaf', 'min_samples_split', \n",
    "                       'roc_auc', 'accuracy', 'neg_log_loss']]\n",
    "    return results.sort_values(by='roc_auc', ascending=False)"
   ]
  },
  {
   "cell_type": "code",
   "execution_count": null,
   "metadata": {
    "collapsed": false
   },
   "outputs": [],
   "source": [
    "evaluate_search_cv(rf_gridsearch)"
   ]
  },
  {
   "cell_type": "code",
   "execution_count": null,
   "metadata": {
    "collapsed": false
   },
   "outputs": [],
   "source": [
    "print rf_gridsearch.best_params_"
   ]
  },
  {
   "cell_type": "code",
   "execution_count": null,
   "metadata": {
    "collapsed": false
   },
   "outputs": [],
   "source": [
    "# retrain with best params on 100 trees (NEED TO RETRAIN)\n",
    "CAT_FEATURES = ['nat_grouped', 'ij_code_grouped', 'case_type_string', 'strCustody', 'strProbono', \n",
    "                'original_dec_type_string', 'original_dec_string']\n",
    "NUM_FEATURES = ['datAppealFiled_year', 'lawyer', 'defensive', 'affirmative', 'oral', 'written',\n",
    "                'comp_year', 'osc_year', 'input_year', \n",
    "                'last_10_appeal_grant_by_judge', 'last_10_appeal_grant_by_judge_nat']\n",
    "IMPUTE_METHODS = {'nat_grouped': 'none', 'strCustody': 'none', 'strProbono': 'none', 'case_type_string': 'none', \n",
    "                  'defensive': 'zero', 'affirmative': 'zero', 'oral': 'zero', 'written': 'zero', 'input_year': 'zero',\n",
    "                  'last_10_appeal_grant_by_judge': 'median', 'last_10_appeal_grant_by_judge_nat': 'median',\n",
    "                  'original_dec_type_string': 'none', 'original_dec_string': 'none'}\n",
    "MODEL = (RandomForestClassifier(n_estimators=100, min_samples_split=5, max_features='sqrt', \n",
    "                                max_depth=80, min_samples_leaf=1, random_state=44))\n",
    "\n",
    "X_train, X_test, y_train, y_test = get_model_data(df, label='granted', cat_features = CAT_FEATURES, \n",
    "                                                  num_features = NUM_FEATURES, impute_methods = IMPUTE_METHODS) \n",
    "rf_best_model, rf_best_metrics, rf_best_fi, rf_best_cfi, rf_best_truth, rf_best_pred = train_model(\n",
    "    MODEL, X_train, y_train, X_test, y_test, print_metrics=True, print_charts=True)"
   ]
  },
  {
   "cell_type": "code",
   "execution_count": null,
   "metadata": {
    "collapsed": false
   },
   "outputs": [],
   "source": [
    "algo_comparison_tuned = {'Random Forest (Tuned)': rf_best_metrics,\n",
    "                         'Random Forest': rf_metrics} \n",
    "\n",
    "pd.DataFrame.from_dict(algo_comparison_tuned, orient='index').sort_values(by='ROC AUC', ascending=False)"
   ]
  },
  {
   "cell_type": "code",
   "execution_count": null,
   "metadata": {
    "collapsed": false
   },
   "outputs": [],
   "source": [
    "# check feature importances \n",
    "rf_best_fi.head(20)"
   ]
  },
  {
   "cell_type": "code",
   "execution_count": null,
   "metadata": {
    "collapsed": false
   },
   "outputs": [],
   "source": [
    "# check collapsed feature importances \n",
    "rf_best_cfi"
   ]
  },
  {
   "cell_type": "code",
   "execution_count": null,
   "metadata": {
    "collapsed": false
   },
   "outputs": [],
   "source": [
    "# save model to pickle \n",
    "import pickle\n",
    "model_pkl_fname = \"aggregate_random_forest_v0.pkl\"\n",
    "#model_pkl_fname = os.path.join(DATAFOLDER, 'aggregate_random_forest_v0.pkl') # why doesn't this work?\n",
    "with open(model_pkl_fname, 'wb') as file:  \n",
    "    pickle.dump(rf_best_model, file)"
   ]
  },
  {
   "cell_type": "markdown",
   "metadata": {},
   "source": [
    "# Probability Calibration"
   ]
  },
  {
   "cell_type": "markdown",
   "metadata": {},
   "source": [
    "Probability calibration can sometimes be an issue for random forest. But it appears that our classifier is already well-calibrated, so we deem it unnecessary to proceed with calibration methods like Platt Scaling. "
   ]
  },
  {
   "cell_type": "code",
   "execution_count": null,
   "metadata": {
    "collapsed": true
   },
   "outputs": [],
   "source": [
    "from sklearn.calibration import calibration_curve \n",
    "y_pred_outofbox = rf_model.predict_proba(X_test)[:,1]\n",
    "y_pred_best = rf_best_model.predict_proba(X_test)[:,1]\n",
    "calibration_outofbox = calibration_curve(y_test, y_pred_outofbox, n_bins=10)\n",
    "calibration_best = calibration_curve(y_test, y_pred_best, n_bins=10)"
   ]
  },
  {
   "cell_type": "code",
   "execution_count": null,
   "metadata": {
    "collapsed": false
   },
   "outputs": [],
   "source": [
    "plt.figure(figsize=(6, 6))\n",
    "plt.plot(calibration_outofbox[0], calibration_outofbox[1], label='Random Forest')\n",
    "plt.plot(calibration_best[0], calibration_best[1], label='Random Forest (Tuned)')\n",
    "plt.plot(np.arange(0, 1.1, 0.1), np.arange(0, 1.1, 0.1), label='Perfectly Calibrated', color='grey')\n",
    "plt.legend(loc='best');"
   ]
  },
  {
   "cell_type": "markdown",
   "metadata": {},
   "source": [
    "# Partial Dependence Plots (To Fix)"
   ]
  },
  {
   "cell_type": "code",
   "execution_count": null,
   "metadata": {
    "collapsed": true
   },
   "outputs": [],
   "source": [
    "from pdpbox import pdp\n",
    "\n",
    "def pdp_plot(model, X_train, feature, feature_is_cat=False, isolate_samples=1000, plot_samples=200): \n",
    "    \"\"\"\n",
    "    Uses pdpbox package to plot partial dependence plot. Accepts trained classifier (model), X_train, \n",
    "    and feature name as inputs. Feature chosen may be categorical, in which case the function will retrieve \n",
    "    all the corresponding dummy variables. \n",
    "    \"\"\" \n",
    "    \n",
    "    # if feature is categorical, generate list of dummy variable names, else use feature name \n",
    "    if feature_is_cat: \n",
    "        plot_feature = [x for x in X_train.columns if feature + ':::' in x]\n",
    "    else: \n",
    "        plot_feature = feature \n",
    "\n",
    "    # use pdpbox methods \n",
    "    pdp_isolate = pdp.pdp_isolate(model, X_train.sample(n=isolate_samples), plot_feature)\n",
    "    pdp.pdp_plot(pdp_isolate, feature, plot_org_pts=True, plot_lines=True, center=False, frac_to_plot=plot_samples)"
   ]
  },
  {
   "cell_type": "code",
   "execution_count": null,
   "metadata": {
    "collapsed": false
   },
   "outputs": [],
   "source": [
    "# pdp_plot(rf_best_model, X_train, 'datAppealFiled_year', feature_is_cat=False) "
   ]
  },
  {
   "cell_type": "code",
   "execution_count": null,
   "metadata": {
    "collapsed": false
   },
   "outputs": [],
   "source": [
    "# pdp_plot(rf_model, X_train, 'strCustody', feature_is_cat=True)"
   ]
  },
  {
   "cell_type": "code",
   "execution_count": null,
   "metadata": {
    "collapsed": false
   },
   "outputs": [],
   "source": [
    "pdp_plot(rf_model, X_train, 'case_type_string', feature_is_cat=True)"
   ]
  },
  {
   "cell_type": "code",
   "execution_count": null,
   "metadata": {
    "collapsed": false
   },
   "outputs": [],
   "source": [
    "pdp_plot(rf_model, X_train, 'nat_string_grouped', feature_is_cat=True)"
   ]
  },
  {
   "cell_type": "code",
   "execution_count": null,
   "metadata": {
    "collapsed": false
   },
   "outputs": [],
   "source": [
    "pdp_plot(rf_model, X_train, 'ij_code_grouped', feature_is_cat=True)"
   ]
  },
  {
   "cell_type": "markdown",
   "metadata": {},
   "source": [
    "# Sequential Models"
   ]
  },
  {
   "cell_type": "markdown",
   "metadata": {},
   "source": [
    "Thus far we aggregated data across time as a single population from which we drew train and test samples from. This might not be the most realistic way to build a model that is used to predict future appeal outcomes (i.e. we do not have the luxury of using data from future appeals to inform the outcome of a current appeal). To more realistically assess the power of our predictive models, we will build a sequence of models: one model to predict each year's of appeals (by datAppealFiled_year) between 1991 and 2013 using data in preceeding years. In other words, we will only use data from 2000 and earlier to predict 2001's appeals, data from 2001 and earlier to predict 2002's appeals etc. "
   ]
  },
  {
   "cell_type": "code",
   "execution_count": 63,
   "metadata": {
    "collapsed": true
   },
   "outputs": [],
   "source": [
    "def get_model_data_by_year(df, appeals_df, label, unique_id, cat_features, num_features, impute_methods, predict_year): \n",
    "    \"\"\" Generates features on data for years prior to predict_year \"\"\"\n",
    "\n",
    "    # add 'datAppealFiled_year' if not in num_features \n",
    "    if 'datAppealFiled_year' not in num_features: \n",
    "        num_features_ = num_features + ['datAppealFiled_year'] \n",
    "    else: \n",
    "        num_features_ = num_features \n",
    "\n",
    "    # subsets features we are interested in \n",
    "    cat_feature_values = dict([(f, [str(x) for x in df[f].dropna().unique().tolist()]) for f in cat_features]) \n",
    "    data = df.set_index(unique_id)\n",
    "    if label is not None: \n",
    "        data = data[cat_features + num_features_ + [label]].copy() \n",
    "    else: \n",
    "        data = data[cat_features + num_features].copy()\n",
    "\n",
    "    # train test split \n",
    "    train_data = data[data['datAppealFiled_year'] < predict_year]\n",
    "    test_data = data[data['datAppealFiled_year'] == predict_year]\n",
    "    \n",
    "    # return y=None if label is not passed (used for parsing data for pure predictions)\n",
    "    if label is not None: \n",
    "        x_train, y_train = train_data.drop(label, axis=1).copy(), train_data[label].copy() \n",
    "        x_test, y_test = test_data.drop(label, axis=1).copy(), test_data[label].copy() \n",
    "    else: \n",
    "        x_train, y_train = train_data, None \n",
    "        x_test, y_test = test_data, None \n",
    "\n",
    "    # transform \n",
    "    X_train = transform_features(x_train, appeals_df, cat_features, num_features, impute_methods)\n",
    "    X_test = transform_features(x_test, appeals_df, cat_features, num_features, impute_methods)\n",
    "\n",
    "    return X_train, X_test, y_train, y_test "
   ]
  },
  {
   "cell_type": "code",
   "execution_count": 54,
   "metadata": {
    "collapsed": false
   },
   "outputs": [],
   "source": [
    "# def get_model_data_by_year(df, label, cat_features, num_features, impute_methods, predict_year): \n",
    "#     \"\"\" Subsets variables used for model, runs it through pipeline to output data for model \"\"\"\n",
    "    \n",
    "#     # add 'datAppealFiled_year' if not in num_features \n",
    "#     if 'datAppealFiled_year' not in num_features: \n",
    "#         num_features_ = num_features + ['datAppealFiled_year'] \n",
    "#     else: \n",
    "#         num_features_ = num_features \n",
    "    \n",
    "#     # subsets features we are interested in \n",
    "#     cat_feature_values = dict([(f, [str(x) for x in df[f].dropna().unique().tolist()]) for f in cat_features]) \n",
    "#     data = df[cat_features + num_features_ + [label]].copy() \n",
    "    \n",
    "#     # train test split \n",
    "#     train_data = data[data['datAppealFiled_year'] < predict_year]\n",
    "#     test_data = data[data['datAppealFiled_year'] == predict_year]\n",
    "#     x_train, y_train = train_data.drop(label, axis=1).copy(), train_data[label].copy() \n",
    "#     x_test, y_test = test_data.drop(label, axis=1).copy(), test_data[label].copy() \n",
    "    \n",
    "#     # make pipeline \n",
    "#     data_pipeline = Pipeline([\n",
    "#         ('impute', ImputeMissingData(impute_methods, num_features, cat_features)),         \n",
    "#         ('convert_dtypes', ConvertDataTypes(num_features, cat_features)), \n",
    "#         ('dummify', Dummify(cat_feature_values))\n",
    "#     ])\n",
    "    \n",
    "#     # run pipeline \n",
    "#     X_train = data_pipeline.fit_transform(x_train)\n",
    "#     X_test = data_pipeline.transform(x_test)\n",
    "#     print(\"Training Data: {} | Test Data: {}\".format(X_train.shape, X_test.shape)) \n",
    "    \n",
    "#     return X_train, X_test, y_train, y_test "
   ]
  },
  {
   "cell_type": "code",
   "execution_count": 60,
   "metadata": {
    "collapsed": false
   },
   "outputs": [],
   "source": [
    "def fit_sequential_models(df, label, cat_features, num_features, impute_methods, \n",
    "                          start_year, end_year, weight_decay=None, print_charts=False, print_metrics=True): \n",
    "    \"\"\" Trains a sequence of models using data from preceeding years to test on current year \n",
    "        TODO: modularize this if have time\"\"\"\n",
    "    \n",
    "    # initialize empty dictionary to collect all results \n",
    "    sequential_results = {}\n",
    "    \n",
    "    # loop through each year to train model on data from preceeding years then test on current year \n",
    "    for year in np.arange(start_year, end_year+1, 1): \n",
    "        print(\"Training model to predict {} appeals...\".format(year)) \n",
    "        result = {} # initialize empty dictionary to collect result for each year \n",
    "        X_train, X_test, y_train, y_test = get_model_data_by_year(\n",
    "            df, df, label='granted', unique_id='idnproceeding', cat_features=cat_features, num_features=num_features, \n",
    "            impute_methods=impute_methods, predict_year=year) \n",
    "        \n",
    "        # weight samples \n",
    "        if weight_decay is not None:\n",
    "            print(weight_decay)\n",
    "            sample_weight = X_train['datAppealFiled_year'].apply(lambda x: weight_decay ** (year-x-1))\n",
    "        else: \n",
    "            sample_weight = None \n",
    "        \n",
    "        # datAppealFiled_year is included in X_train by default; remove if not in num_features\n",
    "        if 'datAppealFiled_year' not in num_features: \n",
    "            X_train = X_train[[c for c in X_train.columns if c != 'datAppealFiled_year']]\n",
    "            X_test = X_test[[c for c in X_train.columns if c != 'datAppealFiled_year']]\n",
    "        else: \n",
    "            pass \n",
    "        \n",
    "        # save results to dictionary \n",
    "        result['model'], result['metrics'], result['fi'], result['cfi'], result['truth'], result['pred'] = train_model(\n",
    "            MODEL, X_train, y_train, X_test, y_test, \n",
    "            print_charts=print_charts, print_metrics=print_metrics, sample_weight=sample_weight) \n",
    "        sequential_results[year] = result \n",
    "        \n",
    "    # summarize model performance metrics \n",
    "    metric_summary = pd.DataFrame.from_dict(sequential_results, orient='index')['metrics'].apply(pd.Series)\n",
    "    print(metric_summary)\n",
    "    print(\"Average model performance metrics:\")\n",
    "    print(metric_summary.mean()) \n",
    "    plot_sequential_performance(metric_summary)\n",
    "    \n",
    "    # average feature importances \n",
    "    average_cfi = pd.DataFrame.from_dict(sequential_results, orient='index')['cfi']\\\n",
    "                              .apply(pd.Series).mean().sort_values(ascending=False)\n",
    "    print(\"Average feature importances:\")\n",
    "    print(average_cfi)     \n",
    "    \n",
    "    return metric_summary, average_cfi, sequential_results "
   ]
  },
  {
   "cell_type": "code",
   "execution_count": 47,
   "metadata": {
    "collapsed": true
   },
   "outputs": [],
   "source": [
    "def plot_sequential_performance(sequential_metrics):\n",
    "    \"\"\" Plots AUC and Accuracy by test year \"\"\"\n",
    "    plt.figure(figsize=(10, 4))\n",
    "    plt.plot(sequential_metrics['ROC AUC'])\n",
    "    plt.plot(sequential_metrics['Accuracy'])\n",
    "    plt.ticklabel_format(useOffset=False)\n",
    "    plt.title('Accuracy and AUC of Sequential Models')\n",
    "    plt.xlabel('Test Year')\n",
    "    plt.legend(loc='best') "
   ]
  },
  {
   "cell_type": "markdown",
   "metadata": {},
   "source": [
    "It appears that building the model in a sequential way degraded the performance considerably. Perhaps even more surprisingly, accuracy appears to be worse in later years, which is somewhat counterintuitive given that later models had more data to train on. "
   ]
  },
  {
   "cell_type": "code",
   "execution_count": 39,
   "metadata": {
    "collapsed": false
   },
   "outputs": [
    {
     "name": "stdout",
     "output_type": "stream",
     "text": [
      "Training model to predict 1994 appeals...\n",
      "Training Data: (26606, 541) | Test Data: (5015, 541)\n",
      "{'Recall': 0.52772373540856032, 'Log Loss': 0.56791185493086804, 'Precision': 0.69640564826700901, 'ROC AUC': 0.77578042915960421, 'Accuracy': 0.7120638085742772}\n",
      "Training model to predict 1995 appeals...\n",
      "Training Data: (31621, 541) | Test Data: (8197, 541)\n",
      "{'Recall': 0.57111111111111112, 'Log Loss': 0.53330566483029029, 'Precision': 0.58188679245283015, 'ROC AUC': 0.77438468120658399, 'Accuracy': 0.7235573990484323}\n",
      "Training model to predict 1996 appeals...\n",
      "Training Data: (39818, 541) | Test Data: (9956, 541)\n",
      "{'Recall': 0.49374833732375634, 'Log Loss': 0.56623122227879352, 'Precision': 0.71715610510046368, 'ROC AUC': 0.78595028539541256, 'Accuracy': 0.7353354760948172}\n",
      "Training model to predict 1997 appeals...\n",
      "Training Data: (49774, 541) | Test Data: (7896, 541)\n",
      "{'Recall': 0.52910512597741099, 'Log Loss': 0.61303487532708123, 'Precision': 0.63152436916695476, 'ROC AUC': 0.72022511356155983, 'Accuracy': 0.65906788247213777}\n",
      "Training model to predict 1998 appeals...\n",
      "Training Data: (57670, 541) | Test Data: (7735, 541)\n",
      "{'Recall': 0.38724676187313184, 'Log Loss': 0.59165482998870433, 'Precision': 0.63369565217391299, 'ROC AUC': 0.72045851634607616, 'Accuracy': 0.6743374272786038}\n",
      "Training model to predict 1999 appeals...\n",
      "Training Data: (65405, 541) | Test Data: (9515, 541)\n",
      "{'Recall': 0.49593740595847124, 'Log Loss': 0.53536426391794756, 'Precision': 0.68155500413564929, 'ROC AUC': 0.77759142003000004, 'Accuracy': 0.74303730951129798}\n",
      "Training model to predict 2000 appeals...\n",
      "Training Data: (74920, 541) | Test Data: (8952, 541)\n",
      "{'Recall': 0.46791443850267378, 'Log Loss': 0.49027045097553879, 'Precision': 0.66539923954372626, 'ROC AUC': 0.77955764215724455, 'Accuracy': 0.77558087578194812}\n",
      "Training model to predict 2001 appeals...\n",
      "Training Data: (83872, 541) | Test Data: (8895, 541)\n",
      "{'Recall': 0.26318359375, 'Log Loss': 0.46594214362108066, 'Precision': 0.59822419533851279, 'ROC AUC': 0.74931115046964003, 'Accuracy': 0.78965711073636879}\n",
      "Training model to predict 2002 appeals...\n",
      "Training Data: (92767, 541) | Test Data: (13529, 541)\n",
      "{'Recall': 0.16143497757847533, 'Log Loss': 0.49474395075160199, 'Precision': 0.53617021276595744, 'ROC AUC': 0.70784026077160522, 'Accuracy': 0.77426269495158551}\n",
      "Training model to predict 2003 appeals...\n",
      "Training Data: (106296, 541) | Test Data: (16090, 541)\n",
      "{'Recall': 0.16142311084975008, 'Log Loss': 0.46613771112936725, 'Precision': 0.5304347826086957, 'ROC AUC': 0.73179438098537575, 'Accuracy': 0.79254195152268492}\n",
      "Training model to predict 2004 appeals...\n",
      "Training Data: (122386, 541) | Test Data: (15408, 541)\n",
      "{'Recall': 0.11035607502038597, 'Log Loss': 0.52316866518397442, 'Precision': 0.63836477987421381, 'ROC AUC': 0.7213341519781088, 'Accuracy': 0.77265057113187952}\n",
      "Training model to predict 2005 appeals...\n",
      "Training Data: (137794, 541) | Test Data: (15627, 541)\n",
      "{'Recall': 0.18561584840654607, 'Log Loss': 0.5660429015537648, 'Precision': 0.65204236006051441, 'ROC AUC': 0.72867930808108961, 'Accuracy': 0.72854674601650993}\n",
      "Training model to predict 2006 appeals...\n",
      "Training Data: (153421, 541) | Test Data: (14992, 541)\n",
      "{'Recall': 0.30329289428076256, 'Log Loss': 0.54876238867069727, 'Precision': 0.62166962699822381, 'ROC AUC': 0.73149815006033125, 'Accuracy': 0.72865528281750269}\n",
      "Training model to predict 2007 appeals...\n",
      "Training Data: (168413, 541) | Test Data: (14317, 541)\n",
      "{'Recall': 0.31590156176053003, 'Log Loss': 0.54010674009930171, 'Precision': 0.59491978609625673, 'ROC AUC': 0.72631107325608601, 'Accuracy': 0.73458126702521476}\n",
      "Training model to predict 2008 appeals...\n",
      "Training Data: (182730, 541) | Test Data: (12896, 541)\n",
      "{'Recall': 0.26173197871311077, 'Log Loss': 0.56155013993029601, 'Precision': 0.6852438252058265, 'ROC AUC': 0.71741785431151606, 'Accuracy': 0.72479838709677424}\n",
      "Training model to predict 2009 appeals...\n",
      "Training Data: (195626, 541) | Test Data: (11458, 541)\n",
      "{'Recall': 0.22611607142857143, 'Log Loss': 0.71477433146078861, 'Precision': 0.64769820971867009, 'ROC AUC': 0.63200453977807802, 'Accuracy': 0.64932798045034035}\n",
      "Training model to predict 2010 appeals...\n",
      "Training Data: (207084, 541) | Test Data: (10215, 541)\n",
      "{'Recall': 0.3614519427402863, 'Log Loss': 0.60007236468509118, 'Precision': 0.64243525670149937, 'ROC AUC': 0.70270150027561762, 'Accuracy': 0.67841409691629961}\n",
      "Training model to predict 2011 appeals...\n",
      "Training Data: (217299, 541) | Test Data: (10819, 541)\n",
      "{'Recall': 0.38595085470085472, 'Log Loss': 0.57643216105711159, 'Precision': 0.62043795620437958, 'ROC AUC': 0.71953640784029482, 'Accuracy': 0.70579536001478882}\n",
      "Training model to predict 2012 appeals...\n",
      "Training Data: (228118, 541) | Test Data: (8926, 541)\n",
      "{'Recall': 0.40105622864243556, 'Log Loss': 0.57029149636211662, 'Precision': 0.64906988436400204, 'ROC AUC': 0.74084893156450771, 'Accuracy': 0.70580327134214649}\n",
      "Training model to predict 2013 appeals...\n",
      "Training Data: (237044, 541) | Test Data: (5125, 541)\n",
      "{'Recall': 0.51816443594646266, 'Log Loss': 0.61781090765392388, 'Precision': 0.75194228634850169, 'ROC AUC': 0.75988489636101852, 'Accuracy': 0.66692682926829272}\n",
      "      Accuracy  Log Loss  Precision   ROC AUC    Recall\n",
      "1994  0.712064  0.567912   0.696406  0.775780  0.527724\n",
      "1995  0.723557  0.533306   0.581887  0.774385  0.571111\n",
      "1996  0.735335  0.566231   0.717156  0.785950  0.493748\n",
      "1997  0.659068  0.613035   0.631524  0.720225  0.529105\n",
      "1998  0.674337  0.591655   0.633696  0.720459  0.387247\n",
      "1999  0.743037  0.535364   0.681555  0.777591  0.495937\n",
      "2000  0.775581  0.490270   0.665399  0.779558  0.467914\n",
      "2001  0.789657  0.465942   0.598224  0.749311  0.263184\n",
      "2002  0.774263  0.494744   0.536170  0.707840  0.161435\n",
      "2003  0.792542  0.466138   0.530435  0.731794  0.161423\n",
      "2004  0.772651  0.523169   0.638365  0.721334  0.110356\n",
      "2005  0.728547  0.566043   0.652042  0.728679  0.185616\n",
      "2006  0.728655  0.548762   0.621670  0.731498  0.303293\n",
      "2007  0.734581  0.540107   0.594920  0.726311  0.315902\n",
      "2008  0.724798  0.561550   0.685244  0.717418  0.261732\n",
      "2009  0.649328  0.714774   0.647698  0.632005  0.226116\n",
      "2010  0.678414  0.600072   0.642435  0.702702  0.361452\n",
      "2011  0.705795  0.576432   0.620438  0.719536  0.385951\n",
      "2012  0.705803  0.570291   0.649070  0.740849  0.401056\n",
      "2013  0.666927  0.617811   0.751942  0.759885  0.518164\n",
      "Average model performance metrics:\n",
      "Accuracy     0.723747\n",
      "Log Loss     0.557180\n",
      "Precision    0.638814\n",
      "ROC AUC      0.735156\n",
      "Recall       0.356423\n",
      "dtype: float64\n",
      "Average feature importances:\n",
      "ij_code_grouped                      0.262796\n",
      "nat_grouped                          0.238929\n",
      "datAppealFiled_year                  0.085940\n",
      "comp_year                            0.060690\n",
      "osc_year                             0.058718\n",
      "input_year                           0.056147\n",
      "last_10_appeal_grant_by_judge        0.056000\n",
      "last_10_appeal_grant_by_judge_nat    0.051531\n",
      "original_dec_string                  0.036676\n",
      "strCustody                           0.033785\n",
      "case_type_string                     0.018739\n",
      "lawyer                               0.015133\n",
      "original_dec_type_string             0.008273\n",
      "affirmative                          0.005011\n",
      "defensive                            0.004899\n",
      "oral                                 0.003488\n",
      "written                              0.002952\n",
      "strProbono                           0.000294\n",
      "dtype: float64\n"
     ]
    },
    {
     "data": {
      "image/png": "[encoded data removed]",
      "text/plain": [
       "<matplotlib.figure.Figure at 0x1a156591d0>"
      ]
     },
     "metadata": {},
     "output_type": "display_data"
    }
   ],
   "source": [
    "# test with same variables as rf_best\n",
    "CAT_FEATURES = ['nat_grouped', 'ij_code_grouped', 'case_type_string', 'strCustody', 'strProbono', \n",
    "                'original_dec_type_string', 'original_dec_string']\n",
    "NUM_FEATURES = ['datAppealFiled_year', 'lawyer', 'defensive', 'affirmative', 'oral', 'written',\n",
    "                'comp_year', 'osc_year', 'input_year', \n",
    "                'last_10_appeal_grant_by_judge', 'last_10_appeal_grant_by_judge_nat']\n",
    "IMPUTE_METHODS = {'nat_grouped': 'none', 'strCustody': 'none', 'strProbono': 'none', 'case_type_string': 'none', \n",
    "                  'defensive': 'zero', 'affirmative': 'zero', 'oral': 'zero', 'written': 'zero', 'input_year': 'zero',\n",
    "                  'last_10_appeal_grant_by_judge': 'median', 'last_10_appeal_grant_by_judge_nat': 'median',\n",
    "                  'original_dec_type_string': 'none', 'original_dec_string': 'none'}\n",
    "MODEL = (RandomForestClassifier(n_estimators=100, min_samples_split=5, max_features='sqrt', \n",
    "                                max_depth=80, min_samples_leaf=1, random_state=44))\n",
    "\n",
    "sequential_metrics, average_cfi, sequential_results = fit_sequential_models(\n",
    "    df, 'granted', cat_features=CAT_FEATURES, num_features=NUM_FEATURES, impute_methods=IMPUTE_METHODS, \n",
    "    start_year=1994, end_year=2013, print_charts=False, print_metrics=True)"
   ]
  },
  {
   "cell_type": "markdown",
   "metadata": {},
   "source": [
    "### Applying weight decay to samples"
   ]
  },
  {
   "cell_type": "markdown",
   "metadata": {},
   "source": [
    "One reason could be that there are periodic shifts in sentiment such that older data might be less informative to newer cases. Let's attempt to weight recent samples more than older samples. "
   ]
  },
  {
   "cell_type": "code",
   "execution_count": null,
   "metadata": {
    "collapsed": false
   },
   "outputs": [],
   "source": [
    "# rf_best + weight decay 0.7 (AUC & Accuracy both up slightly by 0.002)\n",
    "CAT_FEATURES = ['nat_grouped', 'ij_code_grouped', 'case_type_string', 'strCustody', 'strProbono', \n",
    "                'original_dec_type_string', 'original_dec_string']\n",
    "NUM_FEATURES = ['datAppealFiled_year', 'lawyer', 'defensive', 'affirmative', 'oral', 'written',\n",
    "                'comp_year', 'osc_year', 'input_year', \n",
    "                'last_10_appeal_grant_by_judge', 'last_10_appeal_grant_by_judge_nat']\n",
    "IMPUTE_METHODS = {'nat_grouped': 'none', 'strCustody': 'none', 'strProbono': 'none', 'case_type_string': 'none', \n",
    "                  'defensive': 'zero', 'affirmative': 'zero', 'oral': 'zero', 'written': 'zero', 'input_year': 'zero',\n",
    "                  'last_10_appeal_grant_by_judge': 'median', 'last_10_appeal_grant_by_judge_nat': 'median',\n",
    "                  'original_dec_type_string': 'none', 'original_dec_string': 'none'}\n",
    "MODEL = (RandomForestClassifier(n_estimators=100, min_samples_split=5, max_features='sqrt', \n",
    "                                max_depth=80, min_samples_leaf=1, random_state=44))\n",
    "\n",
    "sequential_metrics, average_cfi, sequential_results = fit_sequential_models(\n",
    "    df, 'granted', cat_features=CAT_FEATURES, num_features=NUM_FEATURES, impute_methods=IMPUTE_METHODS, \n",
    "    start_year=1994, end_year=2013, weight_decay=0.7, print_charts=False, print_metrics=True)"
   ]
  },
  {
   "cell_type": "code",
   "execution_count": null,
   "metadata": {
    "collapsed": true
   },
   "outputs": [],
   "source": [
    "# tune weight decay \n",
    "\n",
    "def tune_weight_decay(df, label, cat_features, num_features, impute_methods, start_year, end_year, weight_decay_alphas):\n",
    "    results = [] \n",
    "    for alpha in weight_decay_alphas: \n",
    "        result = {} \n",
    "        metrics_summary, _, _ = fit_sequential_models(\n",
    "            df, 'granted', cat_features=CAT_FEATURES, num_features=NUM_FEATURES, impute_methods=IMPUTE_METHODS, \n",
    "            start_year=start_year, end_year=end_year, weight_decay=alpha, print_metrics=False, print_charts=False)\n",
    "        result['alpha'] = alpha \n",
    "        result['average_accuracy'] = metrics_summary['Accuracy'].mean() \n",
    "        result['average_roc_auc'] = metrics_summary['ROC AUC'].mean() \n",
    "        results.append(result)\n",
    "    return pd.DataFrame(results)"
   ]
  },
  {
   "cell_type": "code",
   "execution_count": null,
   "metadata": {
    "collapsed": false
   },
   "outputs": [],
   "source": [
    "# find best alpha\n",
    "CAT_FEATURES = ['nat_grouped', 'ij_code_grouped', 'case_type_string', 'strCustody', 'strProbono', \n",
    "                'original_dec_type_string', 'original_dec_string']\n",
    "NUM_FEATURES = ['datAppealFiled_year', 'lawyer', 'defensive', 'affirmative', 'oral', 'written',\n",
    "                'comp_year', 'osc_year', 'input_year', \n",
    "                'last_10_appeal_grant_by_judge', 'last_10_appeal_grant_by_judge_nat']\n",
    "IMPUTE_METHODS = {'nat_grouped': 'none', 'strCustody': 'none', 'strProbono': 'none', 'case_type_string': 'none', \n",
    "                  'defensive': 'zero', 'affirmative': 'zero', 'oral': 'zero', 'written': 'zero', 'input_year': 'zero',\n",
    "                  'last_10_appeal_grant_by_judge': 'median', 'last_10_appeal_grant_by_judge_nat': 'median',\n",
    "                  'original_dec_type_string': 'none', 'original_dec_string': 'none'}\n",
    "MODEL = (RandomForestClassifier(n_estimators=10, min_samples_split=5, max_features='sqrt', \n",
    "                                max_depth=80, min_samples_leaf=1, random_state=44))\n",
    "\n",
    "weight_decay_tuning = tune_weight_decay(df, 'granted', cat_features=CAT_FEATURES, num_features=NUM_FEATURES, \n",
    "                                        impute_methods=IMPUTE_METHODS, start_year=1994, end_year=2013, \n",
    "                                        weight_decay_alphas=[.1, .2, .3, .4, .5, .6, .7, .8, .9, 1.0])\n",
    "weight_decay_tuning"
   ]
  },
  {
   "cell_type": "code",
   "execution_count": 64,
   "metadata": {
    "collapsed": false
   },
   "outputs": [
    {
     "name": "stdout",
     "output_type": "stream",
     "text": [
      "Training model to predict 1994 appeals...\n",
      "0.5\n",
      "{'Recall': 0.51215953307392992, 'Log Loss': 0.80410227446233296, 'Precision': 0.66942148760330578, 'ROC AUC': 0.76118816760315766, 'Accuracy': 0.6963110667996012}\n",
      "Training model to predict 1995 appeals...\n",
      "0.5\n",
      "{'Recall': 0.5344444444444445, 'Log Loss': 0.64148560706071289, 'Precision': 0.60834738617200679, 'ROC AUC': 0.76494363929146536, 'Accuracy': 0.73331706721971457}\n",
      "Training model to predict 1996 appeals...\n",
      "0.5\n",
      "{'Recall': 0.47778664538441074, 'Log Loss': 0.8653845424440163, 'Precision': 0.72041716807059764, 'ROC AUC': 0.77111677710679027, 'Accuracy': 0.73282442748091603}\n",
      "Training model to predict 1997 appeals...\n",
      "0.5\n",
      "{'Recall': 0.52649869678540395, 'Log Loss': 0.79121128613888292, 'Precision': 0.60640426951300863, 'ROC AUC': 0.69980964925677303, 'Accuracy': 0.64349037487335359}\n",
      "Training model to predict 1998 appeals...\n",
      "0.5\n",
      "{'Recall': 0.41414812354699437, 'Log Loss': 0.70744276513737736, 'Precision': 0.60740379931807109, 'ROC AUC': 0.69866691169915784, 'Accuracy': 0.66774402068519711}\n",
      "Training model to predict 1999 appeals...\n",
      "0.5\n",
      "{'Recall': 0.52091483599157384, 'Log Loss': 0.58826936039065281, 'Precision': 0.60187760778859523, 'ROC AUC': 0.74534611073397294, 'Accuracy': 0.712348922753547}\n",
      "Training model to predict 2000 appeals...\n",
      "0.5\n",
      "{'Recall': 0.45492742551566079, 'Log Loss': 0.61375470875560856, 'Precision': 0.627172195892575, 'ROC AUC': 0.7617231739266882, 'Accuracy': 0.76150580875781948}\n",
      "Training model to predict 2001 appeals...\n",
      "0.5\n",
      "{'Recall': 0.30029296875, 'Log Loss': 0.61293110421116392, 'Precision': 0.54328621908127206, 'ROC AUC': 0.72477924296224616, 'Accuracy': 0.7807757166947723}\n",
      "Training model to predict 2002 appeals...\n",
      "0.5\n",
      "{'Recall': 0.18193465727098015, 'Log Loss': 0.65801215863009765, 'Precision': 0.47254575707154745, 'ROC AUC': 0.66579906332448713, 'Accuracy': 0.76435804567965115}\n",
      "Training model to predict 2003 appeals...\n",
      "0.5\n",
      "{'Recall': 0.19905910026462806, 'Log Loss': 0.65807920271899722, 'Precision': 0.47542134831460675, 'ROC AUC': 0.69929615116237542, 'Accuracy': 0.78427594779366061}\n",
      "Training model to predict 2004 appeals...\n",
      "0.5\n",
      "{'Recall': 0.14623539005164446, 'Log Loss': 0.86246095980343707, 'Precision': 0.56631578947368422, 'ROC AUC': 0.69917266790002575, 'Accuracy': 0.76940550363447557}\n",
      "Training model to predict 2005 appeals...\n",
      "0.5\n",
      "{'Recall': 0.20478036175710596, 'Log Loss': 0.76233117582307519, 'Precision': 0.60805626598465479, 'ROC AUC': 0.70291609544874101, 'Accuracy': 0.72445127023740963}\n",
      "Training model to predict 2006 appeals...\n",
      "0.5\n",
      "{'Recall': 0.36330155979202772, 'Log Loss': 0.70447436699000099, 'Precision': 0.55695782132182003, 'ROC AUC': 0.71043859212500782, 'Accuracy': 0.71498132337246534}\n",
      "Training model to predict 2007 appeals...\n",
      "0.5\n",
      "{'Recall': 0.34973970657832465, 'Log Loss': 0.63776783058939579, 'Precision': 0.55252336448598127, 'ROC AUC': 0.7057991046268357, 'Accuracy': 0.72445344695117697}\n",
      "Training model to predict 2008 appeals...\n",
      "0.5\n",
      "{'Recall': 0.28301886792452829, 'Log Loss': 0.70437849957386445, 'Precision': 0.60340381640020624, 'ROC AUC': 0.69198921277579972, 'Accuracy': 0.71053039702233256}\n",
      "Training model to predict 2009 appeals...\n",
      "0.5\n",
      "{'Recall': 0.25758928571428569, 'Log Loss': 1.1666440108437877, 'Precision': 0.60768825697735651, 'ROC AUC': 0.61291122545858412, 'Accuracy': 0.64470239134229357}\n",
      "Training model to predict 2010 appeals...\n",
      "0.5\n",
      "{'Recall': 0.41896728016359919, 'Log Loss': 0.6714561944469567, 'Precision': 0.57488600491055775, 'ROC AUC': 0.68223381877101397, 'Accuracy': 0.65883504650024471}\n",
      "Training model to predict 2011 appeals...\n",
      "0.5\n",
      "{'Recall': 0.43215811965811968, 'Log Loss': 0.69287201193433023, 'Precision': 0.5689170182841069, 'ROC AUC': 0.70547780571411312, 'Accuracy': 0.69017469267030229}\n",
      "Training model to predict 2012 appeals...\n",
      "0.5\n",
      "{'Recall': 0.42155949052500774, 'Log Loss': 0.73500918713085472, 'Precision': 0.63116279069767445, 'ROC AUC': 0.71557566279112128, 'Accuracy': 0.70255433564866676}\n",
      "Training model to predict 2013 appeals...\n",
      "0.5\n",
      "{'Recall': 0.52122370936902485, 'Log Loss': 0.72874052999963379, 'Precision': 0.73161567364465918, 'ROC AUC': 0.73751456887554945, 'Accuracy': 0.65814634146341466}\n",
      "      Accuracy  Log Loss  Precision   ROC AUC    Recall\n",
      "1994  0.696311  0.804102   0.669421  0.761188  0.512160\n",
      "1995  0.733317  0.641486   0.608347  0.764944  0.534444\n",
      "1996  0.732824  0.865385   0.720417  0.771117  0.477787\n",
      "1997  0.643490  0.791211   0.606404  0.699810  0.526499\n",
      "1998  0.667744  0.707443   0.607404  0.698667  0.414148\n",
      "1999  0.712349  0.588269   0.601878  0.745346  0.520915\n",
      "2000  0.761506  0.613755   0.627172  0.761723  0.454927\n",
      "2001  0.780776  0.612931   0.543286  0.724779  0.300293\n",
      "2002  0.764358  0.658012   0.472546  0.665799  0.181935\n",
      "2003  0.784276  0.658079   0.475421  0.699296  0.199059\n",
      "2004  0.769406  0.862461   0.566316  0.699173  0.146235\n",
      "2005  0.724451  0.762331   0.608056  0.702916  0.204780\n",
      "2006  0.714981  0.704474   0.556958  0.710439  0.363302\n",
      "2007  0.724453  0.637768   0.552523  0.705799  0.349740\n",
      "2008  0.710530  0.704378   0.603404  0.691989  0.283019\n",
      "2009  0.644702  1.166644   0.607688  0.612911  0.257589\n",
      "2010  0.658835  0.671456   0.574886  0.682234  0.418967\n",
      "2011  0.690175  0.692872   0.568917  0.705478  0.432158\n",
      "2012  0.702554  0.735009   0.631163  0.715576  0.421559\n",
      "2013  0.658146  0.728741   0.731616  0.737515  0.521224\n",
      "Average model performance metrics:\n",
      "Accuracy     0.713759\n",
      "Log Loss     0.730340\n",
      "Precision    0.596691\n",
      "ROC AUC      0.712835\n",
      "Recall       0.376037\n",
      "dtype: float64\n",
      "Average feature importances:\n",
      "ij_code_grouped                      0.304112\n",
      "nat_grouped                          0.233069\n",
      "last_10_appeal_grant_by_judge        0.061770\n",
      "last_10_appeal_grant_by_judge_nat    0.060742\n",
      "input_year                           0.057660\n",
      "comp_year                            0.057470\n",
      "osc_year                             0.055164\n",
      "datAppealFiled_year                  0.042450\n",
      "original_dec_string                  0.036514\n",
      "strCustody                           0.029952\n",
      "case_type_string                     0.016243\n",
      "lawyer                               0.012587\n",
      "original_dec_type_string             0.008439\n",
      "defensive                            0.008089\n",
      "affirmative                          0.007981\n",
      "oral                                 0.003603\n",
      "written                              0.003506\n",
      "strProbono                           0.000648\n",
      "dtype: float64\n"
     ]
    },
    {
     "data": {
      "image/png": "[encoded data removed]",
      "text/plain": [
       "<matplotlib.figure.Figure at 0x1a1507c450>"
      ]
     },
     "metadata": {},
     "output_type": "display_data"
    }
   ],
   "source": [
    "# re-run on best weight decay of 0.5\n",
    "CAT_FEATURES = ['nat_grouped', 'ij_code_grouped', 'case_type_string', 'strCustody', 'strProbono', \n",
    "                'original_dec_type_string', 'original_dec_string']\n",
    "NUM_FEATURES = ['datAppealFiled_year', 'lawyer', 'defensive', 'affirmative', 'oral', 'written',\n",
    "                'comp_year', 'osc_year', 'input_year', \n",
    "                'last_10_appeal_grant_by_judge', 'last_10_appeal_grant_by_judge_nat']\n",
    "IMPUTE_METHODS = {'nat_grouped': 'none', 'strCustody': 'none', 'strProbono': 'none', 'case_type_string': 'none', \n",
    "                  'defensive': 'zero', 'affirmative': 'zero', 'oral': 'zero', 'written': 'zero', 'input_year': 'zero',\n",
    "                  'last_10_appeal_grant_by_judge': 'median', 'last_10_appeal_grant_by_judge_nat': 'median',\n",
    "                  'original_dec_type_string': 'none', 'original_dec_string': 'none'}\n",
    "MODEL = (RandomForestClassifier(n_estimators=10, min_samples_split=5, max_features='sqrt', \n",
    "                                max_depth=80, min_samples_leaf=1, random_state=44))\n",
    "\n",
    "sequential_metrics_wt, average_cfi_wt, sequential_results_wt = fit_sequential_models(\n",
    "    df, 'granted', cat_features=CAT_FEATURES, num_features=NUM_FEATURES, impute_methods=IMPUTE_METHODS, \n",
    "    start_year=1994, end_year=2013, weight_decay=0.5, print_charts=False, print_metrics=True)"
   ]
  },
  {
   "cell_type": "code",
   "execution_count": 52,
   "metadata": {
    "collapsed": false
   },
   "outputs": [],
   "source": [
    "# save sequential models as a tuple to pickle \n",
    "import pickle\n",
    "seq_model_pkl_fname = \"sequential_random_forest_v0.pkl\"\n",
    "models_object = tuple([sequential_results_wt[year]['model'] for year in sequential_results.keys()]) \n",
    "with open(seq_model_pkl_fname, \"wb\") as f:\n",
    "    pickle.dump(models_object, f)"
   ]
  },
  {
   "cell_type": "code",
   "execution_count": null,
   "metadata": {
    "collapsed": true
   },
   "outputs": [],
   "source": []
  }
 ],
 "metadata": {
  "kernelspec": {
   "display_name": "Python 2",
   "language": "python",
   "name": "python2"
  },
  "language_info": {
   "codemirror_mode": {
    "name": "ipython",
    "version": 2
   },
   "file_extension": ".py",
   "mimetype": "text/x-python",
   "name": "python",
   "nbconvert_exporter": "python",
   "pygments_lexer": "ipython2",
   "version": "2.7.11"
  }
 },
 "nbformat": 4,
 "nbformat_minor": 1
}
