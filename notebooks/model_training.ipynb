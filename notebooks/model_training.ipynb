{
 "cells": [
  {
   "cell_type": "code",
   "execution_count": 1,
   "metadata": {
    "collapsed": false
   },
   "outputs": [],
   "source": [
    "# import dependencies \n",
    "import numpy as np\n",
    "import pandas as pd \n",
    "from sklearn.ensemble import RandomForestClassifier \n",
    "from sklearn.model_selection import train_test_split \n",
    "from sklearn.metrics import roc_curve, auc, roc_auc_score, accuracy_score, log_loss, confusion_matrix \n",
    "from sklearn.pipeline import make_pipeline, Pipeline \n",
    "from sklearn.base import TransformerMixin, BaseEstimator\n",
    "import matplotlib.pyplot as plt\n",
    "import os\n",
    "%matplotlib inline "
   ]
  },
  {
   "cell_type": "markdown",
   "metadata": {},
   "source": [
    "# Load Data"
   ]
  },
  {
   "cell_type": "code",
   "execution_count": 2,
   "metadata": {
    "collapsed": false
   },
   "outputs": [],
   "source": [
    "# define folder where data resides \n",
    "DATAFOLDER = \"data_for_model\" "
   ]
  },
  {
   "cell_type": "code",
   "execution_count": 3,
   "metadata": {
    "collapsed": true
   },
   "outputs": [],
   "source": [
    "# function to load data \n",
    "def load_appeals_data(root_path=DATAFOLDER):\n",
    "    csv_path = os.path.join(root_path, \"data_for_model_2018-03-23.csv\")\n",
    "    df = pd.read_csv(csv_path)\n",
    "    return df "
   ]
  },
  {
   "cell_type": "code",
   "execution_count": 4,
   "metadata": {
    "collapsed": false
   },
   "outputs": [
    {
     "name": "stdout",
     "output_type": "stream",
     "text": [
      "<class 'pandas.core.frame.DataFrame'>\n",
      "Int64Index: 253850 entries, 4657002 to 5021568\n",
      "Data columns (total 15 columns):\n",
      "nat_string             253688 non-null object\n",
      "strCustody             212251 non-null object\n",
      "strProbono             578 non-null object\n",
      "case_type_string       253848 non-null object\n",
      "ij_code                253850 non-null object\n",
      "lawyer                 253850 non-null int64\n",
      "defensive              248004 non-null float64\n",
      "affirmative            248004 non-null float64\n",
      "oral                   253354 non-null float64\n",
      "written                253354 non-null float64\n",
      "comp_year              253850 non-null int64\n",
      "osc_year               253850 non-null float64\n",
      "input_year             253839 non-null float64\n",
      "datAppealFiled_year    253850 non-null float64\n",
      "granted                253850 non-null int64\n",
      "dtypes: float64(7), int64(3), object(5)\n",
      "memory usage: 31.0+ MB\n"
     ]
    }
   ],
   "source": [
    "# load data \n",
    "df = load_appeals_data(root_path=DATAFOLDER)\n",
    "df.set_index('idnAppeal', inplace=True) \n",
    "df.info() "
   ]
  },
  {
   "cell_type": "markdown",
   "metadata": {},
   "source": [
    "# Data Pipelines"
   ]
  },
  {
   "cell_type": "code",
   "execution_count": 42,
   "metadata": {
    "collapsed": false
   },
   "outputs": [],
   "source": [
    "# impute missing data\n",
    "\n",
    "def impute_columns_udf(col, imputation_type): \n",
    "    \"\"\" \n",
    "    UDF to specify imputation method for a given variable. \n",
    "    col is the pd.Series for which you want to impute, imputation_type should be chosen from \n",
    "    ['mode', 'mean', 'zero', 'none'] \n",
    "    \"\"\" \n",
    "    if imputation_type == 'mode':\n",
    "        val = col.mode()[0]\n",
    "        return col.fillna(val)\n",
    "    \n",
    "    elif imputation_type == 'mean': \n",
    "        val = col.mean() \n",
    "        return col.fillna(val)\n",
    "    \n",
    "    elif imputation_type == 'zero': \n",
    "        return col.fillna(0)\n",
    "    \n",
    "    elif imputation_type == 'none':\n",
    "        return col.fillna('None')\n",
    "    \n",
    "    else: \n",
    "        raise ValueError('imputation_type argument not valid')\n",
    "\n",
    "class ImputeMissingData(BaseEstimator, TransformerMixin):\n",
    "    \"\"\" Pipeline step that impute missing values, given impute methods specified. \n",
    "        Note that numerical features with NaN's and no impute methods will raise an error, \n",
    "        categorical features on the other hand will be filled with 'None' by default unless specified otherwise.\n",
    "    \"\"\"\n",
    "    def __init__(self, impute_methods, num_features, cat_features): \n",
    "        self.impute_methods = impute_methods\n",
    "        self.num_features = num_features\n",
    "        self.cat_features = cat_features\n",
    "    \n",
    "    def fit(self, X, y=None): \n",
    "        return self \n",
    "    \n",
    "    def transform(self, input_data): \n",
    "        output_data = input_data.copy() \n",
    "\n",
    "        # check which features have missing values but imputation methods not specified \n",
    "        features_nulls = output_data.isnull().sum() \n",
    "        features_nulls = features_nulls[features_nulls > 0].index.tolist() \n",
    "        features_need_impute = [f for f in features_nulls if f not in self.impute_methods.keys()]\n",
    "        num_features_need_impute = [f for f in features_need_impute if f in self.num_features]\n",
    "        cat_features_need_impute = [f for f in features_need_impute if f in self.cat_features]\n",
    "        \n",
    "        # raise exception for numerical features with missing values and no imputation method specified \n",
    "        if num_features_need_impute: \n",
    "            raise Exception(\"These numerical features have missing values: {}. \\\n",
    "            Please specify their impute methods.\".format(num_features_need_impute)) \n",
    "        \n",
    "        # set imputation method as 'none' for cat features with missing values with no imputation method specified \n",
    "        if cat_features_need_impute: \n",
    "            for cat_f in cat_features_need_impute: \n",
    "                self.impute_methods[cat_f] = 'none'\n",
    "            print(\"\"\"Note that the following variables have missing values with no imputation method specified: {}. \n",
    "            By default, they have been filled with 'None'.\"\"\".format(cat_features_need_impute)) \n",
    "                \n",
    "        # apply imputations \n",
    "        for col, imp_method in self.impute_methods.iteritems(): \n",
    "            output_data[col] = impute_columns_udf(output_data[col], imp_method)\n",
    "            \n",
    "        return output_data "
   ]
  },
  {
   "cell_type": "code",
   "execution_count": 43,
   "metadata": {
    "collapsed": true
   },
   "outputs": [],
   "source": [
    "# convert data types\n",
    "class ConvertDataTypes(BaseEstimator, TransformerMixin): \n",
    "    \"\"\" Coerce data types to specifications defined by CAT_FEATURES and NUM_FEATURES \"\"\"\n",
    "    def __init__(self, num_features, cat_features): \n",
    "        self.num_features = num_features \n",
    "        self.cat_features = cat_features\n",
    "    \n",
    "    def fit(self, X, y=None):\n",
    "        return self \n",
    "    \n",
    "    def transform(self, input_data): \n",
    "        output_data = input_data.copy() \n",
    "        output_data[self.num_features] = output_data[self.num_features].astype(float)\n",
    "        output_data[self.cat_features] = output_data[self.cat_features].astype(str)\n",
    "        return output_data "
   ]
  },
  {
   "cell_type": "code",
   "execution_count": 44,
   "metadata": {
    "collapsed": true
   },
   "outputs": [],
   "source": [
    "# dummify data \n",
    "\n",
    "class Dummify(BaseEstimator, TransformerMixin): \n",
    "    \"\"\" Pipeline step that dummifies all categorical variables \"\"\"\n",
    "    def __init__(self, cat_feature_values): \n",
    "        self.cat_feature_values = cat_feature_values\n",
    "    \n",
    "    def fit(self, X, y=None): \n",
    "        return self\n",
    "    \n",
    "    def transform(self, input_data):\n",
    "        output_data = input_data.copy()\n",
    "        # specify values categorical features can take on, to ensure train/test DF have same cols \n",
    "        cat_features = self.cat_feature_values.keys()\n",
    "        for col in cat_features: \n",
    "            output_data[col] = pd.Categorical(output_data[col], categories=self.cat_feature_values[col])        \n",
    "        output_data = pd.get_dummies(output_data, columns=cat_features)\n",
    "        return output_data"
   ]
  },
  {
   "cell_type": "markdown",
   "metadata": {},
   "source": [
    "# Model Methods"
   ]
  },
  {
   "cell_type": "code",
   "execution_count": 8,
   "metadata": {
    "collapsed": true
   },
   "outputs": [],
   "source": [
    "# method to subset data for training model \n",
    "def get_model_data(df, label, cat_features, num_features, impute_methods): \n",
    "    \"\"\" Subsets variables used for model, runs it through pipeline to output data for model \"\"\"\n",
    "    \n",
    "    # subsets features we are interested in \n",
    "    cat_feature_values = dict([(f, df[f].dropna().unique().tolist()) for f in cat_features]) # do EDA and limit to smaller list \n",
    "    data = df[cat_features + num_features + [label]].copy() \n",
    "    \n",
    "    # train test split \n",
    "    X, y = data.drop(label, axis=1).copy(), data[label].copy() \n",
    "    x_train, x_test, y_train, y_test = train_test_split(X, y, test_size=0.2, random_state=42)\n",
    "    \n",
    "    # make pipeline \n",
    "    data_pipeline = Pipeline([\n",
    "        ('impute', ImputeMissingData(impute_methods, num_features, cat_features)),         \n",
    "        ('convert_dtypes', ConvertDataTypes(num_features, cat_features)), \n",
    "        ('dummify', Dummify(cat_feature_values))\n",
    "    ])\n",
    "    \n",
    "    # run pipeline \n",
    "    X_train = data_pipeline.fit_transform(x_train)\n",
    "    X_test = data_pipeline.transform(x_test)\n",
    "    print(\"Training Data: {} | Test Data: {}\".format(X_train.shape, X_test.shape)) \n",
    "    \n",
    "    return X_train, X_test, y_train, y_test "
   ]
  },
  {
   "cell_type": "code",
   "execution_count": 9,
   "metadata": {
    "collapsed": false
   },
   "outputs": [],
   "source": [
    "# method to output evaluation metrics and plot ROC curve \n",
    "\n",
    "def evaluate_model(truth, pred, plot_auc): \n",
    "    \"\"\" Takes in arrays of truth and pred y values and return accuracy, logloss, roc_auc, and plot ROC \"\"\" \n",
    "    accuracy = accuracy_score(truth, (pred>0.5).astype(int))\n",
    "    logloss = log_loss(truth, pred)\n",
    "    fpr, tpr, thresholds = roc_curve(truth, pred)\n",
    "    roc_auc = auc(fpr, tpr)\n",
    "    metrics = {'Accuracy': accuracy, 'ROC AUC': roc_auc, 'Log Loss': logloss}\n",
    "    if plot_auc: \n",
    "        plt.plot(fpr, tpr, label= 'AUC = {0:.3f}'.format(roc_auc)) \n",
    "        plt.plot([0, 1], [0, 1], 'k--')\n",
    "        plt.xlim([0.0, 1.0])\n",
    "        plt.ylim([0.0, 1.0])\n",
    "        plt.xlabel('FPR')\n",
    "        plt.ylabel('TPR')\n",
    "        plt.title('ROC')\n",
    "        plt.legend(loc=\"lower right\")\n",
    "    else: pass \n",
    "    return metrics "
   ]
  },
  {
   "cell_type": "code",
   "execution_count": 10,
   "metadata": {
    "collapsed": true
   },
   "outputs": [],
   "source": [
    "# method to train a model, output results, and plot AUC \n",
    "\n",
    "def train_model(model, plot_auc=True): \n",
    "    model.fit(X_train, y_train.values.ravel())\n",
    "    y_pred = model.predict_proba(X_test)[:,1]\n",
    "    metrics = evaluate_model(y_test.values.ravel(), y_pred, plot_auc)\n",
    "    return metrics "
   ]
  },
  {
   "cell_type": "markdown",
   "metadata": {},
   "source": [
    "# Run Various Models"
   ]
  },
  {
   "cell_type": "markdown",
   "metadata": {},
   "source": [
    "#### One Variable  "
   ]
  },
  {
   "cell_type": "code",
   "execution_count": 12,
   "metadata": {
    "collapsed": false
   },
   "outputs": [
    {
     "name": "stdout",
     "output_type": "stream",
     "text": [
      "Training Data: (203080, 218) | Test Data: (50770, 218)\n"
     ]
    },
    {
     "data": {
      "text/plain": [
       "{'Accuracy': 0.69336222178451845,\n",
       " 'Log Loss': 0.58595954560290853,\n",
       " 'ROC AUC': 0.66239568222542411}"
      ]
     },
     "execution_count": 12,
     "metadata": {},
     "output_type": "execute_result"
    },
    {
     "data": {
      "image/png": "[encoded data removed]",
      "text/plain": [
       "<matplotlib.figure.Figure at 0x103f06850>"
      ]
     },
     "metadata": {},
     "output_type": "display_data"
    }
   ],
   "source": [
    "# nationality only \n",
    "CAT_FEATURES = ['nat_string']\n",
    "NUM_FEATURES = []\n",
    "IMPUTE_METHODS = {}\n",
    "MODEL = (RandomForestClassifier(n_estimators=10))\n",
    "\n",
    "X_train, X_test, y_train, y_test = get_model_data(df, label='granted', cat_features = CAT_FEATURES, \n",
    "                                                  num_features = NUM_FEATURES, impute_methods = IMPUTE_METHODS) \n",
    "train_model(model=MODEL, plot_auc=True)"
   ]
  },
  {
   "cell_type": "code",
   "execution_count": 13,
   "metadata": {
    "collapsed": false
   },
   "outputs": [
    {
     "name": "stdout",
     "output_type": "stream",
     "text": [
      "Training Data: (203080, 422) | Test Data: (50770, 422)\n"
     ]
    },
    {
     "data": {
      "text/plain": [
       "{'Accuracy': 0.69052590112271028,\n",
       " 'Log Loss': 0.59830120905813589,\n",
       " 'ROC AUC': 0.62665102440934572}"
      ]
     },
     "execution_count": 13,
     "metadata": {},
     "output_type": "execute_result"
    },
    {
     "data": {
      "image/png": "[encoded data removed]",
      "text/plain": [
       "<matplotlib.figure.Figure at 0x1a14603f90>"
      ]
     },
     "metadata": {},
     "output_type": "display_data"
    }
   ],
   "source": [
    "# judge only \n",
    "CAT_FEATURES = ['ij_code']\n",
    "NUM_FEATURES = []\n",
    "IMPUTE_METHODS = {}\n",
    "MODEL = (RandomForestClassifier(n_estimators=10))\n",
    "\n",
    "X_train, X_test, y_train, y_test = get_model_data(df, label='granted', cat_features = CAT_FEATURES, \n",
    "                                                  num_features = NUM_FEATURES, impute_methods = IMPUTE_METHODS) \n",
    "train_model(model=MODEL, plot_auc=True)"
   ]
  },
  {
   "cell_type": "code",
   "execution_count": 14,
   "metadata": {
    "collapsed": false
   },
   "outputs": [
    {
     "name": "stdout",
     "output_type": "stream",
     "text": [
      "Training Data: (203080, 1) | Test Data: (50770, 1)\n"
     ]
    },
    {
     "data": {
      "text/plain": [
       "{'Accuracy': 0.69052590112271028,\n",
       " 'Log Loss': 0.60924293717361255,\n",
       " 'ROC AUC': 0.58411532640571673}"
      ]
     },
     "execution_count": 14,
     "metadata": {},
     "output_type": "execute_result"
    },
    {
     "data": {
      "image/png": "[encoded data removed]",
      "text/plain": [
       "<matplotlib.figure.Figure at 0x1a14ee1150>"
      ]
     },
     "metadata": {},
     "output_type": "display_data"
    }
   ],
   "source": [
    "# appeal year only\n",
    "CAT_FEATURES = []\n",
    "NUM_FEATURES = ['datAppealFiled_year']\n",
    "IMPUTE_METHODS = {}\n",
    "MODEL = (RandomForestClassifier(n_estimators=10))\n",
    "\n",
    "X_train, X_test, y_train, y_test = get_model_data(df, label='granted', cat_features = CAT_FEATURES, \n",
    "                                                  num_features = NUM_FEATURES, impute_methods = IMPUTE_METHODS) \n",
    "train_model(model=MODEL, plot_auc=True)"
   ]
  },
  {
   "cell_type": "markdown",
   "metadata": {},
   "source": [
    "#### Two Variables "
   ]
  },
  {
   "cell_type": "code",
   "execution_count": 47,
   "metadata": {
    "collapsed": false
   },
   "outputs": [
    {
     "name": "stdout",
     "output_type": "stream",
     "text": [
      "Training Data: (203080, 640) | Test Data: (50770, 640)\n"
     ]
    },
    {
     "data": {
      "text/plain": [
       "{'Accuracy': 0.71552097695489458,\n",
       " 'Log Loss': 0.86179820468528334,\n",
       " 'ROC AUC': 0.69881503701471748}"
      ]
     },
     "execution_count": 47,
     "metadata": {},
     "output_type": "execute_result"
    },
    {
     "data": {
      "image/png": "[encoded data removed]",
      "text/plain": [
       "<matplotlib.figure.Figure at 0x1a14e2fad0>"
      ]
     },
     "metadata": {},
     "output_type": "display_data"
    }
   ],
   "source": [
    "# nationality + judge \n",
    "CAT_FEATURES = ['nat_string', 'ij_code']\n",
    "NUM_FEATURES = []\n",
    "IMPUTE_METHODS = {'nat_string': 'none'}\n",
    "MODEL = (RandomForestClassifier(n_estimators=10))\n",
    "\n",
    "X_train, X_test, y_train, y_test = get_model_data(df, label='granted', cat_features = CAT_FEATURES, \n",
    "                                                  num_features = NUM_FEATURES, impute_methods = IMPUTE_METHODS) \n",
    "train_model(model=MODEL, plot_auc=True)"
   ]
  },
  {
   "cell_type": "code",
   "execution_count": 48,
   "metadata": {
    "collapsed": false
   },
   "outputs": [
    {
     "name": "stdout",
     "output_type": "stream",
     "text": [
      "Note that the following variables have missing values with no imputation method specified: ['nat_string']. \n",
      "            By default, they have been filled with 'None'.\n",
      "Training Data: (203080, 219) | Test Data: (50770, 219)\n"
     ]
    },
    {
     "data": {
      "text/plain": [
       "{'Accuracy': 0.73376009454402202,\n",
       " 'Log Loss': 0.60407258891980486,\n",
       " 'ROC AUC': 0.72408815767465662}"
      ]
     },
     "execution_count": 48,
     "metadata": {},
     "output_type": "execute_result"
    },
    {
     "data": {
      "image/png": "[encoded data removed]",
      "text/plain": [
       "<matplotlib.figure.Figure at 0x1a14cdfe50>"
      ]
     },
     "metadata": {},
     "output_type": "display_data"
    }
   ],
   "source": [
    "# nationality + appeal year \n",
    "CAT_FEATURES = ['nat_string']\n",
    "NUM_FEATURES = ['datAppealFiled_year']\n",
    "IMPUTE_METHODS = {}\n",
    "MODEL = (RandomForestClassifier(n_estimators=10))\n",
    "\n",
    "X_train, X_test, y_train, y_test = get_model_data(df, label='granted', cat_features = CAT_FEATURES, \n",
    "                                                  num_features = NUM_FEATURES, impute_methods = IMPUTE_METHODS) \n",
    "train_model(model=MODEL, plot_auc=True)"
   ]
  },
  {
   "cell_type": "code",
   "execution_count": 17,
   "metadata": {
    "collapsed": false
   },
   "outputs": [
    {
     "name": "stdout",
     "output_type": "stream",
     "text": [
      "Training Data: (203080, 423) | Test Data: (50770, 423)\n"
     ]
    },
    {
     "data": {
      "text/plain": [
       "{'Accuracy': 0.70234390388024426,\n",
       " 'Log Loss': 0.6527041824183305,\n",
       " 'ROC AUC': 0.67405258222357567}"
      ]
     },
     "execution_count": 17,
     "metadata": {},
     "output_type": "execute_result"
    },
    {
     "data": {
      "image/png": "[encoded data removed]",
      "text/plain": [
       "<matplotlib.figure.Figure at 0x1a1541ed10>"
      ]
     },
     "metadata": {},
     "output_type": "display_data"
    }
   ],
   "source": [
    "# judge + appeal year \n",
    "CAT_FEATURES = ['ij_code']\n",
    "NUM_FEATURES = ['datAppealFiled_year']\n",
    "IMPUTE_METHODS = {}\n",
    "MODEL = (RandomForestClassifier(n_estimators=10))\n",
    "\n",
    "X_train, X_test, y_train, y_test = get_model_data(df, label='granted', cat_features = CAT_FEATURES, \n",
    "                                                  num_features = NUM_FEATURES, impute_methods = IMPUTE_METHODS) \n",
    "train_model(model=MODEL, plot_auc=True)"
   ]
  },
  {
   "cell_type": "markdown",
   "metadata": {},
   "source": [
    "#### Multiple Variables  "
   ]
  },
  {
   "cell_type": "code",
   "execution_count": 18,
   "metadata": {
    "collapsed": false
   },
   "outputs": [
    {
     "name": "stdout",
     "output_type": "stream",
     "text": [
      "Training Data: (203080, 641) | Test Data: (50770, 641)\n"
     ]
    },
    {
     "data": {
      "text/plain": [
       "{'Accuracy': 0.74683868426235966,\n",
       " 'Log Loss': 1.4352946990439581,\n",
       " 'ROC AUC': 0.75207710324603505}"
      ]
     },
     "execution_count": 18,
     "metadata": {},
     "output_type": "execute_result"
    },
    {
     "data": {
      "image/png": "[encoded data removed]",
      "text/plain": [
       "<matplotlib.figure.Figure at 0x1a14c9fe10>"
      ]
     },
     "metadata": {},
     "output_type": "display_data"
    }
   ],
   "source": [
    "# nationality + judge + appeal year \n",
    "CAT_FEATURES = ['nat_string', 'ij_code']\n",
    "NUM_FEATURES = ['datAppealFiled_year']\n",
    "IMPUTE_METHODS = {}\n",
    "MODEL = (RandomForestClassifier(n_estimators=10))\n",
    "\n",
    "X_train, X_test, y_train, y_test = get_model_data(df, label='granted', cat_features = CAT_FEATURES, \n",
    "                                                  num_features = NUM_FEATURES, impute_methods = IMPUTE_METHODS) \n",
    "train_model(model=MODEL, plot_auc=True)"
   ]
  },
  {
   "cell_type": "code",
   "execution_count": 19,
   "metadata": {
    "collapsed": false
   },
   "outputs": [
    {
     "name": "stdout",
     "output_type": "stream",
     "text": [
      "Training Data: (203080, 646) | Test Data: (50770, 646)\n"
     ]
    },
    {
     "data": {
      "text/plain": [
       "{'Accuracy': 0.75056135513098288,\n",
       " 'Log Loss': 1.4600452535208241,\n",
       " 'ROC AUC': 0.75784243468961976}"
      ]
     },
     "execution_count": 19,
     "metadata": {},
     "output_type": "execute_result"
    },
    {
     "data": {
      "image/png": "[encoded data removed]",
      "text/plain": [
       "<matplotlib.figure.Figure at 0x1a14cefe10>"
      ]
     },
     "metadata": {},
     "output_type": "display_data"
    }
   ],
   "source": [
    "# nationality + judge + appeal year + case type \n",
    "CAT_FEATURES = ['nat_string', 'ij_code', 'case_type_string']\n",
    "NUM_FEATURES = ['datAppealFiled_year']\n",
    "IMPUTE_METHODS = {'case_type_string': 'none'}\n",
    "MODEL = (RandomForestClassifier(n_estimators=10))\n",
    "\n",
    "X_train, X_test, y_train, y_test = get_model_data(df, label='granted', cat_features = CAT_FEATURES, \n",
    "                                                  num_features = NUM_FEATURES, impute_methods = IMPUTE_METHODS) \n",
    "train_model(model=MODEL, plot_auc=True)"
   ]
  },
  {
   "cell_type": "code",
   "execution_count": 45,
   "metadata": {
    "collapsed": false
   },
   "outputs": [
    {
     "name": "stdout",
     "output_type": "stream",
     "text": [
      "Note that the following variables have missing values with no imputation method specified: ['nat_string', 'case_type_string', 'strCustody', 'strProbono']. \n",
      "            By default, they have been filled with 'None'.\n",
      "Training Data: (203080, 650) | Test Data: (50770, 650)\n"
     ]
    },
    {
     "data": {
      "text/plain": [
       "{'Accuracy': 0.75369312586172932,\n",
       " 'Log Loss': 1.469384452782895,\n",
       " 'ROC AUC': 0.7662163149110861}"
      ]
     },
     "execution_count": 45,
     "metadata": {},
     "output_type": "execute_result"
    },
    {
     "data": {
      "image/png": "[encoded data removed]",
      "text/plain": [
       "<matplotlib.figure.Figure at 0x1a14d57d50>"
      ]
     },
     "metadata": {},
     "output_type": "display_data"
    }
   ],
   "source": [
    "# nationality + judge + appeal year + case type + custody + probono\n",
    "CAT_FEATURES = ['nat_string', 'ij_code', 'case_type_string', 'strCustody', 'strProbono']\n",
    "NUM_FEATURES = ['datAppealFiled_year']\n",
    "IMPUTE_METHODS = {} # 'strCustody': 'none', 'strProbono': 'none' 'case_type_string': 'none'\n",
    "MODEL = (RandomForestClassifier(n_estimators=10))\n",
    "\n",
    "X_train, X_test, y_train, y_test = get_model_data(df, label='granted', cat_features = CAT_FEATURES, \n",
    "                                                  num_features = NUM_FEATURES, impute_methods = IMPUTE_METHODS) \n",
    "train_model(model=MODEL, plot_auc=True)"
   ]
  },
  {
   "cell_type": "code",
   "execution_count": null,
   "metadata": {
    "collapsed": false
   },
   "outputs": [],
   "source": [
    "# nationality + judge + appeal year + case type + custody + probono + lawyer + defensive/affirmative, oral/written\n",
    "CAT_FEATURES = ['nat_string', 'ij_code', 'case_type_string', 'strCustody', 'strProbono']\n",
    "NUM_FEATURES = ['datAppealFiled_year', 'lawyer', 'defensive', 'affirmative', 'oral', 'written']\n",
    "IMPUTE_METHODS = {'nat_string': 'none', 'ij_code': 'none', 'datAppealFiled_year': 'mode',\n",
    "                  'case_type_string': 'none', 'strCustody': 'none', 'strProbono': 'none', \n",
    "                  'lawyer': 'zero', 'defensive': 'zero', 'affirmative': 'zero', 'oral': 'zero', 'written': 'zero'}\n",
    "MODEL = (RandomForestClassifier(n_estimators=10))\n",
    "\n",
    "X_train, X_test, y_train, y_test = get_model_data(df, label='granted', cat_features = CAT_FEATURES, \n",
    "                                                  num_features = NUM_FEATURES, impute_methods = IMPUTE_METHODS) \n",
    "train_model(model=MODEL, plot_auc=True)"
   ]
  },
  {
   "cell_type": "code",
   "execution_count": null,
   "metadata": {
    "collapsed": false
   },
   "outputs": [],
   "source": [
    "# nationality + judge + appeal year + case type + custody + probono + lawyer + defensive/affirmative, oral/written \n",
    "# + comp/osc/input years \n",
    "CAT_FEATURES = ['nat_string', 'ij_code', 'case_type_string', 'strCustody', 'strProbono']\n",
    "NUM_FEATURES = ['datAppealFiled_year', 'lawyer', 'defensive', 'affirmative', 'oral', 'written',\n",
    "                'comp_year', 'osc_year', 'input_year']\n",
    "IMPUTE_METHODS = {'nat_string': 'none', 'ij_code': 'none', 'datAppealFiled_year': 'mode',\n",
    "                  'case_type_string': 'none', 'strCustody': 'none', 'strProbono': 'none', \n",
    "                  'lawyer': 'zero', 'defensive': 'zero', 'affirmative': 'zero', 'oral': 'zero', 'written': 'zero',\n",
    "                  'input_year': 'zero'}\n",
    "MODEL = (RandomForestClassifier(n_estimators=10))\n",
    "\n",
    "X_train, X_test, y_train, y_test = get_model_data(df, label='granted', cat_features = CAT_FEATURES, \n",
    "                                                  num_features = NUM_FEATURES, impute_methods = IMPUTE_METHODS) \n",
    "train_model(model=MODEL, plot_auc=True)"
   ]
  },
  {
   "cell_type": "code",
   "execution_count": null,
   "metadata": {
    "collapsed": false
   },
   "outputs": [],
   "source": [
    "# nationality + judge + appeal year + case type + custody + probono + lawyer + defensive/affirmative, oral/written \n",
    "# + comp/osc/input years \n",
    "CAT_FEATURES = ['nat_string', 'ij_code', 'case_type_string', 'strCustody', 'strProbono']\n",
    "NUM_FEATURES = ['datAppealFiled_year', 'lawyer', 'defensive', 'affirmative', 'oral', 'written', \n",
    "                'comp_year', 'osc_year', 'input_year']\n",
    "IMPUTE_METHODS = {'defensive': 'zero', 'affirmative': 'zero', 'oral': 'zero', 'written': 'zero', 'lawyer': 'zero', \n",
    "                  'input_year': 'mode'}\n",
    "MODEL = (RandomForestClassifier(n_estimators=10))\n",
    "\n",
    "X_train, X_test, y_train, y_test = get_model_data(df, label='granted', cat_features = CAT_FEATURES, \n",
    "                                                  num_features = NUM_FEATURES, impute_methods = IMPUTE_METHODS) \n",
    "train_model(model=MODEL, plot_auc=True)"
   ]
  },
  {
   "cell_type": "code",
   "execution_count": null,
   "metadata": {
    "collapsed": true
   },
   "outputs": [],
   "source": []
  }
 ],
 "metadata": {
  "kernelspec": {
   "display_name": "Python 2",
   "language": "python",
   "name": "python2"
  },
  "language_info": {
   "codemirror_mode": {
    "name": "ipython",
    "version": 2
   },
   "file_extension": ".py",
   "mimetype": "text/x-python",
   "name": "python",
   "nbconvert_exporter": "python",
   "pygments_lexer": "ipython2",
   "version": "2.7.11"
  }
 },
 "nbformat": 4,
 "nbformat_minor": 0
}
