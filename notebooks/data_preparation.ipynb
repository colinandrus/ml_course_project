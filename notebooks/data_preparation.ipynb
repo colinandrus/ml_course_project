{
 "cells": [
  {
   "cell_type": "code",
   "execution_count": 1,
   "metadata": {
    "collapsed": true
   },
   "outputs": [],
   "source": [
    "import numpy as np \n",
    "import pandas as pd \n",
    "import random\n",
    "import matplotlib.pyplot as plt \n",
    "import os\n",
    "pd.set_option('display.max_rows', 200)\n",
    "%matplotlib inline"
   ]
  },
  {
   "cell_type": "markdown",
   "metadata": {},
   "source": [
    "# Import Data "
   ]
  },
  {
   "cell_type": "code",
   "execution_count": 2,
   "metadata": {
    "collapsed": true
   },
   "outputs": [],
   "source": [
    "# define folder where data resides \n",
    "DATAFOLDER = \"/Users/snuffles753/Documents/NYU-GSAS/ds1003/term-project/data\""
   ]
  },
  {
   "cell_type": "markdown",
   "metadata": {},
   "source": [
    "### Appeals"
   ]
  },
  {
   "cell_type": "code",
   "execution_count": 3,
   "metadata": {
    "collapsed": false
   },
   "outputs": [
    {
     "name": "stdout",
     "output_type": "stream",
     "text": [
      "<class 'pandas.core.frame.DataFrame'>\n",
      "RangeIndex: 870388 entries, 0 to 870387\n",
      "Data columns (total 17 columns):\n",
      "idnAppeal             870388 non-null int64\n",
      "idncase               868758 non-null float64\n",
      "idnProceeding         776380 non-null float64\n",
      "strAppealCategory     870388 non-null object\n",
      "strAppealType         870388 non-null object\n",
      "datAppealFiled        870226 non-null object\n",
      "strFiledBy            870378 non-null object\n",
      "datAttorneyE27        521008 non-null object\n",
      "datBIADecision        847196 non-null object\n",
      "strBIADecision        847180 non-null object\n",
      "strBIADecisionType    822882 non-null object\n",
      "strCaseType           824855 non-null object\n",
      "strLang               773811 non-null object\n",
      "strNat                777004 non-null object\n",
      "strProceedingIHP      367364 non-null object\n",
      "strCustody            666356 non-null object\n",
      "strProbono            1880 non-null object\n",
      "dtypes: float64(2), int64(1), object(14)\n",
      "memory usage: 112.9+ MB\n",
      "None\n"
     ]
    },
    {
     "data": {
      "text/html": [
       "<div>\n",
       "<style>\n",
       "    .dataframe thead tr:only-child th {\n",
       "        text-align: right;\n",
       "    }\n",
       "\n",
       "    .dataframe thead th {\n",
       "        text-align: left;\n",
       "    }\n",
       "\n",
       "    .dataframe tbody tr th {\n",
       "        vertical-align: top;\n",
       "    }\n",
       "</style>\n",
       "<table border=\"1\" class=\"dataframe\">\n",
       "  <thead>\n",
       "    <tr style=\"text-align: right;\">\n",
       "      <th></th>\n",
       "      <th>idnAppeal</th>\n",
       "      <th>idncase</th>\n",
       "      <th>idnProceeding</th>\n",
       "      <th>strAppealCategory</th>\n",
       "      <th>strAppealType</th>\n",
       "      <th>datAppealFiled</th>\n",
       "      <th>strFiledBy</th>\n",
       "      <th>datAttorneyE27</th>\n",
       "      <th>datBIADecision</th>\n",
       "      <th>strBIADecision</th>\n",
       "      <th>strBIADecisionType</th>\n",
       "      <th>strCaseType</th>\n",
       "      <th>strLang</th>\n",
       "      <th>strNat</th>\n",
       "      <th>strProceedingIHP</th>\n",
       "      <th>strCustody</th>\n",
       "      <th>strProbono</th>\n",
       "    </tr>\n",
       "  </thead>\n",
       "  <tbody>\n",
       "    <tr>\n",
       "      <th>755592</th>\n",
       "      <td>4929780</td>\n",
       "      <td>6619491.0</td>\n",
       "      <td>5329854.0</td>\n",
       "      <td>IJ</td>\n",
       "      <td>Case Appeal</td>\n",
       "      <td>2010-12-20 00:00:00</td>\n",
       "      <td>A</td>\n",
       "      <td>NaN</td>\n",
       "      <td>2011-04-07 00:00:00</td>\n",
       "      <td>DIS</td>\n",
       "      <td>R</td>\n",
       "      <td>RMV</td>\n",
       "      <td>ENG</td>\n",
       "      <td>TD</td>\n",
       "      <td>NaN</td>\n",
       "      <td>D</td>\n",
       "      <td>NaN</td>\n",
       "    </tr>\n",
       "    <tr>\n",
       "      <th>633550</th>\n",
       "      <td>4806524</td>\n",
       "      <td>5446775.0</td>\n",
       "      <td>3849450.0</td>\n",
       "      <td>IJ</td>\n",
       "      <td>Case Appeal</td>\n",
       "      <td>2007-11-09 00:00:00</td>\n",
       "      <td>A</td>\n",
       "      <td>2007-11-09 00:00:00</td>\n",
       "      <td>2008-10-28 00:00:00</td>\n",
       "      <td>DIS</td>\n",
       "      <td>R</td>\n",
       "      <td>RMV</td>\n",
       "      <td>ENG</td>\n",
       "      <td>GY</td>\n",
       "      <td>NaN</td>\n",
       "      <td>N</td>\n",
       "      <td>NaN</td>\n",
       "    </tr>\n",
       "    <tr>\n",
       "      <th>851686</th>\n",
       "      <td>5026732</td>\n",
       "      <td>6998155.0</td>\n",
       "      <td>5918959.0</td>\n",
       "      <td>IJ</td>\n",
       "      <td>Case Appeal</td>\n",
       "      <td>2013-08-14 00:00:00</td>\n",
       "      <td>A</td>\n",
       "      <td>2014-01-24 00:00:00</td>\n",
       "      <td>NaN</td>\n",
       "      <td>NaN</td>\n",
       "      <td>NaN</td>\n",
       "      <td>RMV</td>\n",
       "      <td>SP</td>\n",
       "      <td>MX</td>\n",
       "      <td>NaN</td>\n",
       "      <td>R</td>\n",
       "      <td>NaN</td>\n",
       "    </tr>\n",
       "    <tr>\n",
       "      <th>376757</th>\n",
       "      <td>4541621</td>\n",
       "      <td>3684725.0</td>\n",
       "      <td>2038727.0</td>\n",
       "      <td>IJ</td>\n",
       "      <td>Case Appeal</td>\n",
       "      <td>2002-08-16 00:00:00</td>\n",
       "      <td>A</td>\n",
       "      <td>2002-08-23 00:00:00</td>\n",
       "      <td>2004-04-01 00:00:00</td>\n",
       "      <td>SAV</td>\n",
       "      <td>P</td>\n",
       "      <td>RMV</td>\n",
       "      <td>SP</td>\n",
       "      <td>MX</td>\n",
       "      <td></td>\n",
       "      <td>N</td>\n",
       "      <td>NaN</td>\n",
       "    </tr>\n",
       "    <tr>\n",
       "      <th>300827</th>\n",
       "      <td>4461804</td>\n",
       "      <td>2070088.0</td>\n",
       "      <td>130773.0</td>\n",
       "      <td>IJ</td>\n",
       "      <td>Case Appeal</td>\n",
       "      <td>2000-06-20 00:00:00</td>\n",
       "      <td>A</td>\n",
       "      <td>2000-06-20 00:00:00</td>\n",
       "      <td>2001-08-30 00:00:00</td>\n",
       "      <td>REM</td>\n",
       "      <td>P</td>\n",
       "      <td>RMV</td>\n",
       "      <td>SP</td>\n",
       "      <td>DR</td>\n",
       "      <td></td>\n",
       "      <td>N</td>\n",
       "      <td>NaN</td>\n",
       "    </tr>\n",
       "  </tbody>\n",
       "</table>\n",
       "</div>"
      ],
      "text/plain": [
       "        idnAppeal    idncase  idnProceeding strAppealCategory strAppealType  \\\n",
       "755592    4929780  6619491.0      5329854.0                IJ   Case Appeal   \n",
       "633550    4806524  5446775.0      3849450.0                IJ   Case Appeal   \n",
       "851686    5026732  6998155.0      5918959.0                IJ   Case Appeal   \n",
       "376757    4541621  3684725.0      2038727.0                IJ   Case Appeal   \n",
       "300827    4461804  2070088.0       130773.0                IJ   Case Appeal   \n",
       "\n",
       "             datAppealFiled strFiledBy       datAttorneyE27  \\\n",
       "755592  2010-12-20 00:00:00          A                  NaN   \n",
       "633550  2007-11-09 00:00:00          A  2007-11-09 00:00:00   \n",
       "851686  2013-08-14 00:00:00          A  2014-01-24 00:00:00   \n",
       "376757  2002-08-16 00:00:00          A  2002-08-23 00:00:00   \n",
       "300827  2000-06-20 00:00:00          A  2000-06-20 00:00:00   \n",
       "\n",
       "             datBIADecision strBIADecision strBIADecisionType strCaseType  \\\n",
       "755592  2011-04-07 00:00:00            DIS                  R         RMV   \n",
       "633550  2008-10-28 00:00:00            DIS                  R         RMV   \n",
       "851686                  NaN            NaN                NaN         RMV   \n",
       "376757  2004-04-01 00:00:00            SAV                  P         RMV   \n",
       "300827  2001-08-30 00:00:00            REM                  P         RMV   \n",
       "\n",
       "       strLang strNat strProceedingIHP strCustody strProbono  \n",
       "755592     ENG     TD              NaN          D        NaN  \n",
       "633550     ENG     GY              NaN          N        NaN  \n",
       "851686      SP     MX              NaN          R        NaN  \n",
       "376757      SP     MX                           N        NaN  \n",
       "300827      SP     DR                           N        NaN  "
      ]
     },
     "execution_count": 3,
     "metadata": {},
     "output_type": "execute_result"
    }
   ],
   "source": [
    "# main table \n",
    "tblAppeal = pd.read_csv(os.path.join(DATAFOLDER, 'raw/tblAppeal.csv'), low_memory=False) \n",
    "print(tblAppeal.info())\n",
    "tblAppeal.sample(5)"
   ]
  },
  {
   "cell_type": "code",
   "execution_count": 4,
   "metadata": {
    "collapsed": false
   },
   "outputs": [
    {
     "name": "stdout",
     "output_type": "stream",
     "text": [
      "<class 'pandas.core.frame.DataFrame'>\n",
      "Int64Index: 755222 entries, 0 to 869457\n",
      "Data columns (total 17 columns):\n",
      "idnAppeal             755222 non-null int64\n",
      "idncase               755222 non-null int64\n",
      "idnProceeding         755222 non-null int64\n",
      "strAppealCategory     755222 non-null object\n",
      "strAppealType         755222 non-null object\n",
      "datAppealFiled        755060 non-null object\n",
      "strFiledBy            755212 non-null object\n",
      "datAttorneyE27        478717 non-null object\n",
      "datBIADecision        755222 non-null object\n",
      "strBIADecision        755222 non-null object\n",
      "strBIADecisionType    731103 non-null object\n",
      "strCaseType           755180 non-null object\n",
      "strLang               752329 non-null object\n",
      "strNat                754061 non-null object\n",
      "strProceedingIHP      365943 non-null object\n",
      "strCustody            643730 non-null object\n",
      "strProbono            1842 non-null object\n",
      "dtypes: int64(3), object(14)\n",
      "memory usage: 103.7+ MB\n"
     ]
    }
   ],
   "source": [
    "# drop appeals with no case number, proceeding number, or decision \n",
    "tblAppeal.dropna(subset=['idncase', 'idnProceeding', 'strBIADecision'], inplace=True) \n",
    "tblAppeal = tblAppeal[tblAppeal['idnProceeding'] != 0] # drop zeros \n",
    "\n",
    "# convert indexes to integers \n",
    "tblAppeal['idncase'] = tblAppeal['idncase'].astype(int) \n",
    "tblAppeal['idnProceeding'] = tblAppeal['idnProceeding'].astype(int) \n",
    "tblAppeal.info() "
   ]
  },
  {
   "cell_type": "code",
   "execution_count": 5,
   "metadata": {
    "collapsed": true
   },
   "outputs": [],
   "source": [
    "# format column types \n",
    "tblAppeal['datAppealFiled_dt'] = pd.to_datetime(tblAppeal['datAppealFiled'], errors='coerce')\n",
    "tblAppeal['datBIADecision_dt'] = pd.to_datetime(tblAppeal['datBIADecision'], errors='coerce')\n",
    "tblAppeal['datAppealFiled_year'] = tblAppeal['datAppealFiled_dt'].dt.year"
   ]
  },
  {
   "cell_type": "code",
   "execution_count": 6,
   "metadata": {
    "collapsed": true
   },
   "outputs": [],
   "source": [
    "# code lookup tables \n",
    "bia_appeal_category = pd.read_excel(os.path.join(DATAFOLDER, 'raw/BIA Appeal Data File code translations.xlsx'), \n",
    "                                    sheet_name='BIA Appeal Category', skip_footer=7)\n",
    "bia_appeal_type = pd.read_excel(os.path.join(DATAFOLDER, 'raw/BIA Appeal Data File code translations.xlsx'),\n",
    "                                sheet_name='BIA Appeal Type', skip_footer=3)\n",
    "bia_decision_type = pd.read_excel(os.path.join(DATAFOLDER, 'raw/BIA Appeal Data File code translations.xlsx'),\n",
    "                                  sheet_name='BIA decision type', skip_footer=2)\n",
    "bia_decision_code = pd.read_excel(os.path.join(DATAFOLDER, 'raw/BIA Appeal Data File code translations.xlsx'),\n",
    "                                  sheet_name='BIA decision code', skip_footer=2)"
   ]
  },
  {
   "cell_type": "code",
   "execution_count": 7,
   "metadata": {
    "collapsed": false
   },
   "outputs": [
    {
     "name": "stdout",
     "output_type": "stream",
     "text": [
      "<class 'pandas.core.frame.DataFrame'>\n",
      "Int64Index: 755222 entries, 0 to 755221\n",
      "Data columns (total 24 columns):\n",
      "idnAppeal                 755222 non-null int64\n",
      "idncase                   755222 non-null int64\n",
      "idnProceeding             755222 non-null int64\n",
      "strAppealCategory         755222 non-null object\n",
      "strAppealType             755222 non-null object\n",
      "datAppealFiled            755060 non-null object\n",
      "strFiledBy                755212 non-null object\n",
      "datAttorneyE27            478717 non-null object\n",
      "datBIADecision            755222 non-null object\n",
      "strBIADecision            755222 non-null object\n",
      "strBIADecisionType        731103 non-null object\n",
      "strCaseType               755180 non-null object\n",
      "strLang                   752329 non-null object\n",
      "strNat                    754061 non-null object\n",
      "strProceedingIHP          365943 non-null object\n",
      "strCustody                643730 non-null object\n",
      "strProbono                1842 non-null object\n",
      "datAppealFiled_dt         755060 non-null datetime64[ns]\n",
      "datBIADecision_dt         755222 non-null datetime64[ns]\n",
      "datAppealFiled_year       755060 non-null float64\n",
      "strAppealCategoryDesc     0 non-null object\n",
      "strAppealTypeDesc         755219 non-null object\n",
      "strBIADecisionDesc        0 non-null object\n",
      "strBIADecisionTypeDesc    0 non-null object\n",
      "dtypes: datetime64[ns](2), float64(1), int64(3), object(18)\n",
      "memory usage: 144.0+ MB\n",
      "None\n"
     ]
    },
    {
     "data": {
      "text/html": [
       "<div>\n",
       "<style>\n",
       "    .dataframe thead tr:only-child th {\n",
       "        text-align: right;\n",
       "    }\n",
       "\n",
       "    .dataframe thead th {\n",
       "        text-align: left;\n",
       "    }\n",
       "\n",
       "    .dataframe tbody tr th {\n",
       "        vertical-align: top;\n",
       "    }\n",
       "</style>\n",
       "<table border=\"1\" class=\"dataframe\">\n",
       "  <thead>\n",
       "    <tr style=\"text-align: right;\">\n",
       "      <th></th>\n",
       "      <th>175472</th>\n",
       "      <th>189305</th>\n",
       "      <th>546519</th>\n",
       "      <th>425731</th>\n",
       "      <th>370956</th>\n",
       "      <th>121696</th>\n",
       "      <th>153888</th>\n",
       "      <th>599889</th>\n",
       "      <th>307097</th>\n",
       "      <th>245452</th>\n",
       "    </tr>\n",
       "  </thead>\n",
       "  <tbody>\n",
       "    <tr>\n",
       "      <th>idnAppeal</th>\n",
       "      <td>4351629</td>\n",
       "      <td>4368656</td>\n",
       "      <td>4772306</td>\n",
       "      <td>4634353</td>\n",
       "      <td>4575124</td>\n",
       "      <td>142278</td>\n",
       "      <td>176630</td>\n",
       "      <td>4832069</td>\n",
       "      <td>4505799</td>\n",
       "      <td>4433087</td>\n",
       "    </tr>\n",
       "    <tr>\n",
       "      <th>idncase</th>\n",
       "      <td>2728804</td>\n",
       "      <td>3346811</td>\n",
       "      <td>3160459</td>\n",
       "      <td>4204889</td>\n",
       "      <td>2460851</td>\n",
       "      <td>3391137</td>\n",
       "      <td>2230263</td>\n",
       "      <td>4253340</td>\n",
       "      <td>2741719</td>\n",
       "      <td>3654949</td>\n",
       "    </tr>\n",
       "    <tr>\n",
       "      <th>idnProceeding</th>\n",
       "      <td>992706</td>\n",
       "      <td>1475910</td>\n",
       "      <td>1530611</td>\n",
       "      <td>2722818</td>\n",
       "      <td>639709</td>\n",
       "      <td>1692213</td>\n",
       "      <td>347018</td>\n",
       "      <td>2783482</td>\n",
       "      <td>1011063</td>\n",
       "      <td>2003316</td>\n",
       "    </tr>\n",
       "    <tr>\n",
       "      <th>strAppealCategory</th>\n",
       "      <td>IJ</td>\n",
       "      <td>IJ</td>\n",
       "      <td>IJ</td>\n",
       "      <td>IJ</td>\n",
       "      <td>IJ</td>\n",
       "      <td>IJ</td>\n",
       "      <td>IJ</td>\n",
       "      <td>IJ</td>\n",
       "      <td>IJ</td>\n",
       "      <td>IJ</td>\n",
       "    </tr>\n",
       "    <tr>\n",
       "      <th>strAppealType</th>\n",
       "      <td>Case Appeal</td>\n",
       "      <td>Case Appeal</td>\n",
       "      <td>Circuit Court Remand</td>\n",
       "      <td>Case Appeal</td>\n",
       "      <td>Appeal of IJ MTR</td>\n",
       "      <td>Case Appeal</td>\n",
       "      <td>MTR BIA</td>\n",
       "      <td>MTR BIA</td>\n",
       "      <td>MTR BIA</td>\n",
       "      <td>Case Appeal</td>\n",
       "    </tr>\n",
       "    <tr>\n",
       "      <th>datAppealFiled</th>\n",
       "      <td>1997-06-20 00:00:00</td>\n",
       "      <td>1997-12-03 00:00:00</td>\n",
       "      <td>2007-02-01 08:21:06.170000000</td>\n",
       "      <td>2004-05-20 00:00:00</td>\n",
       "      <td>2003-04-24 00:00:00</td>\n",
       "      <td>1996-06-06 00:00:00</td>\n",
       "      <td>1996-09-30 00:00:00</td>\n",
       "      <td>2008-06-24 00:00:00</td>\n",
       "      <td>2001-10-15 00:00:00</td>\n",
       "      <td>1999-09-16 00:00:00</td>\n",
       "    </tr>\n",
       "    <tr>\n",
       "      <th>strFiledBy</th>\n",
       "      <td>A</td>\n",
       "      <td>A</td>\n",
       "      <td>O</td>\n",
       "      <td>A</td>\n",
       "      <td>A</td>\n",
       "      <td>A</td>\n",
       "      <td>A</td>\n",
       "      <td>B</td>\n",
       "      <td>A</td>\n",
       "      <td>A</td>\n",
       "    </tr>\n",
       "    <tr>\n",
       "      <th>datAttorneyE27</th>\n",
       "      <td>1997-06-20 00:00:00</td>\n",
       "      <td>2001-01-30 00:00:00</td>\n",
       "      <td>2007-03-09 00:00:00</td>\n",
       "      <td>2004-05-20 00:00:00</td>\n",
       "      <td>2004-01-28 00:00:00</td>\n",
       "      <td>1996-06-06 00:00:00</td>\n",
       "      <td>1996-09-30 00:00:00</td>\n",
       "      <td>2008-06-24 00:00:00</td>\n",
       "      <td>NaN</td>\n",
       "      <td>1999-09-16 00:00:00</td>\n",
       "    </tr>\n",
       "    <tr>\n",
       "      <th>datBIADecision</th>\n",
       "      <td>1998-11-09 00:00:00</td>\n",
       "      <td>2002-05-28 00:00:00</td>\n",
       "      <td>2007-06-26 00:00:00</td>\n",
       "      <td>2005-08-24 00:00:00</td>\n",
       "      <td>2004-05-27 00:00:00</td>\n",
       "      <td>1997-05-30 00:00:00</td>\n",
       "      <td>1997-03-26 00:00:00</td>\n",
       "      <td>2008-08-27 00:00:00</td>\n",
       "      <td>2001-11-26 00:00:00</td>\n",
       "      <td>2002-04-08 00:00:00</td>\n",
       "    </tr>\n",
       "    <tr>\n",
       "      <th>strBIADecision</th>\n",
       "      <td>DSO</td>\n",
       "      <td>DIS</td>\n",
       "      <td>REM</td>\n",
       "      <td>SAF</td>\n",
       "      <td>SAF</td>\n",
       "      <td>D30</td>\n",
       "      <td>DEN</td>\n",
       "      <td>REM</td>\n",
       "      <td>DEN</td>\n",
       "      <td>SAV</td>\n",
       "    </tr>\n",
       "    <tr>\n",
       "      <th>strBIADecisionType</th>\n",
       "      <td>P</td>\n",
       "      <td>P</td>\n",
       "      <td>P</td>\n",
       "      <td>P</td>\n",
       "      <td>P</td>\n",
       "      <td>P</td>\n",
       "      <td>P</td>\n",
       "      <td>R</td>\n",
       "      <td>P</td>\n",
       "      <td>P</td>\n",
       "    </tr>\n",
       "    <tr>\n",
       "      <th>strCaseType</th>\n",
       "      <td>DEP</td>\n",
       "      <td>DEP</td>\n",
       "      <td>RMV</td>\n",
       "      <td>RMV</td>\n",
       "      <td>RMV</td>\n",
       "      <td>DEP</td>\n",
       "      <td>DEP</td>\n",
       "      <td>RMV</td>\n",
       "      <td>RMV</td>\n",
       "      <td>RMV</td>\n",
       "    </tr>\n",
       "    <tr>\n",
       "      <th>strLang</th>\n",
       "      <td>ENG</td>\n",
       "      <td>ENG</td>\n",
       "      <td>ENG</td>\n",
       "      <td>SP</td>\n",
       "      <td>ENG</td>\n",
       "      <td>TAG</td>\n",
       "      <td>SP</td>\n",
       "      <td>SP</td>\n",
       "      <td>ENG</td>\n",
       "      <td>SP</td>\n",
       "    </tr>\n",
       "    <tr>\n",
       "      <th>strNat</th>\n",
       "      <td>JM</td>\n",
       "      <td>NI</td>\n",
       "      <td>FJ</td>\n",
       "      <td>CO</td>\n",
       "      <td>RP</td>\n",
       "      <td>RP</td>\n",
       "      <td>ES</td>\n",
       "      <td>PE</td>\n",
       "      <td>JM</td>\n",
       "      <td>MX</td>\n",
       "    </tr>\n",
       "    <tr>\n",
       "      <th>strProceedingIHP</th>\n",
       "      <td></td>\n",
       "      <td>NaN</td>\n",
       "      <td>NaN</td>\n",
       "      <td></td>\n",
       "      <td></td>\n",
       "      <td>NaN</td>\n",
       "      <td></td>\n",
       "      <td>NaN</td>\n",
       "      <td></td>\n",
       "      <td></td>\n",
       "    </tr>\n",
       "    <tr>\n",
       "      <th>strCustody</th>\n",
       "      <td>R</td>\n",
       "      <td>R</td>\n",
       "      <td>N</td>\n",
       "      <td>N</td>\n",
       "      <td>N</td>\n",
       "      <td>NaN</td>\n",
       "      <td>NaN</td>\n",
       "      <td>N</td>\n",
       "      <td>D</td>\n",
       "      <td>N</td>\n",
       "    </tr>\n",
       "    <tr>\n",
       "      <th>strProbono</th>\n",
       "      <td>NaN</td>\n",
       "      <td>NaN</td>\n",
       "      <td>NaN</td>\n",
       "      <td>NaN</td>\n",
       "      <td>NaN</td>\n",
       "      <td>NaN</td>\n",
       "      <td>NaN</td>\n",
       "      <td>NaN</td>\n",
       "      <td>NaN</td>\n",
       "      <td>NaN</td>\n",
       "    </tr>\n",
       "    <tr>\n",
       "      <th>datAppealFiled_dt</th>\n",
       "      <td>1997-06-20 00:00:00</td>\n",
       "      <td>1997-12-03 00:00:00</td>\n",
       "      <td>2007-02-01 08:21:06.170000</td>\n",
       "      <td>2004-05-20 00:00:00</td>\n",
       "      <td>2003-04-24 00:00:00</td>\n",
       "      <td>1996-06-06 00:00:00</td>\n",
       "      <td>1996-09-30 00:00:00</td>\n",
       "      <td>2008-06-24 00:00:00</td>\n",
       "      <td>2001-10-15 00:00:00</td>\n",
       "      <td>1999-09-16 00:00:00</td>\n",
       "    </tr>\n",
       "    <tr>\n",
       "      <th>datBIADecision_dt</th>\n",
       "      <td>1998-11-09 00:00:00</td>\n",
       "      <td>2002-05-28 00:00:00</td>\n",
       "      <td>2007-06-26 00:00:00</td>\n",
       "      <td>2005-08-24 00:00:00</td>\n",
       "      <td>2004-05-27 00:00:00</td>\n",
       "      <td>1997-05-30 00:00:00</td>\n",
       "      <td>1997-03-26 00:00:00</td>\n",
       "      <td>2008-08-27 00:00:00</td>\n",
       "      <td>2001-11-26 00:00:00</td>\n",
       "      <td>2002-04-08 00:00:00</td>\n",
       "    </tr>\n",
       "    <tr>\n",
       "      <th>datAppealFiled_year</th>\n",
       "      <td>1997</td>\n",
       "      <td>1997</td>\n",
       "      <td>2007</td>\n",
       "      <td>2004</td>\n",
       "      <td>2003</td>\n",
       "      <td>1996</td>\n",
       "      <td>1996</td>\n",
       "      <td>2008</td>\n",
       "      <td>2001</td>\n",
       "      <td>1999</td>\n",
       "    </tr>\n",
       "    <tr>\n",
       "      <th>strAppealCategoryDesc</th>\n",
       "      <td>NaN</td>\n",
       "      <td>NaN</td>\n",
       "      <td>NaN</td>\n",
       "      <td>NaN</td>\n",
       "      <td>NaN</td>\n",
       "      <td>NaN</td>\n",
       "      <td>NaN</td>\n",
       "      <td>NaN</td>\n",
       "      <td>NaN</td>\n",
       "      <td>NaN</td>\n",
       "    </tr>\n",
       "    <tr>\n",
       "      <th>strAppealTypeDesc</th>\n",
       "      <td>Case Appeal</td>\n",
       "      <td>Case Appeal</td>\n",
       "      <td>Circuit Court Remand</td>\n",
       "      <td>Case Appeal</td>\n",
       "      <td>Appeal of IJ MTR</td>\n",
       "      <td>Case Appeal</td>\n",
       "      <td>MTR BIA</td>\n",
       "      <td>MTR BIA</td>\n",
       "      <td>MTR BIA</td>\n",
       "      <td>Case Appeal</td>\n",
       "    </tr>\n",
       "    <tr>\n",
       "      <th>strBIADecisionDesc</th>\n",
       "      <td>NaN</td>\n",
       "      <td>NaN</td>\n",
       "      <td>NaN</td>\n",
       "      <td>NaN</td>\n",
       "      <td>NaN</td>\n",
       "      <td>NaN</td>\n",
       "      <td>NaN</td>\n",
       "      <td>NaN</td>\n",
       "      <td>NaN</td>\n",
       "      <td>NaN</td>\n",
       "    </tr>\n",
       "    <tr>\n",
       "      <th>strBIADecisionTypeDesc</th>\n",
       "      <td>NaN</td>\n",
       "      <td>NaN</td>\n",
       "      <td>NaN</td>\n",
       "      <td>NaN</td>\n",
       "      <td>NaN</td>\n",
       "      <td>NaN</td>\n",
       "      <td>NaN</td>\n",
       "      <td>NaN</td>\n",
       "      <td>NaN</td>\n",
       "      <td>NaN</td>\n",
       "    </tr>\n",
       "  </tbody>\n",
       "</table>\n",
       "</div>"
      ],
      "text/plain": [
       "                                     175472               189305  \\\n",
       "idnAppeal                           4351629              4368656   \n",
       "idncase                             2728804              3346811   \n",
       "idnProceeding                        992706              1475910   \n",
       "strAppealCategory                        IJ                   IJ   \n",
       "strAppealType                   Case Appeal          Case Appeal   \n",
       "datAppealFiled          1997-06-20 00:00:00  1997-12-03 00:00:00   \n",
       "strFiledBy                                A                    A   \n",
       "datAttorneyE27          1997-06-20 00:00:00  2001-01-30 00:00:00   \n",
       "datBIADecision          1998-11-09 00:00:00  2002-05-28 00:00:00   \n",
       "strBIADecision                          DSO                  DIS   \n",
       "strBIADecisionType                        P                    P   \n",
       "strCaseType                             DEP                  DEP   \n",
       "strLang                                 ENG                  ENG   \n",
       "strNat                                   JM                   NI   \n",
       "strProceedingIHP                                             NaN   \n",
       "strCustody                                R                    R   \n",
       "strProbono                              NaN                  NaN   \n",
       "datAppealFiled_dt       1997-06-20 00:00:00  1997-12-03 00:00:00   \n",
       "datBIADecision_dt       1998-11-09 00:00:00  2002-05-28 00:00:00   \n",
       "datAppealFiled_year                    1997                 1997   \n",
       "strAppealCategoryDesc                   NaN                  NaN   \n",
       "strAppealTypeDesc               Case Appeal          Case Appeal   \n",
       "strBIADecisionDesc                      NaN                  NaN   \n",
       "strBIADecisionTypeDesc                  NaN                  NaN   \n",
       "\n",
       "                                               546519               425731  \\\n",
       "idnAppeal                                     4772306              4634353   \n",
       "idncase                                       3160459              4204889   \n",
       "idnProceeding                                 1530611              2722818   \n",
       "strAppealCategory                                  IJ                   IJ   \n",
       "strAppealType                    Circuit Court Remand          Case Appeal   \n",
       "datAppealFiled          2007-02-01 08:21:06.170000000  2004-05-20 00:00:00   \n",
       "strFiledBy                                          O                    A   \n",
       "datAttorneyE27                    2007-03-09 00:00:00  2004-05-20 00:00:00   \n",
       "datBIADecision                    2007-06-26 00:00:00  2005-08-24 00:00:00   \n",
       "strBIADecision                                    REM                  SAF   \n",
       "strBIADecisionType                                  P                    P   \n",
       "strCaseType                                       RMV                  RMV   \n",
       "strLang                                           ENG                   SP   \n",
       "strNat                                             FJ                   CO   \n",
       "strProceedingIHP                                  NaN                        \n",
       "strCustody                                          N                    N   \n",
       "strProbono                                        NaN                  NaN   \n",
       "datAppealFiled_dt          2007-02-01 08:21:06.170000  2004-05-20 00:00:00   \n",
       "datBIADecision_dt                 2007-06-26 00:00:00  2005-08-24 00:00:00   \n",
       "datAppealFiled_year                              2007                 2004   \n",
       "strAppealCategoryDesc                             NaN                  NaN   \n",
       "strAppealTypeDesc                Circuit Court Remand          Case Appeal   \n",
       "strBIADecisionDesc                                NaN                  NaN   \n",
       "strBIADecisionTypeDesc                            NaN                  NaN   \n",
       "\n",
       "                                     370956               121696  \\\n",
       "idnAppeal                           4575124               142278   \n",
       "idncase                             2460851              3391137   \n",
       "idnProceeding                        639709              1692213   \n",
       "strAppealCategory                        IJ                   IJ   \n",
       "strAppealType              Appeal of IJ MTR          Case Appeal   \n",
       "datAppealFiled          2003-04-24 00:00:00  1996-06-06 00:00:00   \n",
       "strFiledBy                                A                    A   \n",
       "datAttorneyE27          2004-01-28 00:00:00  1996-06-06 00:00:00   \n",
       "datBIADecision          2004-05-27 00:00:00  1997-05-30 00:00:00   \n",
       "strBIADecision                          SAF                  D30   \n",
       "strBIADecisionType                        P                    P   \n",
       "strCaseType                             RMV                  DEP   \n",
       "strLang                                 ENG                  TAG   \n",
       "strNat                                   RP                   RP   \n",
       "strProceedingIHP                                             NaN   \n",
       "strCustody                                N                  NaN   \n",
       "strProbono                              NaN                  NaN   \n",
       "datAppealFiled_dt       2003-04-24 00:00:00  1996-06-06 00:00:00   \n",
       "datBIADecision_dt       2004-05-27 00:00:00  1997-05-30 00:00:00   \n",
       "datAppealFiled_year                    2003                 1996   \n",
       "strAppealCategoryDesc                   NaN                  NaN   \n",
       "strAppealTypeDesc          Appeal of IJ MTR          Case Appeal   \n",
       "strBIADecisionDesc                      NaN                  NaN   \n",
       "strBIADecisionTypeDesc                  NaN                  NaN   \n",
       "\n",
       "                                     153888               599889  \\\n",
       "idnAppeal                            176630              4832069   \n",
       "idncase                             2230263              4253340   \n",
       "idnProceeding                        347018              2783482   \n",
       "strAppealCategory                        IJ                   IJ   \n",
       "strAppealType                       MTR BIA              MTR BIA   \n",
       "datAppealFiled          1996-09-30 00:00:00  2008-06-24 00:00:00   \n",
       "strFiledBy                                A                    B   \n",
       "datAttorneyE27          1996-09-30 00:00:00  2008-06-24 00:00:00   \n",
       "datBIADecision          1997-03-26 00:00:00  2008-08-27 00:00:00   \n",
       "strBIADecision                          DEN                  REM   \n",
       "strBIADecisionType                        P                    R   \n",
       "strCaseType                             DEP                  RMV   \n",
       "strLang                                  SP                  SP    \n",
       "strNat                                   ES                   PE   \n",
       "strProceedingIHP                                             NaN   \n",
       "strCustody                              NaN                    N   \n",
       "strProbono                              NaN                  NaN   \n",
       "datAppealFiled_dt       1996-09-30 00:00:00  2008-06-24 00:00:00   \n",
       "datBIADecision_dt       1997-03-26 00:00:00  2008-08-27 00:00:00   \n",
       "datAppealFiled_year                    1996                 2008   \n",
       "strAppealCategoryDesc                   NaN                  NaN   \n",
       "strAppealTypeDesc                   MTR BIA              MTR BIA   \n",
       "strBIADecisionDesc                      NaN                  NaN   \n",
       "strBIADecisionTypeDesc                  NaN                  NaN   \n",
       "\n",
       "                                     307097               245452  \n",
       "idnAppeal                           4505799              4433087  \n",
       "idncase                             2741719              3654949  \n",
       "idnProceeding                       1011063              2003316  \n",
       "strAppealCategory                        IJ                   IJ  \n",
       "strAppealType                       MTR BIA          Case Appeal  \n",
       "datAppealFiled          2001-10-15 00:00:00  1999-09-16 00:00:00  \n",
       "strFiledBy                                A                    A  \n",
       "datAttorneyE27                          NaN  1999-09-16 00:00:00  \n",
       "datBIADecision          2001-11-26 00:00:00  2002-04-08 00:00:00  \n",
       "strBIADecision                          DEN                  SAV  \n",
       "strBIADecisionType                        P                    P  \n",
       "strCaseType                             RMV                  RMV  \n",
       "strLang                                 ENG                   SP  \n",
       "strNat                                   JM                   MX  \n",
       "strProceedingIHP                                                  \n",
       "strCustody                                D                    N  \n",
       "strProbono                              NaN                  NaN  \n",
       "datAppealFiled_dt       2001-10-15 00:00:00  1999-09-16 00:00:00  \n",
       "datBIADecision_dt       2001-11-26 00:00:00  2002-04-08 00:00:00  \n",
       "datAppealFiled_year                    2001                 1999  \n",
       "strAppealCategoryDesc                   NaN                  NaN  \n",
       "strAppealTypeDesc                   MTR BIA          Case Appeal  \n",
       "strBIADecisionDesc                      NaN                  NaN  \n",
       "strBIADecisionTypeDesc                  NaN                  NaN  "
      ]
     },
     "execution_count": 7,
     "metadata": {},
     "output_type": "execute_result"
    }
   ],
   "source": [
    "# join them \n",
    "tblAppeal_df = tblAppeal.merge(bia_appeal_category, how='left', left_on='strAppealCategory', right_on='Code')\\\n",
    "                        .rename(columns={'Description': 'strAppealCategoryDesc'}).drop('Code', axis=1)\\\n",
    "                        .merge(bia_appeal_type, how='left', left_on='strAppealType', right_on='Code')\\\n",
    "                        .rename(columns={'Description': 'strAppealTypeDesc'}).drop('Code', axis=1)\\\n",
    "                        .merge(bia_decision_code, how='left', left_on='strBIADecision', right_on='Code')\\\n",
    "                        .rename(columns={'Description': 'strBIADecisionDesc'}).drop('Code', axis=1)\\\n",
    "                        .merge(bia_decision_type, how='left', left_on='strBIADecisionType', right_on='Code')\\\n",
    "                        .rename(columns={'Description': 'strBIADecisionTypeDesc'}).drop('Code', axis=1)\n",
    "print(tblAppeal_df.info()) \n",
    "tblAppeal_df.sample(10).T"
   ]
  },
  {
   "cell_type": "code",
   "execution_count": 8,
   "metadata": {
    "collapsed": false
   },
   "outputs": [
    {
     "name": "stdout",
     "output_type": "stream",
     "text": [
      "DIS    212374\n",
      "REM    108917\n",
      "DEN     97799\n",
      "SAF     59244\n",
      "D30     47006\n",
      "WDL     28587\n",
      "DVD     28381\n",
      "SAV     27481\n",
      "OTH     19796\n",
      "GRN     17526\n",
      "TPS     16235\n",
      "NJU     15166\n",
      "SUS     14421\n",
      "TER      9831\n",
      "SUD      9468\n",
      "BCR      8522\n",
      "DSO      5987\n",
      "CON      5695\n",
      "DUT      5160\n",
      "MBD      3302\n",
      "DED      2107\n",
      "GNR      1850\n",
      "CPG      1704\n",
      "ABC      1606\n",
      "REJ      1319\n",
      "APD      1170\n",
      "SED      1072\n",
      "SND       723\n",
      "SAD       523\n",
      "GRS       431\n",
      "DNS       421\n",
      "ADM       355\n",
      "OTS       260\n",
      "DMO       238\n",
      "CPC        90\n",
      "MB         88\n",
      "SNC        82\n",
      "SOD        60\n",
      "AFD        54\n",
      "RET        52\n",
      "ADR        45\n",
      "ADD        18\n",
      "TPD        16\n",
      "CGR        16\n",
      "REV        13\n",
      "WPD         5\n",
      "SUP         4\n",
      "            2\n",
      "Name: strBIADecision, dtype: int64\n",
      "<class 'pandas.core.frame.DataFrame'>\n",
      "Int64Index: 0 entries\n",
      "Data columns (total 24 columns):\n",
      "idnAppeal                 0 non-null int64\n",
      "idncase                   0 non-null int64\n",
      "idnProceeding             0 non-null int64\n",
      "strAppealCategory         0 non-null object\n",
      "strAppealType             0 non-null object\n",
      "datAppealFiled            0 non-null object\n",
      "strFiledBy                0 non-null object\n",
      "datAttorneyE27            0 non-null object\n",
      "datBIADecision            0 non-null object\n",
      "strBIADecision            0 non-null object\n",
      "strBIADecisionType        0 non-null object\n",
      "strCaseType               0 non-null object\n",
      "strLang                   0 non-null object\n",
      "strNat                    0 non-null object\n",
      "strProceedingIHP          0 non-null object\n",
      "strCustody                0 non-null object\n",
      "strProbono                0 non-null object\n",
      "datAppealFiled_dt         0 non-null datetime64[ns]\n",
      "datBIADecision_dt         0 non-null datetime64[ns]\n",
      "datAppealFiled_year       0 non-null float64\n",
      "strAppealCategoryDesc     0 non-null object\n",
      "strAppealTypeDesc         0 non-null object\n",
      "strBIADecisionDesc        0 non-null object\n",
      "strBIADecisionTypeDesc    0 non-null object\n",
      "dtypes: datetime64[ns](2), float64(1), int64(3), object(18)\n",
      "memory usage: 0.0+ bytes\n"
     ]
    }
   ],
   "source": [
    "# some strBIADecision don't have corresponding code translations; to remove \n",
    "print(tblAppeal_df[pd.isnull(tblAppeal_df['strBIADecisionDesc'])]['strBIADecision'].value_counts()) \n",
    "tblAppeal_df.dropna(subset=['strBIADecisionDesc'], inplace=True)\n",
    "tblAppeal_df.info()"
   ]
  },
  {
   "cell_type": "markdown",
   "metadata": {},
   "source": [
    "### Master Proceedings"
   ]
  },
  {
   "cell_type": "code",
   "execution_count": 9,
   "metadata": {
    "collapsed": false
   },
   "outputs": [
    {
     "name": "stderr",
     "output_type": "stream",
     "text": [
      "/Users/snuffles753/anaconda/envs/py3k/lib/python3.6/site-packages/IPython/core/interactiveshell.py:2717: DtypeWarning: Columns (4) have mixed types. Specify dtype option on import or set low_memory=False.\n",
      "  interactivity=interactivity, compiler=compiler, result=result)\n"
     ]
    },
    {
     "name": "stdout",
     "output_type": "stream",
     "text": [
      "<class 'pandas.core.frame.DataFrame'>\n",
      "RangeIndex: 6084437 entries, 0 to 6084436\n",
      "Data columns (total 16 columns):\n",
      "idncase             float64\n",
      "nat                 object\n",
      "case_type           object\n",
      "c_asy_type          object\n",
      "idnproceeding       object\n",
      "base_city_code      object\n",
      "hearing_loc_code    object\n",
      "dec_type            object\n",
      "dec_code            object\n",
      "other_comp          object\n",
      "osc_date            object\n",
      "input_date          object\n",
      "comp_date           object\n",
      "attorney_flag       float64\n",
      "ij_code             object\n",
      "tracid              float64\n",
      "dtypes: float64(3), object(13)\n",
      "memory usage: 742.7+ MB\n",
      "None\n"
     ]
    },
    {
     "data": {
      "text/html": [
       "<div>\n",
       "<style>\n",
       "    .dataframe thead tr:only-child th {\n",
       "        text-align: right;\n",
       "    }\n",
       "\n",
       "    .dataframe thead th {\n",
       "        text-align: left;\n",
       "    }\n",
       "\n",
       "    .dataframe tbody tr th {\n",
       "        vertical-align: top;\n",
       "    }\n",
       "</style>\n",
       "<table border=\"1\" class=\"dataframe\">\n",
       "  <thead>\n",
       "    <tr style=\"text-align: right;\">\n",
       "      <th></th>\n",
       "      <th>idncase</th>\n",
       "      <th>nat</th>\n",
       "      <th>case_type</th>\n",
       "      <th>c_asy_type</th>\n",
       "      <th>idnproceeding</th>\n",
       "      <th>base_city_code</th>\n",
       "      <th>hearing_loc_code</th>\n",
       "      <th>dec_type</th>\n",
       "      <th>dec_code</th>\n",
       "      <th>other_comp</th>\n",
       "      <th>osc_date</th>\n",
       "      <th>input_date</th>\n",
       "      <th>comp_date</th>\n",
       "      <th>attorney_flag</th>\n",
       "      <th>ij_code</th>\n",
       "      <th>tracid</th>\n",
       "    </tr>\n",
       "  </thead>\n",
       "  <tbody>\n",
       "    <tr>\n",
       "      <th>3630089</th>\n",
       "      <td>5191154.0</td>\n",
       "      <td>HO</td>\n",
       "      <td>RMV</td>\n",
       "      <td>NaN</td>\n",
       "      <td>3534609</td>\n",
       "      <td>HOU</td>\n",
       "      <td>HOU</td>\n",
       "      <td>W</td>\n",
       "      <td>X</td>\n",
       "      <td>NaN</td>\n",
       "      <td>10APR2005</td>\n",
       "      <td>22APR2005</td>\n",
       "      <td>09JUN2005</td>\n",
       "      <td>NaN</td>\n",
       "      <td>WKZ</td>\n",
       "      <td>71.0</td>\n",
       "    </tr>\n",
       "    <tr>\n",
       "      <th>2901931</th>\n",
       "      <td>4273828.0</td>\n",
       "      <td>CH</td>\n",
       "      <td>RMV</td>\n",
       "      <td>E</td>\n",
       "      <td>2807588</td>\n",
       "      <td>SFR</td>\n",
       "      <td>SFX</td>\n",
       "      <td>NaN</td>\n",
       "      <td>NaN</td>\n",
       "      <td>C</td>\n",
       "      <td>24SEP2002</td>\n",
       "      <td>05DEC2002</td>\n",
       "      <td>30DEC2002</td>\n",
       "      <td>1.0</td>\n",
       "      <td>PG</td>\n",
       "      <td>264.0</td>\n",
       "    </tr>\n",
       "    <tr>\n",
       "      <th>2148894</th>\n",
       "      <td>3723623.0</td>\n",
       "      <td>PL</td>\n",
       "      <td>RMV</td>\n",
       "      <td>I</td>\n",
       "      <td>2086317</td>\n",
       "      <td>NYC</td>\n",
       "      <td>NYC</td>\n",
       "      <td>O</td>\n",
       "      <td>X</td>\n",
       "      <td>NaN</td>\n",
       "      <td>19APR1999</td>\n",
       "      <td>27APR1999</td>\n",
       "      <td>04JAN2000</td>\n",
       "      <td>1.0</td>\n",
       "      <td>BAN</td>\n",
       "      <td>152.0</td>\n",
       "    </tr>\n",
       "    <tr>\n",
       "      <th>355091</th>\n",
       "      <td>2324279.0</td>\n",
       "      <td>JM</td>\n",
       "      <td>EXC</td>\n",
       "      <td>NaN</td>\n",
       "      <td>466852</td>\n",
       "      <td>OAK</td>\n",
       "      <td>BOP</td>\n",
       "      <td>O</td>\n",
       "      <td>T</td>\n",
       "      <td>NaN</td>\n",
       "      <td>25NOV1996</td>\n",
       "      <td>19DEC1996</td>\n",
       "      <td>10FEB1997</td>\n",
       "      <td>NaN</td>\n",
       "      <td>SHK</td>\n",
       "      <td>48.0</td>\n",
       "    </tr>\n",
       "    <tr>\n",
       "      <th>554111</th>\n",
       "      <td>2479829.0</td>\n",
       "      <td>AF</td>\n",
       "      <td>EXC</td>\n",
       "      <td>E</td>\n",
       "      <td>662810</td>\n",
       "      <td>LOS</td>\n",
       "      <td>LOS</td>\n",
       "      <td>O</td>\n",
       "      <td>O</td>\n",
       "      <td>NaN</td>\n",
       "      <td>09JAN1990</td>\n",
       "      <td>16JAN1990</td>\n",
       "      <td>16MAR1990</td>\n",
       "      <td>1.0</td>\n",
       "      <td>LRM</td>\n",
       "      <td>NaN</td>\n",
       "    </tr>\n",
       "  </tbody>\n",
       "</table>\n",
       "</div>"
      ],
      "text/plain": [
       "           idncase nat case_type c_asy_type idnproceeding base_city_code  \\\n",
       "3630089  5191154.0  HO       RMV        NaN       3534609            HOU   \n",
       "2901931  4273828.0  CH       RMV          E       2807588            SFR   \n",
       "2148894  3723623.0  PL       RMV          I       2086317            NYC   \n",
       "355091   2324279.0  JM       EXC        NaN        466852            OAK   \n",
       "554111   2479829.0  AF       EXC          E        662810            LOS   \n",
       "\n",
       "        hearing_loc_code dec_type dec_code other_comp   osc_date input_date  \\\n",
       "3630089              HOU        W        X        NaN  10APR2005  22APR2005   \n",
       "2901931              SFX      NaN      NaN          C  24SEP2002  05DEC2002   \n",
       "2148894              NYC        O        X        NaN  19APR1999  27APR1999   \n",
       "355091               BOP        O        T        NaN  25NOV1996  19DEC1996   \n",
       "554111               LOS        O        O        NaN  09JAN1990  16JAN1990   \n",
       "\n",
       "         comp_date  attorney_flag ij_code  tracid  \n",
       "3630089  09JUN2005            NaN     WKZ    71.0  \n",
       "2901931  30DEC2002            1.0      PG   264.0  \n",
       "2148894  04JAN2000            1.0     BAN   152.0  \n",
       "355091   10FEB1997            NaN     SHK    48.0  \n",
       "554111   16MAR1990            1.0     LRM     NaN  "
      ]
     },
     "execution_count": 9,
     "metadata": {},
     "output_type": "execute_result"
    }
   ],
   "source": [
    "master = pd.read_csv(os.path.join(DATAFOLDER, 'raw/master.csv')) \n",
    "print(master.info())\n",
    "master.sample(5)"
   ]
  },
  {
   "cell_type": "code",
   "execution_count": 10,
   "metadata": {
    "collapsed": false
   },
   "outputs": [
    {
     "data": {
      "text/plain": [
       "idncase                  14\n",
       "nat                   16775\n",
       "case_type                15\n",
       "c_asy_type          4449366\n",
       "idnproceeding             0\n",
       "base_city_code           24\n",
       "hearing_loc_code       1516\n",
       "dec_type            1519549\n",
       "dec_code            1674748\n",
       "other_comp          4744870\n",
       "osc_date              33353\n",
       "input_date            29744\n",
       "comp_date            335076\n",
       "attorney_flag       3044591\n",
       "ij_code               39598\n",
       "tracid               341914\n",
       "dtype: int64"
      ]
     },
     "execution_count": 10,
     "metadata": {},
     "output_type": "execute_result"
    }
   ],
   "source": [
    "# check missing data \n",
    "master.isnull().sum()"
   ]
  },
  {
   "cell_type": "code",
   "execution_count": 11,
   "metadata": {
    "collapsed": true
   },
   "outputs": [],
   "source": [
    "# look up tables \n",
    "master_case_type = pd.read_csv(os.path.join(DATAFOLDER, 'raw/master_case_type.csv'))\n",
    "master_decision_type = pd.read_csv(os.path.join(DATAFOLDER, 'raw/master_decision_type.csv'))\n",
    "master_decision_on_proceeding = pd.read_csv(os.path.join(DATAFOLDER, 'raw/master_decision_on_proceeding.csv'), \n",
    "                                            skipfooter=2, engine='python')\n",
    "master_decision_on_proceeding.drop(['Unnamed: 4', 'Unnamed: 5', 'Unnamed: 6'], axis=1, inplace=True)"
   ]
  },
  {
   "cell_type": "code",
   "execution_count": 12,
   "metadata": {
    "collapsed": true
   },
   "outputs": [],
   "source": [
    "# add column to indicate whether decision was listed in dec_code or other_comp \n",
    "master['dec_col'] = np.where(pd.notnull(master['dec_code']), 'C', 'O') \n",
    "master['dec_judge'] = np.where(pd.notnull(master['dec_code']), master['dec_code'], master['other_comp']) "
   ]
  },
  {
   "cell_type": "code",
   "execution_count": 13,
   "metadata": {
    "collapsed": false
   },
   "outputs": [
    {
     "data": {
      "text/html": [
       "<div>\n",
       "<style>\n",
       "    .dataframe thead tr:only-child th {\n",
       "        text-align: right;\n",
       "    }\n",
       "\n",
       "    .dataframe thead th {\n",
       "        text-align: left;\n",
       "    }\n",
       "\n",
       "    .dataframe tbody tr th {\n",
       "        vertical-align: top;\n",
       "    }\n",
       "</style>\n",
       "<table border=\"1\" class=\"dataframe\">\n",
       "  <thead>\n",
       "    <tr style=\"text-align: right;\">\n",
       "      <th></th>\n",
       "      <th>idncase</th>\n",
       "      <th>nat</th>\n",
       "      <th>case_type</th>\n",
       "      <th>c_asy_type</th>\n",
       "      <th>idnproceeding</th>\n",
       "      <th>base_city_code</th>\n",
       "      <th>hearing_loc_code</th>\n",
       "      <th>dec_type</th>\n",
       "      <th>dec_code</th>\n",
       "      <th>other_comp</th>\n",
       "      <th>...</th>\n",
       "      <th>input_date</th>\n",
       "      <th>comp_date</th>\n",
       "      <th>attorney_flag</th>\n",
       "      <th>ij_code</th>\n",
       "      <th>tracid</th>\n",
       "      <th>dec_col</th>\n",
       "      <th>dec_judge</th>\n",
       "      <th>dec_type_str</th>\n",
       "      <th>case_type_str</th>\n",
       "      <th>dec_code_str</th>\n",
       "    </tr>\n",
       "  </thead>\n",
       "  <tbody>\n",
       "    <tr>\n",
       "      <th>5932077</th>\n",
       "      <td>7094963.0</td>\n",
       "      <td>HO</td>\n",
       "      <td>RMV</td>\n",
       "      <td>NaN</td>\n",
       "      <td>6145003</td>\n",
       "      <td>WAS</td>\n",
       "      <td>WAS</td>\n",
       "      <td>NaN</td>\n",
       "      <td>NaN</td>\n",
       "      <td>NaN</td>\n",
       "      <td>...</td>\n",
       "      <td>18APR2013</td>\n",
       "      <td>NaN</td>\n",
       "      <td>NaN</td>\n",
       "      <td>WI</td>\n",
       "      <td>3.0</td>\n",
       "      <td>O</td>\n",
       "      <td>NaN</td>\n",
       "      <td>NaN</td>\n",
       "      <td>Removal</td>\n",
       "      <td>NaN</td>\n",
       "    </tr>\n",
       "    <tr>\n",
       "      <th>970008</th>\n",
       "      <td>2785538.0</td>\n",
       "      <td>RP</td>\n",
       "      <td>DEP</td>\n",
       "      <td>NaN</td>\n",
       "      <td>1069379</td>\n",
       "      <td>LOS</td>\n",
       "      <td>LOS</td>\n",
       "      <td>O</td>\n",
       "      <td>D</td>\n",
       "      <td>NaN</td>\n",
       "      <td>...</td>\n",
       "      <td>19MAR1993</td>\n",
       "      <td>25JUL1994</td>\n",
       "      <td>1.0</td>\n",
       "      <td>TF</td>\n",
       "      <td>91.0</td>\n",
       "      <td>C</td>\n",
       "      <td>D</td>\n",
       "      <td>oral decision</td>\n",
       "      <td>Deportation</td>\n",
       "      <td>Deport</td>\n",
       "    </tr>\n",
       "    <tr>\n",
       "      <th>1647366</th>\n",
       "      <td>3318726.0</td>\n",
       "      <td>CH</td>\n",
       "      <td>RMV</td>\n",
       "      <td>I</td>\n",
       "      <td>12164</td>\n",
       "      <td>NYC</td>\n",
       "      <td>NYC</td>\n",
       "      <td>W</td>\n",
       "      <td>X</td>\n",
       "      <td>NaN</td>\n",
       "      <td>...</td>\n",
       "      <td>22SEP1998</td>\n",
       "      <td>19MAY1999</td>\n",
       "      <td>1.0</td>\n",
       "      <td>SH</td>\n",
       "      <td>146.0</td>\n",
       "      <td>C</td>\n",
       "      <td>X</td>\n",
       "      <td>written decision</td>\n",
       "      <td>Removal</td>\n",
       "      <td>Remove</td>\n",
       "    </tr>\n",
       "    <tr>\n",
       "      <th>1016698</th>\n",
       "      <td>2821450.0</td>\n",
       "      <td>MX</td>\n",
       "      <td>RMV</td>\n",
       "      <td>NaN</td>\n",
       "      <td>1114095</td>\n",
       "      <td>SFR</td>\n",
       "      <td>SFR</td>\n",
       "      <td>O</td>\n",
       "      <td>X</td>\n",
       "      <td>NaN</td>\n",
       "      <td>...</td>\n",
       "      <td>13DEC2002</td>\n",
       "      <td>10MAR2004</td>\n",
       "      <td>1.0</td>\n",
       "      <td>PAW</td>\n",
       "      <td>206.0</td>\n",
       "      <td>C</td>\n",
       "      <td>X</td>\n",
       "      <td>oral decision</td>\n",
       "      <td>Removal</td>\n",
       "      <td>Remove</td>\n",
       "    </tr>\n",
       "    <tr>\n",
       "      <th>5954348</th>\n",
       "      <td>7112129.0</td>\n",
       "      <td>MX</td>\n",
       "      <td>RMV</td>\n",
       "      <td>NaN</td>\n",
       "      <td>6024410</td>\n",
       "      <td>DAL</td>\n",
       "      <td>OKT</td>\n",
       "      <td>O</td>\n",
       "      <td>X</td>\n",
       "      <td>NaN</td>\n",
       "      <td>...</td>\n",
       "      <td>19NOV2012</td>\n",
       "      <td>04FEB2013</td>\n",
       "      <td>1.0</td>\n",
       "      <td>RWK</td>\n",
       "      <td>401.0</td>\n",
       "      <td>C</td>\n",
       "      <td>X</td>\n",
       "      <td>oral decision</td>\n",
       "      <td>Removal</td>\n",
       "      <td>Remove</td>\n",
       "    </tr>\n",
       "  </tbody>\n",
       "</table>\n",
       "<p>5 rows × 21 columns</p>\n",
       "</div>"
      ],
      "text/plain": [
       "           idncase nat case_type c_asy_type idnproceeding base_city_code  \\\n",
       "5932077  7094963.0  HO       RMV        NaN       6145003            WAS   \n",
       "970008   2785538.0  RP       DEP        NaN       1069379            LOS   \n",
       "1647366  3318726.0  CH       RMV          I         12164            NYC   \n",
       "1016698  2821450.0  MX       RMV        NaN       1114095            SFR   \n",
       "5954348  7112129.0  MX       RMV        NaN       6024410            DAL   \n",
       "\n",
       "        hearing_loc_code dec_type dec_code other_comp     ...      input_date  \\\n",
       "5932077              WAS      NaN      NaN        NaN     ...       18APR2013   \n",
       "970008               LOS        O        D        NaN     ...       19MAR1993   \n",
       "1647366              NYC        W        X        NaN     ...       22SEP1998   \n",
       "1016698              SFR        O        X        NaN     ...       13DEC2002   \n",
       "5954348              OKT        O        X        NaN     ...       19NOV2012   \n",
       "\n",
       "         comp_date attorney_flag  ij_code tracid  dec_col dec_judge  \\\n",
       "5932077        NaN           NaN       WI    3.0        O       NaN   \n",
       "970008   25JUL1994           1.0       TF   91.0        C         D   \n",
       "1647366  19MAY1999           1.0       SH  146.0        C         X   \n",
       "1016698  10MAR2004           1.0      PAW  206.0        C         X   \n",
       "5954348  04FEB2013           1.0      RWK  401.0        C         X   \n",
       "\n",
       "             dec_type_str case_type_str dec_code_str  \n",
       "5932077               NaN       Removal          NaN  \n",
       "970008      oral decision   Deportation       Deport  \n",
       "1647366  written decision       Removal       Remove  \n",
       "1016698     oral decision       Removal       Remove  \n",
       "5954348     oral decision       Removal       Remove  \n",
       "\n",
       "[5 rows x 21 columns]"
      ]
     },
     "execution_count": 13,
     "metadata": {},
     "output_type": "execute_result"
    }
   ],
   "source": [
    "# join to look up tables\n",
    "master_df = master.merge(master_decision_type, how='left', left_on='dec_type', right_on='strCode')\\\n",
    "                  .rename(columns={'strDescription': 'dec_type_str'}).drop('strCode', axis=1)\\\n",
    "                  .merge(master_case_type, how='left', left_on='case_type', right_on='strCode')\\\n",
    "                  .rename(columns={'strDescription': 'case_type_str'}).drop('strCode', axis=1)\\\n",
    "                  .merge(master_decision_on_proceeding, how='left', left_on=['case_type', 'dec_judge', 'dec_col'], \n",
    "                         right_on=['strCaseType', 'strDecCode', 'strDecType'])\\\n",
    "                  .rename(columns={'strDecDescription': 'dec_code_str'}).drop(['strCaseType', 'strDecCode', 'strDecType'], axis=1)\n",
    "master_df.sample(5)"
   ]
  },
  {
   "cell_type": "markdown",
   "metadata": {},
   "source": [
    "### Master Proceedings (processed data from Daniel Chen)"
   ]
  },
  {
   "cell_type": "code",
   "execution_count": null,
   "metadata": {
    "collapsed": false
   },
   "outputs": [],
   "source": [
    "import sys\n",
    "\n",
    "reader = pd.read_stata(os.path.join(DATAFOLDER,'decision_sched_merge_adjdate.dta'), iterator=True)\n",
    "df = pd.DataFrame()\n",
    "chunk_size = 100*1000\n",
    "try:\n",
    "    chunk = reader.get_chunk(chunk_size)\n",
    "    with open(os.path.join(DATAFOLDER,'decision_sched_merge_adjdate.csv'), 'a') as f:\n",
    "        first = True\n",
    "        while len(chunk) > 0:\n",
    "            if first:\n",
    "                chunk.to_csv(f, header=True)\n",
    "                first = False\n",
    "            else:\n",
    "                chunk.to_csv(f, header=False)\n",
    "#             df = df.append(chunk, ignore_index=True)\n",
    "            chunk = reader.get_chunk(chunk_size)\n",
    "            print('.')\n",
    "            sys.stdout.flush()\n",
    "except (StopIteration, KeyboardInterrupt):\n",
    "    pass\n",
    "\n",
    "master_dchen.info()"
   ]
  },
  {
   "cell_type": "code",
   "execution_count": null,
   "metadata": {
    "collapsed": false
   },
   "outputs": [],
   "source": [
    "master_dchen = pd.read_csv(os.path.join(DATAFOLDER,'decision_sched_merge_adjdate.csv'), \n",
    "                           low_memory=False) \n",
    "master_dchen.info()"
   ]
  },
  {
   "cell_type": "code",
   "execution_count": null,
   "metadata": {
    "collapsed": false
   },
   "outputs": [],
   "source": [
    "# check for nulls \n",
    "master_dchen.isnull().sum()"
   ]
  },
  {
   "cell_type": "code",
   "execution_count": null,
   "metadata": {
    "collapsed": false
   },
   "outputs": [],
   "source": [
    "master_dchen.sample(3).T"
   ]
  },
  {
   "cell_type": "code",
   "execution_count": null,
   "metadata": {
    "collapsed": true
   },
   "outputs": [],
   "source": [
    "# add column to indicate whether decision was listed in dec_code or other_comp \n",
    "master_dchen['dec_col'] = np.where(pd.notnull(master_dchen['dec_code']), 'C', 'O') \n",
    "master_dchen['dec_judge'] = np.where(pd.notnull(master_dchen['dec_code']), master_dchen['dec_code'], master_dchen['other_comp']) "
   ]
  },
  {
   "cell_type": "code",
   "execution_count": null,
   "metadata": {
    "collapsed": false
   },
   "outputs": [],
   "source": [
    "# join to look up tables\n",
    "master_dchen_df = master_dchen.merge(master_decision_type, how='left', left_on='dec_type', right_on='strCode')\\\n",
    "                              .rename(columns={'strDescription': 'dec_type_str'}).drop('strCode', axis=1)\\\n",
    "                              .merge(master_case_type, how='left', left_on='case_type', right_on='strCode')\\\n",
    "                              .rename(columns={'strDescription': 'case_type_str'}).drop('strCode', axis=1)\\\n",
    "                              .merge(master_decision_on_proceeding, how='left', \n",
    "                                     left_on=['case_type', 'dec_judge', 'dec_col'], \n",
    "                                     right_on=['strCaseType', 'strDecCode', 'strDecType'])\\\n",
    "                              .rename(columns={'strDecDescription': 'dec_code_str'}).drop(['strCaseType', 'strDecCode', 'strDecType'], axis=1)\n",
    "master_dchen_df.sample(3).T"
   ]
  },
  {
   "cell_type": "markdown",
   "metadata": {},
   "source": [
    "### Master Proceedings (processed by Sagent/Dunn)"
   ]
  },
  {
   "cell_type": "code",
   "execution_count": null,
   "metadata": {
    "collapsed": false
   },
   "outputs": [],
   "source": [
    "master_dunn = pd.read_csv(os.path.join(DATAFOLDER, \n",
    "                                       'AsylumAdj/data_for_model/_decision_scheduling_merge_final_converted.csv'), \n",
    "                          encoding='latin-1', low_memory=False) # gets UnicodeDecodeError otherwise \n",
    "master_dunn.info()"
   ]
  },
  {
   "cell_type": "code",
   "execution_count": null,
   "metadata": {
    "collapsed": false
   },
   "outputs": [],
   "source": [
    "# dunn has far fewer proceedings than the original \n",
    "print \"Original master has {} data points, Dunn's has {}\".format(len(master_dunn), len(master))"
   ]
  },
  {
   "cell_type": "code",
   "execution_count": null,
   "metadata": {
    "collapsed": false
   },
   "outputs": [],
   "source": [
    "print master_dchen.columns.tolist()"
   ]
  },
  {
   "cell_type": "code",
   "execution_count": null,
   "metadata": {
    "collapsed": false
   },
   "outputs": [],
   "source": [
    "master_dchen['asylum_only_proceeding'].value_counts()"
   ]
  },
  {
   "cell_type": "code",
   "execution_count": null,
   "metadata": {
    "collapsed": false
   },
   "outputs": [],
   "source": [
    "master_dunn['case_type_string'].value_counts()"
   ]
  },
  {
   "cell_type": "code",
   "execution_count": null,
   "metadata": {
    "collapsed": false
   },
   "outputs": [],
   "source": [
    "master_dunn['asylum'].value_counts()"
   ]
  },
  {
   "cell_type": "code",
   "execution_count": null,
   "metadata": {
    "collapsed": false
   },
   "outputs": [],
   "source": [
    "# determine what % of master proceedings that Dunn retained \n",
    "master_dunn_pairs = master_dunn[['idncase', 'idnproceeding']].copy()\n",
    "master_dunn_pairs['in_dunn'] = 1 \n",
    "master_dunn_delta = master_df[['idncase', 'idnproceeding', 'case_type_str']].merge(master_dunn_pairs, how='left', \n",
    "                                                                                   on=['idncase', 'idnproceeding']) \n",
    "master_dunn_delta['in_dunn'].fillna(0, inplace=True)\n",
    "master_dunn_delta.groupby(['case_type_str'])['in_dunn'].agg(['size', np.mean])"
   ]
  },
  {
   "cell_type": "markdown",
   "metadata": {},
   "source": [
    "# Determine scope of appeal case types"
   ]
  },
  {
   "cell_type": "code",
   "execution_count": null,
   "metadata": {
    "collapsed": false
   },
   "outputs": [],
   "source": [
    "appeals_in_scope = tblAppeal_df.merge(master_dunn_pairs, how='left', \n",
    "                                      left_on=['idncase', 'idnProceeding'], right_on=['idncase', 'idnproceeding']) \n",
    "appeals_in_scope = appeals_in_scope.merge(master_dchen[['idncase', 'idnproceeding', 'case_type_string']], \n",
    "                                          how='left', left_on=['idncase', 'idnProceeding'], \n",
    "                                          right_on=['idncase', 'idnproceeding']) \n",
    "appeals_in_scope['in_dunn'].fillna(0, inplace=True)\n",
    "appeals_in_scope['case_type_string'].fillna('NOT_MATCHED_TO_MASTER', inplace=True)"
   ]
  },
  {
   "cell_type": "code",
   "execution_count": null,
   "metadata": {
    "collapsed": false
   },
   "outputs": [],
   "source": [
    "# distribution of appeal vs. proceeding types - all\n",
    "appeals_in_scope.groupby(['strAppealTypeDesc', 'case_type_string']).size().unstack().fillna(0) "
   ]
  },
  {
   "cell_type": "code",
   "execution_count": null,
   "metadata": {
    "collapsed": false
   },
   "outputs": [],
   "source": [
    "# distribution of appeal vs. proceeding types - what dunn included \n",
    "appeals_in_scope[appeals_in_scope['in_dunn'] == 1].groupby(['strAppealTypeDesc', 'case_type_string']).size().unstack().fillna(0) "
   ]
  },
  {
   "cell_type": "markdown",
   "metadata": {},
   "source": [
    "#### Final Criteria: appeal types in ['Appeal of IJ MTR', 'Case Appeal', 'Circuit Court Remand', 'Interlocutory Appeal', 'MTR BIA'] and is found in Dunn's "
   ]
  },
  {
   "cell_type": "code",
   "execution_count": null,
   "metadata": {
    "collapsed": false
   },
   "outputs": [],
   "source": [
    "# filter relevant appeal types \n",
    "selected_appeal_types = ['Appeal of IJ MTR', 'Case Appeal', 'Circuit Court Remand', 'Interlocutory Appeal', 'MTR BIA'] \n",
    "appeals_in_scope = appeals_in_scope[appeals_in_scope['strAppealTypeDesc'].isin(selected_appeal_types) & \n",
    "                                    appeals_in_scope['in_dunn'] == 1].copy() \n",
    "appeals_in_scope.info()"
   ]
  },
  {
   "cell_type": "markdown",
   "metadata": {},
   "source": [
    "# Assign Labels "
   ]
  },
  {
   "cell_type": "code",
   "execution_count": null,
   "metadata": {
    "collapsed": false
   },
   "outputs": [],
   "source": [
    "# many different labels \n",
    "appeals_in_scope.groupby(['strBIADecisionDesc', 'strAppealTypeDesc']).size().unstack().fillna(0)"
   ]
  },
  {
   "cell_type": "code",
   "execution_count": null,
   "metadata": {
    "collapsed": false
   },
   "outputs": [],
   "source": [
    "# assign positive and negative labels\n",
    "granted_decisions = ['Background Check Remand', 'Grant With No Remand', 'Granted', 'Remand', \n",
    "                     'Sustain', 'Temporary Protected Status']\n",
    "denied_decisions = ['Denied', \"Dismiss Appeal/Affirm IJ's Decision\", 'Dismissed (Grant V/D 30 days)', \n",
    "                    'Dismissed (Voluntary Departure Granted)', 'Rejection', 'SUMMARY AFFIRMANCE/VD', \n",
    "                    'Summary Affirmance', 'Summary Dismiss', 'Summary Dismissal (O) Other', \n",
    "                    'Summary Dismissal (a) inad reason on appeal', 'Summary Dismissal - Both (a) & (e)']\n",
    "appeals_in_scope['granted'] = np.where(appeals_in_scope['strBIADecisionDesc'].isin(granted_decisions), 1, \n",
    "                                       np.where(appeals_in_scope['strBIADecisionDesc'].isin(denied_decisions), 0, None))\n",
    "\n",
    "# drop neutral labels where appeals were dismissed due to administrative/procedural failures \n",
    "appeals_in_scope.dropna(subset=['granted'], inplace=True)\n",
    "appeals_in_scope['granted'] = appeals_in_scope['granted'].astype(int)\n",
    "appeals_in_scope.info()"
   ]
  },
  {
   "cell_type": "markdown",
   "metadata": {},
   "source": [
    "# Dedup for unique (idncase, idnproceeding)"
   ]
  },
  {
   "cell_type": "markdown",
   "metadata": {},
   "source": [
    "~24% of remaining proceedings have multiple appeals "
   ]
  },
  {
   "cell_type": "code",
   "execution_count": null,
   "metadata": {
    "collapsed": false
   },
   "outputs": [],
   "source": [
    "appeals_per_proceeding = appeals_in_scope.groupby(['idnProceeding'])['idnAppeal'].nunique()\n",
    "appeals_per_proceeding.value_counts(normalize=True)"
   ]
  },
  {
   "cell_type": "markdown",
   "metadata": {},
   "source": [
    "Most multiple appeals seem to involve 'MTR' after initial 'Case Appeal'. Should we use the last instance of 'MTR' as the final decision?"
   ]
  },
  {
   "cell_type": "code",
   "execution_count": null,
   "metadata": {
    "collapsed": false
   },
   "outputs": [],
   "source": [
    "# examples of proceedings with multiple appeals \n",
    "sample_index = random.sample(appeals_per_proceeding[appeals_per_proceeding > 1].index, 1)\n",
    "tblAppeal_df[tblAppeal_df['idnProceeding'].isin(sample_index)].T "
   ]
  },
  {
   "cell_type": "code",
   "execution_count": null,
   "metadata": {
    "collapsed": false
   },
   "outputs": [],
   "source": [
    "# check original proceedings for a given case \n",
    "master_dchen_df[master_dchen_df['idncase'] == 2241734].T"
   ]
  },
  {
   "cell_type": "markdown",
   "metadata": {},
   "source": [
    "~2% of cases have multiple proceedings "
   ]
  },
  {
   "cell_type": "code",
   "execution_count": null,
   "metadata": {
    "collapsed": false
   },
   "outputs": [],
   "source": [
    "proceedings_per_case = appeals_in_scope.groupby(['idncase'])['idnProceeding'].nunique()\n",
    "proceedings_per_case.value_counts(normalize=True)"
   ]
  },
  {
   "cell_type": "code",
   "execution_count": null,
   "metadata": {
    "collapsed": false
   },
   "outputs": [],
   "source": [
    "# examples of cases with multiple proceedings \n",
    "sample_index = random.sample(proceedings_per_case[proceedings_per_case > 1].index, 1)\n",
    "appeals_in_scope[appeals_in_scope['idncase'].isin(sample_index)].sort_values(by='datAppealFiled_dt').T "
   ]
  },
  {
   "cell_type": "code",
   "execution_count": null,
   "metadata": {
    "collapsed": false
   },
   "outputs": [],
   "source": [
    "# check original proceedings for a given case \n",
    "master_df[master_df['idncase'] == 5612569].T"
   ]
  },
  {
   "cell_type": "markdown",
   "metadata": {},
   "source": [
    "** For each unique (case,proceeding) pairs with more than 1 appeal, pick the last appeal and dedup the rest ** "
   ]
  },
  {
   "cell_type": "code",
   "execution_count": null,
   "metadata": {
    "collapsed": false
   },
   "outputs": [],
   "source": [
    "appeals_deduped = appeals_in_scope.sort_values(by=['idncase', 'idnProceeding', 'datBIADecision_dt'], \n",
    "                                               ascending=[True, True, False])\n",
    "appeals_deduped.drop_duplicates(subset=['idncase', 'idnProceeding'], keep='first', inplace=True)\n",
    "appeals_deduped.info()"
   ]
  },
  {
   "cell_type": "markdown",
   "metadata": {},
   "source": [
    "**31% of appeals were granted**"
   ]
  },
  {
   "cell_type": "code",
   "execution_count": null,
   "metadata": {
    "collapsed": false
   },
   "outputs": [],
   "source": [
    "# check % granted in final dataset \n",
    "appeals_deduped['granted'].value_counts()"
   ]
  },
  {
   "cell_type": "markdown",
   "metadata": {
    "collapsed": true
   },
   "source": [
    "# Merge Datasets"
   ]
  },
  {
   "cell_type": "markdown",
   "metadata": {},
   "source": [
    "#### Add variables from master-chen"
   ]
  },
  {
   "cell_type": "code",
   "execution_count": null,
   "metadata": {
    "collapsed": false
   },
   "outputs": [],
   "source": [
    "# variables in processed data by Prof. Chen\n",
    "print(master_dchen.columns.tolist())"
   ]
  },
  {
   "cell_type": "code",
   "execution_count": null,
   "metadata": {
    "collapsed": false
   },
   "outputs": [],
   "source": [
    "master_dchen.groupby(['grantordeny_chicago']).size()"
   ]
  },
  {
   "cell_type": "code",
   "execution_count": null,
   "metadata": {
    "collapsed": false
   },
   "outputs": [],
   "source": [
    "master_dchen.isnull().sum()"
   ]
  },
  {
   "cell_type": "code",
   "execution_count": null,
   "metadata": {
    "collapsed": false
   },
   "outputs": [],
   "source": [
    "master_dchen.sample(4).T"
   ]
  },
  {
   "cell_type": "code",
   "execution_count": null,
   "metadata": {
    "collapsed": true
   },
   "outputs": [],
   "source": [
    "dchen_selected_features = ['idncase', 'idnproceeding', 'nat_string', 'ij_code', 'attorney_flag',\n",
    "                           'lawyer', 'defensive', 'affirmative', \n",
    "                           'oral', 'written', 'base_city_code', 'base_city_state', \n",
    "                           'hearing_loc_city', 'hearing_loc_code', 'hearing_loc_state', 'venue_change', \n",
    "                           'comp_year', 'comp_month', 'comp_day', \n",
    "                           'osc_year', 'osc_month', 'osc_day', 'input_year', 'input_month', 'input_day',\n",
    "                           'adj_time_start', 'flag_earlystarttime', \n",
    "                           'flag_mismatch_base_city', 'flag_mismatch_hearing', 'flag_datemismatch',\n",
    "                           'case_type_string', 'dec_type_string', 'dec_string', \n",
    "                           'deport', 'relief_granted', 'remove', 'terminated', 'voluntary_departure', \n",
    "                           'deport_form', 'voluntary_form', 'deportation_proceeding', \n",
    "                           'exclusion_proceeding', 'removal_proceeding', 'asylum_only_proceeding', \n",
    "                           'withholding_only_proceeding'] "
   ]
  },
  {
   "cell_type": "code",
   "execution_count": null,
   "metadata": {
    "collapsed": false
   },
   "outputs": [],
   "source": [
    "# merge with master proceedings \n",
    "appeals_with_master = appeals_deduped.merge(master_dchen[dchen_selected_features], how='left', \n",
    "                                            left_on=['idncase', 'idnProceeding'], right_on=['idncase', 'idnproceeding'])\\\n",
    "                                     .drop(['idnproceeding_y', 'case_type_string_y'], axis=1)\\\n",
    "                                     .rename(columns={'idnproceeding_x': 'idnproceeding', \n",
    "                                                      'case_type_string_x': 'case_type_string'})\n",
    "appeals_with_master.info()"
   ]
  },
  {
   "cell_type": "code",
   "execution_count": null,
   "metadata": {
    "collapsed": false
   },
   "outputs": [],
   "source": [
    "appeals_with_master.groupby(['case_type_string']).size()"
   ]
  },
  {
   "cell_type": "markdown",
   "metadata": {},
   "source": [
    "#### Add hearing sessions data"
   ]
  },
  {
   "cell_type": "code",
   "execution_count": null,
   "metadata": {
    "collapsed": true
   },
   "outputs": [],
   "source": [
    "# TODO"
   ]
  },
  {
   "cell_type": "markdown",
   "metadata": {},
   "source": [
    "#### Add judge bios data "
   ]
  },
  {
   "cell_type": "code",
   "execution_count": null,
   "metadata": {
    "collapsed": true
   },
   "outputs": [],
   "source": [
    "# TODO "
   ]
  },
  {
   "cell_type": "markdown",
   "metadata": {
    "collapsed": true
   },
   "source": [
    "#### Output dataset for model training"
   ]
  },
  {
   "cell_type": "code",
   "execution_count": null,
   "metadata": {
    "collapsed": true
   },
   "outputs": [],
   "source": [
    "# define features to output for training \n",
    "output_features = ['idnAppeal', 'nat_string', 'strCustody', 'strProbono', 'case_type_string',\n",
    "                   'ij_code', 'lawyer', 'defensive', 'affirmative', 'oral', 'written', \n",
    "                   'comp_year', 'osc_year', 'input_year', 'datAppealFiled_year', 'granted']\n",
    "appeals_final = appeals_with_master[output_features].copy()\n",
    "\n",
    "# define mandatory features, without which data will be dropped \n",
    "mandatory_features = ['idnAppeal', 'granted', 'datAppealFiled_year', 'case_type_string'] \n",
    "appeals_final.dropna(subset=mandatory_features, inplace=True)\n",
    "\n",
    "# generate output \n",
    "appeals_final.to_csv('data_for_model/data_for_model_2018-03-23.csv', index=False)"
   ]
  },
  {
   "cell_type": "code",
   "execution_count": null,
   "metadata": {
    "collapsed": true
   },
   "outputs": [],
   "source": []
  }
 ],
 "metadata": {
  "kernelspec": {
   "display_name": "Python 3",
   "language": "python",
   "name": "python3"
  },
  "language_info": {
   "codemirror_mode": {
    "name": "ipython",
    "version": 3
   },
   "file_extension": ".py",
   "mimetype": "text/x-python",
   "name": "python",
   "nbconvert_exporter": "python",
   "pygments_lexer": "ipython3",
   "version": "3.6.1"
  }
 },
 "nbformat": 4,
 "nbformat_minor": 1
}
