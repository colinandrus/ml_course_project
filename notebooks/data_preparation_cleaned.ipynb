{
 "cells": [
  {
   "cell_type": "code",
   "execution_count": 262,
   "metadata": {
    "collapsed": true
   },
   "outputs": [],
   "source": [
    "import numpy as np \n",
    "import pandas as pd \n",
    "import random\n",
    "import matplotlib.pyplot as plt \n",
    "import os\n",
    "import time\n",
    "pd.set_option('display.max_rows', 200)\n",
    "%matplotlib inline"
   ]
  },
  {
   "cell_type": "markdown",
   "metadata": {},
   "source": [
    "# Import Data "
   ]
  },
  {
   "cell_type": "code",
   "execution_count": 263,
   "metadata": {
    "collapsed": true
   },
   "outputs": [],
   "source": [
    "# define folder where data resides \n",
    "DATAFOLDER = \"~/Documents/data-science-coursework/nyu-ml/project/\""
   ]
  },
  {
   "cell_type": "markdown",
   "metadata": {},
   "source": [
    "### Appeals"
   ]
  },
  {
   "cell_type": "code",
   "execution_count": 264,
   "metadata": {
    "collapsed": false
   },
   "outputs": [
    {
     "name": "stdout",
     "output_type": "stream",
     "text": [
      "<class 'pandas.core.frame.DataFrame'>\n",
      "RangeIndex: 870388 entries, 0 to 870387\n",
      "Data columns (total 17 columns):\n",
      "idnAppeal             870388 non-null int64\n",
      "idncase               868758 non-null float64\n",
      "idnProceeding         776380 non-null float64\n",
      "strAppealCategory     870388 non-null object\n",
      "strAppealType         870388 non-null object\n",
      "datAppealFiled        870226 non-null object\n",
      "strFiledBy            870378 non-null object\n",
      "datAttorneyE27        521008 non-null object\n",
      "datBIADecision        847196 non-null object\n",
      "strBIADecision        847180 non-null object\n",
      "strBIADecisionType    822882 non-null object\n",
      "strCaseType           824855 non-null object\n",
      "strLang               773811 non-null object\n",
      "strNat                777004 non-null object\n",
      "strProceedingIHP      367364 non-null object\n",
      "strCustody            666356 non-null object\n",
      "strProbono            1880 non-null object\n",
      "dtypes: float64(2), int64(1), object(14)\n",
      "memory usage: 112.9+ MB\n",
      "None\n"
     ]
    },
    {
     "data": {
      "text/html": [
       "<div>\n",
       "<table border=\"1\" class=\"dataframe\">\n",
       "  <thead>\n",
       "    <tr style=\"text-align: right;\">\n",
       "      <th></th>\n",
       "      <th>idnAppeal</th>\n",
       "      <th>idncase</th>\n",
       "      <th>idnProceeding</th>\n",
       "      <th>strAppealCategory</th>\n",
       "      <th>strAppealType</th>\n",
       "      <th>datAppealFiled</th>\n",
       "      <th>strFiledBy</th>\n",
       "      <th>datAttorneyE27</th>\n",
       "      <th>datBIADecision</th>\n",
       "      <th>strBIADecision</th>\n",
       "      <th>strBIADecisionType</th>\n",
       "      <th>strCaseType</th>\n",
       "      <th>strLang</th>\n",
       "      <th>strNat</th>\n",
       "      <th>strProceedingIHP</th>\n",
       "      <th>strCustody</th>\n",
       "      <th>strProbono</th>\n",
       "    </tr>\n",
       "  </thead>\n",
       "  <tbody>\n",
       "    <tr>\n",
       "      <th>843508</th>\n",
       "      <td>5018477</td>\n",
       "      <td>6213470.0</td>\n",
       "      <td>4846677.0</td>\n",
       "      <td>IJ</td>\n",
       "      <td>Case Appeal</td>\n",
       "      <td>2013-05-23 00:00:00</td>\n",
       "      <td>A</td>\n",
       "      <td>NaN</td>\n",
       "      <td>NaN</td>\n",
       "      <td>NaN</td>\n",
       "      <td>NaN</td>\n",
       "      <td>RMV</td>\n",
       "      <td>SP</td>\n",
       "      <td>HO</td>\n",
       "      <td>NaN</td>\n",
       "      <td>N</td>\n",
       "      <td>NaN</td>\n",
       "    </tr>\n",
       "    <tr>\n",
       "      <th>691238</th>\n",
       "      <td>4864853</td>\n",
       "      <td>2581024.0</td>\n",
       "      <td>789100.0</td>\n",
       "      <td>IJ</td>\n",
       "      <td>MTR BIA</td>\n",
       "      <td>2009-05-04 00:00:00</td>\n",
       "      <td>A</td>\n",
       "      <td>2009-05-04 00:00:00</td>\n",
       "      <td>2009-06-24 00:00:00</td>\n",
       "      <td>DEN</td>\n",
       "      <td>R</td>\n",
       "      <td>DEP</td>\n",
       "      <td>SP</td>\n",
       "      <td>GT</td>\n",
       "      <td>NaN</td>\n",
       "      <td>D</td>\n",
       "      <td>NaN</td>\n",
       "    </tr>\n",
       "    <tr>\n",
       "      <th>263641</th>\n",
       "      <td>4422054</td>\n",
       "      <td>3716986.0</td>\n",
       "      <td>2078008.0</td>\n",
       "      <td>IJ</td>\n",
       "      <td>Case Appeal</td>\n",
       "      <td>1999-06-07 00:00:00</td>\n",
       "      <td>A</td>\n",
       "      <td>1999-06-07 00:00:00</td>\n",
       "      <td>2002-04-23 00:00:00</td>\n",
       "      <td>SAV</td>\n",
       "      <td>P</td>\n",
       "      <td>RMV</td>\n",
       "      <td>SP</td>\n",
       "      <td>GT</td>\n",
       "      <td></td>\n",
       "      <td>N</td>\n",
       "      <td>NaN</td>\n",
       "    </tr>\n",
       "  </tbody>\n",
       "</table>\n",
       "</div>"
      ],
      "text/plain": [
       "        idnAppeal    idncase  idnProceeding strAppealCategory strAppealType  \\\n",
       "843508    5018477  6213470.0      4846677.0                IJ   Case Appeal   \n",
       "691238    4864853  2581024.0       789100.0                IJ       MTR BIA   \n",
       "263641    4422054  3716986.0      2078008.0                IJ   Case Appeal   \n",
       "\n",
       "             datAppealFiled strFiledBy       datAttorneyE27  \\\n",
       "843508  2013-05-23 00:00:00          A                  NaN   \n",
       "691238  2009-05-04 00:00:00          A  2009-05-04 00:00:00   \n",
       "263641  1999-06-07 00:00:00          A  1999-06-07 00:00:00   \n",
       "\n",
       "             datBIADecision strBIADecision strBIADecisionType strCaseType  \\\n",
       "843508                  NaN            NaN                NaN         RMV   \n",
       "691238  2009-06-24 00:00:00            DEN                  R         DEP   \n",
       "263641  2002-04-23 00:00:00            SAV                  P         RMV   \n",
       "\n",
       "       strLang strNat strProceedingIHP strCustody strProbono  \n",
       "843508      SP     HO              NaN          N        NaN  \n",
       "691238     SP      GT              NaN          D        NaN  \n",
       "263641      SP     GT                           N        NaN  "
      ]
     },
     "execution_count": 264,
     "metadata": {},
     "output_type": "execute_result"
    }
   ],
   "source": [
    "# main table \n",
    "tblAppeal = pd.read_csv(os.path.join(DATAFOLDER, 'data/raw/tblAppeal.csv'), low_memory=False) \n",
    "print(tblAppeal.info())\n",
    "tblAppeal.sample(3)"
   ]
  },
  {
   "cell_type": "code",
   "execution_count": 265,
   "metadata": {
    "collapsed": false
   },
   "outputs": [
    {
     "name": "stdout",
     "output_type": "stream",
     "text": [
      "<class 'pandas.core.frame.DataFrame'>\n",
      "Int64Index: 755222 entries, 0 to 869457\n",
      "Data columns (total 17 columns):\n",
      "idnAppeal             755222 non-null int64\n",
      "idncase               755222 non-null int64\n",
      "idnProceeding         755222 non-null int64\n",
      "strAppealCategory     755222 non-null object\n",
      "strAppealType         755222 non-null object\n",
      "datAppealFiled        755060 non-null object\n",
      "strFiledBy            755212 non-null object\n",
      "datAttorneyE27        478717 non-null object\n",
      "datBIADecision        755222 non-null object\n",
      "strBIADecision        755222 non-null object\n",
      "strBIADecisionType    731103 non-null object\n",
      "strCaseType           755180 non-null object\n",
      "strLang               752329 non-null object\n",
      "strNat                754061 non-null object\n",
      "strProceedingIHP      365943 non-null object\n",
      "strCustody            643730 non-null object\n",
      "strProbono            1842 non-null object\n",
      "dtypes: int64(3), object(14)\n",
      "memory usage: 103.7+ MB\n"
     ]
    }
   ],
   "source": [
    "# drop appeals with no case number, proceeding number, or decision \n",
    "tblAppeal.dropna(subset=['idncase', 'idnProceeding', 'strBIADecision'], inplace=True) \n",
    "tblAppeal = tblAppeal[tblAppeal['idnProceeding'] != 0] # drop zeros \n",
    "\n",
    "# convert indexes to integers \n",
    "tblAppeal['idncase'] = tblAppeal['idncase'].astype(int) \n",
    "tblAppeal['idnProceeding'] = tblAppeal['idnProceeding'].astype(int) \n",
    "tblAppeal.info() "
   ]
  },
  {
   "cell_type": "code",
   "execution_count": 266,
   "metadata": {
    "collapsed": false
   },
   "outputs": [],
   "source": [
    "# code lookup tables \n",
    "bia_appeal_category = pd.read_excel(os.path.join(DATAFOLDER, 'data/raw/BIA Appeal Data File code translations.xlsx'), \n",
    "                                    sheetname='BIA Appeal Category', skip_footer=7)\n",
    "bia_appeal_type = pd.read_excel(os.path.join(DATAFOLDER, 'data/raw/BIA Appeal Data File code translations.xlsx'),\n",
    "                                sheetname='BIA Appeal Type', skip_footer=3)\n",
    "bia_decision_type = pd.read_excel(os.path.join(DATAFOLDER, 'data/raw/BIA Appeal Data File code translations.xlsx'),\n",
    "                                  sheetname='BIA decision type', skip_footer=2)\n",
    "bia_decision_code = pd.read_excel(os.path.join(DATAFOLDER, 'data/raw/BIA Appeal Data File code translations.xlsx'),\n",
    "                                  sheetname='BIA decision code', skip_footer=2)"
   ]
  },
  {
   "cell_type": "code",
   "execution_count": 267,
   "metadata": {
    "collapsed": false
   },
   "outputs": [
    {
     "name": "stdout",
     "output_type": "stream",
     "text": [
      "<class 'pandas.core.frame.DataFrame'>\n",
      "Int64Index: 755222 entries, 0 to 755221\n",
      "Data columns (total 21 columns):\n",
      "idnAppeal                 755222 non-null int64\n",
      "idncase                   755222 non-null int64\n",
      "idnProceeding             755222 non-null int64\n",
      "strAppealCategory         755222 non-null object\n",
      "strAppealType             755222 non-null object\n",
      "datAppealFiled            755060 non-null object\n",
      "strFiledBy                755212 non-null object\n",
      "datAttorneyE27            478717 non-null object\n",
      "datBIADecision            755222 non-null object\n",
      "strBIADecision            755222 non-null object\n",
      "strBIADecisionType        731103 non-null object\n",
      "strCaseType               755180 non-null object\n",
      "strLang                   752329 non-null object\n",
      "strNat                    754061 non-null object\n",
      "strProceedingIHP          365943 non-null object\n",
      "strCustody                643730 non-null object\n",
      "strProbono                1842 non-null object\n",
      "strAppealCategoryDesc     752952 non-null object\n",
      "strAppealTypeDesc         755219 non-null object\n",
      "strBIADecisionDesc        740763 non-null object\n",
      "strBIADecisionTypeDesc    730618 non-null object\n",
      "dtypes: int64(3), object(18)\n",
      "memory usage: 126.8+ MB\n",
      "None\n"
     ]
    },
    {
     "data": {
      "text/html": [
       "<div>\n",
       "<table border=\"1\" class=\"dataframe\">\n",
       "  <thead>\n",
       "    <tr style=\"text-align: right;\">\n",
       "      <th></th>\n",
       "      <th>81920</th>\n",
       "      <th>115830</th>\n",
       "      <th>150286</th>\n",
       "      <th>356147</th>\n",
       "      <th>589261</th>\n",
       "      <th>669562</th>\n",
       "      <th>205905</th>\n",
       "      <th>129893</th>\n",
       "      <th>584013</th>\n",
       "      <th>185872</th>\n",
       "    </tr>\n",
       "  </thead>\n",
       "  <tbody>\n",
       "    <tr>\n",
       "      <th>idnAppeal</th>\n",
       "      <td>82052</td>\n",
       "      <td>116099</td>\n",
       "      <td>171914</td>\n",
       "      <td>4559209</td>\n",
       "      <td>4820369</td>\n",
       "      <td>4915148</td>\n",
       "      <td>4387641</td>\n",
       "      <td>150831</td>\n",
       "      <td>4814526</td>\n",
       "      <td>4364449</td>\n",
       "    </tr>\n",
       "    <tr>\n",
       "      <th>idncase</th>\n",
       "      <td>4346399</td>\n",
       "      <td>2198332</td>\n",
       "      <td>3402061</td>\n",
       "      <td>2988044</td>\n",
       "      <td>5812896</td>\n",
       "      <td>3909147</td>\n",
       "      <td>3399395</td>\n",
       "      <td>2086684</td>\n",
       "      <td>3815569</td>\n",
       "      <td>2712199</td>\n",
       "    </tr>\n",
       "    <tr>\n",
       "      <th>idnProceeding</th>\n",
       "      <td>2899168</td>\n",
       "      <td>302892</td>\n",
       "      <td>1705913</td>\n",
       "      <td>1321390</td>\n",
       "      <td>4311119</td>\n",
       "      <td>2316128</td>\n",
       "      <td>1702191</td>\n",
       "      <td>159911</td>\n",
       "      <td>2197267</td>\n",
       "      <td>968869</td>\n",
       "    </tr>\n",
       "    <tr>\n",
       "      <th>strAppealCategory</th>\n",
       "      <td>IJ</td>\n",
       "      <td>IJ</td>\n",
       "      <td>IJ</td>\n",
       "      <td>IJ</td>\n",
       "      <td>IJ</td>\n",
       "      <td>IJ</td>\n",
       "      <td>IJ</td>\n",
       "      <td>IJ</td>\n",
       "      <td>IJ</td>\n",
       "      <td>IJ</td>\n",
       "    </tr>\n",
       "    <tr>\n",
       "      <th>strAppealType</th>\n",
       "      <td>Case Appeal</td>\n",
       "      <td>MTR BIA</td>\n",
       "      <td>Case Appeal</td>\n",
       "      <td>MTR BIA</td>\n",
       "      <td>Case Appeal</td>\n",
       "      <td>Case Appeal</td>\n",
       "      <td>Appeal of IJ MTR</td>\n",
       "      <td>Case Appeal</td>\n",
       "      <td>Case Appeal</td>\n",
       "      <td>Case Appeal</td>\n",
       "    </tr>\n",
       "    <tr>\n",
       "      <th>datAppealFiled</th>\n",
       "      <td>1995-04-05 00:00:00</td>\n",
       "      <td>1991-08-30 00:00:00</td>\n",
       "      <td>1996-07-03 00:00:00</td>\n",
       "      <td>2002-12-23 00:00:00</td>\n",
       "      <td>2008-03-19 00:00:00</td>\n",
       "      <td>2010-08-02 00:00:00</td>\n",
       "      <td>1998-06-15 00:00:00</td>\n",
       "      <td>1996-08-08 00:00:00</td>\n",
       "      <td>2008-01-28 00:00:00</td>\n",
       "      <td>1997-10-23 00:00:00</td>\n",
       "    </tr>\n",
       "    <tr>\n",
       "      <th>strFiledBy</th>\n",
       "      <td>A</td>\n",
       "      <td>A</td>\n",
       "      <td>A</td>\n",
       "      <td>A</td>\n",
       "      <td>A</td>\n",
       "      <td>A</td>\n",
       "      <td>A</td>\n",
       "      <td>A</td>\n",
       "      <td>I</td>\n",
       "      <td>A</td>\n",
       "    </tr>\n",
       "    <tr>\n",
       "      <th>datAttorneyE27</th>\n",
       "      <td>1995-07-10 00:00:00</td>\n",
       "      <td>NaN</td>\n",
       "      <td>NaN</td>\n",
       "      <td>2002-12-23 00:00:00</td>\n",
       "      <td>2008-03-19 00:00:00</td>\n",
       "      <td>2010-08-02 00:00:00</td>\n",
       "      <td>1998-06-15 00:00:00</td>\n",
       "      <td>1996-08-08 00:00:00</td>\n",
       "      <td>NaN</td>\n",
       "      <td>1997-10-23 00:00:00</td>\n",
       "    </tr>\n",
       "    <tr>\n",
       "      <th>datBIADecision</th>\n",
       "      <td>2000-12-13 00:00:00</td>\n",
       "      <td>1994-10-12 00:00:00</td>\n",
       "      <td>1997-08-21 00:00:00</td>\n",
       "      <td>2003-01-28 00:00:00</td>\n",
       "      <td>2008-05-27 00:00:00</td>\n",
       "      <td>2012-01-11 00:00:00</td>\n",
       "      <td>2000-02-14 00:00:00</td>\n",
       "      <td>1997-09-11 00:00:00</td>\n",
       "      <td>2010-02-22 00:00:00</td>\n",
       "      <td>2000-07-26 00:00:00</td>\n",
       "    </tr>\n",
       "    <tr>\n",
       "      <th>strBIADecision</th>\n",
       "      <td>DIS</td>\n",
       "      <td>GRN</td>\n",
       "      <td>DIS</td>\n",
       "      <td>DEN</td>\n",
       "      <td>SAF</td>\n",
       "      <td>REM</td>\n",
       "      <td>DIS</td>\n",
       "      <td>DSO</td>\n",
       "      <td>BCR</td>\n",
       "      <td>REM</td>\n",
       "    </tr>\n",
       "    <tr>\n",
       "      <th>strBIADecisionType</th>\n",
       "      <td>P</td>\n",
       "      <td>R</td>\n",
       "      <td>P</td>\n",
       "      <td>P</td>\n",
       "      <td>P</td>\n",
       "      <td>R</td>\n",
       "      <td>P</td>\n",
       "      <td>P</td>\n",
       "      <td>R</td>\n",
       "      <td>P</td>\n",
       "    </tr>\n",
       "    <tr>\n",
       "      <th>strCaseType</th>\n",
       "      <td>DEP</td>\n",
       "      <td>DEP</td>\n",
       "      <td>DEP</td>\n",
       "      <td>DEP</td>\n",
       "      <td>RMV</td>\n",
       "      <td>RMV</td>\n",
       "      <td>DEP</td>\n",
       "      <td>DEP</td>\n",
       "      <td>RMV</td>\n",
       "      <td>DEP</td>\n",
       "    </tr>\n",
       "    <tr>\n",
       "      <th>strLang</th>\n",
       "      <td>ENG</td>\n",
       "      <td>ENG</td>\n",
       "      <td>SP</td>\n",
       "      <td>FOO</td>\n",
       "      <td>SP</td>\n",
       "      <td>SP</td>\n",
       "      <td>ENG</td>\n",
       "      <td>ENG</td>\n",
       "      <td>IFA</td>\n",
       "      <td>ENG</td>\n",
       "    </tr>\n",
       "    <tr>\n",
       "      <th>strNat</th>\n",
       "      <td>NI</td>\n",
       "      <td>LE</td>\n",
       "      <td>MX</td>\n",
       "      <td>CH</td>\n",
       "      <td>CO</td>\n",
       "      <td>MX</td>\n",
       "      <td>GY</td>\n",
       "      <td>DR</td>\n",
       "      <td>IR</td>\n",
       "      <td>JM</td>\n",
       "    </tr>\n",
       "    <tr>\n",
       "      <th>strProceedingIHP</th>\n",
       "      <td>NaN</td>\n",
       "      <td>NaN</td>\n",
       "      <td>*</td>\n",
       "      <td></td>\n",
       "      <td>NaN</td>\n",
       "      <td>NaN</td>\n",
       "      <td>NaN</td>\n",
       "      <td>NaN</td>\n",
       "      <td>NaN</td>\n",
       "      <td></td>\n",
       "    </tr>\n",
       "    <tr>\n",
       "      <th>strCustody</th>\n",
       "      <td>NaN</td>\n",
       "      <td>NaN</td>\n",
       "      <td>D</td>\n",
       "      <td>N</td>\n",
       "      <td>D</td>\n",
       "      <td>R</td>\n",
       "      <td>N</td>\n",
       "      <td>NaN</td>\n",
       "      <td>N</td>\n",
       "      <td>N</td>\n",
       "    </tr>\n",
       "    <tr>\n",
       "      <th>strProbono</th>\n",
       "      <td>NaN</td>\n",
       "      <td>NaN</td>\n",
       "      <td>NaN</td>\n",
       "      <td>NaN</td>\n",
       "      <td>NaN</td>\n",
       "      <td>NaN</td>\n",
       "      <td>NaN</td>\n",
       "      <td>NaN</td>\n",
       "      <td>NaN</td>\n",
       "      <td>NaN</td>\n",
       "    </tr>\n",
       "    <tr>\n",
       "      <th>strAppealCategoryDesc</th>\n",
       "      <td>Appeal from Immigration Judge decision</td>\n",
       "      <td>Appeal from Immigration Judge decision</td>\n",
       "      <td>Appeal from Immigration Judge decision</td>\n",
       "      <td>Appeal from Immigration Judge decision</td>\n",
       "      <td>Appeal from Immigration Judge decision</td>\n",
       "      <td>Appeal from Immigration Judge decision</td>\n",
       "      <td>Appeal from Immigration Judge decision</td>\n",
       "      <td>Appeal from Immigration Judge decision</td>\n",
       "      <td>Appeal from Immigration Judge decision</td>\n",
       "      <td>Appeal from Immigration Judge decision</td>\n",
       "    </tr>\n",
       "    <tr>\n",
       "      <th>strAppealTypeDesc</th>\n",
       "      <td>Case Appeal</td>\n",
       "      <td>MTR BIA</td>\n",
       "      <td>Case Appeal</td>\n",
       "      <td>MTR BIA</td>\n",
       "      <td>Case Appeal</td>\n",
       "      <td>Case Appeal</td>\n",
       "      <td>Appeal of IJ MTR</td>\n",
       "      <td>Case Appeal</td>\n",
       "      <td>Case Appeal</td>\n",
       "      <td>Case Appeal</td>\n",
       "    </tr>\n",
       "    <tr>\n",
       "      <th>strBIADecisionDesc</th>\n",
       "      <td>Dismiss Appeal/Affirm IJ's Decision</td>\n",
       "      <td>Granted</td>\n",
       "      <td>Dismiss Appeal/Affirm IJ's Decision</td>\n",
       "      <td>Denied</td>\n",
       "      <td>Summary Affirmance</td>\n",
       "      <td>Remand</td>\n",
       "      <td>Dismiss Appeal/Affirm IJ's Decision</td>\n",
       "      <td>NaN</td>\n",
       "      <td>Background Check Remand</td>\n",
       "      <td>Remand</td>\n",
       "    </tr>\n",
       "    <tr>\n",
       "      <th>strBIADecisionTypeDesc</th>\n",
       "      <td>Percuriam Case</td>\n",
       "      <td>Regular Case</td>\n",
       "      <td>Percuriam Case</td>\n",
       "      <td>Percuriam Case</td>\n",
       "      <td>Percuriam Case</td>\n",
       "      <td>Regular Case</td>\n",
       "      <td>Percuriam Case</td>\n",
       "      <td>Percuriam Case</td>\n",
       "      <td>Regular Case</td>\n",
       "      <td>Percuriam Case</td>\n",
       "    </tr>\n",
       "  </tbody>\n",
       "</table>\n",
       "</div>"
      ],
      "text/plain": [
       "                                                        81920   \\\n",
       "idnAppeal                                                82052   \n",
       "idncase                                                4346399   \n",
       "idnProceeding                                          2899168   \n",
       "strAppealCategory                                           IJ   \n",
       "strAppealType                                      Case Appeal   \n",
       "datAppealFiled                             1995-04-05 00:00:00   \n",
       "strFiledBy                                                   A   \n",
       "datAttorneyE27                             1995-07-10 00:00:00   \n",
       "datBIADecision                             2000-12-13 00:00:00   \n",
       "strBIADecision                                             DIS   \n",
       "strBIADecisionType                                           P   \n",
       "strCaseType                                                DEP   \n",
       "strLang                                                    ENG   \n",
       "strNat                                                      NI   \n",
       "strProceedingIHP                                           NaN   \n",
       "strCustody                                                 NaN   \n",
       "strProbono                                                 NaN   \n",
       "strAppealCategoryDesc   Appeal from Immigration Judge decision   \n",
       "strAppealTypeDesc                                  Case Appeal   \n",
       "strBIADecisionDesc         Dismiss Appeal/Affirm IJ's Decision   \n",
       "strBIADecisionTypeDesc                          Percuriam Case   \n",
       "\n",
       "                                                        115830  \\\n",
       "idnAppeal                                               116099   \n",
       "idncase                                                2198332   \n",
       "idnProceeding                                           302892   \n",
       "strAppealCategory                                           IJ   \n",
       "strAppealType                                          MTR BIA   \n",
       "datAppealFiled                             1991-08-30 00:00:00   \n",
       "strFiledBy                                                   A   \n",
       "datAttorneyE27                                             NaN   \n",
       "datBIADecision                             1994-10-12 00:00:00   \n",
       "strBIADecision                                             GRN   \n",
       "strBIADecisionType                                           R   \n",
       "strCaseType                                                DEP   \n",
       "strLang                                                    ENG   \n",
       "strNat                                                      LE   \n",
       "strProceedingIHP                                           NaN   \n",
       "strCustody                                                 NaN   \n",
       "strProbono                                                 NaN   \n",
       "strAppealCategoryDesc   Appeal from Immigration Judge decision   \n",
       "strAppealTypeDesc                                      MTR BIA   \n",
       "strBIADecisionDesc                                     Granted   \n",
       "strBIADecisionTypeDesc                            Regular Case   \n",
       "\n",
       "                                                        150286  \\\n",
       "idnAppeal                                               171914   \n",
       "idncase                                                3402061   \n",
       "idnProceeding                                          1705913   \n",
       "strAppealCategory                                           IJ   \n",
       "strAppealType                                      Case Appeal   \n",
       "datAppealFiled                             1996-07-03 00:00:00   \n",
       "strFiledBy                                                   A   \n",
       "datAttorneyE27                                             NaN   \n",
       "datBIADecision                             1997-08-21 00:00:00   \n",
       "strBIADecision                                             DIS   \n",
       "strBIADecisionType                                           P   \n",
       "strCaseType                                                DEP   \n",
       "strLang                                                     SP   \n",
       "strNat                                                      MX   \n",
       "strProceedingIHP                                             *   \n",
       "strCustody                                                   D   \n",
       "strProbono                                                 NaN   \n",
       "strAppealCategoryDesc   Appeal from Immigration Judge decision   \n",
       "strAppealTypeDesc                                  Case Appeal   \n",
       "strBIADecisionDesc         Dismiss Appeal/Affirm IJ's Decision   \n",
       "strBIADecisionTypeDesc                          Percuriam Case   \n",
       "\n",
       "                                                        356147  \\\n",
       "idnAppeal                                              4559209   \n",
       "idncase                                                2988044   \n",
       "idnProceeding                                          1321390   \n",
       "strAppealCategory                                           IJ   \n",
       "strAppealType                                          MTR BIA   \n",
       "datAppealFiled                             2002-12-23 00:00:00   \n",
       "strFiledBy                                                   A   \n",
       "datAttorneyE27                             2002-12-23 00:00:00   \n",
       "datBIADecision                             2003-01-28 00:00:00   \n",
       "strBIADecision                                             DEN   \n",
       "strBIADecisionType                                           P   \n",
       "strCaseType                                                DEP   \n",
       "strLang                                                    FOO   \n",
       "strNat                                                      CH   \n",
       "strProceedingIHP                                                 \n",
       "strCustody                                                   N   \n",
       "strProbono                                                 NaN   \n",
       "strAppealCategoryDesc   Appeal from Immigration Judge decision   \n",
       "strAppealTypeDesc                                      MTR BIA   \n",
       "strBIADecisionDesc                                      Denied   \n",
       "strBIADecisionTypeDesc                          Percuriam Case   \n",
       "\n",
       "                                                        589261  \\\n",
       "idnAppeal                                              4820369   \n",
       "idncase                                                5812896   \n",
       "idnProceeding                                          4311119   \n",
       "strAppealCategory                                           IJ   \n",
       "strAppealType                                      Case Appeal   \n",
       "datAppealFiled                             2008-03-19 00:00:00   \n",
       "strFiledBy                                                   A   \n",
       "datAttorneyE27                             2008-03-19 00:00:00   \n",
       "datBIADecision                             2008-05-27 00:00:00   \n",
       "strBIADecision                                             SAF   \n",
       "strBIADecisionType                                           P   \n",
       "strCaseType                                                RMV   \n",
       "strLang                                                     SP   \n",
       "strNat                                                      CO   \n",
       "strProceedingIHP                                           NaN   \n",
       "strCustody                                                   D   \n",
       "strProbono                                                 NaN   \n",
       "strAppealCategoryDesc   Appeal from Immigration Judge decision   \n",
       "strAppealTypeDesc                                  Case Appeal   \n",
       "strBIADecisionDesc                          Summary Affirmance   \n",
       "strBIADecisionTypeDesc                          Percuriam Case   \n",
       "\n",
       "                                                        669562  \\\n",
       "idnAppeal                                              4915148   \n",
       "idncase                                                3909147   \n",
       "idnProceeding                                          2316128   \n",
       "strAppealCategory                                           IJ   \n",
       "strAppealType                                      Case Appeal   \n",
       "datAppealFiled                             2010-08-02 00:00:00   \n",
       "strFiledBy                                                   A   \n",
       "datAttorneyE27                             2010-08-02 00:00:00   \n",
       "datBIADecision                             2012-01-11 00:00:00   \n",
       "strBIADecision                                             REM   \n",
       "strBIADecisionType                                           R   \n",
       "strCaseType                                                RMV   \n",
       "strLang                                                     SP   \n",
       "strNat                                                      MX   \n",
       "strProceedingIHP                                           NaN   \n",
       "strCustody                                                   R   \n",
       "strProbono                                                 NaN   \n",
       "strAppealCategoryDesc   Appeal from Immigration Judge decision   \n",
       "strAppealTypeDesc                                  Case Appeal   \n",
       "strBIADecisionDesc                                      Remand   \n",
       "strBIADecisionTypeDesc                            Regular Case   \n",
       "\n",
       "                                                        205905  \\\n",
       "idnAppeal                                              4387641   \n",
       "idncase                                                3399395   \n",
       "idnProceeding                                          1702191   \n",
       "strAppealCategory                                           IJ   \n",
       "strAppealType                                 Appeal of IJ MTR   \n",
       "datAppealFiled                             1998-06-15 00:00:00   \n",
       "strFiledBy                                                   A   \n",
       "datAttorneyE27                             1998-06-15 00:00:00   \n",
       "datBIADecision                             2000-02-14 00:00:00   \n",
       "strBIADecision                                             DIS   \n",
       "strBIADecisionType                                           P   \n",
       "strCaseType                                                DEP   \n",
       "strLang                                                    ENG   \n",
       "strNat                                                      GY   \n",
       "strProceedingIHP                                           NaN   \n",
       "strCustody                                                   N   \n",
       "strProbono                                                 NaN   \n",
       "strAppealCategoryDesc   Appeal from Immigration Judge decision   \n",
       "strAppealTypeDesc                             Appeal of IJ MTR   \n",
       "strBIADecisionDesc         Dismiss Appeal/Affirm IJ's Decision   \n",
       "strBIADecisionTypeDesc                          Percuriam Case   \n",
       "\n",
       "                                                        129893  \\\n",
       "idnAppeal                                               150831   \n",
       "idncase                                                2086684   \n",
       "idnProceeding                                           159911   \n",
       "strAppealCategory                                           IJ   \n",
       "strAppealType                                      Case Appeal   \n",
       "datAppealFiled                             1996-08-08 00:00:00   \n",
       "strFiledBy                                                   A   \n",
       "datAttorneyE27                             1996-08-08 00:00:00   \n",
       "datBIADecision                             1997-09-11 00:00:00   \n",
       "strBIADecision                                             DSO   \n",
       "strBIADecisionType                                           P   \n",
       "strCaseType                                                DEP   \n",
       "strLang                                                    ENG   \n",
       "strNat                                                      DR   \n",
       "strProceedingIHP                                           NaN   \n",
       "strCustody                                                 NaN   \n",
       "strProbono                                                 NaN   \n",
       "strAppealCategoryDesc   Appeal from Immigration Judge decision   \n",
       "strAppealTypeDesc                                  Case Appeal   \n",
       "strBIADecisionDesc                                         NaN   \n",
       "strBIADecisionTypeDesc                          Percuriam Case   \n",
       "\n",
       "                                                        584013  \\\n",
       "idnAppeal                                              4814526   \n",
       "idncase                                                3815569   \n",
       "idnProceeding                                          2197267   \n",
       "strAppealCategory                                           IJ   \n",
       "strAppealType                                      Case Appeal   \n",
       "datAppealFiled                             2008-01-28 00:00:00   \n",
       "strFiledBy                                                   I   \n",
       "datAttorneyE27                                             NaN   \n",
       "datBIADecision                             2010-02-22 00:00:00   \n",
       "strBIADecision                                             BCR   \n",
       "strBIADecisionType                                           R   \n",
       "strCaseType                                                RMV   \n",
       "strLang                                                    IFA   \n",
       "strNat                                                      IR   \n",
       "strProceedingIHP                                           NaN   \n",
       "strCustody                                                   N   \n",
       "strProbono                                                 NaN   \n",
       "strAppealCategoryDesc   Appeal from Immigration Judge decision   \n",
       "strAppealTypeDesc                                  Case Appeal   \n",
       "strBIADecisionDesc                     Background Check Remand   \n",
       "strBIADecisionTypeDesc                            Regular Case   \n",
       "\n",
       "                                                        185872  \n",
       "idnAppeal                                              4364449  \n",
       "idncase                                                2712199  \n",
       "idnProceeding                                           968869  \n",
       "strAppealCategory                                           IJ  \n",
       "strAppealType                                      Case Appeal  \n",
       "datAppealFiled                             1997-10-23 00:00:00  \n",
       "strFiledBy                                                   A  \n",
       "datAttorneyE27                             1997-10-23 00:00:00  \n",
       "datBIADecision                             2000-07-26 00:00:00  \n",
       "strBIADecision                                             REM  \n",
       "strBIADecisionType                                           P  \n",
       "strCaseType                                                DEP  \n",
       "strLang                                                    ENG  \n",
       "strNat                                                      JM  \n",
       "strProceedingIHP                                                \n",
       "strCustody                                                   N  \n",
       "strProbono                                                 NaN  \n",
       "strAppealCategoryDesc   Appeal from Immigration Judge decision  \n",
       "strAppealTypeDesc                                  Case Appeal  \n",
       "strBIADecisionDesc                                      Remand  \n",
       "strBIADecisionTypeDesc                          Percuriam Case  "
      ]
     },
     "execution_count": 267,
     "metadata": {},
     "output_type": "execute_result"
    }
   ],
   "source": [
    "# join them \n",
    "tblAppeal_df = tblAppeal.merge(bia_appeal_category, how='left', left_on='strAppealCategory', right_on='Code')\\\n",
    "                        .rename(columns={'Description': 'strAppealCategoryDesc'}).drop('Code', axis=1)\\\n",
    "                        .merge(bia_appeal_type, how='left', left_on='strAppealType', right_on='Code')\\\n",
    "                        .rename(columns={'Description': 'strAppealTypeDesc'}).drop('Code', axis=1)\\\n",
    "                        .merge(bia_decision_code, how='left', left_on='strBIADecision', right_on='Code')\\\n",
    "                        .rename(columns={'Description': 'strBIADecisionDesc'}).drop('Code', axis=1)\\\n",
    "                        .merge(bia_decision_type, how='left', left_on='strBIADecisionType', right_on='Code')\\\n",
    "                        .rename(columns={'Description': 'strBIADecisionTypeDesc'}).drop('Code', axis=1)\n",
    "print(tblAppeal_df.info()) \n",
    "tblAppeal_df.sample(10).T"
   ]
  },
  {
   "cell_type": "code",
   "execution_count": 268,
   "metadata": {
    "collapsed": false
   },
   "outputs": [
    {
     "name": "stdout",
     "output_type": "stream",
     "text": [
      "DSO    5987\n",
      "DED    2107\n",
      "CPG    1704\n",
      "ABC    1606\n",
      "APD    1170\n",
      "GRS     431\n",
      "DNS     421\n",
      "ADM     355\n",
      "DMO     238\n",
      "CPC      90\n",
      "MB       88\n",
      "SNC      82\n",
      "AFD      54\n",
      "RET      52\n",
      "ADD      18\n",
      "CGR      16\n",
      "TPD      16\n",
      "REV      13\n",
      "WPD       5\n",
      "SUP       4\n",
      "          2\n",
      "Name: strBIADecision, dtype: int64\n"
     ]
    }
   ],
   "source": [
    "# some strBIADecision don't have corresponding code translations; to remove \n",
    "print(tblAppeal_df[pd.isnull(tblAppeal_df['strBIADecisionDesc'])]['strBIADecision'].value_counts()) \n",
    "tblAppeal_df.dropna(subset=['strBIADecisionDesc'], inplace=True)"
   ]
  },
  {
   "cell_type": "markdown",
   "metadata": {},
   "source": [
    "### Master Proceedings"
   ]
  },
  {
   "cell_type": "code",
   "execution_count": 269,
   "metadata": {
    "collapsed": false
   },
   "outputs": [
    {
     "name": "stdout",
     "output_type": "stream",
     "text": [
      "<class 'pandas.core.frame.DataFrame'>\n",
      "RangeIndex: 6084437 entries, 0 to 6084436\n",
      "Data columns (total 16 columns):\n",
      "idncase             float64\n",
      "nat                 object\n",
      "case_type           object\n",
      "c_asy_type          object\n",
      "idnproceeding       object\n",
      "base_city_code      object\n",
      "hearing_loc_code    object\n",
      "dec_type            object\n",
      "dec_code            object\n",
      "other_comp          object\n",
      "osc_date            object\n",
      "input_date          object\n",
      "comp_date           object\n",
      "attorney_flag       float64\n",
      "ij_code             object\n",
      "tracid              float64\n",
      "dtypes: float64(3), object(13)\n",
      "memory usage: 742.7+ MB\n",
      "None\n"
     ]
    },
    {
     "data": {
      "text/html": [
       "<div>\n",
       "<table border=\"1\" class=\"dataframe\">\n",
       "  <thead>\n",
       "    <tr style=\"text-align: right;\">\n",
       "      <th></th>\n",
       "      <th>idncase</th>\n",
       "      <th>nat</th>\n",
       "      <th>case_type</th>\n",
       "      <th>c_asy_type</th>\n",
       "      <th>idnproceeding</th>\n",
       "      <th>base_city_code</th>\n",
       "      <th>hearing_loc_code</th>\n",
       "      <th>dec_type</th>\n",
       "      <th>dec_code</th>\n",
       "      <th>other_comp</th>\n",
       "      <th>osc_date</th>\n",
       "      <th>input_date</th>\n",
       "      <th>comp_date</th>\n",
       "      <th>attorney_flag</th>\n",
       "      <th>ij_code</th>\n",
       "      <th>tracid</th>\n",
       "    </tr>\n",
       "  </thead>\n",
       "  <tbody>\n",
       "    <tr>\n",
       "      <th>5459507</th>\n",
       "      <td>6726740.0</td>\n",
       "      <td>NS</td>\n",
       "      <td>RMV</td>\n",
       "      <td>E</td>\n",
       "      <td>5475424</td>\n",
       "      <td>WAS</td>\n",
       "      <td>WAD</td>\n",
       "      <td>O</td>\n",
       "      <td>X</td>\n",
       "      <td>NaN</td>\n",
       "      <td>07MAR2011</td>\n",
       "      <td>01APR2011</td>\n",
       "      <td>16FEB2012</td>\n",
       "      <td>NaN</td>\n",
       "      <td>RHC</td>\n",
       "      <td>313.0</td>\n",
       "    </tr>\n",
       "    <tr>\n",
       "      <th>4332256</th>\n",
       "      <td>5793791.0</td>\n",
       "      <td>MX</td>\n",
       "      <td>RMV</td>\n",
       "      <td>NaN</td>\n",
       "      <td>4287520</td>\n",
       "      <td>HOD</td>\n",
       "      <td>HUN</td>\n",
       "      <td>W</td>\n",
       "      <td>X</td>\n",
       "      <td>NaN</td>\n",
       "      <td>17FEB2007</td>\n",
       "      <td>28JUN2007</td>\n",
       "      <td>30OCT2007</td>\n",
       "      <td>NaN</td>\n",
       "      <td>HR</td>\n",
       "      <td>288.0</td>\n",
       "    </tr>\n",
       "    <tr>\n",
       "      <th>2358215</th>\n",
       "      <td>3890454.0</td>\n",
       "      <td>MX</td>\n",
       "      <td>RMV</td>\n",
       "      <td>NaN</td>\n",
       "      <td>2288396</td>\n",
       "      <td>LOS</td>\n",
       "      <td>SPD</td>\n",
       "      <td>7</td>\n",
       "      <td>X</td>\n",
       "      <td>NaN</td>\n",
       "      <td>06AUG2003</td>\n",
       "      <td>08AUG2003</td>\n",
       "      <td>13AUG2003</td>\n",
       "      <td>NaN</td>\n",
       "      <td>RCP</td>\n",
       "      <td>209.0</td>\n",
       "    </tr>\n",
       "    <tr>\n",
       "      <th>1063490</th>\n",
       "      <td>2858389.0</td>\n",
       "      <td>GT</td>\n",
       "      <td>DEP</td>\n",
       "      <td>NaN</td>\n",
       "      <td>1160140</td>\n",
       "      <td>FLO</td>\n",
       "      <td>FLO</td>\n",
       "      <td>O</td>\n",
       "      <td>D</td>\n",
       "      <td>NaN</td>\n",
       "      <td>13JAN1993</td>\n",
       "      <td>22JAN1993</td>\n",
       "      <td>10FEB1993</td>\n",
       "      <td>NaN</td>\n",
       "      <td>JWR</td>\n",
       "      <td>177.0</td>\n",
       "    </tr>\n",
       "    <tr>\n",
       "      <th>2205798</th>\n",
       "      <td>3769264.0</td>\n",
       "      <td>HO</td>\n",
       "      <td>RMV</td>\n",
       "      <td>NaN</td>\n",
       "      <td>2140926</td>\n",
       "      <td>ELP</td>\n",
       "      <td>EPD</td>\n",
       "      <td>7</td>\n",
       "      <td>X</td>\n",
       "      <td>NaN</td>\n",
       "      <td>26OCT1997</td>\n",
       "      <td>03NOV1997</td>\n",
       "      <td>12NOV1997</td>\n",
       "      <td>NaN</td>\n",
       "      <td>BAZ</td>\n",
       "      <td>184.0</td>\n",
       "    </tr>\n",
       "  </tbody>\n",
       "</table>\n",
       "</div>"
      ],
      "text/plain": [
       "           idncase nat case_type c_asy_type idnproceeding base_city_code  \\\n",
       "5459507  6726740.0  NS       RMV          E       5475424            WAS   \n",
       "4332256  5793791.0  MX       RMV        NaN       4287520            HOD   \n",
       "2358215  3890454.0  MX       RMV        NaN       2288396            LOS   \n",
       "1063490  2858389.0  GT       DEP        NaN       1160140            FLO   \n",
       "2205798  3769264.0  HO       RMV        NaN       2140926            ELP   \n",
       "\n",
       "        hearing_loc_code dec_type dec_code other_comp   osc_date input_date  \\\n",
       "5459507              WAD        O        X        NaN  07MAR2011  01APR2011   \n",
       "4332256              HUN        W        X        NaN  17FEB2007  28JUN2007   \n",
       "2358215              SPD        7        X        NaN  06AUG2003  08AUG2003   \n",
       "1063490              FLO        O        D        NaN  13JAN1993  22JAN1993   \n",
       "2205798              EPD        7        X        NaN  26OCT1997  03NOV1997   \n",
       "\n",
       "         comp_date  attorney_flag ij_code  tracid  \n",
       "5459507  16FEB2012            NaN     RHC   313.0  \n",
       "4332256  30OCT2007            NaN      HR   288.0  \n",
       "2358215  13AUG2003            NaN     RCP   209.0  \n",
       "1063490  10FEB1993            NaN     JWR   177.0  \n",
       "2205798  12NOV1997            NaN     BAZ   184.0  "
      ]
     },
     "execution_count": 269,
     "metadata": {},
     "output_type": "execute_result"
    }
   ],
   "source": [
    "master = pd.read_csv(os.path.join(DATAFOLDER, 'data/raw/master.csv')) \n",
    "print(master.info())\n",
    "master.sample(5)"
   ]
  },
  {
   "cell_type": "code",
   "execution_count": 270,
   "metadata": {
    "collapsed": false
   },
   "outputs": [
    {
     "data": {
      "text/plain": [
       "idncase                  14\n",
       "nat                   16775\n",
       "case_type                15\n",
       "c_asy_type          4449366\n",
       "idnproceeding             0\n",
       "base_city_code           24\n",
       "hearing_loc_code       1516\n",
       "dec_type            1519549\n",
       "dec_code            1674748\n",
       "other_comp          4744870\n",
       "osc_date              33353\n",
       "input_date            29744\n",
       "comp_date            335076\n",
       "attorney_flag       3044591\n",
       "ij_code               39598\n",
       "tracid               341914\n",
       "dtype: int64"
      ]
     },
     "execution_count": 270,
     "metadata": {},
     "output_type": "execute_result"
    }
   ],
   "source": [
    "# check missing data \n",
    "master.isnull().sum()"
   ]
  },
  {
   "cell_type": "code",
   "execution_count": 271,
   "metadata": {
    "collapsed": false
   },
   "outputs": [],
   "source": [
    "# look up tables \n",
    "master_case_type = pd.read_csv(os.path.join(DATAFOLDER, 'data/raw/master_case_type.csv'))\n",
    "master_decision_type = pd.read_csv(os.path.join(DATAFOLDER, 'data/raw/master_decision_type.csv'))\n",
    "\n",
    "master_decision_on_proceeding = pd.read_csv(os.path.join(DATAFOLDER, 'data/raw/master_decision_on_proceeding.csv'))\n",
    "master_decision_on_proceeding.drop(master_decision_on_proceeding.tail(2).index, inplace=True)\n",
    "master_decision_on_proceeding.drop(['Unnamed: 4', 'Unnamed: 5', 'Unnamed: 6'], axis=1, inplace=True)"
   ]
  },
  {
   "cell_type": "code",
   "execution_count": 272,
   "metadata": {
    "collapsed": true
   },
   "outputs": [],
   "source": [
    "# add column to indicate whether decision was listed in dec_code or other_comp \n",
    "master['dec_col'] = np.where(pd.notnull(master['dec_code']), 'C', 'O') \n",
    "master['dec_judge'] = np.where(pd.notnull(master['dec_code']), master['dec_code'], master['other_comp']) "
   ]
  },
  {
   "cell_type": "code",
   "execution_count": 273,
   "metadata": {
    "collapsed": false
   },
   "outputs": [
    {
     "data": {
      "text/html": [
       "<div>\n",
       "<table border=\"1\" class=\"dataframe\">\n",
       "  <thead>\n",
       "    <tr style=\"text-align: right;\">\n",
       "      <th></th>\n",
       "      <th>idncase</th>\n",
       "      <th>nat</th>\n",
       "      <th>case_type</th>\n",
       "      <th>c_asy_type</th>\n",
       "      <th>idnproceeding</th>\n",
       "      <th>base_city_code</th>\n",
       "      <th>hearing_loc_code</th>\n",
       "      <th>dec_type</th>\n",
       "      <th>dec_code</th>\n",
       "      <th>other_comp</th>\n",
       "      <th>...</th>\n",
       "      <th>input_date</th>\n",
       "      <th>comp_date</th>\n",
       "      <th>attorney_flag</th>\n",
       "      <th>ij_code</th>\n",
       "      <th>tracid</th>\n",
       "      <th>dec_col</th>\n",
       "      <th>dec_judge</th>\n",
       "      <th>dec_type_str</th>\n",
       "      <th>case_type_str</th>\n",
       "      <th>dec_code_str</th>\n",
       "    </tr>\n",
       "  </thead>\n",
       "  <tbody>\n",
       "    <tr>\n",
       "      <th>1594662</th>\n",
       "      <td>3277111.0</td>\n",
       "      <td>MX</td>\n",
       "      <td>RMV</td>\n",
       "      <td>NaN</td>\n",
       "      <td>62314</td>\n",
       "      <td>ELO</td>\n",
       "      <td>EAZ</td>\n",
       "      <td>O</td>\n",
       "      <td>X</td>\n",
       "      <td>NaN</td>\n",
       "      <td>...</td>\n",
       "      <td>16JUL1997</td>\n",
       "      <td>24JUL1997</td>\n",
       "      <td>NaN</td>\n",
       "      <td>SHK</td>\n",
       "      <td>48.0</td>\n",
       "      <td>C</td>\n",
       "      <td>X</td>\n",
       "      <td>oral decision</td>\n",
       "      <td>Removal</td>\n",
       "      <td>Remove</td>\n",
       "    </tr>\n",
       "    <tr>\n",
       "      <th>1442569</th>\n",
       "      <td>3156832.0</td>\n",
       "      <td>ES</td>\n",
       "      <td>DEP</td>\n",
       "      <td>E</td>\n",
       "      <td>1526067</td>\n",
       "      <td>WAS</td>\n",
       "      <td>WAS</td>\n",
       "      <td>NaN</td>\n",
       "      <td>NaN</td>\n",
       "      <td>A</td>\n",
       "      <td>...</td>\n",
       "      <td>29APR1999</td>\n",
       "      <td>24FEB2000</td>\n",
       "      <td>1.0</td>\n",
       "      <td>JMB</td>\n",
       "      <td>1.0</td>\n",
       "      <td>O</td>\n",
       "      <td>A</td>\n",
       "      <td>NaN</td>\n",
       "      <td>Deportation</td>\n",
       "      <td>Administrative Closing - Other</td>\n",
       "    </tr>\n",
       "    <tr>\n",
       "      <th>2687926</th>\n",
       "      <td>4123392.0</td>\n",
       "      <td>CO</td>\n",
       "      <td>RMV</td>\n",
       "      <td>I</td>\n",
       "      <td>2605607</td>\n",
       "      <td>ORL</td>\n",
       "      <td>ORL</td>\n",
       "      <td>O</td>\n",
       "      <td>X</td>\n",
       "      <td>NaN</td>\n",
       "      <td>...</td>\n",
       "      <td>19JUL2001</td>\n",
       "      <td>03JUL2003</td>\n",
       "      <td>NaN</td>\n",
       "      <td>ROS</td>\n",
       "      <td>170.0</td>\n",
       "      <td>C</td>\n",
       "      <td>X</td>\n",
       "      <td>oral decision</td>\n",
       "      <td>Removal</td>\n",
       "      <td>Remove</td>\n",
       "    </tr>\n",
       "  </tbody>\n",
       "</table>\n",
       "<p>3 rows × 21 columns</p>\n",
       "</div>"
      ],
      "text/plain": [
       "           idncase nat case_type c_asy_type idnproceeding base_city_code  \\\n",
       "1594662  3277111.0  MX       RMV        NaN         62314            ELO   \n",
       "1442569  3156832.0  ES       DEP          E       1526067            WAS   \n",
       "2687926  4123392.0  CO       RMV          I       2605607            ORL   \n",
       "\n",
       "        hearing_loc_code dec_type dec_code other_comp  \\\n",
       "1594662              EAZ        O        X        NaN   \n",
       "1442569              WAS      NaN      NaN          A   \n",
       "2687926              ORL        O        X        NaN   \n",
       "\n",
       "                      ...               input_date  comp_date attorney_flag  \\\n",
       "1594662               ...                16JUL1997  24JUL1997           NaN   \n",
       "1442569               ...                29APR1999  24FEB2000           1.0   \n",
       "2687926               ...                19JUL2001  03JUL2003           NaN   \n",
       "\n",
       "         ij_code tracid  dec_col dec_judge   dec_type_str case_type_str  \\\n",
       "1594662      SHK   48.0        C         X  oral decision       Removal   \n",
       "1442569      JMB    1.0        O         A            NaN   Deportation   \n",
       "2687926      ROS  170.0        C         X  oral decision       Removal   \n",
       "\n",
       "                           dec_code_str  \n",
       "1594662                          Remove  \n",
       "1442569  Administrative Closing - Other  \n",
       "2687926                          Remove  \n",
       "\n",
       "[3 rows x 21 columns]"
      ]
     },
     "execution_count": 273,
     "metadata": {},
     "output_type": "execute_result"
    }
   ],
   "source": [
    "# join to look up tables\n",
    "master_df = master.merge(master_decision_type, how='left', left_on='dec_type', right_on='strCode')\\\n",
    "                  .rename(columns={'strDescription': 'dec_type_str'}).drop('strCode', axis=1)\\\n",
    "                  .merge(master_case_type, how='left', left_on='case_type', right_on='strCode')\\\n",
    "                  .rename(columns={'strDescription': 'case_type_str'}).drop('strCode', axis=1)\\\n",
    "                  .merge(master_decision_on_proceeding, how='left', left_on=['case_type', 'dec_judge', 'dec_col'], \n",
    "                         right_on=['strCaseType', 'strDecCode', 'strDecType'])\\\n",
    "                  .rename(columns={'strDecDescription': 'dec_code_str'}).drop(['strCaseType', 'strDecCode', 'strDecType'], axis=1)\n",
    "master_df.sample(3)"
   ]
  },
  {
   "cell_type": "markdown",
   "metadata": {},
   "source": [
    "### Master Proceedings (processed by Sagent/Dunn)"
   ]
  },
  {
   "cell_type": "code",
   "execution_count": 274,
   "metadata": {
    "collapsed": false
   },
   "outputs": [
    {
     "name": "stdout",
     "output_type": "stream",
     "text": [
      "<class 'pandas.core.frame.DataFrame'>\n",
      "RangeIndex: 602500 entries, 0 to 602499\n",
      "Columns: 183 entries, Unnamed: 0 to in_dunn\n",
      "dtypes: bool(1), float64(72), int64(40), object(70)\n",
      "memory usage: 837.2+ MB\n"
     ]
    }
   ],
   "source": [
    "master_dunn = pd.read_csv(os.path.join(DATAFOLDER, \n",
    "                                       'data/AsylumAdj/data_for_model/_decision_scheduling_merge_final_converted.csv'), \n",
    "                          encoding='latin-1', low_memory=False) # gets UnicodeDecodeError otherwise \n",
    "master_dunn['in_dunn'] = 1 \n",
    "master_dunn.info()"
   ]
  },
  {
   "cell_type": "markdown",
   "metadata": {},
   "source": [
    "# Merge Datasets (master, dunn, judge bio)"
   ]
  },
  {
   "cell_type": "code",
   "execution_count": 275,
   "metadata": {
    "collapsed": false
   },
   "outputs": [
    {
     "name": "stdout",
     "output_type": "stream",
     "text": [
      "<class 'pandas.core.frame.DataFrame'>\n",
      "RangeIndex: 367 entries, 0 to 366\n",
      "Data columns (total 12 columns):\n",
      "Male_judge               367 non-null float64\n",
      "Year_Appointed_SLR       367 non-null float64\n",
      "Year_College_SLR         367 non-null float64\n",
      "Year_Law_school_SLR      367 non-null float64\n",
      "Government_Years_SLR     367 non-null float64\n",
      "Govt_nonINS_SLR          367 non-null float64\n",
      "INS_Years_SLR            367 non-null float64\n",
      "Military_Years_SLR       367 non-null float64\n",
      "NGO_Years_SLR            367 non-null float64\n",
      "Privateprac_Years_SLR    367 non-null float64\n",
      "Academia_Years_SLR       367 non-null float64\n",
      "ij_code                  367 non-null object\n",
      "dtypes: float64(11), object(1)\n",
      "memory usage: 34.5+ KB\n"
     ]
    }
   ],
   "source": [
    "judge_bio = pd.read_csv(os.path.join(DATAFOLDER, 'data/AsylumAdj/data/cleaned_judge_bios.csv')) \n",
    "judge_bio.info()"
   ]
  },
  {
   "cell_type": "code",
   "execution_count": 389,
   "metadata": {
    "collapsed": false
   },
   "outputs": [],
   "source": [
    "df = master_dunn.merge(tblAppeal_df, how='left', \n",
    "                       left_on=['idncase', 'idnproceeding'], right_on=['idncase', 'idnProceeding'])\n",
    "df = df.merge(judge_bio, how='left', on='ij_code')"
   ]
  },
  {
   "cell_type": "code",
   "execution_count": 390,
   "metadata": {
    "collapsed": true
   },
   "outputs": [],
   "source": [
    "# add/reformat a few variables \n",
    "df['judge_missing_bio'] = np.where(pd.isnull(df['Male_judge']), 1, 0)\n",
    "df['ij_code_nat'] = df['ij_code'] + '_' + df['nat_string']\n",
    "\n",
    "df['datAppealFiled_dt'] = pd.to_datetime(df['datAppealFiled'], errors='coerce')\n",
    "df['datAppealFiled_year'] = df['datAppealFiled_dt'].dt.year\n",
    "df['datAppealFiled_month'] = df['datAppealFiled_dt'].dt.month \n",
    "df['datAppealFiled_year_month'] = (df['datAppealFiled_year'] - 1970) + df['datAppealFiled_month']\n",
    "\n",
    "df['datBIADecision_dt'] = pd.to_datetime(df['datBIADecision'], errors='coerce')\n",
    "df['datBIADecision_year'] = df['datBIADecision_dt'].dt.year\n",
    "df['datBIADecision_month'] = df['datBIADecision_dt'].dt.month \n",
    "df['datBIADecision_year_month'] = (df['datBIADecision_year'] - 1970) + df['datBIADecision_month']"
   ]
  },
  {
   "cell_type": "code",
   "execution_count": 391,
   "metadata": {
    "collapsed": false
   },
   "outputs": [
    {
     "name": "stdout",
     "output_type": "stream",
     "text": [
      "['Unnamed: 0', u'idncase', u'idnproceeding', u'nat', u'case_type', u'c_asy_type', u'base_city_code', u'hearing_loc_code', u'dec_type', u'dec_code', u'other_comp', u'attorney_flag', u'ij_code', u'tracid', u'case_type_string', u'_mcase', u'dec_type_string', u'_mdectype', u'outcome_recorded_in_field', u'dec_string', u'_mdecproceeddec', u'_mdecproceedoth', u'nat_string', u'_mnat', u'base_city_street', u'base_city_string', u'base_city_state', u'base_city_zip5', u'base_city_zip4', u'base_city_phone', u'_mbasecity', u'hearing_loc_string1', u'hearing_loc_string2', u'hearing_loc_street', u'hearing_loc_city', u'hearing_loc_state', u'hearing_loc_zip5', u'hearing_loc_phone', u'_mhearingloc', u'judge_name_caps', u'_mlookupijcode', u'idncode', u'idnproceedingappln', u'appl_code', u'appl_dec', u'_mappln', u'application_type_string', u'_mapplcode', u'application_dec_string', u'_mappldec', u'cityid', u'judgeid', u'natid', u'comp_year', u'comp_month', u'comp_day', u'comp_date', u'osc_year', u'osc_month', u'osc_day', u'osc_date', u'input_year', u'input_month', u'input_day', u'input_date', u'appl_year', u'appl_month', u'appl_day', u'appl_recd_date', u'strdescription', u'torture', u'asylum', u'waiver', u'child', u'voluntary', u'grant', u'deny', u'abandoned', u'withdrawn', u'venue_change', u'deport', u'relief_granted', u'remove', u'terminated', u'voluntary_departure', u'oral', u'written', u'deport_form', u'voluntary_form', u'deportation_proceeding', u'exclusion_proceeding', u'removal_proceeding', u'asylum_only_proceeding', u'withholding_only_proceeding', u'lawyer', u'defensive', u'affirmative', u'mistakegrantdeny', u'idnschedule', u'generation', u'sub_generation', u'rec_type', u'alien_atty_code', u'lang', u'interpreter_code', u'input_time', u'update_date', u'update_time', u'assignment_path', u'continue_flag', u'cal_type', u'adj_date', u'adj_time_start', u'adj_time_stop', u'adj_rsn', u'adj_medium', u'adj_msg', u'adj_elap_days', u'id_1', u'lngsessnid', u'schedule_type', u'notice_code', u'datbatchmodified', u'strcreatedby', u'strmodifiedby', u'blnclockoverride', u'eoirattorneyid', u'idncasedups', u'adj_rsn_string', u'adj_requested_by', u'adj_clock_status', u'_madj', u'cal_type_string', u'_mcaltype', u'notice_code_string', u'_mnotice', u'schedule_type_string', u'_mschedcodes', u'adj_completion_prior_to_hearing', u'adj_case_conversion', u'adj_alien_to_seek_representation', u'adj_merits_hearing', u'adj_to_file', u'adj_preparation', u'adj_consolidation_family', u'government_requested', u'alien_requested', u'either_requested', u'clock_stopped', u'clock_running', u'clock_end', u'individual_cal', u'multiple_cal', u'deportation_notice', u'exclusion_notice', u'removal_notice', u'asylum_only_notice', u'withholding_only_notice', u'custody_notice', u'family_notice', u'initial_notice', u'individual_sched', u'multiple_sched', u'unknown_sched', u'adj_date_stamp', u'adj_year', u'adj_month', u'adj_day', u'adj_input_year', u'adj_input_month', u'adj_input_day', u'adj_input_date', u'adj_osc_year', u'adj_osc_month', u'adj_osc_day', u'adj_osc_date', u'eoirattyid', u'alienattyid', u'langid', u'hearingid', u'basecityid', u'last_hearing_on_comp_date', 'in_dunn', 'idnAppeal', 'idnProceeding', 'strAppealCategory', 'strAppealType', 'datAppealFiled', 'strFiledBy', 'datAttorneyE27', 'datBIADecision', 'strBIADecision', 'strBIADecisionType', 'strCaseType', 'strLang', 'strNat', 'strProceedingIHP', 'strCustody', 'strProbono', 'strAppealCategoryDesc', 'strAppealTypeDesc', 'strBIADecisionDesc', 'strBIADecisionTypeDesc', 'Male_judge', 'Year_Appointed_SLR', 'Year_College_SLR', 'Year_Law_school_SLR', 'Government_Years_SLR', 'Govt_nonINS_SLR', 'INS_Years_SLR', 'Military_Years_SLR', 'NGO_Years_SLR', 'Privateprac_Years_SLR', 'Academia_Years_SLR', 'judge_missing_bio', 'ij_code_nat', 'datAppealFiled_dt', 'datAppealFiled_year', 'datAppealFiled_month', 'datAppealFiled_year_month', 'datBIADecision_dt', 'datBIADecision_year', 'datBIADecision_month', 'datBIADecision_year_month']\n"
     ]
    }
   ],
   "source": [
    "print(df.columns.tolist())"
   ]
  },
  {
   "cell_type": "markdown",
   "metadata": {},
   "source": [
    "# Determine scope of appeal case types"
   ]
  },
  {
   "cell_type": "code",
   "execution_count": 392,
   "metadata": {
    "collapsed": false
   },
   "outputs": [
    {
     "data": {
      "text/plain": [
       "1    369933\n",
       "0    332335\n",
       "Name: appealed, dtype: int64"
      ]
     },
     "execution_count": 392,
     "metadata": {},
     "output_type": "execute_result"
    }
   ],
   "source": [
    "df['appealed'] = np.where(pd.notnull(df['idnAppeal']), 1, 0) \n",
    "df['appealed'].value_counts() "
   ]
  },
  {
   "cell_type": "code",
   "execution_count": 393,
   "metadata": {
    "collapsed": false
   },
   "outputs": [
    {
     "data": {
      "text/html": [
       "<div>\n",
       "<table border=\"1\" class=\"dataframe\">\n",
       "  <thead>\n",
       "    <tr style=\"text-align: right;\">\n",
       "      <th>case_type_string</th>\n",
       "      <th>ASYLUM ONLY CASE</th>\n",
       "      <th>DEPORTATION</th>\n",
       "      <th>EXCLUSION</th>\n",
       "      <th>REMOVAL</th>\n",
       "      <th>WITHHOLDING ONLY</th>\n",
       "    </tr>\n",
       "    <tr>\n",
       "      <th>strAppealTypeDesc</th>\n",
       "      <th></th>\n",
       "      <th></th>\n",
       "      <th></th>\n",
       "      <th></th>\n",
       "      <th></th>\n",
       "    </tr>\n",
       "  </thead>\n",
       "  <tbody>\n",
       "    <tr>\n",
       "      <th>Appeal of IJ MTR</th>\n",
       "      <td>93.0</td>\n",
       "      <td>2653.0</td>\n",
       "      <td>478.0</td>\n",
       "      <td>3026.0</td>\n",
       "      <td>9.0</td>\n",
       "    </tr>\n",
       "    <tr>\n",
       "      <th>Bond Appeal</th>\n",
       "      <td>10.0</td>\n",
       "      <td>569.0</td>\n",
       "      <td>7.0</td>\n",
       "      <td>2388.0</td>\n",
       "      <td>6.0</td>\n",
       "    </tr>\n",
       "    <tr>\n",
       "      <th>Bond MTR Reconsider</th>\n",
       "      <td>0.0</td>\n",
       "      <td>0.0</td>\n",
       "      <td>0.0</td>\n",
       "      <td>12.0</td>\n",
       "      <td>0.0</td>\n",
       "    </tr>\n",
       "    <tr>\n",
       "      <th>Bond MTR Reinstate</th>\n",
       "      <td>0.0</td>\n",
       "      <td>0.0</td>\n",
       "      <td>0.0</td>\n",
       "      <td>4.0</td>\n",
       "      <td>0.0</td>\n",
       "    </tr>\n",
       "    <tr>\n",
       "      <th>Bond MTR Reopen</th>\n",
       "      <td>0.0</td>\n",
       "      <td>0.0</td>\n",
       "      <td>0.0</td>\n",
       "      <td>10.0</td>\n",
       "      <td>0.0</td>\n",
       "    </tr>\n",
       "    <tr>\n",
       "      <th>Case Appeal</th>\n",
       "      <td>3878.0</td>\n",
       "      <td>66912.0</td>\n",
       "      <td>18341.0</td>\n",
       "      <td>173865.0</td>\n",
       "      <td>842.0</td>\n",
       "    </tr>\n",
       "    <tr>\n",
       "      <th>Circuit Court Remand</th>\n",
       "      <td>186.0</td>\n",
       "      <td>604.0</td>\n",
       "      <td>145.0</td>\n",
       "      <td>7058.0</td>\n",
       "      <td>26.0</td>\n",
       "    </tr>\n",
       "    <tr>\n",
       "      <th>Interlocutory Appeal</th>\n",
       "      <td>7.0</td>\n",
       "      <td>68.0</td>\n",
       "      <td>41.0</td>\n",
       "      <td>486.0</td>\n",
       "      <td>7.0</td>\n",
       "    </tr>\n",
       "    <tr>\n",
       "      <th>MTR BIA</th>\n",
       "      <td>1231.0</td>\n",
       "      <td>21833.0</td>\n",
       "      <td>5739.0</td>\n",
       "      <td>59309.0</td>\n",
       "      <td>87.0</td>\n",
       "    </tr>\n",
       "  </tbody>\n",
       "</table>\n",
       "</div>"
      ],
      "text/plain": [
       "case_type_string      ASYLUM ONLY CASE  DEPORTATION  EXCLUSION   REMOVAL  \\\n",
       "strAppealTypeDesc                                                          \n",
       "Appeal of IJ MTR                  93.0       2653.0      478.0    3026.0   \n",
       "Bond Appeal                       10.0        569.0        7.0    2388.0   \n",
       "Bond MTR Reconsider                0.0          0.0        0.0      12.0   \n",
       "Bond MTR Reinstate                 0.0          0.0        0.0       4.0   \n",
       "Bond MTR Reopen                    0.0          0.0        0.0      10.0   \n",
       "Case Appeal                     3878.0      66912.0    18341.0  173865.0   \n",
       "Circuit Court Remand             186.0        604.0      145.0    7058.0   \n",
       "Interlocutory Appeal               7.0         68.0       41.0     486.0   \n",
       "MTR BIA                         1231.0      21833.0     5739.0   59309.0   \n",
       "\n",
       "case_type_string      WITHHOLDING ONLY  \n",
       "strAppealTypeDesc                       \n",
       "Appeal of IJ MTR                   9.0  \n",
       "Bond Appeal                        6.0  \n",
       "Bond MTR Reconsider                0.0  \n",
       "Bond MTR Reinstate                 0.0  \n",
       "Bond MTR Reopen                    0.0  \n",
       "Case Appeal                      842.0  \n",
       "Circuit Court Remand              26.0  \n",
       "Interlocutory Appeal               7.0  \n",
       "MTR BIA                           87.0  "
      ]
     },
     "execution_count": 393,
     "metadata": {},
     "output_type": "execute_result"
    }
   ],
   "source": [
    "# check appeal and case types \n",
    "df.groupby(['strAppealTypeDesc', 'case_type_string']).size().unstack().fillna(0) "
   ]
  },
  {
   "cell_type": "code",
   "execution_count": 394,
   "metadata": {
    "collapsed": false
   },
   "outputs": [
    {
     "data": {
      "text/plain": [
       "1    366927\n",
       "0    335341\n",
       "Name: appealed, dtype: int64"
      ]
     },
     "execution_count": 394,
     "metadata": {},
     "output_type": "execute_result"
    }
   ],
   "source": [
    "# filter for relevant appeal types \n",
    "selected_appeal_types = ['Appeal of IJ MTR', 'Case Appeal', 'Circuit Court Remand', 'Interlocutory Appeal', 'MTR BIA'] \n",
    "df['appealed'] = np.where(df['strAppealTypeDesc'].isin(selected_appeal_types), df['appealed'], 0) \n",
    "df['appealed'].value_counts() "
   ]
  },
  {
   "cell_type": "code",
   "execution_count": 395,
   "metadata": {
    "collapsed": false
   },
   "outputs": [
    {
     "data": {
      "text/plain": [
       "1    355238\n",
       "0    347030\n",
       "Name: appealed, dtype: int64"
      ]
     },
     "execution_count": 395,
     "metadata": {},
     "output_type": "execute_result"
    }
   ],
   "source": [
    "# exclude government appeals (defined as original proceeding not granted)\n",
    "df.rename(columns={'grant': 'original_granted'}, inplace=True)\n",
    "df['appealed'] = np.where(df['original_granted'] == 0, df['appealed'], 0) \n",
    "df['appealed'].value_counts() "
   ]
  },
  {
   "cell_type": "code",
   "execution_count": 396,
   "metadata": {
    "collapsed": false
   },
   "outputs": [
    {
     "data": {
      "text/plain": [
       "0    340595\n",
       "1    258782\n",
       "Name: appealed, dtype: int64"
      ]
     },
     "execution_count": 396,
     "metadata": {},
     "output_type": "execute_result"
    }
   ],
   "source": [
    "# de-duplicate multiple appeals (each case-proceeding should be unique) by retaining the last appeal \n",
    "df = df.sort_values(by=['idncase', 'idnProceeding', 'datBIADecision_dt'], \n",
    "                    ascending=[True, True, False])\n",
    "df.drop_duplicates(subset=['idncase', 'idnProceeding'], keep='first', inplace=True)\n",
    "df['appealed'].value_counts() "
   ]
  },
  {
   "cell_type": "code",
   "execution_count": 397,
   "metadata": {
    "collapsed": false
   },
   "outputs": [
    {
     "data": {
      "text/plain": [
       "did_not_appeal       340595\n",
       "appeal_denied        163829\n",
       "appeal_successful     78482\n",
       "appeal_neutral        16471\n",
       "Name: appeal_decision, dtype: int64"
      ]
     },
     "execution_count": 397,
     "metadata": {},
     "output_type": "execute_result"
    }
   ],
   "source": [
    "# determine appeal decision type \n",
    "positive_labels = ['Background Check Remand', 'Grant With No Remand', 'Granted', 'Remand', \n",
    "                   'Sustain', 'Temporary Protected Status', 'Termination']\n",
    "negative_labels = ['Denied', \"Dismiss Appeal/Affirm IJ's Decision\", 'Dismissed (Grant V/D 30 days)', \n",
    "                   'Dismissed (Voluntary Departure Granted)', 'Rejection', 'SUMMARY AFFIRMANCE/VD', \n",
    "                   'Summary Affirmance', 'Summary Dismiss', 'Summary Dismissal (O) Other', \n",
    "                   'Summary Dismissal (a) inad reason on appeal', 'Summary Dismissal - Both (a) & (e)']\n",
    "\n",
    "df['appeal_decision'] = np.where(df['appealed'] == 0, 'did_not_appeal', \n",
    "                                 np.where(df['strBIADecisionDesc'].isin(positive_labels), 'appeal_successful', \n",
    "                                          np.where(df['strBIADecisionDesc'].isin(negative_labels), 'appeal_denied', \n",
    "                                                   'appeal_neutral')))\n",
    "df['appeal_decision'].value_counts()"
   ]
  },
  {
   "cell_type": "code",
   "execution_count": 398,
   "metadata": {
    "collapsed": false
   },
   "outputs": [
    {
     "data": {
      "text/plain": [
       "0    340595\n",
       "1    242311\n",
       "Name: appealed, dtype: int64"
      ]
     },
     "execution_count": 398,
     "metadata": {},
     "output_type": "execute_result"
    }
   ],
   "source": [
    "# exclude appeals with neutral decision outcomes \n",
    "df = df[df['appeal_decision'] != 'appeal_neutral'].copy()  \n",
    "df['appealed'].value_counts() "
   ]
  },
  {
   "cell_type": "markdown",
   "metadata": {},
   "source": [
    "# Split into Appeals vs. Non-Appeals"
   ]
  },
  {
   "cell_type": "code",
   "execution_count": 399,
   "metadata": {
    "collapsed": true
   },
   "outputs": [],
   "source": [
    "# split into those who appealed vs. those who didn't \n",
    "appeals = df[df['appealed'] == 1].copy() \n",
    "non_appeals = df[df['appealed'] == 0].copy() "
   ]
  },
  {
   "cell_type": "code",
   "execution_count": 400,
   "metadata": {
    "collapsed": false
   },
   "outputs": [
    {
     "name": "stdout",
     "output_type": "stream",
     "text": [
      "0.323922034822 of appeal were successful\n"
     ]
    }
   ],
   "source": [
    "# for those that appealed, drop those without mandatory features, and assign binary response label \n",
    "mandatory_features = ['idnAppeal', 'datAppealFiled_year', 'case_type_string'] \n",
    "appeals.dropna(subset=mandatory_features, inplace=True)\n",
    "appeals['granted'] = np.where(appeals['appeal_decision'] == 'appeal_successful', 1, 0) \n",
    "appeals['granted'].astype(int)\n",
    "print(\"{} of appeal were successful\".format(float(appeals['granted'].sum()) / len(appeals)))"
   ]
  },
  {
   "cell_type": "markdown",
   "metadata": {},
   "source": [
    "# Additional Feature Engineering"
   ]
  },
  {
   "cell_type": "markdown",
   "metadata": {},
   "source": [
    "#### Group nationalities and judges with few samples  "
   ]
  },
  {
   "cell_type": "code",
   "execution_count": 401,
   "metadata": {
    "collapsed": true
   },
   "outputs": [],
   "source": [
    "def get_feature_values_to_retain(df, feature_name, min_samples): \n",
    "    \"\"\" Returns a list of feature values that meet min_samples \"\"\"\n",
    "    distinct_values = df[feature_name].value_counts() \n",
    "    retain_values = distinct_values[distinct_values >= min_samples].index.tolist() \n",
    "    print(\"{} distinct values of {} will be retained as unique values, remaining {} will be grouped as other.\".format(\n",
    "        len(retain_values), feature_name, len(distinct_values) - len(retain_values)))\n",
    "    return retain_values "
   ]
  },
  {
   "cell_type": "code",
   "execution_count": 402,
   "metadata": {
    "collapsed": false
   },
   "outputs": [
    {
     "name": "stdout",
     "output_type": "stream",
     "text": [
      "368 distinct values of ij_code will be retained as unique values, remaining 53 will be grouped as other.\n"
     ]
    }
   ],
   "source": [
    "# apply to judges \n",
    "ij_code_to_retain = get_feature_values_to_retain(appeals, feature_name='ij_code', min_samples=50)\n",
    "appeals['ij_code_grouped'] = np.where(appeals['ij_code'].isin(ij_code_to_retain), appeals['ij_code'], 'other')\n",
    "non_appeals['ij_code_grouped'] = np.where(non_appeals['ij_code'].isin(ij_code_to_retain), non_appeals['ij_code'], 'other')"
   ]
  },
  {
   "cell_type": "code",
   "execution_count": 403,
   "metadata": {
    "collapsed": false
   },
   "outputs": [
    {
     "name": "stdout",
     "output_type": "stream",
     "text": [
      "128 distinct values of nat_string will be retained as unique values, remaining 89 will be grouped as other.\n"
     ]
    }
   ],
   "source": [
    "# apply to nationalities \n",
    "nat_string_to_retain = get_feature_values_to_retain(appeals, feature_name='nat_string', min_samples=50)\n",
    "appeals['nat_grouped'] = np.where(appeals['nat_string'].isin(ij_code_to_retain), appeals['nat_string'], 'other')\n",
    "non_appeals['nat_grouped'] = np.where(non_appeals['nat_string'].isin(ij_code_to_retain), non_appeals['nat_string'], 'other')"
   ]
  },
  {
   "cell_type": "markdown",
   "metadata": {},
   "source": [
    "#### Judge Experience "
   ]
  },
  {
   "cell_type": "markdown",
   "metadata": {},
   "source": [
    "As proxied by two variables:  \n",
    "- years_since_appointed = YEAR(Original proceeding decision) - YEAR(Judge Appointment) \n",
    "- years_since_law_school = YEAR(Original proceeding decision) - YEAR(Law School) "
   ]
  },
  {
   "cell_type": "code",
   "execution_count": 404,
   "metadata": {
    "collapsed": true
   },
   "outputs": [],
   "source": [
    "def get_time_delta(df, feature_year_before, feature_year_after, default_value=-1): \n",
    "    \"\"\" Computes difference between feature_year_before and feature_year_after, \n",
    "        filling NaNs and negative values with -1 \"\"\"\n",
    "    time_delta = df[feature_year_after] - df[feature_year_before]\n",
    "    time_delta = np.where((time_delta < 0) | pd.isnull(time_delta), default_value, time_delta)\n",
    "    return time_delta"
   ]
  },
  {
   "cell_type": "code",
   "execution_count": 405,
   "metadata": {
    "collapsed": false
   },
   "outputs": [],
   "source": [
    "# years since judge appointment \n",
    "appeals['years_since_judge_appointment'] = get_time_delta(appeals, 'Year_Appointed_SLR', 'comp_year')\n",
    "non_appeals['years_since_judge_appointment'] = get_time_delta(non_appeals, 'Year_Appointed_SLR', 'comp_year')"
   ]
  },
  {
   "cell_type": "code",
   "execution_count": 406,
   "metadata": {
    "collapsed": true
   },
   "outputs": [],
   "source": [
    "# years since law school \n",
    "appeals['years_since_law_school'] = get_time_delta(appeals, 'Year_Law_school_SLR', 'comp_year')\n",
    "non_appeals['years_since_law_school'] = get_time_delta(non_appeals, 'Year_Law_school_SLR', 'comp_year')"
   ]
  },
  {
   "cell_type": "markdown",
   "metadata": {},
   "source": [
    "#### Average Appeal Grant Rate from Preceeding N Appeals"
   ]
  },
  {
   "cell_type": "code",
   "execution_count": 427,
   "metadata": {
    "collapsed": true
   },
   "outputs": [],
   "source": [
    "def break_into_chunks(data, dimension, max_chunk): \n",
    "    \"\"\" Returns a dictionary of lists to instruct breaking up dataset into suitable chunks, \n",
    "        where resulting rows from self-join on ij_code does not exceed max_df_rows \"\"\"\n",
    "    dimensions = pd.DataFrame(data.groupby(dimension).size().sort_values(ascending=False)) \n",
    "    dimensions = dimensions.rename(columns={0: 'rows'}).reset_index() \n",
    "    dimensions['self_join'] = dimensions['rows'] ** 2\n",
    "    \n",
    "    # stop if dimension has too many rows exceeding max_chunk \n",
    "    exceeds_max_chunk = dimensions[dimensions['self_join'] > max_chunk]\n",
    "    if len(exceeds_max_chunk) > 0: \n",
    "        print(exceeds_max_chunk)\n",
    "        raise ValueError('Dimension has too many rows!') \n",
    "    else: pass \n",
    "    \n",
    "    dimensions['self_join_cumulative'] = dimensions['self_join'].cumsum() \n",
    "    dimensions['chunk'] = np.floor(dimensions['self_join_cumulative'] / max_chunk).astype(int)\n",
    "    chunk_assignments = dimensions.groupby('chunk')[dimension].apply(list).to_dict()\n",
    "    print(\"Split {} labels in {} dimension into {} chunks...\".format(len(dimensions), dimension, \n",
    "                                                                                  len(chunk_assignments)))\n",
    "    return chunk_assignments\n",
    "\n",
    "def compute_last_n_decisions_by_chunk(data_chunk, ref_chunk, dimension, last_n): \n",
    "    \"\"\" Run compute for a given chunk of data \"\"\"\n",
    "    df = data_chunk.merge(ref_chunk, how='left', on=dimension)\n",
    "    results = df[df['datBIADecision_dt'] < df['datAppealFiled_dt']].groupby('idnAppeal').apply(\n",
    "        lambda f: f.head(last_n)['granted'].mean()) \n",
    "    return results \n",
    "\n",
    "def compute_last_n_decisions(data, dimension, new_feature_name, max_chunk=50000000, last_n=10): \n",
    "    \"\"\" Unified method to compute last n decisions \"\"\"\n",
    "    \n",
    "    # get chunk assignments \n",
    "    chunk_assignments = break_into_chunks(data, dimension, max_chunk)\n",
    "    \n",
    "    # initialize empty list \n",
    "    results = [] \n",
    "    start = time.time() \n",
    "    \n",
    "    # loop through each chunk \n",
    "    for chunk, selected in chunk_assignments.iteritems(): \n",
    "        start_chunk = time.time() \n",
    "        data_variables = ['idnAppeal', 'datAppealFiled_dt'] + [dimension]\n",
    "        ref_variables = ['datBIADecision_dt', 'granted'] + [dimension] \n",
    "        data_chunk = data[data[dimension].isin(selected)][data_variables]\n",
    "        ref_chunk = data[data[dimension].isin(selected)][ref_variables].sort_values(\n",
    "            by=[dimension] + ['datBIADecision_dt'], ascending=[True, False])  \n",
    "        result = compute_last_n_decisions_by_chunk(data_chunk, ref_chunk, dimension, last_n)\n",
    "        results.append(result)\n",
    "        print(\"Chunk {} completed in {} seconds\".format(chunk, time.time() - start_chunk))\n",
    "        \n",
    "    print(\"DONE: Last {} decisions computed for {} dimension in {} seconds\".format(last_n, dimension, \n",
    "                                                                             time.time() - start))\n",
    "    \n",
    "    return pd.DataFrame(pd.concat(results), columns=[new_feature_name])  "
   ]
  },
  {
   "cell_type": "code",
   "execution_count": 408,
   "metadata": {
    "collapsed": true
   },
   "outputs": [],
   "source": [
    "appeals_subset = appeals[['idnAppeal', 'datAppealFiled_dt', 'datBIADecision_dt', 'granted', \n",
    "                          'ij_code', 'nat_string', 'ij_code_nat']].copy()"
   ]
  },
  {
   "cell_type": "code",
   "execution_count": 409,
   "metadata": {
    "collapsed": false
   },
   "outputs": [
    {
     "name": "stdout",
     "output_type": "stream",
     "text": [
      "Split 421 labels in ij_code dimension into 7 chunks...\n",
      "Chunk 0 completed in 12.7054569721 seconds\n",
      "Chunk 1 completed in 16.6242520809 seconds\n",
      "Chunk 2 completed in 20.1490130424 seconds\n",
      "Chunk 3 completed in 18.7814161777 seconds\n",
      "Chunk 4 completed in 19.2745049 seconds\n",
      "Chunk 5 completed in 27.7283520699 seconds\n",
      "Chunk 6 completed in 7.37954998016 seconds\n",
      "DONE: Last 10 decisions computed for ij_code dimension in 122.643368006 seconds\n"
     ]
    }
   ],
   "source": [
    "last_10_appeal_grant_by_judge = compute_last_n_decisions(appeals_subset, 'ij_code', 'last_10_appeal_grant_by_judge', \n",
    "                                                         max_chunk=50000000, last_n=10)\n",
    "appeals = appeals.merge(last_10_appeal_grant_by_judge, how='left', left_on='idnAppeal', right_index=True)"
   ]
  },
  {
   "cell_type": "code",
   "execution_count": 429,
   "metadata": {
    "collapsed": false
   },
   "outputs": [
    {
     "name": "stdout",
     "output_type": "stream",
     "text": [
      "Split 19026 labels in ij_code_nat dimension into 2 chunks...\n",
      "Chunk 0 completed in 27.8502919674 seconds\n",
      "Chunk 1 completed in 36.710722208 seconds\n",
      "DONE: Last 10 decisions computed for ij_code_nat dimension in 64.5612590313 seconds\n"
     ]
    }
   ],
   "source": [
    "last_10_appeal_grant_by_judge_nat = compute_last_n_decisions(appeals_subset, 'ij_code_nat', \n",
    "                                                             'last_10_appeal_grant_by_judge_nat', \n",
    "                                                             max_chunk=50000000, last_n=10)\n",
    "appeals = appeals.merge(last_10_appeal_grant_by_judge_nat, how='left', left_on='idnAppeal', right_index=True)"
   ]
  },
  {
   "cell_type": "markdown",
   "metadata": {},
   "source": [
    "# Output to CSV "
   ]
  },
  {
   "cell_type": "code",
   "execution_count": 431,
   "metadata": {
    "collapsed": false
   },
   "outputs": [
    {
     "name": "stdout",
     "output_type": "stream",
     "text": [
      "['Unnamed: 0', u'idncase', u'idnproceeding', u'nat', u'case_type', u'c_asy_type', u'base_city_code', u'hearing_loc_code', u'dec_type', u'dec_code', u'other_comp', u'attorney_flag', u'ij_code', u'tracid', u'case_type_string', u'_mcase', u'dec_type_string', u'_mdectype', u'outcome_recorded_in_field', u'dec_string', u'_mdecproceeddec', u'_mdecproceedoth', u'nat_string', u'_mnat', u'base_city_street', u'base_city_string', u'base_city_state', u'base_city_zip5', u'base_city_zip4', u'base_city_phone', u'_mbasecity', u'hearing_loc_string1', u'hearing_loc_string2', u'hearing_loc_street', u'hearing_loc_city', u'hearing_loc_state', u'hearing_loc_zip5', u'hearing_loc_phone', u'_mhearingloc', u'judge_name_caps', u'_mlookupijcode', u'idncode', u'idnproceedingappln', u'appl_code', u'appl_dec', u'_mappln', u'application_type_string', u'_mapplcode', u'application_dec_string', u'_mappldec', u'cityid', u'judgeid', u'natid', u'comp_year', u'comp_month', u'comp_day', u'comp_date', u'osc_year', u'osc_month', u'osc_day', u'osc_date', u'input_year', u'input_month', u'input_day', u'input_date', u'appl_year', u'appl_month', u'appl_day', u'appl_recd_date', u'strdescription', u'torture', u'asylum', u'waiver', u'child', u'voluntary', 'original_granted', u'deny', u'abandoned', u'withdrawn', u'venue_change', u'deport', u'relief_granted', u'remove', u'terminated', u'voluntary_departure', u'oral', u'written', u'deport_form', u'voluntary_form', u'deportation_proceeding', u'exclusion_proceeding', u'removal_proceeding', u'asylum_only_proceeding', u'withholding_only_proceeding', u'lawyer', u'defensive', u'affirmative', u'mistakegrantdeny', u'idnschedule', u'generation', u'sub_generation', u'rec_type', u'alien_atty_code', u'lang', u'interpreter_code', u'input_time', u'update_date', u'update_time', u'assignment_path', u'continue_flag', u'cal_type', u'adj_date', u'adj_time_start', u'adj_time_stop', u'adj_rsn', u'adj_medium', u'adj_msg', u'adj_elap_days', u'id_1', u'lngsessnid', u'schedule_type', u'notice_code', u'datbatchmodified', u'strcreatedby', u'strmodifiedby', u'blnclockoverride', u'eoirattorneyid', u'idncasedups', u'adj_rsn_string', u'adj_requested_by', u'adj_clock_status', u'_madj', u'cal_type_string', u'_mcaltype', u'notice_code_string', u'_mnotice', u'schedule_type_string', u'_mschedcodes', u'adj_completion_prior_to_hearing', u'adj_case_conversion', u'adj_alien_to_seek_representation', u'adj_merits_hearing', u'adj_to_file', u'adj_preparation', u'adj_consolidation_family', u'government_requested', u'alien_requested', u'either_requested', u'clock_stopped', u'clock_running', u'clock_end', u'individual_cal', u'multiple_cal', u'deportation_notice', u'exclusion_notice', u'removal_notice', u'asylum_only_notice', u'withholding_only_notice', u'custody_notice', u'family_notice', u'initial_notice', u'individual_sched', u'multiple_sched', u'unknown_sched', u'adj_date_stamp', u'adj_year', u'adj_month', u'adj_day', u'adj_input_year', u'adj_input_month', u'adj_input_day', u'adj_input_date', u'adj_osc_year', u'adj_osc_month', u'adj_osc_day', u'adj_osc_date', u'eoirattyid', u'alienattyid', u'langid', u'hearingid', u'basecityid', u'last_hearing_on_comp_date', 'in_dunn', 'idnAppeal', 'idnProceeding', 'strAppealCategory', 'strAppealType', 'datAppealFiled', 'strFiledBy', 'datAttorneyE27', 'datBIADecision', 'strBIADecision', 'strBIADecisionType', 'strCaseType', 'strLang', 'strNat', 'strProceedingIHP', 'strCustody', 'strProbono', 'strAppealCategoryDesc', 'strAppealTypeDesc', 'strBIADecisionDesc', 'strBIADecisionTypeDesc', 'Male_judge', 'Year_Appointed_SLR', 'Year_College_SLR', 'Year_Law_school_SLR', 'Government_Years_SLR', 'Govt_nonINS_SLR', 'INS_Years_SLR', 'Military_Years_SLR', 'NGO_Years_SLR', 'Privateprac_Years_SLR', 'Academia_Years_SLR', 'judge_missing_bio', 'ij_code_nat', 'datAppealFiled_dt', 'datAppealFiled_year', 'datAppealFiled_month', 'datAppealFiled_year_month', 'datBIADecision_dt', 'datBIADecision_year', 'datBIADecision_month', 'datBIADecision_year_month', 'appealed', 'appeal_decision', 'granted', 'ij_code_grouped', 'nat_grouped', 'years_since_judge_appointment', 'years_since_law_school', 'last_10_appeal_grant_by_judge', 'last_10_appeal_grant_by_judge_nat']\n"
     ]
    }
   ],
   "source": [
    "print(appeals.columns.tolist())"
   ]
  },
  {
   "cell_type": "code",
   "execution_count": 432,
   "metadata": {
    "collapsed": true
   },
   "outputs": [],
   "source": [
    "# subset variables to keep \n",
    "variables_to_keep = ['idncase', 'idnproceeding', 'idnAppeal', 'granted', 'nat_string', 'ij_code', 'attorney_flag',\n",
    "                     'lawyer', 'defensive', 'affirmative', 'oral', 'written', 'base_city_code', 'base_city_state', \n",
    "                     'hearing_loc_city', 'hearing_loc_code', 'hearing_loc_state', 'venue_change', \n",
    "                     'comp_year', 'comp_month', 'comp_day', \n",
    "                     'osc_year', 'osc_month', 'osc_day', 'input_year', 'input_month', 'input_day',\n",
    "                     'adj_time_start', 'case_type_string', 'dec_type_string', 'dec_string',\n",
    "                     'deport', 'relief_granted', 'remove', 'terminated', 'voluntary_departure', \n",
    "                     'deport_form', 'voluntary_form', 'deportation_proceeding', \n",
    "                     'exclusion_proceeding', 'removal_proceeding', 'asylum_only_proceeding', \n",
    "                     'withholding_only_proceeding', 'strCustody', 'strProbono', \n",
    "                     'datAppealFiled_year', 'datAppealFiled_month', 'datAppealFiled_year_month', \n",
    "                     'datBIADecision_dt', 'datBIADecision_year', 'datBIADecision_month', \n",
    "                     'datBIADecision_year_month', 'ij_code_grouped', 'nat_grouped', \n",
    "                     'years_since_judge_appointment', 'years_since_law_school', \n",
    "                     'last_10_appeal_grant_by_judge', 'last_10_appeal_grant_by_judge_nat'] "
   ]
  },
  {
   "cell_type": "code",
   "execution_count": 433,
   "metadata": {
    "collapsed": false
   },
   "outputs": [
    {
     "name": "stdout",
     "output_type": "stream",
     "text": [
      "<class 'pandas.core.frame.DataFrame'>\n",
      "Int64Index: 242262 entries, 498640 to 702259\n",
      "Columns: 233 entries, Unnamed: 0 to last_10_appeal_grant_by_judge_nat\n",
      "dtypes: bool(1), datetime64[ns](2), float64(95), int64(43), object(92)\n",
      "memory usage: 430.9+ MB\n"
     ]
    }
   ],
   "source": [
    "# output to csv \n",
    "appeals_fp = os.path.join(DATAFOLDER, 'data_for_model/appeals_data_2018-05-13-v2.csv') \n",
    "appeals[variables_to_keep + ['granted']].to_csv(appeals_fp, encoding='utf-8', index=False)\n",
    "appeals.info() "
   ]
  },
  {
   "cell_type": "code",
   "execution_count": 434,
   "metadata": {
    "collapsed": true
   },
   "outputs": [],
   "source": [
    "# MAYBE TODO: output non-appeals for prediction as well "
   ]
  },
  {
   "cell_type": "markdown",
   "metadata": {},
   "source": [
    "# Ignore Below"
   ]
  },
  {
   "cell_type": "code",
   "execution_count": 435,
   "metadata": {
    "collapsed": false
   },
   "outputs": [],
   "source": [
    "# helper methods for Bayesian adjustment \n",
    "\n",
    "# def calibrate_beta_priors(prior_mean, effective_sample_size): \n",
    "#     \"\"\"\n",
    "#     Takes aggregate rate and return Beta priors (alpha, beta) with prior mean approximating aggregate rate\n",
    "#     with respect to effective sample size chosen \n",
    "#     \"\"\"\n",
    "    \n",
    "#     rounded_rate = np.round(prior_mean, 1)\n",
    "#     alpha = int(rounded_rate * effective_sample_size) \n",
    "#     beta = effective_sample_size - alpha \n",
    "    \n",
    "#     return alpha, beta\n",
    "\n",
    "# def compute_posterior_mean(alpha_prior, beta_prior, num_positives, num_total): \n",
    "#     \"\"\" \n",
    "#     Takes Beta priors (alpha, beta) along with observed data (num_total, num_positives) \n",
    "#     and returns posterior mean \n",
    "#     \"\"\"\n",
    "    \n",
    "#     updated_alpha = alpha_prior + num_positives \n",
    "#     updated_beta = beta_prior + num_total - num_positives \n",
    "    \n",
    "#     posterior_mean = float(updated_alpha) / (updated_alpha + updated_beta)\n",
    "    \n",
    "#     return posterior_mean \n",
    "\n",
    "# def compute_posterior_mean(alpha_prior, beta_prior, num_positives, num_total): \n",
    "#     \"\"\" \n",
    "#     Takes Beta priors (alpha, beta) along with observed data (num_total, num_positives) \n",
    "#     and returns posterior mean \n",
    "#     \"\"\"\n",
    "    \n",
    "#     updated_alpha = alpha_prior + num_positives \n",
    "#     updated_beta = beta_prior + num_total - num_positives \n",
    "    \n",
    "#     posterior_mean = float(updated_alpha) / (updated_alpha + updated_beta)\n",
    "    \n",
    "#     return posterior_mean\n",
    "\n",
    "# def get_beta_adj_rate(prior_mean, num_positives, num_total, prior_effective_size=10): \n",
    "#     \"\"\" \n",
    "#     Takes aggregate mean as a float (from 0 to 1), num_total (integer), and num_positives (integer) \n",
    "#     and return the 'Beta-adjusted' rate. \n",
    "#     Example: if in total 30% of Chinese nationality cases were granted, and a specific judge saw 20 cases \n",
    "#     and granted 14 of them, input aggregate_mean=0.3, num_total=20, and num_positives=14 \n",
    "#     \"\"\"\n",
    "    \n",
    "#     if type(prior_mean) is not float: \n",
    "#         raise ValueError(\"Please enter a float for prior mean!\")\n",
    "        \n",
    "#     if prior_mean < 0 or prior_mean > 1: \n",
    "#         raise ValueError(\"Prior mean must be between 0 and 1!\")\n",
    "            \n",
    "#     alpha_prior, beta_prior = calibrate_beta_priors(prior_mean, prior_effective_size)\n",
    "#     posterior_mean = compute_posterior_mean(alpha_prior, beta_prior, num_positives, num_total)\n",
    "    \n",
    "#     return posterior_mean"
   ]
  },
  {
   "cell_type": "code",
   "execution_count": 436,
   "metadata": {
    "collapsed": false
   },
   "outputs": [],
   "source": [
    "# get_beta_adj_rate(prior_mean=.3, num_positives=14, num_total=20, prior_effective_size=0)"
   ]
  },
  {
   "cell_type": "code",
   "execution_count": 437,
   "metadata": {
    "collapsed": false
   },
   "outputs": [],
   "source": [
    "# def last_year_grant_rate_by_feature(data, feature, last_year_grant_rate, prior_effective_size=10):\n",
    "#     df = data.groupby([feature, 'datBIADecision_dt_year', 'granted'])\\\n",
    "#              .size().unstack().fillna(0).reset_index()\\\n",
    "#              .rename(columns={0:'not_granted', 1:'granted'})\n",
    "#     df = df.merge(last_year_grant_rate, how='left', left_on='datBIADecision_dt_year', right_index=True)\\\n",
    "#            .rename(columns={'datBIADecision_dt_year': 'datBIADecision_dt_year_'}) \n",
    "#     new_feature_name = 'last_year_adj_grant_rate_by_{}'.format(feature)\n",
    "#     df[new_feature_name] = df.apply(\n",
    "#         lambda r: get_beta_adj_rate(r['last_year_grant_rate'], r['granted'], \n",
    "#                                     r['granted'] + r['not_granted'], prior_effective_size), axis=1)\n",
    "#     results = data.merge(df[['datBIADecision_dt_year_', feature, new_feature_name]], how='left', \n",
    "#                          left_on = ['datAppealFiled_dt_year_before', feature],\n",
    "#                          right_on = ['datBIADecision_dt_year_', feature])\\\n",
    "#                   .drop('datBIADecision_dt_year_', axis=1)  \n",
    "                    \n",
    "#     return results "
   ]
  },
  {
   "cell_type": "code",
   "execution_count": 438,
   "metadata": {
    "collapsed": false
   },
   "outputs": [],
   "source": [
    "# appeals_with_last_year = last_year_grant_rate_by_feature(appeals_with_last_year, 'ij_code_grouped', last_year_grant_rate,\n",
    "#                                                          prior_effective_size=10)"
   ]
  },
  {
   "cell_type": "code",
   "execution_count": 439,
   "metadata": {
    "collapsed": false
   },
   "outputs": [],
   "source": [
    "# appeals_with_last_year = last_year_grant_rate_by_feature(appeals_with_last_year, 'nat_string_grouped', last_year_grant_rate,\n",
    "#                                                          prior_effective_size=10)"
   ]
  },
  {
   "cell_type": "code",
   "execution_count": 203,
   "metadata": {
    "collapsed": true
   },
   "outputs": [],
   "source": [
    "# appeals_with_last_year['ij_code_nat'] = appeals_with_last_year['ij_code_grouped'] + '_' + appeals_with_last_year['nat_string_grouped']\n",
    "# appeals_with_last_year = last_year_grant_rate_by_feature(appeals_with_last_year, 'ij_code_nat', last_year_grant_rate,\n",
    "#                                                          prior_effective_size=10)"
   ]
  }
 ],
 "metadata": {
  "kernelspec": {
   "display_name": "Python 2",
   "language": "python",
   "name": "python2"
  },
  "language_info": {
   "codemirror_mode": {
    "name": "ipython",
    "version": 2
   },
   "file_extension": ".py",
   "mimetype": "text/x-python",
   "name": "python",
   "nbconvert_exporter": "python",
   "pygments_lexer": "ipython2",
   "version": "2.7.11"
  }
 },
 "nbformat": 4,
 "nbformat_minor": 1
}
