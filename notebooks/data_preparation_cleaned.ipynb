{
 "cells": [
  {
   "cell_type": "code",
   "execution_count": 1,
   "metadata": {
    "collapsed": true
   },
   "outputs": [],
   "source": [
    "import numpy as np \n",
    "import pandas as pd \n",
    "import random\n",
    "import matplotlib.pyplot as plt \n",
    "import os\n",
    "import time\n",
    "pd.set_option('display.max_rows', 200)\n",
    "%matplotlib inline"
   ]
  },
  {
   "cell_type": "markdown",
   "metadata": {},
   "source": [
    "# Import & Merge Data "
   ]
  },
  {
   "cell_type": "markdown",
   "metadata": {},
   "source": [
    "Imports 3 datasets used for project: (1) Master Proceedings as processed by Dunn, (2) Judge Bios, (3) Appeals"
   ]
  },
  {
   "cell_type": "code",
   "execution_count": 2,
   "metadata": {
    "collapsed": true
   },
   "outputs": [],
   "source": [
    "# define folder where data resides \n",
    "DATAFOLDER = \"~/Documents/data-science-coursework/nyu-ml/project/\""
   ]
  },
  {
   "cell_type": "markdown",
   "metadata": {},
   "source": [
    "### Master Proceedings (processed by Sagent/Dunn)"
   ]
  },
  {
   "cell_type": "code",
   "execution_count": 3,
   "metadata": {
    "collapsed": false
   },
   "outputs": [
    {
     "name": "stdout",
     "output_type": "stream",
     "text": [
      "<class 'pandas.core.frame.DataFrame'>\n",
      "RangeIndex: 602500 entries, 0 to 602499\n",
      "Columns: 181 entries, idncase to last_hearing_on_comp_date\n",
      "dtypes: bool(1), float64(72), int64(38), object(70)\n",
      "memory usage: 828.0+ MB\n",
      "None\n",
      "[u'idncase', u'idnproceeding', u'nat', u'case_type', u'c_asy_type', u'base_city_code', u'hearing_loc_code', u'dec_type', u'dec_code', u'other_comp', u'attorney_flag', u'ij_code', u'tracid', u'case_type_string', u'_mcase', 'original_dec_type_string', u'_mdectype', u'outcome_recorded_in_field', 'original_dec_string', u'_mdecproceeddec', u'_mdecproceedoth', u'nat_string', u'_mnat', u'base_city_street', u'base_city_string', u'base_city_state', u'base_city_zip5', u'base_city_zip4', u'base_city_phone', u'_mbasecity', u'hearing_loc_string1', u'hearing_loc_string2', u'hearing_loc_street', u'hearing_loc_city', u'hearing_loc_state', u'hearing_loc_zip5', u'hearing_loc_phone', u'_mhearingloc', u'judge_name_caps', u'_mlookupijcode', u'idncode', u'idnproceedingappln', u'appl_code', u'appl_dec', u'_mappln', u'application_type_string', u'_mapplcode', u'application_dec_string', u'_mappldec', u'cityid', u'judgeid', u'natid', u'comp_year', u'comp_month', u'comp_day', u'comp_date', u'osc_year', u'osc_month', u'osc_day', u'osc_date', u'input_year', u'input_month', u'input_day', u'input_date', u'appl_year', u'appl_month', u'appl_day', u'appl_recd_date', u'strdescription', u'torture', u'asylum', u'waiver', u'child', u'voluntary', 'original_granted', u'deny', u'abandoned', u'withdrawn', u'venue_change', u'deport', u'relief_granted', u'remove', u'terminated', u'voluntary_departure', u'oral', u'written', u'deport_form', u'voluntary_form', u'deportation_proceeding', u'exclusion_proceeding', u'removal_proceeding', u'asylum_only_proceeding', u'withholding_only_proceeding', u'lawyer', u'defensive', u'affirmative', u'mistakegrantdeny', u'idnschedule', u'generation', u'sub_generation', u'rec_type', u'alien_atty_code', u'lang', u'interpreter_code', u'input_time', u'update_date', u'update_time', u'assignment_path', u'continue_flag', u'cal_type', u'adj_date', u'adj_time_start', u'adj_time_stop', u'adj_rsn', u'adj_medium', u'adj_msg', u'adj_elap_days', u'id_1', u'lngsessnid', u'schedule_type', u'notice_code', u'datbatchmodified', u'strcreatedby', u'strmodifiedby', u'blnclockoverride', u'eoirattorneyid', u'idncasedups', u'adj_rsn_string', u'adj_requested_by', u'adj_clock_status', u'_madj', u'cal_type_string', u'_mcaltype', u'notice_code_string', u'_mnotice', u'schedule_type_string', u'_mschedcodes', u'adj_completion_prior_to_hearing', u'adj_case_conversion', u'adj_alien_to_seek_representation', u'adj_merits_hearing', u'adj_to_file', u'adj_preparation', u'adj_consolidation_family', u'government_requested', u'alien_requested', u'either_requested', u'clock_stopped', u'clock_running', u'clock_end', u'individual_cal', u'multiple_cal', u'deportation_notice', u'exclusion_notice', u'removal_notice', u'asylum_only_notice', u'withholding_only_notice', u'custody_notice', u'family_notice', u'initial_notice', u'individual_sched', u'multiple_sched', u'unknown_sched', u'adj_date_stamp', u'adj_year', u'adj_month', u'adj_day', u'adj_input_year', u'adj_input_month', u'adj_input_day', u'adj_input_date', u'adj_osc_year', u'adj_osc_month', u'adj_osc_day', u'adj_osc_date', u'eoirattyid', u'alienattyid', u'langid', u'hearingid', u'basecityid', u'last_hearing_on_comp_date']\n"
     ]
    }
   ],
   "source": [
    "master_dunn = pd.read_csv(os.path.join(DATAFOLDER, \n",
    "                                       'data/AsylumAdj/data_for_model/_decision_scheduling_merge_final_converted.csv'), \n",
    "                          encoding='latin-1', low_memory=False) # gets UnicodeDecodeError otherwise \n",
    "master_dunn.rename(columns={'dec_type_string': 'original_dec_type_string', \n",
    "                            'dec_string': 'original_dec_string',\n",
    "                            'grant': 'original_granted'}, \n",
    "                   inplace=True)\n",
    "master_dunn.drop('Unnamed: 0', axis=1, inplace=True)\n",
    "print(master_dunn.info()) \n",
    "print(master_dunn.columns.tolist())"
   ]
  },
  {
   "cell_type": "markdown",
   "metadata": {},
   "source": [
    "### Judge Bios "
   ]
  },
  {
   "cell_type": "code",
   "execution_count": 4,
   "metadata": {
    "collapsed": false
   },
   "outputs": [
    {
     "name": "stdout",
     "output_type": "stream",
     "text": [
      "<class 'pandas.core.frame.DataFrame'>\n",
      "RangeIndex: 367 entries, 0 to 366\n",
      "Data columns (total 12 columns):\n",
      "Male_judge               367 non-null float64\n",
      "Year_Appointed_SLR       367 non-null float64\n",
      "Year_College_SLR         367 non-null float64\n",
      "Year_Law_school_SLR      367 non-null float64\n",
      "Government_Years_SLR     367 non-null float64\n",
      "Govt_nonINS_SLR          367 non-null float64\n",
      "INS_Years_SLR            367 non-null float64\n",
      "Military_Years_SLR       367 non-null float64\n",
      "NGO_Years_SLR            367 non-null float64\n",
      "Privateprac_Years_SLR    367 non-null float64\n",
      "Academia_Years_SLR       367 non-null float64\n",
      "ij_code                  367 non-null object\n",
      "dtypes: float64(11), object(1)\n",
      "memory usage: 34.5+ KB\n"
     ]
    }
   ],
   "source": [
    "judge_bio = pd.read_csv(os.path.join(DATAFOLDER, 'data/AsylumAdj/data/cleaned_judge_bios.csv')) \n",
    "judge_bio.info()"
   ]
  },
  {
   "cell_type": "markdown",
   "metadata": {},
   "source": [
    "### Appeals"
   ]
  },
  {
   "cell_type": "code",
   "execution_count": 5,
   "metadata": {
    "collapsed": false
   },
   "outputs": [
    {
     "name": "stdout",
     "output_type": "stream",
     "text": [
      "<class 'pandas.core.frame.DataFrame'>\n",
      "RangeIndex: 870388 entries, 0 to 870387\n",
      "Data columns (total 17 columns):\n",
      "idnAppeal             870388 non-null int64\n",
      "idncase               868758 non-null float64\n",
      "idnProceeding         776380 non-null float64\n",
      "strAppealCategory     870388 non-null object\n",
      "strAppealType         870388 non-null object\n",
      "datAppealFiled        870226 non-null object\n",
      "strFiledBy            870378 non-null object\n",
      "datAttorneyE27        521008 non-null object\n",
      "datBIADecision        847196 non-null object\n",
      "strBIADecision        847180 non-null object\n",
      "strBIADecisionType    822882 non-null object\n",
      "strCaseType           824855 non-null object\n",
      "strLang               773811 non-null object\n",
      "strNat                777004 non-null object\n",
      "strProceedingIHP      367364 non-null object\n",
      "strCustody            666356 non-null object\n",
      "strProbono            1880 non-null object\n",
      "dtypes: float64(2), int64(1), object(14)\n",
      "memory usage: 112.9+ MB\n"
     ]
    }
   ],
   "source": [
    "# import main table \n",
    "tblAppeal = pd.read_csv(os.path.join(DATAFOLDER, 'data/raw/tblAppeal.csv'), low_memory=False) \n",
    "tblAppeal.info()"
   ]
  },
  {
   "cell_type": "code",
   "execution_count": 6,
   "metadata": {
    "collapsed": false
   },
   "outputs": [],
   "source": [
    "# import lookup tables \n",
    "bia_appeal_category = pd.read_excel(os.path.join(DATAFOLDER, 'data/raw/BIA Appeal Data File code translations.xlsx'), \n",
    "                                    sheetname='BIA Appeal Category', skip_footer=7)\n",
    "bia_appeal_type = pd.read_excel(os.path.join(DATAFOLDER, 'data/raw/BIA Appeal Data File code translations.xlsx'),\n",
    "                                sheetname='BIA Appeal Type', skip_footer=3)\n",
    "bia_decision_type = pd.read_excel(os.path.join(DATAFOLDER, 'data/raw/BIA Appeal Data File code translations.xlsx'),\n",
    "                                  sheetname='BIA decision type', skip_footer=2)\n",
    "bia_decision_code = pd.read_excel(os.path.join(DATAFOLDER, 'data/raw/BIA Appeal Data File code translations.xlsx'),\n",
    "                                  sheetname='BIA decision code', skip_footer=2)"
   ]
  },
  {
   "cell_type": "code",
   "execution_count": 7,
   "metadata": {
    "collapsed": false
   },
   "outputs": [],
   "source": [
    "# join them \n",
    "tblAppeal_df = tblAppeal.merge(bia_appeal_category, how='left', left_on='strAppealCategory', right_on='Code')\\\n",
    "                        .rename(columns={'Description': 'strAppealCategoryDesc'}).drop('Code', axis=1)\\\n",
    "                        .merge(bia_appeal_type, how='left', left_on='strAppealType', right_on='Code')\\\n",
    "                        .rename(columns={'Description': 'strAppealTypeDesc'}).drop('Code', axis=1)\\\n",
    "                        .merge(bia_decision_code, how='left', left_on='strBIADecision', right_on='Code')\\\n",
    "                        .rename(columns={'Description': 'strBIADecisionDesc'}).drop('Code', axis=1)\\\n",
    "                        .merge(bia_decision_type, how='left', left_on='strBIADecisionType', right_on='Code')\\\n",
    "                        .rename(columns={'Description': 'strBIADecisionTypeDesc'}).drop('Code', axis=1)"
   ]
  },
  {
   "cell_type": "code",
   "execution_count": 8,
   "metadata": {
    "collapsed": false
   },
   "outputs": [],
   "source": [
    "# drop appeals with no case number, proceeding number, or decision \n",
    "tblAppeal.dropna(subset=['idncase', 'idnProceeding', 'strBIADecision'], inplace=True) \n",
    "tblAppeal = tblAppeal[tblAppeal['idnProceeding'] != 0] # drop zeros "
   ]
  },
  {
   "cell_type": "code",
   "execution_count": 9,
   "metadata": {
    "collapsed": false
   },
   "outputs": [
    {
     "name": "stdout",
     "output_type": "stream",
     "text": [
      "DSO    5994\n",
      "DED    2108\n",
      "CPG    1704\n",
      "ABC    1617\n",
      "APD    1170\n",
      "GRS     433\n",
      "DNS     422\n",
      "ADM     355\n",
      "DMO     238\n",
      "AFD     106\n",
      "CPC      90\n",
      "MB       89\n",
      "SNC      84\n",
      "RET      80\n",
      "ADD      41\n",
      "REV      24\n",
      "TPD      16\n",
      "CGR      16\n",
      "WPD       5\n",
      "SUP       4\n",
      "          4\n",
      "Name: strBIADecision, dtype: int64\n"
     ]
    }
   ],
   "source": [
    "# some strBIADecision don't have corresponding code translations; also drop \n",
    "print(tblAppeal_df[pd.isnull(tblAppeal_df['strBIADecisionDesc'])]['strBIADecision'].value_counts()) \n",
    "tblAppeal_df.dropna(subset=['strBIADecisionDesc'], inplace=True)"
   ]
  },
  {
   "cell_type": "code",
   "execution_count": 10,
   "metadata": {
    "collapsed": false
   },
   "outputs": [
    {
     "name": "stdout",
     "output_type": "stream",
     "text": [
      "<class 'pandas.core.frame.DataFrame'>\n",
      "Int64Index: 832580 entries, 0 to 869457\n",
      "Data columns (total 21 columns):\n",
      "idnAppeal                 832580 non-null int64\n",
      "idncase                   831001 non-null float64\n",
      "idnProceeding             740863 non-null float64\n",
      "strAppealCategory         832580 non-null object\n",
      "strAppealType             832580 non-null object\n",
      "datAppealFiled            832426 non-null object\n",
      "strFiledBy                832570 non-null object\n",
      "datAttorneyE27            494891 non-null object\n",
      "datBIADecision            832580 non-null object\n",
      "strBIADecision            832580 non-null object\n",
      "strBIADecisionType        808914 non-null object\n",
      "strCaseType               787158 non-null object\n",
      "strLang                   738429 non-null object\n",
      "strNat                    741485 non-null object\n",
      "strProceedingIHP          358900 non-null object\n",
      "strCustody                634772 non-null object\n",
      "strProbono                1841 non-null object\n",
      "strAppealCategoryDesc     828892 non-null object\n",
      "strAppealTypeDesc         808478 non-null object\n",
      "strBIADecisionDesc        832580 non-null object\n",
      "strBIADecisionTypeDesc    808407 non-null object\n",
      "dtypes: float64(2), int64(1), object(18)\n",
      "memory usage: 139.7+ MB\n",
      "None\n"
     ]
    },
    {
     "data": {
      "text/html": [
       "<div>\n",
       "<table border=\"1\" class=\"dataframe\">\n",
       "  <thead>\n",
       "    <tr style=\"text-align: right;\">\n",
       "      <th></th>\n",
       "      <th>idnAppeal</th>\n",
       "      <th>idncase</th>\n",
       "      <th>idnProceeding</th>\n",
       "      <th>strAppealCategory</th>\n",
       "      <th>strAppealType</th>\n",
       "      <th>datAppealFiled</th>\n",
       "      <th>strFiledBy</th>\n",
       "      <th>datAttorneyE27</th>\n",
       "      <th>datBIADecision</th>\n",
       "      <th>strBIADecision</th>\n",
       "      <th>...</th>\n",
       "      <th>strCaseType</th>\n",
       "      <th>strLang</th>\n",
       "      <th>strNat</th>\n",
       "      <th>strProceedingIHP</th>\n",
       "      <th>strCustody</th>\n",
       "      <th>strProbono</th>\n",
       "      <th>strAppealCategoryDesc</th>\n",
       "      <th>strAppealTypeDesc</th>\n",
       "      <th>strBIADecisionDesc</th>\n",
       "      <th>strBIADecisionTypeDesc</th>\n",
       "    </tr>\n",
       "  </thead>\n",
       "  <tbody>\n",
       "    <tr>\n",
       "      <th>795227</th>\n",
       "      <td>4969777</td>\n",
       "      <td>6391909.0</td>\n",
       "      <td>5039448.0</td>\n",
       "      <td>IJ</td>\n",
       "      <td>Case Appeal</td>\n",
       "      <td>2011-12-22 00:00:00</td>\n",
       "      <td>A</td>\n",
       "      <td>2011-12-22 00:00:00</td>\n",
       "      <td>2013-04-04 00:00:00</td>\n",
       "      <td>DIS</td>\n",
       "      <td>...</td>\n",
       "      <td>RMV</td>\n",
       "      <td>WEN</td>\n",
       "      <td>CH</td>\n",
       "      <td>NaN</td>\n",
       "      <td>N</td>\n",
       "      <td>NaN</td>\n",
       "      <td>Appeal from Immigration Judge decision</td>\n",
       "      <td>Case Appeal</td>\n",
       "      <td>Dismiss Appeal/Affirm IJ's Decision</td>\n",
       "      <td>Regular Case</td>\n",
       "    </tr>\n",
       "    <tr>\n",
       "      <th>409991</th>\n",
       "      <td>4576055</td>\n",
       "      <td>4460027.0</td>\n",
       "      <td>3040111.0</td>\n",
       "      <td>IJ</td>\n",
       "      <td>Case Appeal</td>\n",
       "      <td>2003-04-30 00:00:00</td>\n",
       "      <td>A</td>\n",
       "      <td>2003-04-30 00:00:00</td>\n",
       "      <td>2004-12-01 00:00:00</td>\n",
       "      <td>DIS</td>\n",
       "      <td>...</td>\n",
       "      <td>RMV</td>\n",
       "      <td>CRE</td>\n",
       "      <td>HA</td>\n",
       "      <td></td>\n",
       "      <td>N</td>\n",
       "      <td>NaN</td>\n",
       "      <td>Appeal from Immigration Judge decision</td>\n",
       "      <td>Case Appeal</td>\n",
       "      <td>Dismiss Appeal/Affirm IJ's Decision</td>\n",
       "      <td>Percuriam Case</td>\n",
       "    </tr>\n",
       "    <tr>\n",
       "      <th>808991</th>\n",
       "      <td>4983649</td>\n",
       "      <td>5532732.0</td>\n",
       "      <td>3986666.0</td>\n",
       "      <td>IJ</td>\n",
       "      <td>MTR BIA</td>\n",
       "      <td>2012-05-21 00:00:00</td>\n",
       "      <td>A</td>\n",
       "      <td>2012-05-21 00:00:00</td>\n",
       "      <td>2012-06-22 00:00:00</td>\n",
       "      <td>TER</td>\n",
       "      <td>...</td>\n",
       "      <td>RMV</td>\n",
       "      <td>MAN</td>\n",
       "      <td>CH</td>\n",
       "      <td>NaN</td>\n",
       "      <td>N</td>\n",
       "      <td>NaN</td>\n",
       "      <td>Appeal from Immigration Judge decision</td>\n",
       "      <td>MTR BIA</td>\n",
       "      <td>Termination</td>\n",
       "      <td>Regular Case</td>\n",
       "    </tr>\n",
       "  </tbody>\n",
       "</table>\n",
       "<p>3 rows × 21 columns</p>\n",
       "</div>"
      ],
      "text/plain": [
       "        idnAppeal    idncase  idnProceeding strAppealCategory strAppealType  \\\n",
       "795227    4969777  6391909.0      5039448.0                IJ   Case Appeal   \n",
       "409991    4576055  4460027.0      3040111.0                IJ   Case Appeal   \n",
       "808991    4983649  5532732.0      3986666.0                IJ       MTR BIA   \n",
       "\n",
       "             datAppealFiled strFiledBy       datAttorneyE27  \\\n",
       "795227  2011-12-22 00:00:00          A  2011-12-22 00:00:00   \n",
       "409991  2003-04-30 00:00:00          A  2003-04-30 00:00:00   \n",
       "808991  2012-05-21 00:00:00          A  2012-05-21 00:00:00   \n",
       "\n",
       "             datBIADecision strBIADecision          ...           strCaseType  \\\n",
       "795227  2013-04-04 00:00:00            DIS          ...                   RMV   \n",
       "409991  2004-12-01 00:00:00            DIS          ...                   RMV   \n",
       "808991  2012-06-22 00:00:00            TER          ...                   RMV   \n",
       "\n",
       "       strLang strNat strProceedingIHP strCustody strProbono  \\\n",
       "795227     WEN     CH              NaN          N        NaN   \n",
       "409991     CRE     HA                           N        NaN   \n",
       "808991     MAN     CH              NaN          N        NaN   \n",
       "\n",
       "                         strAppealCategoryDesc strAppealTypeDesc  \\\n",
       "795227  Appeal from Immigration Judge decision       Case Appeal   \n",
       "409991  Appeal from Immigration Judge decision       Case Appeal   \n",
       "808991  Appeal from Immigration Judge decision           MTR BIA   \n",
       "\n",
       "                         strBIADecisionDesc strBIADecisionTypeDesc  \n",
       "795227  Dismiss Appeal/Affirm IJ's Decision           Regular Case  \n",
       "409991  Dismiss Appeal/Affirm IJ's Decision         Percuriam Case  \n",
       "808991                          Termination           Regular Case  \n",
       "\n",
       "[3 rows x 21 columns]"
      ]
     },
     "execution_count": 10,
     "metadata": {},
     "output_type": "execute_result"
    }
   ],
   "source": [
    "print(tblAppeal_df.info()) \n",
    "tblAppeal_df.sample(3)"
   ]
  },
  {
   "cell_type": "markdown",
   "metadata": {},
   "source": [
    "### Merge Them "
   ]
  },
  {
   "cell_type": "code",
   "execution_count": 11,
   "metadata": {
    "collapsed": false
   },
   "outputs": [],
   "source": [
    "# convert appeal indexes to integers for joins \n",
    "tblAppeal['idncase'] = tblAppeal['idncase'].astype(int) \n",
    "tblAppeal['idnProceeding'] = tblAppeal['idnProceeding'].astype(int) "
   ]
  },
  {
   "cell_type": "code",
   "execution_count": 12,
   "metadata": {
    "collapsed": false
   },
   "outputs": [
    {
     "name": "stdout",
     "output_type": "stream",
     "text": [
      "[u'idncase', u'idnproceeding', u'nat', u'case_type', u'c_asy_type', u'base_city_code', u'hearing_loc_code', u'dec_type', u'dec_code', u'other_comp', u'attorney_flag', u'ij_code', u'tracid', u'case_type_string', u'_mcase', 'original_dec_type_string', u'_mdectype', u'outcome_recorded_in_field', 'original_dec_string', u'_mdecproceeddec', u'_mdecproceedoth', u'nat_string', u'_mnat', u'base_city_street', u'base_city_string', u'base_city_state', u'base_city_zip5', u'base_city_zip4', u'base_city_phone', u'_mbasecity', u'hearing_loc_string1', u'hearing_loc_string2', u'hearing_loc_street', u'hearing_loc_city', u'hearing_loc_state', u'hearing_loc_zip5', u'hearing_loc_phone', u'_mhearingloc', u'judge_name_caps', u'_mlookupijcode', u'idncode', u'idnproceedingappln', u'appl_code', u'appl_dec', u'_mappln', u'application_type_string', u'_mapplcode', u'application_dec_string', u'_mappldec', u'cityid', u'judgeid', u'natid', u'comp_year', u'comp_month', u'comp_day', u'comp_date', u'osc_year', u'osc_month', u'osc_day', u'osc_date', u'input_year', u'input_month', u'input_day', u'input_date', u'appl_year', u'appl_month', u'appl_day', u'appl_recd_date', u'strdescription', u'torture', u'asylum', u'waiver', u'child', u'voluntary', 'original_granted', u'deny', u'abandoned', u'withdrawn', u'venue_change', u'deport', u'relief_granted', u'remove', u'terminated', u'voluntary_departure', u'oral', u'written', u'deport_form', u'voluntary_form', u'deportation_proceeding', u'exclusion_proceeding', u'removal_proceeding', u'asylum_only_proceeding', u'withholding_only_proceeding', u'lawyer', u'defensive', u'affirmative', u'mistakegrantdeny', u'idnschedule', u'generation', u'sub_generation', u'rec_type', u'alien_atty_code', u'lang', u'interpreter_code', u'input_time', u'update_date', u'update_time', u'assignment_path', u'continue_flag', u'cal_type', u'adj_date', u'adj_time_start', u'adj_time_stop', u'adj_rsn', u'adj_medium', u'adj_msg', u'adj_elap_days', u'id_1', u'lngsessnid', u'schedule_type', u'notice_code', u'datbatchmodified', u'strcreatedby', u'strmodifiedby', u'blnclockoverride', u'eoirattorneyid', u'idncasedups', u'adj_rsn_string', u'adj_requested_by', u'adj_clock_status', u'_madj', u'cal_type_string', u'_mcaltype', u'notice_code_string', u'_mnotice', u'schedule_type_string', u'_mschedcodes', u'adj_completion_prior_to_hearing', u'adj_case_conversion', u'adj_alien_to_seek_representation', u'adj_merits_hearing', u'adj_to_file', u'adj_preparation', u'adj_consolidation_family', u'government_requested', u'alien_requested', u'either_requested', u'clock_stopped', u'clock_running', u'clock_end', u'individual_cal', u'multiple_cal', u'deportation_notice', u'exclusion_notice', u'removal_notice', u'asylum_only_notice', u'withholding_only_notice', u'custody_notice', u'family_notice', u'initial_notice', u'individual_sched', u'multiple_sched', u'unknown_sched', u'adj_date_stamp', u'adj_year', u'adj_month', u'adj_day', u'adj_input_year', u'adj_input_month', u'adj_input_day', u'adj_input_date', u'adj_osc_year', u'adj_osc_month', u'adj_osc_day', u'adj_osc_date', u'eoirattyid', u'alienattyid', u'langid', u'hearingid', u'basecityid', u'last_hearing_on_comp_date', 'idnAppeal', 'idnProceeding', 'strAppealCategory', 'strAppealType', 'datAppealFiled', 'strFiledBy', 'datAttorneyE27', 'datBIADecision', 'strBIADecision', 'strBIADecisionType', 'strCaseType', 'strLang', 'strNat', 'strProceedingIHP', 'strCustody', 'strProbono', 'strAppealCategoryDesc', 'strAppealTypeDesc', 'strBIADecisionDesc', 'strBIADecisionTypeDesc', 'Male_judge', 'Year_Appointed_SLR', 'Year_College_SLR', 'Year_Law_school_SLR', 'Government_Years_SLR', 'Govt_nonINS_SLR', 'INS_Years_SLR', 'Military_Years_SLR', 'NGO_Years_SLR', 'Privateprac_Years_SLR', 'Academia_Years_SLR']\n",
      "<class 'pandas.core.frame.DataFrame'>\n",
      "Int64Index: 702268 entries, 0 to 702267\n",
      "Columns: 212 entries, idncase to Academia_Years_SLR\n",
      "dtypes: bool(1), float64(85), int64(38), object(88)\n",
      "memory usage: 1.1+ GB\n"
     ]
    }
   ],
   "source": [
    "# joins datasets \n",
    "df = master_dunn.merge(tblAppeal_df, how='left', \n",
    "                       left_on=['idncase', 'idnproceeding'], right_on=['idncase', 'idnProceeding'])\n",
    "df = df.merge(judge_bio, how='left', on='ij_code')\n",
    "print(df.columns.tolist())\n",
    "df.info()"
   ]
  },
  {
   "cell_type": "markdown",
   "metadata": {},
   "source": [
    "# Summary Stats"
   ]
  },
  {
   "cell_type": "code",
   "execution_count": 13,
   "metadata": {
    "collapsed": true
   },
   "outputs": [],
   "source": [
    "# add/reformat common variables between appeals and non-appeals before splitting them \n",
    "\n",
    "df['judge_missing_bio'] = np.where(pd.isnull(df['Male_judge']), 1, 0)\n",
    "df['ij_code_nat'] = df['ij_code'] + '_' + df['nat_string']\n",
    "\n",
    "df['datAppealFiled_dt'] = pd.to_datetime(df['datAppealFiled'], errors='coerce')\n",
    "df['datAppealFiled_year'] = df['datAppealFiled_dt'].dt.year\n",
    "df['datAppealFiled_month'] = df['datAppealFiled_dt'].dt.month \n",
    "df['datAppealFiled_year_month'] = (df['datAppealFiled_year'] - 1970) + df['datAppealFiled_month']\n",
    "\n",
    "df['datBIADecision_dt'] = pd.to_datetime(df['datBIADecision'], errors='coerce')\n",
    "df['datBIADecision_year'] = df['datBIADecision_dt'].dt.year\n",
    "df['datBIADecision_month'] = df['datBIADecision_dt'].dt.month \n",
    "df['datBIADecision_year_month'] = (df['datBIADecision_year'] - 1970) + df['datBIADecision_month']"
   ]
  },
  {
   "cell_type": "code",
   "execution_count": 14,
   "metadata": {
    "collapsed": false
   },
   "outputs": [
    {
     "name": "stdout",
     "output_type": "stream",
     "text": [
      "Of the 602500 original proceedings, 213731 (35.5%) were granted asylum.\n"
     ]
    }
   ],
   "source": [
    "# check % of original proceedings that were granted \n",
    "original_cases_total = df['idnproceeding'].nunique() \n",
    "original_cases_granted = df[df['original_granted'] == 1]['idnproceeding'].nunique() \n",
    "original_cases_granted_pct = float(original_cases_granted) / original_cases_total\n",
    "print(\"Of the {} original proceedings, {} ({:.1f}%) were granted asylum.\".format(original_cases_total, \n",
    "                                                                                 original_cases_granted,\n",
    "                                                                                 100 * original_cases_granted_pct))"
   ]
  },
  {
   "cell_type": "code",
   "execution_count": 15,
   "metadata": {
    "collapsed": false
   },
   "outputs": [
    {
     "name": "stdout",
     "output_type": "stream",
     "text": [
      "Of the 388769 denied proceedings, 260049 (66.9%) appealed the decision.\n"
     ]
    }
   ],
   "source": [
    "# check % of denied proceedings that appealed \n",
    "denied_cases = df[df['original_granted'] == 0].copy() \n",
    "denied_cases['appealed'] = np.where(pd.notnull(denied_cases['idnAppeal']), 1, 0) \n",
    "denied_cases_total = denied_cases['idnproceeding'].nunique() \n",
    "denied_cases_appealed = denied_cases[denied_cases['appealed'] == 1]['idnproceeding'].nunique() \n",
    "denied_cases_appealed_pct = float(denied_cases_appealed) / denied_cases_total\n",
    "print(\"Of the {} denied proceedings, {} ({:.1f}%) appealed the decision.\".format(denied_cases_total, \n",
    "                                                                                 denied_cases_appealed,\n",
    "                                                                                 100 * denied_cases_appealed_pct))"
   ]
  },
  {
   "cell_type": "markdown",
   "metadata": {},
   "source": [
    "# Finalize Scope of Appeals"
   ]
  },
  {
   "cell_type": "markdown",
   "metadata": {},
   "source": [
    "In this section we will: \n",
    "- Drop appeals outside relevant scope, defined to be ('Appeal of IJ MTR', 'Case Appeal', 'Circuit Court Remand', 'Interlocutory Appeal', 'MTR BIA') \n",
    "- Deduplicate multiple appeals tied to the same proceeding (by taking the appeal with the last BIA Decision) \n",
    "- Drop appeals without mandatory features ('datAppealFiled_year', 'case_type_string') \n",
    "- Group appeal outcomes into 'positive' vs. 'negative' binary labels; a small subset deemed to be 'neutral' (e.g. dismissal due to incomplete paperwork) is also dropped. \n",
    "\n",
    "Note that we also implicitly dropped appeals made by government by subsetting appeals from the denied proceedings (i.e. government is likely to contest verdicts in favor of respondents rather than the opposite). "
   ]
  },
  {
   "cell_type": "code",
   "execution_count": 17,
   "metadata": {
    "collapsed": false
   },
   "outputs": [
    {
     "data": {
      "text/html": [
       "<div>\n",
       "<table border=\"1\" class=\"dataframe\">\n",
       "  <thead>\n",
       "    <tr style=\"text-align: right;\">\n",
       "      <th>case_type_string</th>\n",
       "      <th>ASYLUM ONLY CASE</th>\n",
       "      <th>DEPORTATION</th>\n",
       "      <th>EXCLUSION</th>\n",
       "      <th>REMOVAL</th>\n",
       "      <th>WITHHOLDING ONLY</th>\n",
       "    </tr>\n",
       "    <tr>\n",
       "      <th>strAppealTypeDesc</th>\n",
       "      <th></th>\n",
       "      <th></th>\n",
       "      <th></th>\n",
       "      <th></th>\n",
       "      <th></th>\n",
       "    </tr>\n",
       "  </thead>\n",
       "  <tbody>\n",
       "    <tr>\n",
       "      <th>Appeal of IJ MTR</th>\n",
       "      <td>91.0</td>\n",
       "      <td>2615.0</td>\n",
       "      <td>476.0</td>\n",
       "      <td>2927.0</td>\n",
       "      <td>6.0</td>\n",
       "    </tr>\n",
       "    <tr>\n",
       "      <th>Bond Appeal</th>\n",
       "      <td>10.0</td>\n",
       "      <td>524.0</td>\n",
       "      <td>2.0</td>\n",
       "      <td>2154.0</td>\n",
       "      <td>4.0</td>\n",
       "    </tr>\n",
       "    <tr>\n",
       "      <th>Bond MTR Reconsider</th>\n",
       "      <td>0.0</td>\n",
       "      <td>0.0</td>\n",
       "      <td>0.0</td>\n",
       "      <td>12.0</td>\n",
       "      <td>0.0</td>\n",
       "    </tr>\n",
       "    <tr>\n",
       "      <th>Bond MTR Reinstate</th>\n",
       "      <td>0.0</td>\n",
       "      <td>0.0</td>\n",
       "      <td>0.0</td>\n",
       "      <td>4.0</td>\n",
       "      <td>0.0</td>\n",
       "    </tr>\n",
       "    <tr>\n",
       "      <th>Bond MTR Reopen</th>\n",
       "      <td>0.0</td>\n",
       "      <td>0.0</td>\n",
       "      <td>0.0</td>\n",
       "      <td>10.0</td>\n",
       "      <td>0.0</td>\n",
       "    </tr>\n",
       "    <tr>\n",
       "      <th>Case Appeal</th>\n",
       "      <td>3718.0</td>\n",
       "      <td>64680.0</td>\n",
       "      <td>17779.0</td>\n",
       "      <td>167200.0</td>\n",
       "      <td>770.0</td>\n",
       "    </tr>\n",
       "    <tr>\n",
       "      <th>Circuit Court Remand</th>\n",
       "      <td>176.0</td>\n",
       "      <td>588.0</td>\n",
       "      <td>134.0</td>\n",
       "      <td>6804.0</td>\n",
       "      <td>22.0</td>\n",
       "    </tr>\n",
       "    <tr>\n",
       "      <th>Interlocutory Appeal</th>\n",
       "      <td>4.0</td>\n",
       "      <td>53.0</td>\n",
       "      <td>23.0</td>\n",
       "      <td>377.0</td>\n",
       "      <td>7.0</td>\n",
       "    </tr>\n",
       "    <tr>\n",
       "      <th>MTR BIA</th>\n",
       "      <td>1215.0</td>\n",
       "      <td>21485.0</td>\n",
       "      <td>5667.0</td>\n",
       "      <td>58336.0</td>\n",
       "      <td>82.0</td>\n",
       "    </tr>\n",
       "  </tbody>\n",
       "</table>\n",
       "</div>"
      ],
      "text/plain": [
       "case_type_string      ASYLUM ONLY CASE  DEPORTATION  EXCLUSION   REMOVAL  \\\n",
       "strAppealTypeDesc                                                          \n",
       "Appeal of IJ MTR                  91.0       2615.0      476.0    2927.0   \n",
       "Bond Appeal                       10.0        524.0        2.0    2154.0   \n",
       "Bond MTR Reconsider                0.0          0.0        0.0      12.0   \n",
       "Bond MTR Reinstate                 0.0          0.0        0.0       4.0   \n",
       "Bond MTR Reopen                    0.0          0.0        0.0      10.0   \n",
       "Case Appeal                     3718.0      64680.0    17779.0  167200.0   \n",
       "Circuit Court Remand             176.0        588.0      134.0    6804.0   \n",
       "Interlocutory Appeal               4.0         53.0       23.0     377.0   \n",
       "MTR BIA                         1215.0      21485.0     5667.0   58336.0   \n",
       "\n",
       "case_type_string      WITHHOLDING ONLY  \n",
       "strAppealTypeDesc                       \n",
       "Appeal of IJ MTR                   6.0  \n",
       "Bond Appeal                        4.0  \n",
       "Bond MTR Reconsider                0.0  \n",
       "Bond MTR Reinstate                 0.0  \n",
       "Bond MTR Reopen                    0.0  \n",
       "Case Appeal                      770.0  \n",
       "Circuit Court Remand              22.0  \n",
       "Interlocutory Appeal               7.0  \n",
       "MTR BIA                           82.0  "
      ]
     },
     "execution_count": 17,
     "metadata": {},
     "output_type": "execute_result"
    }
   ],
   "source": [
    "# check appeal and case types \n",
    "appeals = denied_cases[denied_cases['appealed'] == 1]\n",
    "appeals.groupby(['strAppealTypeDesc', 'case_type_string']).size().unstack().fillna(0) "
   ]
  },
  {
   "cell_type": "code",
   "execution_count": 18,
   "metadata": {
    "collapsed": false
   },
   "outputs": [
    {
     "name": "stdout",
     "output_type": "stream",
     "text": [
      "After filtering for relevant appeal types, 355238 rows remain\n"
     ]
    }
   ],
   "source": [
    "# filter for relevant appeal types \n",
    "selected_appeal_types = ['Appeal of IJ MTR', 'Case Appeal', 'Circuit Court Remand', 'Interlocutory Appeal', 'MTR BIA'] \n",
    "appeals = appeals[appeals['strAppealTypeDesc'].isin(selected_appeal_types)] \n",
    "print(\"After filtering for relevant appeal types, {} rows remain\".format(len(appeals)))"
   ]
  },
  {
   "cell_type": "code",
   "execution_count": 19,
   "metadata": {
    "collapsed": false
   },
   "outputs": [
    {
     "name": "stdout",
     "output_type": "stream",
     "text": [
      "After deduplicating multiple appeals, 259029 rows remain\n"
     ]
    }
   ],
   "source": [
    "# de-duplicate multiple appeals (each case-proceeding should be unique) by retaining the last appeal \n",
    "appeals = appeals.sort_values(by=['idncase', 'idnProceeding', 'datBIADecision_dt'], \n",
    "                              ascending=[True, True, False])\n",
    "appeals.drop_duplicates(subset=['idncase', 'idnProceeding'], keep='first', inplace=True)\n",
    "print(\"After deduplicating multiple appeals, {} rows remain\".format(len(appeals)))"
   ]
  },
  {
   "cell_type": "code",
   "execution_count": 20,
   "metadata": {
    "collapsed": false
   },
   "outputs": [
    {
     "name": "stdout",
     "output_type": "stream",
     "text": [
      "After dropping appeals without mandatory features, 258975 rows remain\n"
     ]
    }
   ],
   "source": [
    "# drop appeals without mandatory features \n",
    "mandatory_features = ['datAppealFiled_year', 'case_type_string'] \n",
    "appeals.dropna(subset=mandatory_features, inplace=True)\n",
    "print(\"After dropping appeals without mandatory features, {} rows remain\".format(len(appeals)))"
   ]
  },
  {
   "cell_type": "code",
   "execution_count": 21,
   "metadata": {
    "collapsed": false
   },
   "outputs": [
    {
     "name": "stdout",
     "output_type": "stream",
     "text": [
      "After dropping appeals with neutral outcomes, 242466 rows remain\n"
     ]
    }
   ],
   "source": [
    "# designate appeal decision type \n",
    "positive_labels = ['Background Check Remand', 'Grant With No Remand', 'Granted', 'Remand', \n",
    "                   'Sustain', 'Temporary Protected Status', 'Termination']\n",
    "negative_labels = ['Denied', \"Dismiss Appeal/Affirm IJ's Decision\", 'Dismissed (Grant V/D 30 days)', \n",
    "                   'Dismissed (Voluntary Departure Granted)', 'Rejection', 'SUMMARY AFFIRMANCE/VD', \n",
    "                   'Summary Affirmance', 'Summary Dismiss', 'Summary Dismissal (O) Other', \n",
    "                   'Summary Dismissal (a) inad reason on appeal', 'Summary Dismissal - Both (a) & (e)']\n",
    "appeals['granted'] = np.where(appeals['strBIADecisionDesc'].isin(positive_labels), 1, \n",
    "                              np.where(appeals['strBIADecisionDesc'].isin(negative_labels), 0, None))\n",
    "appeals.dropna(subset=['granted'], inplace=True)\n",
    "print(\"After dropping appeals with neutral outcomes, {} rows remain\".format(len(appeals)))"
   ]
  },
  {
   "cell_type": "code",
   "execution_count": 22,
   "metadata": {
    "collapsed": false
   },
   "outputs": [
    {
     "name": "stdout",
     "output_type": "stream",
     "text": [
      "Of the 242466 appeals, 78522 (32.4%) were successful.\n"
     ]
    }
   ],
   "source": [
    "# summarize appeal outcomes \n",
    "total_appeals = len(appeals)\n",
    "successful_appeals = appeals['granted'].sum() \n",
    "successful_appeals_pct = float(successful_appeals) / total_appeals\n",
    "print(\"Of the {} appeals, {} ({:.1f}%) were successful.\".format(total_appeals, successful_appeals, \n",
    "                                                                successful_appeals_pct * 100))"
   ]
  },
  {
   "cell_type": "markdown",
   "metadata": {},
   "source": [
    "# Additional Feature Engineering"
   ]
  },
  {
   "cell_type": "markdown",
   "metadata": {},
   "source": [
    "#### Group nationalities and judges with few samples  "
   ]
  },
  {
   "cell_type": "code",
   "execution_count": null,
   "metadata": {
    "collapsed": true
   },
   "outputs": [],
   "source": [
    "def get_feature_values_to_retain(df, feature_name, min_samples): \n",
    "    \"\"\" Returns a list of feature values that meet min_samples \"\"\"\n",
    "    distinct_values = df[feature_name].value_counts() \n",
    "    retain_values = distinct_values[distinct_values >= min_samples].index.tolist() \n",
    "    print(\"{} distinct values of {} will be retained as unique values, remaining {} will be grouped as other.\".format(\n",
    "        len(retain_values), feature_name, len(distinct_values) - len(retain_values)))\n",
    "    return retain_values "
   ]
  },
  {
   "cell_type": "code",
   "execution_count": null,
   "metadata": {
    "collapsed": false
   },
   "outputs": [],
   "source": [
    "# apply to judges \n",
    "ij_code_to_retain = get_feature_values_to_retain(appeals, feature_name='ij_code', min_samples=50)\n",
    "appeals['ij_code_grouped'] = np.where(appeals['ij_code'].isin(ij_code_to_retain), appeals['ij_code'], 'other')\n",
    "non_appeals['ij_code_grouped'] = np.where(non_appeals['ij_code'].isin(ij_code_to_retain), non_appeals['ij_code'], 'other')"
   ]
  },
  {
   "cell_type": "code",
   "execution_count": null,
   "metadata": {
    "collapsed": false
   },
   "outputs": [],
   "source": [
    "# apply to nationalities \n",
    "nat_string_to_retain = get_feature_values_to_retain(appeals, feature_name='nat_string', min_samples=50)\n",
    "appeals['nat_grouped'] = np.where(appeals['nat_string'].isin(nat_string_to_retain), appeals['nat_string'], 'other')\n",
    "non_appeals['nat_grouped'] = np.where(non_appeals['nat_string'].isin(nat_string_to_retain), non_appeals['nat_string'], 'other')"
   ]
  },
  {
   "cell_type": "code",
   "execution_count": null,
   "metadata": {
    "collapsed": false
   },
   "outputs": [],
   "source": [
    "# apply to judge-nationalities \n",
    "ij_code_nat_to_retain = get_feature_values_to_retain(appeals, feature_name='ij_code_nat', min_samples=50)\n",
    "appeals['ij_code_nat_grouped'] = np.where(appeals['ij_code_nat'].isin(ij_code_nat_to_retain), appeals['ij_code_nat'], 'other')\n",
    "non_appeals['ij_code_nat_grouped'] = np.where(non_appeals['ij_code_nat'].isin(ij_code_nat_to_retain), non_appeals['ij_code_nat'], 'other')"
   ]
  },
  {
   "cell_type": "code",
   "execution_count": null,
   "metadata": {
    "collapsed": false
   },
   "outputs": [],
   "source": [
    "# apply to hearing_loc_code\n",
    "hearing_loc_code_to_retain = get_feature_values_to_retain(appeals, feature_name='hearing_loc_code', min_samples=50)\n",
    "appeals['hearing_loc_code_grouped'] = np.where(appeals['hearing_loc_code'].isin(hearing_loc_code_to_retain), appeals['hearing_loc_code'], 'other')\n",
    "non_appeals['hearing_loc_code_grouped'] = np.where(non_appeals['hearing_loc_code'].isin(hearing_loc_code_to_retain), non_appeals['hearing_loc_code'], 'other')"
   ]
  },
  {
   "cell_type": "markdown",
   "metadata": {},
   "source": [
    "#### Judge Experience "
   ]
  },
  {
   "cell_type": "markdown",
   "metadata": {},
   "source": [
    "As proxied by two variables:  \n",
    "- years_since_appointed = YEAR(Original proceeding decision) - YEAR(Judge Appointment) \n",
    "- years_since_law_school = YEAR(Original proceeding decision) - YEAR(Law School) "
   ]
  },
  {
   "cell_type": "code",
   "execution_count": null,
   "metadata": {
    "collapsed": true
   },
   "outputs": [],
   "source": [
    "def get_time_delta(df, feature_year_before, feature_year_after, default_value=-1): \n",
    "    \"\"\" Computes difference between feature_year_before and feature_year_after, \n",
    "        filling NaNs and negative values with -1 \"\"\"\n",
    "    time_delta = df[feature_year_after] - df[feature_year_before]\n",
    "    time_delta = np.where((time_delta < 0) | pd.isnull(time_delta), default_value, time_delta)\n",
    "    return time_delta"
   ]
  },
  {
   "cell_type": "code",
   "execution_count": null,
   "metadata": {
    "collapsed": false
   },
   "outputs": [],
   "source": [
    "# years since judge appointment \n",
    "appeals['years_since_judge_appointment'] = get_time_delta(appeals, 'Year_Appointed_SLR', 'comp_year')\n",
    "non_appeals['years_since_judge_appointment'] = get_time_delta(non_appeals, 'Year_Appointed_SLR', 'comp_year')"
   ]
  },
  {
   "cell_type": "code",
   "execution_count": null,
   "metadata": {
    "collapsed": true
   },
   "outputs": [],
   "source": [
    "# years since law school \n",
    "appeals['years_since_law_school'] = get_time_delta(appeals, 'Year_Law_school_SLR', 'comp_year')\n",
    "non_appeals['years_since_law_school'] = get_time_delta(non_appeals, 'Year_Law_school_SLR', 'comp_year')"
   ]
  },
  {
   "cell_type": "markdown",
   "metadata": {},
   "source": [
    "#### Average Appeal Grant Rate from Preceeding N Appeals"
   ]
  },
  {
   "cell_type": "code",
   "execution_count": null,
   "metadata": {
    "collapsed": true
   },
   "outputs": [],
   "source": [
    "def break_into_chunks(data, dimension, max_chunk): \n",
    "    \"\"\" Returns a dictionary of lists to instruct breaking up dataset into suitable chunks, \n",
    "        where resulting rows from self-join on ij_code does not exceed max_df_rows \"\"\"\n",
    "    dimensions = pd.DataFrame(data.groupby(dimension).size().sort_values(ascending=False)) \n",
    "    dimensions = dimensions.rename(columns={0: 'rows'}).reset_index() \n",
    "    dimensions['self_join'] = dimensions['rows'] ** 2\n",
    "    \n",
    "    # stop if dimension has too many rows exceeding max_chunk \n",
    "    exceeds_max_chunk = dimensions[dimensions['self_join'] > max_chunk]\n",
    "    if len(exceeds_max_chunk) > 0: \n",
    "        print(exceeds_max_chunk)\n",
    "        raise ValueError('Dimension has too many rows!') \n",
    "    else: pass \n",
    "    \n",
    "    dimensions['self_join_cumulative'] = dimensions['self_join'].cumsum() \n",
    "    dimensions['chunk'] = np.floor(dimensions['self_join_cumulative'] / max_chunk).astype(int)\n",
    "    chunk_assignments = dimensions.groupby('chunk')[dimension].apply(list).to_dict()\n",
    "    print(\"Split {} labels in {} dimension into {} chunks...\".format(len(dimensions), dimension, \n",
    "                                                                                  len(chunk_assignments)))\n",
    "    return chunk_assignments\n",
    "\n",
    "def compute_last_n_decisions_by_chunk(data_chunk, ref_chunk, dimension, last_n): \n",
    "    \"\"\" Run compute for a given chunk of data \"\"\"\n",
    "    df = data_chunk.merge(ref_chunk, how='left', on=dimension)\n",
    "    results = df[df['datBIADecision_dt'] < df['datAppealFiled_dt']].groupby('idnAppeal').apply(\n",
    "        lambda f: f.head(last_n)['granted'].mean()) \n",
    "    return results \n",
    "\n",
    "def compute_last_n_decisions(data, dimension, new_feature_name, max_chunk=50000000, last_n=10): \n",
    "    \"\"\" Unified method to compute last n decisions \"\"\"\n",
    "    \n",
    "    # get chunk assignments \n",
    "    chunk_assignments = break_into_chunks(data, dimension, max_chunk)\n",
    "    \n",
    "    # initialize empty list \n",
    "    results = [] \n",
    "    start = time.time() \n",
    "    \n",
    "    # loop through each chunk \n",
    "    for chunk, selected in chunk_assignments.iteritems(): \n",
    "        start_chunk = time.time() \n",
    "        data_variables = ['idnAppeal', 'datAppealFiled_dt'] + [dimension]\n",
    "        ref_variables = ['datBIADecision_dt', 'granted'] + [dimension] \n",
    "        data_chunk = data[data[dimension].isin(selected)][data_variables]\n",
    "        ref_chunk = data[data[dimension].isin(selected)][ref_variables].sort_values(\n",
    "            by=[dimension] + ['datBIADecision_dt'], ascending=[True, False])  \n",
    "        result = compute_last_n_decisions_by_chunk(data_chunk, ref_chunk, dimension, last_n)\n",
    "        results.append(result)\n",
    "        print(\"Chunk {} completed in {} seconds\".format(chunk, time.time() - start_chunk))\n",
    "        \n",
    "    print(\"DONE: Last {} decisions computed for {} dimension in {} seconds\".format(last_n, dimension, \n",
    "                                                                             time.time() - start))\n",
    "    \n",
    "    return pd.DataFrame(pd.concat(results), columns=[new_feature_name])  "
   ]
  },
  {
   "cell_type": "code",
   "execution_count": null,
   "metadata": {
    "collapsed": false
   },
   "outputs": [],
   "source": [
    "appeals_subset = appeals[['idnAppeal', 'datAppealFiled_dt', 'datBIADecision_dt', 'granted', \n",
    "                          'ij_code_grouped', 'nat_grouped', 'ij_code_nat']].copy()"
   ]
  },
  {
   "cell_type": "code",
   "execution_count": null,
   "metadata": {
    "collapsed": false
   },
   "outputs": [],
   "source": [
    "last_10_appeal_grant_by_judge = compute_last_n_decisions(appeals_subset, 'ij_code_grouped', \n",
    "                                                         'last_10_appeal_grant_by_judge', \n",
    "                                                         max_chunk=50000000, last_n=10)\n",
    "appeals = appeals.merge(last_10_appeal_grant_by_judge, how='left', left_on='idnAppeal', right_index=True)"
   ]
  },
  {
   "cell_type": "code",
   "execution_count": null,
   "metadata": {
    "collapsed": false
   },
   "outputs": [],
   "source": [
    "last_10_appeal_grant_by_judge_nat = compute_last_n_decisions(appeals_subset, 'ij_code_nat', \n",
    "                                                             'last_10_appeal_grant_by_judge_nat', \n",
    "                                                             max_chunk=50000000, last_n=10)\n",
    "appeals = appeals.merge(last_10_appeal_grant_by_judge_nat, how='left', left_on='idnAppeal', right_index=True)"
   ]
  },
  {
   "cell_type": "markdown",
   "metadata": {},
   "source": [
    "# Output to CSV "
   ]
  },
  {
   "cell_type": "code",
   "execution_count": null,
   "metadata": {
    "collapsed": false
   },
   "outputs": [],
   "source": [
    "print(appeals.columns.tolist())"
   ]
  },
  {
   "cell_type": "code",
   "execution_count": null,
   "metadata": {
    "collapsed": true
   },
   "outputs": [],
   "source": [
    "# subset variables to keep \n",
    "variables_to_keep = ['idncase', 'idnproceeding', 'idnAppeal', 'nat_string', 'ij_code', 'attorney_flag',\n",
    "                     'lawyer', 'defensive', 'affirmative', 'oral', 'written', 'base_city_code', 'base_city_state', \n",
    "                     'hearing_loc_city', 'hearing_loc_code', 'hearing_loc_state', 'venue_change', \n",
    "                     'comp_year', 'comp_month', 'comp_day', \n",
    "                     'osc_year', 'osc_month', 'osc_day', 'input_year', 'input_month', 'input_day',\n",
    "                     'adj_time_start', 'case_type_string', 'original_dec_type_string', 'original_dec_string',\n",
    "                     'deport', 'relief_granted', 'remove', 'terminated', 'voluntary_departure', \n",
    "                     'deport_form', 'voluntary_form', 'deportation_proceeding', \n",
    "                     'exclusion_proceeding', 'removal_proceeding', 'asylum_only_proceeding', \n",
    "                     'withholding_only_proceeding', 'strCustody', 'strProbono', \n",
    "                     'datAppealFiled_year', 'datAppealFiled_month', 'datAppealFiled_year_month', \n",
    "                     'datBIADecision_dt', 'datBIADecision_year', 'datBIADecision_month', \n",
    "                     'datBIADecision_year_month', 'ij_code_grouped', 'nat_grouped', 'ij_code_nat', \n",
    "                     'ij_code_nat_grouped', 'hearing_loc_code_grouped', \n",
    "                     'years_since_judge_appointment', 'years_since_law_school', \n",
    "                     'last_10_appeal_grant_by_judge', 'last_10_appeal_grant_by_judge_nat'] "
   ]
  },
  {
   "cell_type": "code",
   "execution_count": null,
   "metadata": {
    "collapsed": false
   },
   "outputs": [],
   "source": [
    "# output to csv \n",
    "appeals_fp = os.path.join(DATAFOLDER, 'data_for_model/appeals_data_2018-05-13-v6.csv') \n",
    "appeals[variables_to_keep + ['granted']].to_csv(appeals_fp, encoding='utf-8', index=False)\n",
    "appeals.info() "
   ]
  },
  {
   "cell_type": "code",
   "execution_count": null,
   "metadata": {
    "collapsed": true
   },
   "outputs": [],
   "source": [
    "# MAYBE TODO: output non-appeals for prediction as well "
   ]
  },
  {
   "cell_type": "markdown",
   "metadata": {},
   "source": [
    "# Ignore Below"
   ]
  },
  {
   "cell_type": "code",
   "execution_count": null,
   "metadata": {
    "collapsed": false
   },
   "outputs": [],
   "source": [
    "# helper methods for Bayesian adjustment \n",
    "\n",
    "# def calibrate_beta_priors(prior_mean, effective_sample_size): \n",
    "#     \"\"\"\n",
    "#     Takes aggregate rate and return Beta priors (alpha, beta) with prior mean approximating aggregate rate\n",
    "#     with respect to effective sample size chosen \n",
    "#     \"\"\"\n",
    "    \n",
    "#     rounded_rate = np.round(prior_mean, 1)\n",
    "#     alpha = int(rounded_rate * effective_sample_size) \n",
    "#     beta = effective_sample_size - alpha \n",
    "    \n",
    "#     return alpha, beta\n",
    "\n",
    "# def compute_posterior_mean(alpha_prior, beta_prior, num_positives, num_total): \n",
    "#     \"\"\" \n",
    "#     Takes Beta priors (alpha, beta) along with observed data (num_total, num_positives) \n",
    "#     and returns posterior mean \n",
    "#     \"\"\"\n",
    "    \n",
    "#     updated_alpha = alpha_prior + num_positives \n",
    "#     updated_beta = beta_prior + num_total - num_positives \n",
    "    \n",
    "#     posterior_mean = float(updated_alpha) / (updated_alpha + updated_beta)\n",
    "    \n",
    "#     return posterior_mean \n",
    "\n",
    "# def compute_posterior_mean(alpha_prior, beta_prior, num_positives, num_total): \n",
    "#     \"\"\" \n",
    "#     Takes Beta priors (alpha, beta) along with observed data (num_total, num_positives) \n",
    "#     and returns posterior mean \n",
    "#     \"\"\"\n",
    "    \n",
    "#     updated_alpha = alpha_prior + num_positives \n",
    "#     updated_beta = beta_prior + num_total - num_positives \n",
    "    \n",
    "#     posterior_mean = float(updated_alpha) / (updated_alpha + updated_beta)\n",
    "    \n",
    "#     return posterior_mean\n",
    "\n",
    "# def get_beta_adj_rate(prior_mean, num_positives, num_total, prior_effective_size=10): \n",
    "#     \"\"\" \n",
    "#     Takes aggregate mean as a float (from 0 to 1), num_total (integer), and num_positives (integer) \n",
    "#     and return the 'Beta-adjusted' rate. \n",
    "#     Example: if in total 30% of Chinese nationality cases were granted, and a specific judge saw 20 cases \n",
    "#     and granted 14 of them, input aggregate_mean=0.3, num_total=20, and num_positives=14 \n",
    "#     \"\"\"\n",
    "    \n",
    "#     if type(prior_mean) is not float: \n",
    "#         raise ValueError(\"Please enter a float for prior mean!\")\n",
    "        \n",
    "#     if prior_mean < 0 or prior_mean > 1: \n",
    "#         raise ValueError(\"Prior mean must be between 0 and 1!\")\n",
    "            \n",
    "#     alpha_prior, beta_prior = calibrate_beta_priors(prior_mean, prior_effective_size)\n",
    "#     posterior_mean = compute_posterior_mean(alpha_prior, beta_prior, num_positives, num_total)\n",
    "    \n",
    "#     return posterior_mean"
   ]
  },
  {
   "cell_type": "code",
   "execution_count": null,
   "metadata": {
    "collapsed": false
   },
   "outputs": [],
   "source": [
    "# get_beta_adj_rate(prior_mean=.3, num_positives=14, num_total=20, prior_effective_size=0)"
   ]
  },
  {
   "cell_type": "code",
   "execution_count": null,
   "metadata": {
    "collapsed": false
   },
   "outputs": [],
   "source": [
    "# def last_year_grant_rate_by_feature(data, feature, last_year_grant_rate, prior_effective_size=10):\n",
    "#     df = data.groupby([feature, 'datBIADecision_dt_year', 'granted'])\\\n",
    "#              .size().unstack().fillna(0).reset_index()\\\n",
    "#              .rename(columns={0:'not_granted', 1:'granted'})\n",
    "#     df = df.merge(last_year_grant_rate, how='left', left_on='datBIADecision_dt_year', right_index=True)\\\n",
    "#            .rename(columns={'datBIADecision_dt_year': 'datBIADecision_dt_year_'}) \n",
    "#     new_feature_name = 'last_year_adj_grant_rate_by_{}'.format(feature)\n",
    "#     df[new_feature_name] = df.apply(\n",
    "#         lambda r: get_beta_adj_rate(r['last_year_grant_rate'], r['granted'], \n",
    "#                                     r['granted'] + r['not_granted'], prior_effective_size), axis=1)\n",
    "#     results = data.merge(df[['datBIADecision_dt_year_', feature, new_feature_name]], how='left', \n",
    "#                          left_on = ['datAppealFiled_dt_year_before', feature],\n",
    "#                          right_on = ['datBIADecision_dt_year_', feature])\\\n",
    "#                   .drop('datBIADecision_dt_year_', axis=1)  \n",
    "                    \n",
    "#     return results "
   ]
  },
  {
   "cell_type": "code",
   "execution_count": null,
   "metadata": {
    "collapsed": false
   },
   "outputs": [],
   "source": [
    "# appeals_with_last_year = last_year_grant_rate_by_feature(appeals_with_last_year, 'ij_code_grouped', last_year_grant_rate,\n",
    "#                                                          prior_effective_size=10)"
   ]
  },
  {
   "cell_type": "code",
   "execution_count": null,
   "metadata": {
    "collapsed": false
   },
   "outputs": [],
   "source": [
    "# appeals_with_last_year = last_year_grant_rate_by_feature(appeals_with_last_year, 'nat_string_grouped', last_year_grant_rate,\n",
    "#                                                          prior_effective_size=10)"
   ]
  },
  {
   "cell_type": "code",
   "execution_count": null,
   "metadata": {
    "collapsed": true
   },
   "outputs": [],
   "source": [
    "# appeals_with_last_year['ij_code_nat'] = appeals_with_last_year['ij_code_grouped'] + '_' + appeals_with_last_year['nat_string_grouped']\n",
    "# appeals_with_last_year = last_year_grant_rate_by_feature(appeals_with_last_year, 'ij_code_nat', last_year_grant_rate,\n",
    "#                                                          prior_effective_size=10)"
   ]
  }
 ],
 "metadata": {
  "kernelspec": {
   "display_name": "Python 2",
   "language": "python",
   "name": "python2"
  },
  "language_info": {
   "codemirror_mode": {
    "name": "ipython",
    "version": 2
   },
   "file_extension": ".py",
   "mimetype": "text/x-python",
   "name": "python",
   "nbconvert_exporter": "python",
   "pygments_lexer": "ipython2",
   "version": "2.7.11"
  }
 },
 "nbformat": 4,
 "nbformat_minor": 1
}
