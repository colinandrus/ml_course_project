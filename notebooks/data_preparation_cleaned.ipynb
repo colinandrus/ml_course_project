{
 "cells": [
  {
   "cell_type": "code",
   "execution_count": 1,
   "metadata": {
    "collapsed": true
   },
   "outputs": [],
   "source": [
    "import numpy as np \n",
    "import pandas as pd \n",
    "import random\n",
    "import matplotlib.pyplot as plt \n",
    "import os\n",
    "import time\n",
    "pd.set_option('display.max_rows', 200)\n",
    "%matplotlib inline"
   ]
  },
  {
   "cell_type": "markdown",
   "metadata": {},
   "source": [
    "# Import & Merge Data "
   ]
  },
  {
   "cell_type": "markdown",
   "metadata": {},
   "source": [
    "Imports 3 datasets used for project: (1) Master Proceedings as processed by Dunn, (2) Judge Bios, (3) Appeals"
   ]
  },
  {
   "cell_type": "code",
   "execution_count": 2,
   "metadata": {
    "collapsed": true
   },
   "outputs": [],
   "source": [
    "# define folder where data resides \n",
    "DATAFOLDER = \"~/Documents/data-science-coursework/nyu-ml/project/\""
   ]
  },
  {
   "cell_type": "markdown",
   "metadata": {},
   "source": [
    "### Master Proceedings (processed by Sagent/Dunn)"
   ]
  },
  {
   "cell_type": "code",
   "execution_count": 3,
   "metadata": {
    "collapsed": false
   },
   "outputs": [
    {
     "name": "stdout",
     "output_type": "stream",
     "text": [
      "<class 'pandas.core.frame.DataFrame'>\n",
      "RangeIndex: 602500 entries, 0 to 602499\n",
      "Columns: 181 entries, idncase to last_hearing_on_comp_date\n",
      "dtypes: bool(1), float64(72), int64(38), object(70)\n",
      "memory usage: 828.0+ MB\n",
      "None\n",
      "[u'idncase', u'idnproceeding', u'nat', u'case_type', u'c_asy_type', u'base_city_code', u'hearing_loc_code', u'dec_type', u'dec_code', u'other_comp', u'attorney_flag', u'ij_code', u'tracid', u'case_type_string', u'_mcase', 'original_dec_type_string', u'_mdectype', u'outcome_recorded_in_field', 'original_dec_string', u'_mdecproceeddec', u'_mdecproceedoth', u'nat_string', u'_mnat', u'base_city_street', u'base_city_string', u'base_city_state', u'base_city_zip5', u'base_city_zip4', u'base_city_phone', u'_mbasecity', u'hearing_loc_string1', u'hearing_loc_string2', u'hearing_loc_street', u'hearing_loc_city', u'hearing_loc_state', u'hearing_loc_zip5', u'hearing_loc_phone', u'_mhearingloc', u'judge_name_caps', u'_mlookupijcode', u'idncode', u'idnproceedingappln', u'appl_code', u'appl_dec', u'_mappln', u'application_type_string', u'_mapplcode', u'application_dec_string', u'_mappldec', u'cityid', u'judgeid', u'natid', u'comp_year', u'comp_month', u'comp_day', u'comp_date', u'osc_year', u'osc_month', u'osc_day', u'osc_date', u'input_year', u'input_month', u'input_day', u'input_date', u'appl_year', u'appl_month', u'appl_day', u'appl_recd_date', u'strdescription', u'torture', u'asylum', u'waiver', u'child', u'voluntary', 'original_granted', u'deny', u'abandoned', u'withdrawn', u'venue_change', u'deport', u'relief_granted', u'remove', u'terminated', u'voluntary_departure', u'oral', u'written', u'deport_form', u'voluntary_form', u'deportation_proceeding', u'exclusion_proceeding', u'removal_proceeding', u'asylum_only_proceeding', u'withholding_only_proceeding', u'lawyer', u'defensive', u'affirmative', u'mistakegrantdeny', u'idnschedule', u'generation', u'sub_generation', u'rec_type', u'alien_atty_code', u'lang', u'interpreter_code', u'input_time', u'update_date', u'update_time', u'assignment_path', u'continue_flag', u'cal_type', u'adj_date', u'adj_time_start', u'adj_time_stop', u'adj_rsn', u'adj_medium', u'adj_msg', u'adj_elap_days', u'id_1', u'lngsessnid', u'schedule_type', u'notice_code', u'datbatchmodified', u'strcreatedby', u'strmodifiedby', u'blnclockoverride', u'eoirattorneyid', u'idncasedups', u'adj_rsn_string', u'adj_requested_by', u'adj_clock_status', u'_madj', u'cal_type_string', u'_mcaltype', u'notice_code_string', u'_mnotice', u'schedule_type_string', u'_mschedcodes', u'adj_completion_prior_to_hearing', u'adj_case_conversion', u'adj_alien_to_seek_representation', u'adj_merits_hearing', u'adj_to_file', u'adj_preparation', u'adj_consolidation_family', u'government_requested', u'alien_requested', u'either_requested', u'clock_stopped', u'clock_running', u'clock_end', u'individual_cal', u'multiple_cal', u'deportation_notice', u'exclusion_notice', u'removal_notice', u'asylum_only_notice', u'withholding_only_notice', u'custody_notice', u'family_notice', u'initial_notice', u'individual_sched', u'multiple_sched', u'unknown_sched', u'adj_date_stamp', u'adj_year', u'adj_month', u'adj_day', u'adj_input_year', u'adj_input_month', u'adj_input_day', u'adj_input_date', u'adj_osc_year', u'adj_osc_month', u'adj_osc_day', u'adj_osc_date', u'eoirattyid', u'alienattyid', u'langid', u'hearingid', u'basecityid', u'last_hearing_on_comp_date']\n"
     ]
    }
   ],
   "source": [
    "master_dunn = pd.read_csv(os.path.join(DATAFOLDER, \n",
    "                                       'data/AsylumAdj/data_for_model/_decision_scheduling_merge_final_converted.csv'), \n",
    "                          encoding='latin-1', low_memory=False) # gets UnicodeDecodeError otherwise \n",
    "master_dunn.rename(columns={'dec_type_string': 'original_dec_type_string', \n",
    "                            'dec_string': 'original_dec_string',\n",
    "                            'grant': 'original_granted'}, \n",
    "                   inplace=True)\n",
    "master_dunn.drop('Unnamed: 0', axis=1, inplace=True)\n",
    "print(master_dunn.info()) \n",
    "print(master_dunn.columns.tolist())"
   ]
  },
  {
   "cell_type": "markdown",
   "metadata": {},
   "source": [
    "### Judge Bios "
   ]
  },
  {
   "cell_type": "code",
   "execution_count": 4,
   "metadata": {
    "collapsed": false
   },
   "outputs": [
    {
     "name": "stdout",
     "output_type": "stream",
     "text": [
      "<class 'pandas.core.frame.DataFrame'>\n",
      "RangeIndex: 367 entries, 0 to 366\n",
      "Data columns (total 12 columns):\n",
      "Male_judge               367 non-null float64\n",
      "Year_Appointed_SLR       367 non-null float64\n",
      "Year_College_SLR         367 non-null float64\n",
      "Year_Law_school_SLR      367 non-null float64\n",
      "Government_Years_SLR     367 non-null float64\n",
      "Govt_nonINS_SLR          367 non-null float64\n",
      "INS_Years_SLR            367 non-null float64\n",
      "Military_Years_SLR       367 non-null float64\n",
      "NGO_Years_SLR            367 non-null float64\n",
      "Privateprac_Years_SLR    367 non-null float64\n",
      "Academia_Years_SLR       367 non-null float64\n",
      "ij_code                  367 non-null object\n",
      "dtypes: float64(11), object(1)\n",
      "memory usage: 34.5+ KB\n"
     ]
    }
   ],
   "source": [
    "judge_bio = pd.read_csv(os.path.join(DATAFOLDER, 'data/AsylumAdj/data/cleaned_judge_bios.csv')) \n",
    "judge_bio.info()"
   ]
  },
  {
   "cell_type": "markdown",
   "metadata": {},
   "source": [
    "### Appeals"
   ]
  },
  {
   "cell_type": "code",
   "execution_count": 5,
   "metadata": {
    "collapsed": false
   },
   "outputs": [
    {
     "name": "stdout",
     "output_type": "stream",
     "text": [
      "<class 'pandas.core.frame.DataFrame'>\n",
      "RangeIndex: 870388 entries, 0 to 870387\n",
      "Data columns (total 17 columns):\n",
      "idnAppeal             870388 non-null int64\n",
      "idncase               868758 non-null float64\n",
      "idnProceeding         776380 non-null float64\n",
      "strAppealCategory     870388 non-null object\n",
      "strAppealType         870388 non-null object\n",
      "datAppealFiled        870226 non-null object\n",
      "strFiledBy            870378 non-null object\n",
      "datAttorneyE27        521008 non-null object\n",
      "datBIADecision        847196 non-null object\n",
      "strBIADecision        847180 non-null object\n",
      "strBIADecisionType    822882 non-null object\n",
      "strCaseType           824855 non-null object\n",
      "strLang               773811 non-null object\n",
      "strNat                777004 non-null object\n",
      "strProceedingIHP      367364 non-null object\n",
      "strCustody            666356 non-null object\n",
      "strProbono            1880 non-null object\n",
      "dtypes: float64(2), int64(1), object(14)\n",
      "memory usage: 112.9+ MB\n"
     ]
    }
   ],
   "source": [
    "# import main table \n",
    "tblAppeal = pd.read_csv(os.path.join(DATAFOLDER, 'data/raw/tblAppeal.csv'), low_memory=False) \n",
    "tblAppeal.info()"
   ]
  },
  {
   "cell_type": "code",
   "execution_count": 6,
   "metadata": {
    "collapsed": false
   },
   "outputs": [],
   "source": [
    "# import lookup tables (Python 2.7)\n",
    "bia_appeal_category = pd.read_excel(os.path.join(DATAFOLDER, 'data/raw/BIA Appeal Data File code translations.xlsx'), \n",
    "                                    sheetname='BIA Appeal Category', skip_footer=7)\n",
    "bia_appeal_type = pd.read_excel(os.path.join(DATAFOLDER, 'data/raw/BIA Appeal Data File code translations.xlsx'),\n",
    "                                sheetname='BIA Appeal Type', skip_footer=3)\n",
    "bia_decision_type = pd.read_excel(os.path.join(DATAFOLDER, 'data/raw/BIA Appeal Data File code translations.xlsx'),\n",
    "                                  sheetname='BIA decision type', skip_footer=2)\n",
    "bia_decision_code = pd.read_excel(os.path.join(DATAFOLDER, 'data/raw/BIA Appeal Data File code translations.xlsx'),\n",
    "                                  sheetname='BIA decision code', skip_footer=2)"
   ]
  },
  {
   "cell_type": "code",
   "execution_count": 7,
   "metadata": {
    "collapsed": true
   },
   "outputs": [],
   "source": [
    "# join them \n",
    "tblAppeal_df = tblAppeal.merge(bia_appeal_category, how='left', left_on='strAppealCategory', right_on='Code')\\\n",
    "                        .rename(columns={'Description': 'strAppealCategoryDesc'}).drop('Code', axis=1)\\\n",
    "                        .merge(bia_appeal_type, how='left', left_on='strAppealType', right_on='Code')\\\n",
    "                        .rename(columns={'Description': 'strAppealTypeDesc'}).drop('Code', axis=1)\\\n",
    "                        .merge(bia_decision_code, how='left', left_on='strBIADecision', right_on='Code')\\\n",
    "                        .rename(columns={'Description': 'strBIADecisionDesc'}).drop('Code', axis=1)\\\n",
    "                        .merge(bia_decision_type, how='left', left_on='strBIADecisionType', right_on='Code')\\\n",
    "                        .rename(columns={'Description': 'strBIADecisionTypeDesc'}).drop('Code', axis=1)"
   ]
  },
  {
   "cell_type": "code",
   "execution_count": 8,
   "metadata": {
    "collapsed": true
   },
   "outputs": [],
   "source": [
    "# drop appeals with no case number, proceeding number, or decision \n",
    "tblAppeal.dropna(subset=['idncase', 'idnProceeding', 'strBIADecision'], inplace=True) \n",
    "tblAppeal = tblAppeal[tblAppeal['idnProceeding'] != 0] # drop zeros "
   ]
  },
  {
   "cell_type": "code",
   "execution_count": 9,
   "metadata": {
    "collapsed": false
   },
   "outputs": [
    {
     "name": "stdout",
     "output_type": "stream",
     "text": [
      "DSO    5994\n",
      "DED    2108\n",
      "CPG    1704\n",
      "ABC    1617\n",
      "APD    1170\n",
      "GRS     433\n",
      "DNS     422\n",
      "ADM     355\n",
      "DMO     238\n",
      "AFD     106\n",
      "CPC      90\n",
      "MB       89\n",
      "SNC      84\n",
      "RET      80\n",
      "ADD      41\n",
      "REV      24\n",
      "TPD      16\n",
      "CGR      16\n",
      "WPD       5\n",
      "SUP       4\n",
      "          4\n",
      "Name: strBIADecision, dtype: int64\n"
     ]
    }
   ],
   "source": [
    "# some strBIADecision don't have corresponding code translations; also drop \n",
    "print(tblAppeal_df[pd.isnull(tblAppeal_df['strBIADecisionDesc'])]['strBIADecision'].value_counts()) \n",
    "tblAppeal_df.dropna(subset=['strBIADecisionDesc'], inplace=True)"
   ]
  },
  {
   "cell_type": "code",
   "execution_count": 10,
   "metadata": {
    "collapsed": false
   },
   "outputs": [
    {
     "name": "stdout",
     "output_type": "stream",
     "text": [
      "<class 'pandas.core.frame.DataFrame'>\n",
      "Int64Index: 832580 entries, 0 to 869457\n",
      "Data columns (total 21 columns):\n",
      "idnAppeal                 832580 non-null int64\n",
      "idncase                   831001 non-null float64\n",
      "idnProceeding             740863 non-null float64\n",
      "strAppealCategory         832580 non-null object\n",
      "strAppealType             832580 non-null object\n",
      "datAppealFiled            832426 non-null object\n",
      "strFiledBy                832570 non-null object\n",
      "datAttorneyE27            494891 non-null object\n",
      "datBIADecision            832580 non-null object\n",
      "strBIADecision            832580 non-null object\n",
      "strBIADecisionType        808914 non-null object\n",
      "strCaseType               787158 non-null object\n",
      "strLang                   738429 non-null object\n",
      "strNat                    741485 non-null object\n",
      "strProceedingIHP          358900 non-null object\n",
      "strCustody                634772 non-null object\n",
      "strProbono                1841 non-null object\n",
      "strAppealCategoryDesc     828892 non-null object\n",
      "strAppealTypeDesc         808478 non-null object\n",
      "strBIADecisionDesc        832580 non-null object\n",
      "strBIADecisionTypeDesc    808407 non-null object\n",
      "dtypes: float64(2), int64(1), object(18)\n",
      "memory usage: 139.7+ MB\n",
      "None\n"
     ]
    },
    {
     "data": {
      "text/html": [
       "<div>\n",
       "<table border=\"1\" class=\"dataframe\">\n",
       "  <thead>\n",
       "    <tr style=\"text-align: right;\">\n",
       "      <th></th>\n",
       "      <th>idnAppeal</th>\n",
       "      <th>idncase</th>\n",
       "      <th>idnProceeding</th>\n",
       "      <th>strAppealCategory</th>\n",
       "      <th>strAppealType</th>\n",
       "      <th>datAppealFiled</th>\n",
       "      <th>strFiledBy</th>\n",
       "      <th>datAttorneyE27</th>\n",
       "      <th>datBIADecision</th>\n",
       "      <th>strBIADecision</th>\n",
       "      <th>...</th>\n",
       "      <th>strCaseType</th>\n",
       "      <th>strLang</th>\n",
       "      <th>strNat</th>\n",
       "      <th>strProceedingIHP</th>\n",
       "      <th>strCustody</th>\n",
       "      <th>strProbono</th>\n",
       "      <th>strAppealCategoryDesc</th>\n",
       "      <th>strAppealTypeDesc</th>\n",
       "      <th>strBIADecisionDesc</th>\n",
       "      <th>strBIADecisionTypeDesc</th>\n",
       "    </tr>\n",
       "  </thead>\n",
       "  <tbody>\n",
       "    <tr>\n",
       "      <th>109478</th>\n",
       "      <td>109608</td>\n",
       "      <td>2231100.0</td>\n",
       "      <td>348696.0</td>\n",
       "      <td>IJ</td>\n",
       "      <td>MTR BIA</td>\n",
       "      <td>1991-10-15 00:00:00</td>\n",
       "      <td>A</td>\n",
       "      <td>NaN</td>\n",
       "      <td>1991-11-15 00:00:00</td>\n",
       "      <td>DEN</td>\n",
       "      <td>...</td>\n",
       "      <td>DEP</td>\n",
       "      <td>ENG</td>\n",
       "      <td>NI</td>\n",
       "      <td>*</td>\n",
       "      <td>D</td>\n",
       "      <td>NaN</td>\n",
       "      <td>Appeal from Immigration Judge decision</td>\n",
       "      <td>MTR BIA</td>\n",
       "      <td>Denied</td>\n",
       "      <td>Regular Case</td>\n",
       "    </tr>\n",
       "    <tr>\n",
       "      <th>572276</th>\n",
       "      <td>4744359</td>\n",
       "      <td>5495056.0</td>\n",
       "      <td>3909424.0</td>\n",
       "      <td>IJ</td>\n",
       "      <td>Case Appeal</td>\n",
       "      <td>2006-06-19 00:00:00</td>\n",
       "      <td>A</td>\n",
       "      <td>NaN</td>\n",
       "      <td>2006-09-01 00:00:00</td>\n",
       "      <td>WDL</td>\n",
       "      <td>...</td>\n",
       "      <td>RMV</td>\n",
       "      <td>ENG</td>\n",
       "      <td>MX</td>\n",
       "      <td>NaN</td>\n",
       "      <td>R</td>\n",
       "      <td>NaN</td>\n",
       "      <td>Appeal from Immigration Judge decision</td>\n",
       "      <td>Case Appeal</td>\n",
       "      <td>Withdrawl of Appeal</td>\n",
       "      <td>Percuriam Case</td>\n",
       "    </tr>\n",
       "    <tr>\n",
       "      <th>55008</th>\n",
       "      <td>55068</td>\n",
       "      <td>2968321.0</td>\n",
       "      <td>1298558.0</td>\n",
       "      <td>IJ</td>\n",
       "      <td>Case Appeal</td>\n",
       "      <td>1994-05-03 00:00:00</td>\n",
       "      <td>A</td>\n",
       "      <td>NaN</td>\n",
       "      <td>2000-11-15 00:00:00</td>\n",
       "      <td>DIS</td>\n",
       "      <td>...</td>\n",
       "      <td>DEP</td>\n",
       "      <td>ENG</td>\n",
       "      <td>IR</td>\n",
       "      <td>NaN</td>\n",
       "      <td>NaN</td>\n",
       "      <td>NaN</td>\n",
       "      <td>Appeal from Immigration Judge decision</td>\n",
       "      <td>Case Appeal</td>\n",
       "      <td>Dismiss Appeal/Affirm IJ's Decision</td>\n",
       "      <td>Regular Case</td>\n",
       "    </tr>\n",
       "  </tbody>\n",
       "</table>\n",
       "<p>3 rows × 21 columns</p>\n",
       "</div>"
      ],
      "text/plain": [
       "        idnAppeal    idncase  idnProceeding strAppealCategory strAppealType  \\\n",
       "109478     109608  2231100.0       348696.0                IJ       MTR BIA   \n",
       "572276    4744359  5495056.0      3909424.0                IJ   Case Appeal   \n",
       "55008       55068  2968321.0      1298558.0                IJ   Case Appeal   \n",
       "\n",
       "             datAppealFiled strFiledBy datAttorneyE27       datBIADecision  \\\n",
       "109478  1991-10-15 00:00:00          A            NaN  1991-11-15 00:00:00   \n",
       "572276  2006-06-19 00:00:00          A            NaN  2006-09-01 00:00:00   \n",
       "55008   1994-05-03 00:00:00          A            NaN  2000-11-15 00:00:00   \n",
       "\n",
       "       strBIADecision          ...           strCaseType strLang strNat  \\\n",
       "109478            DEN          ...                   DEP     ENG     NI   \n",
       "572276            WDL          ...                   RMV     ENG     MX   \n",
       "55008             DIS          ...                   DEP     ENG     IR   \n",
       "\n",
       "       strProceedingIHP strCustody strProbono  \\\n",
       "109478                *          D        NaN   \n",
       "572276              NaN          R        NaN   \n",
       "55008               NaN        NaN        NaN   \n",
       "\n",
       "                         strAppealCategoryDesc strAppealTypeDesc  \\\n",
       "109478  Appeal from Immigration Judge decision           MTR BIA   \n",
       "572276  Appeal from Immigration Judge decision       Case Appeal   \n",
       "55008   Appeal from Immigration Judge decision       Case Appeal   \n",
       "\n",
       "                         strBIADecisionDesc strBIADecisionTypeDesc  \n",
       "109478                               Denied           Regular Case  \n",
       "572276                  Withdrawl of Appeal         Percuriam Case  \n",
       "55008   Dismiss Appeal/Affirm IJ's Decision           Regular Case  \n",
       "\n",
       "[3 rows x 21 columns]"
      ]
     },
     "execution_count": 10,
     "metadata": {},
     "output_type": "execute_result"
    }
   ],
   "source": [
    "print(tblAppeal_df.info()) \n",
    "tblAppeal_df.sample(3)"
   ]
  },
  {
   "cell_type": "markdown",
   "metadata": {},
   "source": [
    "### Merge Them "
   ]
  },
  {
   "cell_type": "code",
   "execution_count": 11,
   "metadata": {
    "collapsed": true
   },
   "outputs": [],
   "source": [
    "# convert appeal indexes to integers for joins \n",
    "tblAppeal['idncase'] = tblAppeal['idncase'].astype(int) \n",
    "tblAppeal['idnProceeding'] = tblAppeal['idnProceeding'].astype(int) "
   ]
  },
  {
   "cell_type": "code",
   "execution_count": 12,
   "metadata": {
    "collapsed": false
   },
   "outputs": [
    {
     "name": "stdout",
     "output_type": "stream",
     "text": [
      "[u'idncase', u'idnproceeding', u'nat', u'case_type', u'c_asy_type', u'base_city_code', u'hearing_loc_code', u'dec_type', u'dec_code', u'other_comp', u'attorney_flag', u'ij_code', u'tracid', u'case_type_string', u'_mcase', 'original_dec_type_string', u'_mdectype', u'outcome_recorded_in_field', 'original_dec_string', u'_mdecproceeddec', u'_mdecproceedoth', u'nat_string', u'_mnat', u'base_city_street', u'base_city_string', u'base_city_state', u'base_city_zip5', u'base_city_zip4', u'base_city_phone', u'_mbasecity', u'hearing_loc_string1', u'hearing_loc_string2', u'hearing_loc_street', u'hearing_loc_city', u'hearing_loc_state', u'hearing_loc_zip5', u'hearing_loc_phone', u'_mhearingloc', u'judge_name_caps', u'_mlookupijcode', u'idncode', u'idnproceedingappln', u'appl_code', u'appl_dec', u'_mappln', u'application_type_string', u'_mapplcode', u'application_dec_string', u'_mappldec', u'cityid', u'judgeid', u'natid', u'comp_year', u'comp_month', u'comp_day', u'comp_date', u'osc_year', u'osc_month', u'osc_day', u'osc_date', u'input_year', u'input_month', u'input_day', u'input_date', u'appl_year', u'appl_month', u'appl_day', u'appl_recd_date', u'strdescription', u'torture', u'asylum', u'waiver', u'child', u'voluntary', 'original_granted', u'deny', u'abandoned', u'withdrawn', u'venue_change', u'deport', u'relief_granted', u'remove', u'terminated', u'voluntary_departure', u'oral', u'written', u'deport_form', u'voluntary_form', u'deportation_proceeding', u'exclusion_proceeding', u'removal_proceeding', u'asylum_only_proceeding', u'withholding_only_proceeding', u'lawyer', u'defensive', u'affirmative', u'mistakegrantdeny', u'idnschedule', u'generation', u'sub_generation', u'rec_type', u'alien_atty_code', u'lang', u'interpreter_code', u'input_time', u'update_date', u'update_time', u'assignment_path', u'continue_flag', u'cal_type', u'adj_date', u'adj_time_start', u'adj_time_stop', u'adj_rsn', u'adj_medium', u'adj_msg', u'adj_elap_days', u'id_1', u'lngsessnid', u'schedule_type', u'notice_code', u'datbatchmodified', u'strcreatedby', u'strmodifiedby', u'blnclockoverride', u'eoirattorneyid', u'idncasedups', u'adj_rsn_string', u'adj_requested_by', u'adj_clock_status', u'_madj', u'cal_type_string', u'_mcaltype', u'notice_code_string', u'_mnotice', u'schedule_type_string', u'_mschedcodes', u'adj_completion_prior_to_hearing', u'adj_case_conversion', u'adj_alien_to_seek_representation', u'adj_merits_hearing', u'adj_to_file', u'adj_preparation', u'adj_consolidation_family', u'government_requested', u'alien_requested', u'either_requested', u'clock_stopped', u'clock_running', u'clock_end', u'individual_cal', u'multiple_cal', u'deportation_notice', u'exclusion_notice', u'removal_notice', u'asylum_only_notice', u'withholding_only_notice', u'custody_notice', u'family_notice', u'initial_notice', u'individual_sched', u'multiple_sched', u'unknown_sched', u'adj_date_stamp', u'adj_year', u'adj_month', u'adj_day', u'adj_input_year', u'adj_input_month', u'adj_input_day', u'adj_input_date', u'adj_osc_year', u'adj_osc_month', u'adj_osc_day', u'adj_osc_date', u'eoirattyid', u'alienattyid', u'langid', u'hearingid', u'basecityid', u'last_hearing_on_comp_date', 'idnAppeal', 'idnProceeding', 'strAppealCategory', 'strAppealType', 'datAppealFiled', 'strFiledBy', 'datAttorneyE27', 'datBIADecision', 'strBIADecision', 'strBIADecisionType', 'strCaseType', 'strLang', 'strNat', 'strProceedingIHP', 'strCustody', 'strProbono', 'strAppealCategoryDesc', 'strAppealTypeDesc', 'strBIADecisionDesc', 'strBIADecisionTypeDesc', 'Male_judge', 'Year_Appointed_SLR', 'Year_College_SLR', 'Year_Law_school_SLR', 'Government_Years_SLR', 'Govt_nonINS_SLR', 'INS_Years_SLR', 'Military_Years_SLR', 'NGO_Years_SLR', 'Privateprac_Years_SLR', 'Academia_Years_SLR']\n",
      "<class 'pandas.core.frame.DataFrame'>\n",
      "Int64Index: 702268 entries, 0 to 702267\n",
      "Columns: 212 entries, idncase to Academia_Years_SLR\n",
      "dtypes: bool(1), float64(85), int64(38), object(88)\n",
      "memory usage: 1.1+ GB\n"
     ]
    }
   ],
   "source": [
    "# joins datasets \n",
    "df = master_dunn.merge(tblAppeal_df, how='left', \n",
    "                       left_on=['idncase', 'idnproceeding'], right_on=['idncase', 'idnProceeding'])\n",
    "df = df.merge(judge_bio, how='left', on='ij_code')\n",
    "print(df.columns.tolist())\n",
    "df.info()"
   ]
  },
  {
   "cell_type": "markdown",
   "metadata": {},
   "source": [
    "# Summarize Funnel Stats"
   ]
  },
  {
   "cell_type": "code",
   "execution_count": 13,
   "metadata": {
    "collapsed": true
   },
   "outputs": [],
   "source": [
    "# add/reformat common variables between appeals and non-appeals before splitting them \n",
    "\n",
    "df['judge_missing_bio'] = np.where(pd.isnull(df['Male_judge']), 1, 0)\n",
    "df['ij_code_nat'] = df['ij_code'] + '_' + df['nat_string']\n",
    "df['comp_dt'] = pd.to_datetime(dict(year=df['comp_year'], month=df['comp_month'], day=df['comp_day']))\n",
    "df['comp_year_month'] = 12 * (df['comp_year'] - 1970) + df['comp_month']\n",
    "\n",
    "df['datAppealFiled_dt'] = pd.to_datetime(df['datAppealFiled'], errors='coerce')\n",
    "df['datAppealFiled_year'] = df['datAppealFiled_dt'].dt.year\n",
    "df['datAppealFiled_month'] = df['datAppealFiled_dt'].dt.month \n",
    "df['datAppealFiled_year_month'] = 12 * (df['datAppealFiled_year'] - 1970) + df['datAppealFiled_month']\n",
    "\n",
    "df['datBIADecision_dt'] = pd.to_datetime(df['datBIADecision'], errors='coerce')\n",
    "df['datBIADecision_year'] = df['datBIADecision_dt'].dt.year\n",
    "df['datBIADecision_month'] = df['datBIADecision_dt'].dt.month \n",
    "df['datBIADecision_year_month'] = 12 * (df['datBIADecision_year'] - 1970) + df['datBIADecision_month']"
   ]
  },
  {
   "cell_type": "code",
   "execution_count": 14,
   "metadata": {
    "collapsed": false
   },
   "outputs": [
    {
     "name": "stdout",
     "output_type": "stream",
     "text": [
      "Of the 602500 original proceedings, 213731 (35.5%) were granted asylum.\n"
     ]
    }
   ],
   "source": [
    "# check % of original proceedings that were granted \n",
    "original_cases_total = df['idnproceeding'].nunique() \n",
    "original_cases_granted = df[df['original_granted'] == 1]['idnproceeding'].nunique() \n",
    "original_cases_granted_pct = float(original_cases_granted) / original_cases_total\n",
    "print(\"Of the {} original proceedings, {} ({:.1f}%) were granted asylum.\".format(original_cases_total, \n",
    "                                                                                 original_cases_granted,\n",
    "                                                                                 100 * original_cases_granted_pct))"
   ]
  },
  {
   "cell_type": "code",
   "execution_count": 15,
   "metadata": {
    "collapsed": false
   },
   "outputs": [
    {
     "name": "stdout",
     "output_type": "stream",
     "text": [
      "Of the 388769 denied proceedings, 260049 (66.9%) appealed the decision.\n"
     ]
    }
   ],
   "source": [
    "# check % of denied proceedings that appealed \n",
    "denied_cases = df[df['original_granted'] == 0].copy() \n",
    "denied_cases['appealed'] = np.where(pd.notnull(denied_cases['idnAppeal']), 1, 0) \n",
    "denied_cases_total = denied_cases['idnproceeding'].nunique() \n",
    "denied_cases_appealed = denied_cases[denied_cases['appealed'] == 1]['idnproceeding'].nunique() \n",
    "denied_cases_appealed_pct = float(denied_cases_appealed) / denied_cases_total\n",
    "print(\"Of the {} denied proceedings, {} ({:.1f}%) appealed the decision.\".format(denied_cases_total, \n",
    "                                                                                 denied_cases_appealed,\n",
    "                                                                                 100 * denied_cases_appealed_pct))"
   ]
  },
  {
   "cell_type": "code",
   "execution_count": 16,
   "metadata": {
    "collapsed": true
   },
   "outputs": [],
   "source": [
    "# get appeals vs. non-appeals datasets \n",
    "appeals = denied_cases[denied_cases['appealed'] == 1].copy()\n",
    "non_appeals = denied_cases[denied_cases['appealed'] == 0].copy()"
   ]
  },
  {
   "cell_type": "markdown",
   "metadata": {},
   "source": [
    "# Finalize Scope of Appeals"
   ]
  },
  {
   "cell_type": "markdown",
   "metadata": {},
   "source": [
    "In this section we will: \n",
    "- Drop appeals outside relevant scope, defined to be ('Appeal of IJ MTR', 'Case Appeal', 'Circuit Court Remand', 'Interlocutory Appeal', 'MTR BIA') \n",
    "- Deduplicate multiple appeals tied to the same proceeding (by taking the appeal with the last BIA Decision) \n",
    "- Drop appeals without mandatory features ('datAppealFiled_year', 'case_type_string') \n",
    "- Group appeal outcomes into 'positive' vs. 'negative' binary labels; a small subset deemed to be 'neutral' (e.g. dismissal due to incomplete paperwork) is also dropped. \n",
    "\n",
    "Note that we also implicitly dropped appeals made by government by subsetting appeals from the denied proceedings (i.e. government is likely to contest verdicts in favor of respondents rather than the opposite). "
   ]
  },
  {
   "cell_type": "code",
   "execution_count": 17,
   "metadata": {
    "collapsed": false
   },
   "outputs": [
    {
     "data": {
      "text/html": [
       "<div>\n",
       "<table border=\"1\" class=\"dataframe\">\n",
       "  <thead>\n",
       "    <tr style=\"text-align: right;\">\n",
       "      <th>case_type_string</th>\n",
       "      <th>ASYLUM ONLY CASE</th>\n",
       "      <th>DEPORTATION</th>\n",
       "      <th>EXCLUSION</th>\n",
       "      <th>REMOVAL</th>\n",
       "      <th>WITHHOLDING ONLY</th>\n",
       "    </tr>\n",
       "    <tr>\n",
       "      <th>strAppealTypeDesc</th>\n",
       "      <th></th>\n",
       "      <th></th>\n",
       "      <th></th>\n",
       "      <th></th>\n",
       "      <th></th>\n",
       "    </tr>\n",
       "  </thead>\n",
       "  <tbody>\n",
       "    <tr>\n",
       "      <th>Appeal of IJ MTR</th>\n",
       "      <td>91.0</td>\n",
       "      <td>2615.0</td>\n",
       "      <td>476.0</td>\n",
       "      <td>2927.0</td>\n",
       "      <td>6.0</td>\n",
       "    </tr>\n",
       "    <tr>\n",
       "      <th>Bond Appeal</th>\n",
       "      <td>10.0</td>\n",
       "      <td>524.0</td>\n",
       "      <td>2.0</td>\n",
       "      <td>2154.0</td>\n",
       "      <td>4.0</td>\n",
       "    </tr>\n",
       "    <tr>\n",
       "      <th>Bond MTR Reconsider</th>\n",
       "      <td>0.0</td>\n",
       "      <td>0.0</td>\n",
       "      <td>0.0</td>\n",
       "      <td>12.0</td>\n",
       "      <td>0.0</td>\n",
       "    </tr>\n",
       "    <tr>\n",
       "      <th>Bond MTR Reinstate</th>\n",
       "      <td>0.0</td>\n",
       "      <td>0.0</td>\n",
       "      <td>0.0</td>\n",
       "      <td>4.0</td>\n",
       "      <td>0.0</td>\n",
       "    </tr>\n",
       "    <tr>\n",
       "      <th>Bond MTR Reopen</th>\n",
       "      <td>0.0</td>\n",
       "      <td>0.0</td>\n",
       "      <td>0.0</td>\n",
       "      <td>10.0</td>\n",
       "      <td>0.0</td>\n",
       "    </tr>\n",
       "    <tr>\n",
       "      <th>Case Appeal</th>\n",
       "      <td>3718.0</td>\n",
       "      <td>64680.0</td>\n",
       "      <td>17779.0</td>\n",
       "      <td>167200.0</td>\n",
       "      <td>770.0</td>\n",
       "    </tr>\n",
       "    <tr>\n",
       "      <th>Circuit Court Remand</th>\n",
       "      <td>176.0</td>\n",
       "      <td>588.0</td>\n",
       "      <td>134.0</td>\n",
       "      <td>6804.0</td>\n",
       "      <td>22.0</td>\n",
       "    </tr>\n",
       "    <tr>\n",
       "      <th>Interlocutory Appeal</th>\n",
       "      <td>4.0</td>\n",
       "      <td>53.0</td>\n",
       "      <td>23.0</td>\n",
       "      <td>377.0</td>\n",
       "      <td>7.0</td>\n",
       "    </tr>\n",
       "    <tr>\n",
       "      <th>MTR BIA</th>\n",
       "      <td>1215.0</td>\n",
       "      <td>21485.0</td>\n",
       "      <td>5667.0</td>\n",
       "      <td>58336.0</td>\n",
       "      <td>82.0</td>\n",
       "    </tr>\n",
       "  </tbody>\n",
       "</table>\n",
       "</div>"
      ],
      "text/plain": [
       "case_type_string      ASYLUM ONLY CASE  DEPORTATION  EXCLUSION   REMOVAL  \\\n",
       "strAppealTypeDesc                                                          \n",
       "Appeal of IJ MTR                  91.0       2615.0      476.0    2927.0   \n",
       "Bond Appeal                       10.0        524.0        2.0    2154.0   \n",
       "Bond MTR Reconsider                0.0          0.0        0.0      12.0   \n",
       "Bond MTR Reinstate                 0.0          0.0        0.0       4.0   \n",
       "Bond MTR Reopen                    0.0          0.0        0.0      10.0   \n",
       "Case Appeal                     3718.0      64680.0    17779.0  167200.0   \n",
       "Circuit Court Remand             176.0        588.0      134.0    6804.0   \n",
       "Interlocutory Appeal               4.0         53.0       23.0     377.0   \n",
       "MTR BIA                         1215.0      21485.0     5667.0   58336.0   \n",
       "\n",
       "case_type_string      WITHHOLDING ONLY  \n",
       "strAppealTypeDesc                       \n",
       "Appeal of IJ MTR                   6.0  \n",
       "Bond Appeal                        4.0  \n",
       "Bond MTR Reconsider                0.0  \n",
       "Bond MTR Reinstate                 0.0  \n",
       "Bond MTR Reopen                    0.0  \n",
       "Case Appeal                      770.0  \n",
       "Circuit Court Remand              22.0  \n",
       "Interlocutory Appeal               7.0  \n",
       "MTR BIA                           82.0  "
      ]
     },
     "execution_count": 17,
     "metadata": {},
     "output_type": "execute_result"
    }
   ],
   "source": [
    "# check appeal and case types \n",
    "appeals.groupby(['strAppealTypeDesc', 'case_type_string']).size().unstack().fillna(0) "
   ]
  },
  {
   "cell_type": "code",
   "execution_count": 18,
   "metadata": {
    "collapsed": false
   },
   "outputs": [
    {
     "name": "stdout",
     "output_type": "stream",
     "text": [
      "After filtering for relevant appeal types, 355238 rows remain\n"
     ]
    }
   ],
   "source": [
    "# filter for relevant appeal types \n",
    "selected_appeal_types = ['Appeal of IJ MTR', 'Case Appeal', 'Circuit Court Remand', 'Interlocutory Appeal', 'MTR BIA'] \n",
    "appeals = appeals[appeals['strAppealTypeDesc'].isin(selected_appeal_types)] \n",
    "print(\"After filtering for relevant appeal types, {} rows remain\".format(len(appeals)))"
   ]
  },
  {
   "cell_type": "code",
   "execution_count": 19,
   "metadata": {
    "collapsed": false
   },
   "outputs": [
    {
     "name": "stdout",
     "output_type": "stream",
     "text": [
      "After deduplicating multiple appeals, 259029 rows remain\n"
     ]
    }
   ],
   "source": [
    "# de-duplicate multiple appeals (each case-proceeding should be unique) by retaining the last appeal \n",
    "appeals = appeals.sort_values(by=['idncase', 'idnProceeding', 'datBIADecision_dt'], \n",
    "                              ascending=[True, True, False])\n",
    "appeals.drop_duplicates(subset=['idncase', 'idnProceeding'], keep='first', inplace=True)\n",
    "print(\"After deduplicating multiple appeals, {} rows remain\".format(len(appeals)))"
   ]
  },
  {
   "cell_type": "code",
   "execution_count": 20,
   "metadata": {
    "collapsed": false
   },
   "outputs": [
    {
     "name": "stdout",
     "output_type": "stream",
     "text": [
      "After dropping appeals without mandatory features, 258975 rows remain\n"
     ]
    }
   ],
   "source": [
    "# drop appeals without mandatory features \n",
    "mandatory_features = ['datAppealFiled_year', 'case_type_string'] \n",
    "appeals.dropna(subset=mandatory_features, inplace=True)\n",
    "print(\"After dropping appeals without mandatory features, {} rows remain\".format(len(appeals)))"
   ]
  },
  {
   "cell_type": "code",
   "execution_count": 21,
   "metadata": {
    "collapsed": false
   },
   "outputs": [
    {
     "name": "stdout",
     "output_type": "stream",
     "text": [
      "After dropping appeals with neutral outcomes, 242466 rows remain\n"
     ]
    }
   ],
   "source": [
    "# designate appeal decision type \n",
    "positive_labels = ['Background Check Remand', 'Grant With No Remand', 'Granted', 'Remand', \n",
    "                   'Sustain', 'Temporary Protected Status', 'Termination']\n",
    "negative_labels = ['Denied', \"Dismiss Appeal/Affirm IJ's Decision\", 'Dismissed (Grant V/D 30 days)', \n",
    "                   'Dismissed (Voluntary Departure Granted)', 'Rejection', 'SUMMARY AFFIRMANCE/VD', \n",
    "                   'Summary Affirmance', 'Summary Dismiss', 'Summary Dismissal (O) Other', \n",
    "                   'Summary Dismissal (a) inad reason on appeal', 'Summary Dismissal - Both (a) & (e)']\n",
    "appeals['granted'] = np.where(appeals['strBIADecisionDesc'].isin(positive_labels), 1, \n",
    "                              np.where(appeals['strBIADecisionDesc'].isin(negative_labels), 0, None))\n",
    "appeals.dropna(subset=['granted'], inplace=True)\n",
    "appeals['granted'] = appeals['granted'].astype(int)\n",
    "print(\"After dropping appeals with neutral outcomes, {} rows remain\".format(len(appeals)))"
   ]
  },
  {
   "cell_type": "code",
   "execution_count": 22,
   "metadata": {
    "collapsed": false
   },
   "outputs": [
    {
     "name": "stdout",
     "output_type": "stream",
     "text": [
      "Of the 242466 appeals, 78522 (32.4%) were successful.\n"
     ]
    }
   ],
   "source": [
    "# summarize appeal outcomes \n",
    "total_appeals = len(appeals)\n",
    "successful_appeals = appeals['granted'].sum() \n",
    "successful_appeals_pct = float(successful_appeals) / total_appeals\n",
    "print(\"Of the {} appeals, {} ({:.1f}%) were successful.\".format(total_appeals, successful_appeals, \n",
    "                                                                successful_appeals_pct * 100))"
   ]
  },
  {
   "cell_type": "markdown",
   "metadata": {},
   "source": [
    "# Additional Feature Engineering"
   ]
  },
  {
   "cell_type": "markdown",
   "metadata": {},
   "source": [
    "#### Group nationalities and judges with few samples  "
   ]
  },
  {
   "cell_type": "code",
   "execution_count": 23,
   "metadata": {
    "collapsed": true
   },
   "outputs": [],
   "source": [
    "def get_feature_values_to_retain(df, feature_name, min_samples): \n",
    "    \"\"\" Returns a list of feature values that meet min_samples \"\"\"\n",
    "    distinct_values = df[feature_name].value_counts() \n",
    "    retain_values = distinct_values[distinct_values >= min_samples].index.tolist() \n",
    "    print(\"{} distinct values of {} will be retained as unique values, remaining {} will be grouped as other.\".format(\n",
    "        len(retain_values), feature_name, len(distinct_values) - len(retain_values)))\n",
    "    return retain_values "
   ]
  },
  {
   "cell_type": "code",
   "execution_count": 24,
   "metadata": {
    "collapsed": false
   },
   "outputs": [
    {
     "name": "stdout",
     "output_type": "stream",
     "text": [
      "368 distinct values of ij_code will be retained as unique values, remaining 53 will be grouped as other.\n"
     ]
    }
   ],
   "source": [
    "# apply to judges \n",
    "ij_code_to_retain = get_feature_values_to_retain(appeals, feature_name='ij_code', min_samples=50)\n",
    "appeals['ij_code_grouped'] = np.where(appeals['ij_code'].isin(ij_code_to_retain), appeals['ij_code'], 'other')\n",
    "non_appeals['ij_code_grouped'] = np.where(non_appeals['ij_code'].isin(ij_code_to_retain), non_appeals['ij_code'], 'other')"
   ]
  },
  {
   "cell_type": "code",
   "execution_count": 25,
   "metadata": {
    "collapsed": false
   },
   "outputs": [
    {
     "name": "stdout",
     "output_type": "stream",
     "text": [
      "129 distinct values of nat_string will be retained as unique values, remaining 88 will be grouped as other.\n"
     ]
    }
   ],
   "source": [
    "# apply to nationalities \n",
    "nat_string_to_retain = get_feature_values_to_retain(appeals, feature_name='nat_string', min_samples=50)\n",
    "appeals['nat_grouped'] = np.where(appeals['nat_string'].isin(nat_string_to_retain), appeals['nat_string'], 'other')\n",
    "non_appeals['nat_grouped'] = np.where(non_appeals['nat_string'].isin(nat_string_to_retain), non_appeals['nat_string'], 'other')"
   ]
  },
  {
   "cell_type": "code",
   "execution_count": 26,
   "metadata": {
    "collapsed": false
   },
   "outputs": [
    {
     "name": "stdout",
     "output_type": "stream",
     "text": [
      "861 distinct values of ij_code_nat will be retained as unique values, remaining 18189 will be grouped as other.\n"
     ]
    }
   ],
   "source": [
    "# apply to judge-nationalities \n",
    "ij_code_nat_to_retain = get_feature_values_to_retain(appeals, feature_name='ij_code_nat', min_samples=50)\n",
    "appeals['ij_code_nat_grouped'] = np.where(appeals['ij_code_nat'].isin(ij_code_nat_to_retain), appeals['ij_code_nat'], 'other')\n",
    "non_appeals['ij_code_nat_grouped'] = np.where(non_appeals['ij_code_nat'].isin(ij_code_nat_to_retain), non_appeals['ij_code_nat'], 'other')"
   ]
  },
  {
   "cell_type": "code",
   "execution_count": 27,
   "metadata": {
    "collapsed": false
   },
   "outputs": [
    {
     "name": "stdout",
     "output_type": "stream",
     "text": [
      "91 distinct values of lang will be retained as unique values, remaining 206 will be grouped as other.\n"
     ]
    }
   ],
   "source": [
    "# apply to lang \n",
    "lang_to_retain = get_feature_values_to_retain(appeals, feature_name='lang', min_samples=50)\n",
    "appeals['lang_grouped'] = np.where(appeals['lang'].isin(lang_to_retain), appeals['lang'], 'other')\n",
    "non_appeals['lang_grouped'] = np.where(non_appeals['lang'].isin(lang_to_retain), non_appeals['lang'], 'other')"
   ]
  },
  {
   "cell_type": "markdown",
   "metadata": {},
   "source": [
    "#### Judge Experience "
   ]
  },
  {
   "cell_type": "markdown",
   "metadata": {},
   "source": [
    "As proxied by two variables:  \n",
    "- years_since_appointed = YEAR(Original proceeding decision) - YEAR(Judge Appointment) \n",
    "- years_since_law_school = YEAR(Original proceeding decision) - YEAR(Law School) "
   ]
  },
  {
   "cell_type": "code",
   "execution_count": 28,
   "metadata": {
    "collapsed": false
   },
   "outputs": [],
   "source": [
    "def get_time_delta(df, before, after, default_value=-1): \n",
    "    \"\"\" Computes difference between feature_year_before and feature_year_after, \n",
    "        filling NaNs and negative values with -1 \"\"\"\n",
    "    try: \n",
    "        if (df[before].dtype == 'float' or df[before].dtype == 'int') or (df[after].dtype == 'float' or df[after].dtype == 'int'): \n",
    "            time_delta = df[after] - df[before]\n",
    "        elif df[before].dtype == 'datetime64[ns]' and df[after].dtype == 'datetime64[ns]': \n",
    "            time_delta = (df[after] - df[before]).dt.days\n",
    "        time_delta = np.where((time_delta < 0) | pd.isnull(time_delta), default_value, time_delta)\n",
    "    except: \n",
    "        raise ValueError(\"Please use same datatype for 'before' and 'after'.\") \n",
    "    \n",
    "    return time_delta"
   ]
  },
  {
   "cell_type": "code",
   "execution_count": 29,
   "metadata": {
    "collapsed": true
   },
   "outputs": [],
   "source": [
    "# years since judge appointment \n",
    "appeals['years_since_judge_appointment'] = get_time_delta(appeals, 'Year_Appointed_SLR', 'comp_year')\n",
    "non_appeals['years_since_judge_appointment'] = get_time_delta(non_appeals, 'Year_Appointed_SLR', 'comp_year')"
   ]
  },
  {
   "cell_type": "code",
   "execution_count": 30,
   "metadata": {
    "collapsed": true
   },
   "outputs": [],
   "source": [
    "# years since law school \n",
    "appeals['years_since_law_school'] = get_time_delta(appeals, 'Year_Law_school_SLR', 'comp_year')\n",
    "non_appeals['years_since_law_school'] = get_time_delta(non_appeals, 'Year_Law_school_SLR', 'comp_year')"
   ]
  },
  {
   "cell_type": "markdown",
   "metadata": {},
   "source": [
    "#### Time Elapsed Between OSC vs. Input vs. Comp vs. Appeal dates"
   ]
  },
  {
   "cell_type": "code",
   "execution_count": 31,
   "metadata": {
    "collapsed": false
   },
   "outputs": [],
   "source": [
    "# osc is when charge is filed, input date is when proceeding began, and comp date is when decision/ruling was made\n",
    "appeals['appeal_days_elapsed_since_comp_date'] = get_time_delta(appeals, \"comp_dt\", \"datAppealFiled_dt\")\n",
    "appeals['comp_days_elasped_since_input_date'] = get_time_delta(appeals, \"input_date\", \"comp_date\")\n",
    "appeals['input_days_elapsed_since_osc_date'] = get_time_delta(appeals, \"osc_date\", \"input_date\")\n",
    "non_appeals['comp_days_elasped_since_input_date'] = get_time_delta(non_appeals, \"input_date\", \"comp_date\")\n",
    "non_appeals['input_days_elapsed_since_osc_date'] = get_time_delta(non_appeals, \"osc_date\", \"input_date\")"
   ]
  },
  {
   "cell_type": "code",
   "execution_count": 32,
   "metadata": {
    "collapsed": false
   },
   "outputs": [],
   "source": [
    "# Since non-appeals don't have appeal dates, we assume they would have filed 28 days (median of appeals) after comp date\n",
    "non_appeals['appeal_days_elapsed_since_comp_date'] = appeals['appeal_days_elapsed_since_comp_date'].median()\n",
    "non_appeals['datAppealFiled_dt'] = non_appeals['comp_dt'] + pd.to_timedelta(non_appeals['appeal_days_elapsed_since_comp_date'], unit='D')\n",
    "non_appeals['datAppealFiled_year'] = non_appeals['datAppealFiled_dt'].dt.year\n",
    "non_appeals['datAppealFiled_month'] = non_appeals['datAppealFiled_dt'].dt.month \n",
    "non_appeals['datAppealFiled_year_month'] = (non_appeals['datAppealFiled_year'] - 1970) + non_appeals['datAppealFiled_month']"
   ]
  },
  {
   "cell_type": "markdown",
   "metadata": {},
   "source": [
    "#### Mismatch between Base and Hearing Locations"
   ]
  },
  {
   "cell_type": "code",
   "execution_count": 33,
   "metadata": {
    "collapsed": false
   },
   "outputs": [
    {
     "data": {
      "text/plain": [
       "same_city               221358\n",
       "diff_city_same_state     17859\n",
       "diff_state                3237\n",
       "missing_info                12\n",
       "Name: hearing_loc_match_base, dtype: int64"
      ]
     },
     "execution_count": 33,
     "metadata": {},
     "output_type": "execute_result"
    }
   ],
   "source": [
    "def check_hearing_loc_match_base(row): \n",
    "    \"\"\" Checks whether base and hearing location are the same, different city, or different state \"\"\"\n",
    "    if pd.isnull(row['base_city_state']) | pd.isnull(row['hearing_loc_state']):\n",
    "        return 'missing_info'\n",
    "    elif row['base_city_code'] == row['hearing_loc_code']:\n",
    "        return 'same_city'\n",
    "    elif row['base_city_state'] == row['hearing_loc_state']:\n",
    "        return 'diff_city_same_state'\n",
    "    else: \n",
    "        return 'diff_state'\n",
    "    \n",
    "appeals['hearing_loc_match_base'] = appeals.apply(check_hearing_loc_match_base, axis=1)\n",
    "non_appeals['hearing_loc_match_base'] = non_appeals.apply(check_hearing_loc_match_base, axis=1)\n",
    "appeals['hearing_loc_match_base'].value_counts()"
   ]
  },
  {
   "cell_type": "markdown",
   "metadata": {},
   "source": [
    "#### Average Appeal Grant Rate from Preceeding N Appeals"
   ]
  },
  {
   "cell_type": "code",
   "execution_count": 34,
   "metadata": {
    "collapsed": true
   },
   "outputs": [],
   "source": [
    "def break_into_chunks(data, dimension, max_chunk): \n",
    "    \"\"\" Returns a dictionary of lists to instruct breaking up dataset into suitable chunks, \n",
    "        where resulting rows from self-join on ij_code does not exceed max_df_rows \"\"\"\n",
    "    dimensions = pd.DataFrame(data.groupby(dimension).size().sort_values(ascending=False)) \n",
    "    dimensions = dimensions.rename(columns={0: 'rows'}).reset_index() \n",
    "    dimensions['self_join'] = dimensions['rows'] ** 2\n",
    "    \n",
    "    # stop if dimension has too many rows exceeding max_chunk \n",
    "    exceeds_max_chunk = dimensions[dimensions['self_join'] > max_chunk]\n",
    "    if len(exceeds_max_chunk) > 0: \n",
    "        print(exceeds_max_chunk)\n",
    "        raise ValueError('Dimension has too many rows!') \n",
    "    else: pass \n",
    "    \n",
    "    dimensions['self_join_cumulative'] = dimensions['self_join'].cumsum() \n",
    "    dimensions['chunk'] = np.floor(dimensions['self_join_cumulative'] / max_chunk).astype(int)\n",
    "    chunk_assignments = dimensions.groupby('chunk')[dimension].apply(list).to_dict()\n",
    "    print(\"Split {} labels in {} dimension into {} chunks...\".format(len(dimensions), dimension, \n",
    "                                                                                  len(chunk_assignments)))\n",
    "    return chunk_assignments\n",
    "\n",
    "def compute_last_n_decisions_by_chunk(data_chunk, ref_chunk, dimension, last_n): \n",
    "    \"\"\" Run compute for a given chunk of data \"\"\"\n",
    "    df = data_chunk.merge(ref_chunk, how='left', on=dimension)\n",
    "    results = df[df['datBIADecision_dt'] < df['datAppealFiled_dt']].groupby('idnproceeding').apply(\n",
    "        lambda f: f.head(last_n)['granted'].mean()) \n",
    "    return results \n",
    "\n",
    "def compute_last_n_decisions(data, ref, dimension, new_feature_name, max_chunk=50000000, last_n=10): \n",
    "    \"\"\" Unified method to compute last n decisions \"\"\"\n",
    "    \n",
    "    # get chunk assignments \n",
    "    chunk_assignments = break_into_chunks(data, dimension, max_chunk)\n",
    "    \n",
    "    # initialize empty list \n",
    "    results = [] \n",
    "    start = time.time() \n",
    "    \n",
    "    # loop through each chunk \n",
    "    for chunk, selected in chunk_assignments.iteritems(): \n",
    "        start_chunk = time.time() \n",
    "        data_variables = ['idnproceeding', 'datAppealFiled_dt'] + [dimension]\n",
    "        ref_variables = ['datBIADecision_dt', 'granted'] + [dimension] \n",
    "        data_chunk = data[data[dimension].isin(selected)][data_variables]\n",
    "        ref_chunk = ref[ref[dimension].isin(selected)][ref_variables].sort_values(\n",
    "            by=[dimension] + ['datBIADecision_dt'], ascending=[True, False])  \n",
    "        result = compute_last_n_decisions_by_chunk(data_chunk, ref_chunk, dimension, last_n)\n",
    "        results.append(result)\n",
    "        print(\"Chunk {} completed in {} seconds\".format(chunk, time.time() - start_chunk))\n",
    "        \n",
    "    print(\"DONE: Last {} decisions computed for {} dimension in {} seconds\".format(last_n, dimension, \n",
    "                                                                             time.time() - start))\n",
    "    \n",
    "    return pd.DataFrame(pd.concat(results), columns=[new_feature_name])  \n",
    "\n",
    "def add_last_n_decisions(data, ref, dimension, new_feature_name, last_n=10, max_chunk=50000000):\n",
    "    \"\"\" Takes full dataframe, adds last n decisions as a new column, returns new df \"\"\" \n",
    "    last_n_grant_rate = compute_last_n_decisions(data, ref, dimension, new_feature_name, max_chunk, last_n)\n",
    "    df = data.merge(last_n_grant_rate, how='left', left_on='idnproceeding', right_index=True)\n",
    "    return df "
   ]
  },
  {
   "cell_type": "code",
   "execution_count": 35,
   "metadata": {
    "collapsed": false
   },
   "outputs": [
    {
     "name": "stdout",
     "output_type": "stream",
     "text": [
      "Split 369 labels in ij_code_grouped dimension into 7 chunks...\n",
      "Chunk 0 completed in 18.727699995 seconds\n",
      "Chunk 1 completed in 22.1483209133 seconds\n",
      "Chunk 2 completed in 20.451210022 seconds\n",
      "Chunk 3 completed in 28.0813579559 seconds\n",
      "Chunk 4 completed in 27.8097729683 seconds\n",
      "Chunk 5 completed in 31.5132110119 seconds\n",
      "Chunk 6 completed in 7.71881604195 seconds\n",
      "DONE: Last 10 decisions computed for ij_code_grouped dimension in 156.451397896 seconds\n"
     ]
    }
   ],
   "source": [
    "# last 10 by judge, for appeals \n",
    "appeals = add_last_n_decisions(data=appeals, ref=appeals, dimension='ij_code_grouped', \n",
    "                               new_feature_name='last_10_appeal_grant_by_judge', last_n=10, max_chunk=50000000)"
   ]
  },
  {
   "cell_type": "code",
   "execution_count": 36,
   "metadata": {
    "collapsed": false
   },
   "outputs": [
    {
     "name": "stdout",
     "output_type": "stream",
     "text": [
      "Split 369 labels in ij_code_grouped dimension into 3 chunks...\n",
      "Chunk 0 completed in 15.2609629631 seconds\n",
      "Chunk 1 completed in 58.1031141281 seconds\n",
      "Chunk 2 completed in 4.01359295845 seconds\n",
      "DONE: Last 10 decisions computed for ij_code_grouped dimension in 77.3780281544 seconds\n"
     ]
    }
   ],
   "source": [
    "# last 10 by judge, for non-appeals  \n",
    "non_appeals = add_last_n_decisions(data=non_appeals, ref=appeals, dimension='ij_code_grouped', \n",
    "                                   new_feature_name='last_10_appeal_grant_by_judge', last_n=10, max_chunk=50000000)"
   ]
  },
  {
   "cell_type": "code",
   "execution_count": 37,
   "metadata": {
    "collapsed": false
   },
   "outputs": [
    {
     "name": "stdout",
     "output_type": "stream",
     "text": [
      "Split 19050 labels in ij_code_nat dimension into 2 chunks...\n",
      "Chunk 0 completed in 32.949960947 seconds\n",
      "Chunk 1 completed in 37.6315829754 seconds\n",
      "DONE: Last 10 decisions computed for ij_code_nat dimension in 70.5818359852 seconds\n"
     ]
    }
   ],
   "source": [
    "# last 10 by judge+nat, for appeals \n",
    "appeals = add_last_n_decisions(data=appeals, ref=appeals, dimension='ij_code_nat', \n",
    "                               new_feature_name='last_10_appeal_grant_by_judge_nat', last_n=10, max_chunk=50000000)"
   ]
  },
  {
   "cell_type": "code",
   "execution_count": 38,
   "metadata": {
    "collapsed": false
   },
   "outputs": [
    {
     "name": "stdout",
     "output_type": "stream",
     "text": [
      "Split 15364 labels in ij_code_nat dimension into 1 chunks...\n",
      "Chunk 0 completed in 29.716960907 seconds\n",
      "DONE: Last 10 decisions computed for ij_code_nat dimension in 29.7170619965 seconds\n"
     ]
    }
   ],
   "source": [
    "# last 10 by judge+nat, for non-appeals \n",
    "non_appeals = add_last_n_decisions(data=non_appeals, ref=appeals, dimension='ij_code_nat', \n",
    "                                   new_feature_name='last_10_appeal_grant_by_judge_nat', last_n=10, max_chunk=50000000)"
   ]
  },
  {
   "cell_type": "markdown",
   "metadata": {},
   "source": [
    "# Output to CSV "
   ]
  },
  {
   "cell_type": "markdown",
   "metadata": {},
   "source": [
    "### Features to Retain "
   ]
  },
  {
   "cell_type": "code",
   "execution_count": 39,
   "metadata": {
    "collapsed": true
   },
   "outputs": [],
   "source": [
    "## ID features \n",
    "id_features = ['idncase', 'idnproceeding', 'idnAppeal']"
   ]
  },
  {
   "cell_type": "code",
   "execution_count": 40,
   "metadata": {
    "collapsed": true
   },
   "outputs": [],
   "source": [
    "## Respondent features \n",
    "respondent_features = ['nat_grouped', 'lang_grouped']\n",
    "\n",
    "# excluded: 'ij_code_nat', 'nat_string', 'lang' "
   ]
  },
  {
   "cell_type": "code",
   "execution_count": 41,
   "metadata": {
    "collapsed": true
   },
   "outputs": [],
   "source": [
    "## Judge features \n",
    "judge_features = ['ij_code_grouped', 'Male_judge', 'Year_Appointed_SLR', 'Year_College_SLR', 'Year_Law_school_SLR', \n",
    "                  'Government_Years_SLR', 'Govt_nonINS_SLR', 'INS_Years_SLR', 'Military_Years_SLR', 'NGO_Years_SLR', \n",
    "                  'Privateprac_Years_SLR', 'Academia_Years_SLR', 'judge_missing_bio',\n",
    "                  'years_since_judge_appointment', 'years_since_law_school', \n",
    "                  'last_10_appeal_grant_by_judge', 'last_10_appeal_grant_by_judge_nat']\n",
    "\n",
    "# excluded: 'ij_code', 'judgeid', 'judge_name_caps' "
   ]
  },
  {
   "cell_type": "code",
   "execution_count": 42,
   "metadata": {
    "collapsed": true
   },
   "outputs": [],
   "source": [
    "## Proceeding features \n",
    "proceeding_features = ['lawyer', 'defensive', 'affirmative', 'oral', 'written',\n",
    "                       'case_type_string', 'original_dec_string']\n",
    "\n",
    "# excluded: 'deportation_proceeding'-'exclusion_proceeding'-'removal_proceeding'-'asylum_only_proceeding'-\n",
    "# 'withholding_only_proceeding' (all included in case_type_string) original_dec_type_string' (same as oral/written),\n",
    "#  'deport', 'relief_granted', 'remove', 'terminated', 'voluntary_departure' (same as original_dec_string categorical)\n",
    "# 'deport_form', 'voluntary_form' (not sure what these are), 'interpreter_code (doesn't vary)"
   ]
  },
  {
   "cell_type": "code",
   "execution_count": 43,
   "metadata": {
    "collapsed": true
   },
   "outputs": [],
   "source": [
    "## Appeal features\n",
    "appeal_features = ['strCustody', 'strProbono']\n",
    "# excluded "
   ]
  },
  {
   "cell_type": "code",
   "execution_count": 44,
   "metadata": {
    "collapsed": true
   },
   "outputs": [],
   "source": [
    "## Location features \n",
    "location_features = ['base_city_code', 'hearing_loc_match_base'] \n",
    "# excluded: 'base_city_zip5' (same as base_city_code), 'base_city_state' (slightly less granular than base_city_code),\n",
    "# 'venue_change' (rarely populated), 'hearing_loc_city' (too many), 'hearing_loc_code', 'hearing_loc_state'"
   ]
  },
  {
   "cell_type": "code",
   "execution_count": 45,
   "metadata": {
    "collapsed": true
   },
   "outputs": [],
   "source": [
    "## Time features \n",
    "time_features = ['datAppealFiled_year', 'datAppealFiled_year_month', 'comp_year', 'comp_year_month', \n",
    "                 'comp_days_elasped_since_input_date', 'input_days_elapsed_since_osc_date', \n",
    "                 'appeal_days_elapsed_since_comp_date']\n",
    "\n",
    "# excluded 'appl_year', 'appl_recd_date', 'adj_time_start',  \n",
    "# 'osc_year', 'osc_month', 'osc_day', 'osc_date',  input_year', 'input_month', 'input_day', 'input_date'\n",
    "# 'comp_month', 'comp_day', 'datAppealFiled_year_month', 'datBIADecision_dt', 'datBIADecision_month'"
   ]
  },
  {
   "cell_type": "code",
   "execution_count": 46,
   "metadata": {
    "collapsed": false
   },
   "outputs": [
    {
     "name": "stdout",
     "output_type": "stream",
     "text": [
      "['idncase', 'idnproceeding', 'idnAppeal', 'nat_grouped', 'lang_grouped', 'ij_code_grouped', 'Male_judge', 'Year_Appointed_SLR', 'Year_College_SLR', 'Year_Law_school_SLR', 'Government_Years_SLR', 'Govt_nonINS_SLR', 'INS_Years_SLR', 'Military_Years_SLR', 'NGO_Years_SLR', 'Privateprac_Years_SLR', 'Academia_Years_SLR', 'judge_missing_bio', 'years_since_judge_appointment', 'years_since_law_school', 'last_10_appeal_grant_by_judge', 'last_10_appeal_grant_by_judge_nat', 'lawyer', 'defensive', 'affirmative', 'oral', 'written', 'case_type_string', 'original_dec_string', 'strCustody', 'strProbono', 'base_city_code', 'hearing_loc_match_base', 'datAppealFiled_year', 'datAppealFiled_year_month', 'comp_year', 'comp_year_month', 'comp_days_elasped_since_input_date', 'input_days_elapsed_since_osc_date', 'appeal_days_elapsed_since_comp_date']\n"
     ]
    }
   ],
   "source": [
    "# Features to keep \n",
    "features_to_keep = id_features + respondent_features + judge_features + proceeding_features\\\n",
    "    + appeal_features + location_features + time_features\n",
    "print(features_to_keep)"
   ]
  },
  {
   "cell_type": "code",
   "execution_count": 47,
   "metadata": {
    "collapsed": false
   },
   "outputs": [
    {
     "name": "stdout",
     "output_type": "stream",
     "text": [
      "<class 'pandas.core.frame.DataFrame'>\n",
      "Int64Index: 242466 entries, 498640 to 702259\n",
      "Data columns (total 41 columns):\n",
      "idncase                                242466 non-null int64\n",
      "idnproceeding                          242466 non-null int64\n",
      "idnAppeal                              242466 non-null float64\n",
      "nat_grouped                            242466 non-null object\n",
      "lang_grouped                           242466 non-null object\n",
      "ij_code_grouped                        242466 non-null object\n",
      "Male_judge                             226481 non-null float64\n",
      "Year_Appointed_SLR                     226481 non-null float64\n",
      "Year_College_SLR                       226481 non-null float64\n",
      "Year_Law_school_SLR                    226481 non-null float64\n",
      "Government_Years_SLR                   226481 non-null float64\n",
      "Govt_nonINS_SLR                        226481 non-null float64\n",
      "INS_Years_SLR                          226481 non-null float64\n",
      "Military_Years_SLR                     226481 non-null float64\n",
      "NGO_Years_SLR                          226481 non-null float64\n",
      "Privateprac_Years_SLR                  226481 non-null float64\n",
      "Academia_Years_SLR                     226481 non-null float64\n",
      "judge_missing_bio                      242466 non-null int64\n",
      "years_since_judge_appointment          242466 non-null float64\n",
      "years_since_law_school                 242466 non-null float64\n",
      "last_10_appeal_grant_by_judge          235220 non-null float64\n",
      "last_10_appeal_grant_by_judge_nat      196313 non-null float64\n",
      "lawyer                                 242466 non-null int64\n",
      "defensive                              236930 non-null float64\n",
      "affirmative                            236930 non-null float64\n",
      "oral                                   242026 non-null float64\n",
      "written                                242026 non-null float64\n",
      "case_type_string                       242466 non-null object\n",
      "original_dec_string                    242435 non-null object\n",
      "strCustody                             202453 non-null object\n",
      "strProbono                             476 non-null object\n",
      "base_city_code                         242466 non-null object\n",
      "hearing_loc_match_base                 242466 non-null object\n",
      "datAppealFiled_year                    242466 non-null float64\n",
      "datAppealFiled_year_month              242466 non-null float64\n",
      "comp_year                              242466 non-null int64\n",
      "comp_year_month                        242466 non-null int64\n",
      "comp_days_elasped_since_input_date     242466 non-null float64\n",
      "input_days_elapsed_since_osc_date      242466 non-null float64\n",
      "appeal_days_elapsed_since_comp_date    242466 non-null int64\n",
      "granted                                242466 non-null int64\n",
      "dtypes: float64(24), int64(8), object(9)\n",
      "memory usage: 77.7+ MB\n"
     ]
    }
   ],
   "source": [
    "# output appeals dataset to csv \n",
    "appeals_fp = os.path.join(DATAFOLDER, 'data_for_model/appeals_data_final.csv') \n",
    "appeals_final = appeals[features_to_keep + ['granted']]\n",
    "appeals_final.to_csv(appeals_fp, encoding='utf-8', index=False)\n",
    "appeals_final.info() "
   ]
  },
  {
   "cell_type": "code",
   "execution_count": 48,
   "metadata": {
    "collapsed": false
   },
   "outputs": [
    {
     "name": "stdout",
     "output_type": "stream",
     "text": [
      "<class 'pandas.core.frame.DataFrame'>\n",
      "Int64Index: 128720 entries, 8 to 702267\n",
      "Data columns (total 40 columns):\n",
      "idncase                                128720 non-null int64\n",
      "idnproceeding                          128720 non-null int64\n",
      "idnAppeal                              0 non-null float64\n",
      "nat_grouped                            128720 non-null object\n",
      "lang_grouped                           128720 non-null object\n",
      "ij_code_grouped                        128720 non-null object\n",
      "Male_judge                             119610 non-null float64\n",
      "Year_Appointed_SLR                     119610 non-null float64\n",
      "Year_College_SLR                       119610 non-null float64\n",
      "Year_Law_school_SLR                    119610 non-null float64\n",
      "Government_Years_SLR                   119610 non-null float64\n",
      "Govt_nonINS_SLR                        119610 non-null float64\n",
      "INS_Years_SLR                          119610 non-null float64\n",
      "Military_Years_SLR                     119610 non-null float64\n",
      "NGO_Years_SLR                          119610 non-null float64\n",
      "Privateprac_Years_SLR                  119610 non-null float64\n",
      "Academia_Years_SLR                     119610 non-null float64\n",
      "judge_missing_bio                      128720 non-null int64\n",
      "years_since_judge_appointment          128720 non-null float64\n",
      "years_since_law_school                 128720 non-null float64\n",
      "last_10_appeal_grant_by_judge          124250 non-null float64\n",
      "last_10_appeal_grant_by_judge_nat      93912 non-null float64\n",
      "lawyer                                 128720 non-null int64\n",
      "defensive                              123900 non-null float64\n",
      "affirmative                            123900 non-null float64\n",
      "oral                                   127309 non-null float64\n",
      "written                                127309 non-null float64\n",
      "case_type_string                       128717 non-null object\n",
      "original_dec_string                    128709 non-null object\n",
      "strCustody                             0 non-null object\n",
      "strProbono                             0 non-null object\n",
      "base_city_code                         128720 non-null object\n",
      "hearing_loc_match_base                 128720 non-null object\n",
      "datAppealFiled_year                    128720 non-null int64\n",
      "datAppealFiled_year_month              128720 non-null int64\n",
      "comp_year                              128720 non-null int64\n",
      "comp_year_month                        128720 non-null int64\n",
      "comp_days_elasped_since_input_date     128720 non-null float64\n",
      "input_days_elapsed_since_osc_date      128720 non-null float64\n",
      "appeal_days_elapsed_since_comp_date    128720 non-null float64\n",
      "dtypes: float64(23), int64(8), object(9)\n",
      "memory usage: 40.3+ MB\n"
     ]
    }
   ],
   "source": [
    "# output non-appeals dataset to csv \n",
    "non_appeals_fp = os.path.join(DATAFOLDER, 'data_for_model/non_appeals_data_final.csv') \n",
    "non_appeals_final = non_appeals[features_to_keep]\n",
    "non_appeals_final.to_csv(non_appeals_fp, encoding='utf-8', index=False)\n",
    "non_appeals_final.info() "
   ]
  },
  {
   "cell_type": "code",
   "execution_count": null,
   "metadata": {
    "collapsed": true
   },
   "outputs": [],
   "source": []
  },
  {
   "cell_type": "code",
   "execution_count": null,
   "metadata": {
    "collapsed": true
   },
   "outputs": [],
   "source": []
  }
 ],
 "metadata": {
  "kernelspec": {
   "display_name": "Python 2",
   "language": "python",
   "name": "python2"
  },
  "language_info": {
   "codemirror_mode": {
    "name": "ipython",
    "version": 2
   },
   "file_extension": ".py",
   "mimetype": "text/x-python",
   "name": "python",
   "nbconvert_exporter": "python",
   "pygments_lexer": "ipython2",
   "version": "2.7.11"
  }
 },
 "nbformat": 4,
 "nbformat_minor": 1
}
