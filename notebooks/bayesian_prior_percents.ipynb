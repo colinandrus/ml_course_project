{
 "cells": [
  {
   "cell_type": "code",
   "execution_count": 3,
   "metadata": {},
   "outputs": [],
   "source": [
    "import sys\n",
    "import numpy as np \n",
    "import pandas as pd \n",
    "import random\n",
    "import matplotlib.pyplot as plt \n",
    "import os\n",
    "import datetime as datetime\n",
    "pd.set_option('display.max_rows', 200)\n",
    "%matplotlib inline"
   ]
  },
  {
   "cell_type": "code",
   "execution_count": 4,
   "metadata": {},
   "outputs": [],
   "source": [
    "# define folder where data resides \n",
    "DATAFOLDER = \"/Users/Colin/Google_Drive/ML_DSGA_1003/asylum_project\""
   ]
  },
  {
   "cell_type": "markdown",
   "metadata": {},
   "source": [
    "## Read in Dunn Data"
   ]
  },
  {
   "cell_type": "code",
   "execution_count": 6,
   "metadata": {},
   "outputs": [
    {
     "name": "stdout",
     "output_type": "stream",
     "text": [
      "<class 'pandas.core.frame.DataFrame'>\n",
      "RangeIndex: 602500 entries, 0 to 602499\n",
      "Columns: 182 entries, Unnamed: 0 to last_hearing_on_comp_date\n",
      "dtypes: bool(1), float64(72), int64(39), object(70)\n",
      "memory usage: 832.6+ MB\n"
     ]
    }
   ],
   "source": [
    "master_dunn = pd.read_csv(os.path.join(DATAFOLDER, \n",
    "                                       'raw/_decision_scheduling_merge_final_converted.csv'), \n",
    "                          encoding='latin-1', low_memory=False) # gets UnicodeDecodeError otherwise \n",
    "master_dunn.info()"
   ]
  },
  {
   "cell_type": "markdown",
   "metadata": {},
   "source": [
    "## Generate Prior Percentages"
   ]
  },
  {
   "cell_type": "code",
   "execution_count": 16,
   "metadata": {},
   "outputs": [
    {
     "data": {
      "text/plain": [
       "0.3547402489626556"
      ]
     },
     "execution_count": 16,
     "metadata": {},
     "output_type": "execute_result"
    }
   ],
   "source": [
    "# prior percentages for aggregate\n",
    "agt_prior = master_dunn['grant'].mean()\n",
    "# overall grant percent\n",
    "agt_prior"
   ]
  },
  {
   "cell_type": "code",
   "execution_count": 10,
   "metadata": {},
   "outputs": [
    {
     "data": {
      "text/plain": [
       "nat\n",
       "??    0.338384\n",
       "AB    0.000000\n",
       "AC    0.125000\n",
       "AF    0.647856\n",
       "AG    0.370103\n",
       "Name: grant, dtype: float64"
      ]
     },
     "execution_count": 10,
     "metadata": {},
     "output_type": "execute_result"
    }
   ],
   "source": [
    "# prior percentages for nationality\n",
    "nat_priors = master_dunn.groupby(['nat']).mean()['grant']\n",
    "nat_priors.head()"
   ]
  },
  {
   "cell_type": "code",
   "execution_count": 12,
   "metadata": {},
   "outputs": [
    {
     "data": {
      "text/plain": [
       "affirmative\n",
       "0.0    0.278850\n",
       "1.0    0.428644\n",
       "Name: grant, dtype: float64"
      ]
     },
     "execution_count": 12,
     "metadata": {},
     "output_type": "execute_result"
    }
   ],
   "source": [
    "# prior percentages for affirmative vs defensive\n",
    "affirm_priors = master_dunn.groupby(['affirmative']).mean()['grant']\n",
    "affirm_priors.head()"
   ]
  },
  {
   "cell_type": "code",
   "execution_count": 23,
   "metadata": {},
   "outputs": [],
   "source": [
    "# make dt col\n",
    "master_dunn['input_dt'] = master_dunn[['input_year', 'input_month', 'input_day']]\\\n",
    ".apply(lambda x : '{}{}{}'.format(str(x[0]).split('.')[0],str(x[1]).split('.')[0],str(x[2]).split('.')[0]), axis=1)\\\n",
    ".apply(pd.to_datetime, format='%Y%m%d', errors='coerce')"
   ]
  },
  {
   "cell_type": "code",
   "execution_count": 32,
   "metadata": {},
   "outputs": [],
   "source": [
    "# get day of the week\n",
    "master_dunn['dow'] = master_dunn['input_dt'].apply(lambda x: x.weekday())"
   ]
  },
  {
   "cell_type": "code",
   "execution_count": 35,
   "metadata": {},
   "outputs": [
    {
     "data": {
      "text/plain": [
       "dow\n",
       "0.0    0.348473\n",
       "1.0    0.349997\n",
       "2.0    0.345343\n",
       "3.0    0.346134\n",
       "4.0    0.345900\n",
       "5.0    0.297635\n",
       "6.0    0.321844\n",
       "Name: grant, dtype: float64"
      ]
     },
     "execution_count": 35,
     "metadata": {},
     "output_type": "execute_result"
    }
   ],
   "source": [
    "# prior percentage for DOW\n",
    "dow_priors = master_dunn.groupby(['dow']).mean()['grant']\n",
    "dow_priors"
   ]
  },
  {
   "cell_type": "code",
   "execution_count": 47,
   "metadata": {},
   "outputs": [],
   "source": [
    "# round adj_time_start down\n",
    "def round_down(num, divisor):\n",
    "    return num - (num%divisor)"
   ]
  },
  {
   "cell_type": "code",
   "execution_count": 49,
   "metadata": {},
   "outputs": [],
   "source": [
    "# round time down to the hour\n",
    "# 8:59 -> 8:00 for instance\n",
    "master_dunn['rounded_time'] = master_dunn['adj_time_start'].apply(lambda x: round_down(x, 100))"
   ]
  },
  {
   "cell_type": "code",
   "execution_count": 52,
   "metadata": {},
   "outputs": [
    {
     "data": {
      "text/plain": [
       "rounded_time\n",
       "800     0.348306\n",
       "900     0.325267\n",
       "1000    0.356149\n",
       "1100    0.485942\n",
       "1200    0.470093\n",
       "1300    0.349177\n",
       "1400    0.383951\n",
       "1500    0.410481\n",
       "1600    0.633899\n",
       "1700    0.421875\n",
       "1800    0.294521\n",
       "1900    0.403409\n",
       "Name: grant, dtype: float64"
      ]
     },
     "execution_count": 52,
     "metadata": {},
     "output_type": "execute_result"
    }
   ],
   "source": [
    "# prior percentage for time\n",
    "time_priors = master_dunn.groupby(['rounded_time']).mean()['grant']\n",
    "time_priors"
   ]
  },
  {
   "cell_type": "code",
   "execution_count": 53,
   "metadata": {},
   "outputs": [
    {
     "data": {
      "text/plain": [
       "lang\n",
       "???    0.231884\n",
       "AAR    1.000000\n",
       "ACC    0.000000\n",
       "ACE    0.333333\n",
       "ACH    0.428571\n",
       "AFE    0.000000\n",
       "AFR    0.375000\n",
       "AGC    0.069767\n",
       "AGH    1.000000\n",
       "AKA    0.227848\n",
       "AKU    0.666667\n",
       "ALB    0.516708\n",
       "ALG    0.400000\n",
       "AMD    0.882353\n",
       "AMH    0.628219\n",
       "ANU    0.000000\n",
       "AR     0.512439\n",
       "ARA    0.494253\n",
       "ARK    0.846154\n",
       "ARM    0.457021\n",
       "ASH    0.185185\n",
       "ASY    0.689573\n",
       "AZJ    0.672414\n",
       "BAG    0.375000\n",
       "BAI    0.727273\n",
       "BAJ    0.714286\n",
       "BAM    0.529650\n",
       "BAN    0.000000\n",
       "BAS    0.500000\n",
       "BAU    0.333333\n",
       "BAV    1.000000\n",
       "BBJ    0.500000\n",
       "BEL    0.764706\n",
       "BEM    0.333333\n",
       "BEN    0.310127\n",
       "BER    0.250000\n",
       "BET    0.500000\n",
       "BFA    0.500000\n",
       "BHU    1.000000\n",
       "BIH    1.000000\n",
       "BLE    0.000000\n",
       "BMO    1.000000\n",
       "BMY    0.000000\n",
       "BNN    0.700000\n",
       "BOS    0.311688\n",
       "BSQ    0.514286\n",
       "BUK    0.000000\n",
       "BUL    0.398671\n",
       "BUR    0.743418\n",
       "BXM    0.000000\n",
       "BYV    0.500000\n",
       "CAB    0.500000\n",
       "CAC    0.200000\n",
       "CAL    0.707898\n",
       "CAM    0.325031\n",
       "CAN    0.381724\n",
       "CCE    0.428571\n",
       "CEB    0.000000\n",
       "CH     0.250000\n",
       "CHA    0.500000\n",
       "CHE    0.666667\n",
       "CHG    0.000000\n",
       "CHI    0.769784\n",
       "CHU    0.157895\n",
       "CIR    1.000000\n",
       "CJK    1.000000\n",
       "CJY    1.000000\n",
       "CNH    0.727273\n",
       "CNM    0.200000\n",
       "CRE    0.154121\n",
       "CRO    0.372000\n",
       "CSN    1.000000\n",
       "CTD    0.625000\n",
       "CV     0.000000\n",
       "CZ     0.207254\n",
       "DAG    0.000000\n",
       "DAM    1.000000\n",
       "DAR    0.829132\n",
       "DIN    0.500000\n",
       "DIU    0.500000\n",
       "DIV    0.307692\n",
       "DJE    0.090909\n",
       "DUT    0.258824\n",
       "DYO    0.665523\n",
       "EDO    0.300000\n",
       "EFI    0.000000\n",
       "ENG    0.371339\n",
       "ENP    0.411215\n",
       "ERI    1.000000\n",
       "ESI    1.000000\n",
       "EST    0.294118\n",
       "ETH    0.800000\n",
       "EWE    0.484694\n",
       "FAA    0.896552\n",
       "FAE    0.622619\n",
       "FAN    0.265306\n",
       "FAR    0.823529\n",
       "FIJ    0.198198\n",
       "FIN    0.000000\n",
       "FLA    0.593782\n",
       "         ...   \n",
       "QCH    0.500000\n",
       "QUI    0.127660\n",
       "QXR    0.142857\n",
       "RAH    0.000000\n",
       "RMY    0.653846\n",
       "ROM    0.373463\n",
       "ROS    0.000000\n",
       "RSI    1.000000\n",
       "RUN    0.000000\n",
       "RUP    0.470588\n",
       "RUS    0.602737\n",
       "RUT    0.500000\n",
       "RWA    0.562500\n",
       "SAJ    0.461538\n",
       "SAM    0.250000\n",
       "SAR    0.238411\n",
       "SC     0.496887\n",
       "SCN    0.000000\n",
       "SCR    0.750000\n",
       "SEF    0.000000\n",
       "SER    0.450777\n",
       "SHA    0.551724\n",
       "SHI    0.500000\n",
       "SHN    0.592593\n",
       "SHO    0.000000\n",
       "SHU    0.900000\n",
       "SIG    0.394737\n",
       "SIN    0.495434\n",
       "SLO    0.165289\n",
       "SLV    0.500000\n",
       "SND    0.545455\n",
       "SNG    0.000000\n",
       "SOK    0.408100\n",
       "SOM    0.564405\n",
       "SOT    0.000000\n",
       "SP     0.174615\n",
       "SPS    0.250000\n",
       "SRI    0.640000\n",
       "SUD    0.736842\n",
       "SUS    0.494737\n",
       "SWA    0.440208\n",
       "SWE    0.333333\n",
       "SWF    0.647059\n",
       "SYL    0.250000\n",
       "SZE    0.548387\n",
       "TAB    0.000000\n",
       "TAG    0.093727\n",
       "TAJ    0.608696\n",
       "TAM    0.644611\n",
       "TAU    0.000000\n",
       "TCH    0.000000\n",
       "TEL    0.244898\n",
       "TEN    0.900000\n",
       "TET    1.000000\n",
       "TGR    0.625000\n",
       "TH     0.126866\n",
       "TIB    0.811888\n",
       "TIG    0.752515\n",
       "TKN    0.666667\n",
       "TMN    0.421053\n",
       "TMZ    0.000000\n",
       "TOI    0.414894\n",
       "TON    0.071429\n",
       "TOS    0.465116\n",
       "TOY    0.000000\n",
       "TRI    0.851852\n",
       "TRK    0.214286\n",
       "TSI    0.600000\n",
       "TSZ    0.000000\n",
       "TU     0.381944\n",
       "TUQ    0.000000\n",
       "TWI    0.145059\n",
       "TWN    0.375000\n",
       "TZO    0.000000\n",
       "UIG    0.789474\n",
       "UK     0.330226\n",
       "UNK    0.229002\n",
       "UR     0.336197\n",
       "URH    0.600000\n",
       "UZB    0.494700\n",
       "VAI    0.666667\n",
       "VIE    0.185206\n",
       "VIL    0.000000\n",
       "VIS    0.142857\n",
       "WCI    1.000000\n",
       "WEN    0.472990\n",
       "WLF    0.321397\n",
       "XIA    0.000000\n",
       "XOY    0.000000\n",
       "YID    0.000000\n",
       "YOM    0.000000\n",
       "YOR    0.310992\n",
       "YUC    0.000000\n",
       "YUG    0.100000\n",
       "ZAG    0.666667\n",
       "ZAP    0.333333\n",
       "ZAR    0.250000\n",
       "ZOM    0.285714\n",
       "ZPA    0.000000\n",
       "ZUL    0.500000\n",
       "Name: grant, Length: 385, dtype: float64"
      ]
     },
     "execution_count": 53,
     "metadata": {},
     "output_type": "execute_result"
    }
   ],
   "source": [
    "# language prior\n",
    "language_priors = master_dunn.groupby(['lang']).mean()['grant']\n",
    "language_priors"
   ]
  },
  {
   "cell_type": "code",
   "execution_count": 54,
   "metadata": {},
   "outputs": [
    {
     "data": {
      "text/plain": [
       "lawyer\n",
       "0    0.095926\n",
       "1    0.395803\n",
       "Name: grant, dtype: float64"
      ]
     },
     "execution_count": 54,
     "metadata": {},
     "output_type": "execute_result"
    }
   ],
   "source": [
    "# lawyer prior\n",
    "lawyer_priors = master_dunn.groupby(['lawyer']).mean()['grant']\n",
    "lawyer_priors"
   ]
  },
  {
   "cell_type": "code",
   "execution_count": 55,
   "metadata": {},
   "outputs": [
    {
     "data": {
      "text/plain": [
       "child\n",
       "0    0.35474\n",
       "Name: grant, dtype: float64"
      ]
     },
     "execution_count": 55,
     "metadata": {},
     "output_type": "execute_result"
    }
   ],
   "source": []
  },
  {
   "cell_type": "code",
   "execution_count": null,
   "metadata": {},
   "outputs": [],
   "source": []
  }
 ],
 "metadata": {
  "kernelspec": {
   "display_name": "Python 2",
   "language": "python",
   "name": "python2"
  },
  "language_info": {
   "codemirror_mode": {
    "name": "ipython",
    "version": 2
   },
   "file_extension": ".py",
   "mimetype": "text/x-python",
   "name": "python",
   "nbconvert_exporter": "python",
   "pygments_lexer": "ipython2",
   "version": "2.7.13"
  }
 },
 "nbformat": 4,
 "nbformat_minor": 2
}
