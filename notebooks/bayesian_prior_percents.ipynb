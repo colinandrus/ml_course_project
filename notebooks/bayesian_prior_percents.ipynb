{
 "cells": [
  {
   "cell_type": "code",
   "execution_count": 3,
   "metadata": {},
   "outputs": [],
   "source": [
    "import sys\n",
    "import numpy as np \n",
    "import pandas as pd \n",
    "import random\n",
    "import matplotlib.pyplot as plt \n",
    "import os\n",
    "import datetime as datetime\n",
    "pd.set_option('display.max_rows', 200)\n",
    "%matplotlib inline"
   ]
  },
  {
   "cell_type": "code",
   "execution_count": 4,
   "metadata": {},
   "outputs": [],
   "source": [
    "# define folder where data resides \n",
    "DATAFOLDER = \"/Users/Colin/Google_Drive/ML_DSGA_1003/asylum_project\""
   ]
  },
  {
   "cell_type": "markdown",
   "metadata": {},
   "source": [
    "## Read in Dunn Data"
   ]
  },
  {
   "cell_type": "code",
   "execution_count": 6,
   "metadata": {},
   "outputs": [
    {
     "name": "stdout",
     "output_type": "stream",
     "text": [
      "<class 'pandas.core.frame.DataFrame'>\n",
      "RangeIndex: 602500 entries, 0 to 602499\n",
      "Columns: 182 entries, Unnamed: 0 to last_hearing_on_comp_date\n",
      "dtypes: bool(1), float64(72), int64(39), object(70)\n",
      "memory usage: 832.6+ MB\n"
     ]
    }
   ],
   "source": [
    "master_dunn = pd.read_csv(os.path.join(DATAFOLDER, \n",
    "                                       'raw/_decision_scheduling_merge_final_converted.csv'), \n",
    "                          encoding='latin-1', low_memory=False) # gets UnicodeDecodeError otherwise \n",
    "master_dunn.info()"
   ]
  },
  {
   "cell_type": "markdown",
   "metadata": {},
   "source": [
    "## Generate Prior Percentages"
   ]
  },
  {
   "cell_type": "code",
   "execution_count": 16,
   "metadata": {},
   "outputs": [
    {
     "data": {
      "text/plain": [
       "0.3547402489626556"
      ]
     },
     "execution_count": 16,
     "metadata": {},
     "output_type": "execute_result"
    }
   ],
   "source": [
    "# prior percentages for aggregate\n",
    "agt_prior = master_dunn['grant'].mean()\n",
    "# overall grant percent\n",
    "agt_prior"
   ]
  },
  {
   "cell_type": "code",
   "execution_count": 10,
   "metadata": {},
   "outputs": [
    {
     "data": {
      "text/plain": [
       "nat\n",
       "??    0.338384\n",
       "AB    0.000000\n",
       "AC    0.125000\n",
       "AF    0.647856\n",
       "AG    0.370103\n",
       "Name: grant, dtype: float64"
      ]
     },
     "execution_count": 10,
     "metadata": {},
     "output_type": "execute_result"
    }
   ],
   "source": [
    "# prior percentages for nationality\n",
    "nat_priors = master_dunn.groupby(['nat']).mean()['grant']\n",
    "nat_priors.head()"
   ]
  },
  {
   "cell_type": "code",
   "execution_count": 12,
   "metadata": {},
   "outputs": [
    {
     "data": {
      "text/plain": [
       "affirmative\n",
       "0.0    0.278850\n",
       "1.0    0.428644\n",
       "Name: grant, dtype: float64"
      ]
     },
     "execution_count": 12,
     "metadata": {},
     "output_type": "execute_result"
    }
   ],
   "source": [
    "# prior percentages for affirmative vs defensive\n",
    "affirm_priors = master_dunn.groupby(['affirmative']).mean()['grant']\n",
    "affirm_priors.head()"
   ]
  },
  {
   "cell_type": "code",
   "execution_count": 23,
   "metadata": {},
   "outputs": [],
   "source": [
    "# make dt col\n",
    "master_dunn['input_dt'] = master_dunn[['input_year', 'input_month', 'input_day']]\\\n",
    ".apply(lambda x : '{}{}{}'.format(str(x[0]).split('.')[0],str(x[1]).split('.')[0],str(x[2]).split('.')[0]), axis=1)\\\n",
    ".apply(pd.to_datetime, format='%Y%m%d', errors='coerce')"
   ]
  },
  {
   "cell_type": "code",
   "execution_count": 32,
   "metadata": {},
   "outputs": [],
   "source": [
    "# get day of the week\n",
    "master_dunn['dow'] = master_dunn['input_dt'].apply(lambda x: x.weekday())"
   ]
  },
  {
   "cell_type": "code",
   "execution_count": 35,
   "metadata": {},
   "outputs": [
    {
     "data": {
      "text/plain": [
       "dow\n",
       "0.0    0.348473\n",
       "1.0    0.349997\n",
       "2.0    0.345343\n",
       "3.0    0.346134\n",
       "4.0    0.345900\n",
       "5.0    0.297635\n",
       "6.0    0.321844\n",
       "Name: grant, dtype: float64"
      ]
     },
     "execution_count": 35,
     "metadata": {},
     "output_type": "execute_result"
    }
   ],
   "source": [
    "# prior percentage for DOW\n",
    "dow_priors = master_dunn.groupby(['dow']).mean()['grant']\n",
    "dow_priors"
   ]
  },
  {
   "cell_type": "code",
   "execution_count": 47,
   "metadata": {},
   "outputs": [],
   "source": [
    "# round adj_time_start down\n",
    "def round_down(num, divisor):\n",
    "    return num - (num%divisor)"
   ]
  },
  {
   "cell_type": "code",
   "execution_count": 49,
   "metadata": {},
   "outputs": [],
   "source": [
    "# round time down to the hour\n",
    "# 8:59 -> 8:00 for instance\n",
    "master_dunn['rounded_time'] = master_dunn['adj_time_start'].apply(lambda x: round_down(x, 100))"
   ]
  },
  {
   "cell_type": "code",
   "execution_count": 52,
   "metadata": {},
   "outputs": [
    {
     "data": {
      "text/plain": [
       "rounded_time\n",
       "800     0.348306\n",
       "900     0.325267\n",
       "1000    0.356149\n",
       "1100    0.485942\n",
       "1200    0.470093\n",
       "1300    0.349177\n",
       "1400    0.383951\n",
       "1500    0.410481\n",
       "1600    0.633899\n",
       "1700    0.421875\n",
       "1800    0.294521\n",
       "1900    0.403409\n",
       "Name: grant, dtype: float64"
      ]
     },
     "execution_count": 52,
     "metadata": {},
     "output_type": "execute_result"
    }
   ],
   "source": [
    "# prior percentage for time\n",
    "time_priors = master_dunn.groupby(['rounded_time']).mean()['grant']\n",
    "time_priors"
   ]
  },
  {
   "cell_type": "code",
   "execution_count": 56,
   "metadata": {},
   "outputs": [
    {
     "data": {
      "text/plain": [
       "lang\n",
       "???    0.231884\n",
       "AAR    1.000000\n",
       "ACC    0.000000\n",
       "ACE    0.333333\n",
       "ACH    0.428571\n",
       "Name: grant, dtype: float64"
      ]
     },
     "execution_count": 56,
     "metadata": {},
     "output_type": "execute_result"
    }
   ],
   "source": [
    "# language prior\n",
    "language_priors = master_dunn.groupby(['lang']).mean()['grant']\n",
    "language_priors.head()"
   ]
  },
  {
   "cell_type": "code",
   "execution_count": 54,
   "metadata": {},
   "outputs": [
    {
     "data": {
      "text/plain": [
       "lawyer\n",
       "0    0.095926\n",
       "1    0.395803\n",
       "Name: grant, dtype: float64"
      ]
     },
     "execution_count": 54,
     "metadata": {},
     "output_type": "execute_result"
    }
   ],
   "source": [
    "# lawyer prior\n",
    "lawyer_priors = master_dunn.groupby(['lawyer']).mean()['grant']\n",
    "lawyer_priors"
   ]
  },
  {
   "cell_type": "code",
   "execution_count": 55,
   "metadata": {},
   "outputs": [
    {
     "data": {
      "text/plain": [
       "child\n",
       "0    0.35474\n",
       "Name: grant, dtype: float64"
      ]
     },
     "execution_count": 55,
     "metadata": {},
     "output_type": "execute_result"
    }
   ],
   "source": []
  },
  {
   "cell_type": "code",
   "execution_count": null,
   "metadata": {},
   "outputs": [],
   "source": []
  }
 ],
 "metadata": {
  "kernelspec": {
   "display_name": "Python 2",
   "language": "python",
   "name": "python2"
  },
  "language_info": {
   "codemirror_mode": {
    "name": "ipython",
    "version": 2
   },
   "file_extension": ".py",
   "mimetype": "text/x-python",
   "name": "python",
   "nbconvert_exporter": "python",
   "pygments_lexer": "ipython2",
   "version": "2.7.13"
  }
 },
 "nbformat": 4,
 "nbformat_minor": 2
}
