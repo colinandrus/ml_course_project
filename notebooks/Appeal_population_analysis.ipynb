{
 "cells": [
  {
   "cell_type": "code",
   "execution_count": 61,
   "metadata": {
    "collapsed": true
   },
   "outputs": [],
   "source": [
    "import numpy as np \n",
    "import pandas as pd \n",
    "import random\n",
    "import matplotlib.pyplot as plt \n",
    "import os\n",
    "pd.set_option('display.max_rows', 200)\n",
    "%matplotlib inline"
   ]
  },
  {
   "cell_type": "code",
   "execution_count": 62,
   "metadata": {
    "collapsed": true
   },
   "outputs": [],
   "source": [
    "# define folder where data resides \n",
    "DATAFOLDER = \"/Users/snuffles753/Documents/NYU-GSAS/ds1003/term-project/data\""
   ]
  },
  {
   "cell_type": "code",
   "execution_count": 63,
   "metadata": {
    "collapsed": true
   },
   "outputs": [],
   "source": [
    "import csv\n",
    "import os\n",
    "first = True\n",
    "with open(os.path.join(DATAFOLDER,'final_subset.csv'), 'w') as f_write:\n",
    "    with open(os.path.join(DATAFOLDER,'decision_sched_merge_adjdate.csv'), \"r\") as f:\n",
    "        read = csv.DictReader(f, delimiter=',')\n",
    "        for row in read:\n",
    "            if first:\n",
    "                f_write.write(\"case_id,proceeding_id,year,judge_id,nationality,lawyer,city_id,decision\\n\")\n",
    "                first = False\n",
    "            else:\n",
    "                f_write.write(\"{},{},{},{},{},{},{},{}\\n\".format(row['idncase'], row['idnproceeding'],\n",
    "                                                              row['input_year'], row['judgeid'],\n",
    "                                                              row['nat'],row['lawyer'],row['cityid'],\n",
    "                                                              row['dec_string']))"
   ]
  },
  {
   "cell_type": "code",
   "execution_count": 64,
   "metadata": {},
   "outputs": [],
   "source": [
    "from pyspark.sql import SparkSession\n",
    "from pyspark import SparkContext\n",
    "# conf = SparkConf().setAppName(\"App\")\n",
    "# conf = conf.setMaster('local[*]').set('spark.executor.memory', '5G')\\\n",
    "# .set('spark.driver.memory', '5G')\\\n",
    "# .set('spark.driver.maxResultSize', '5G')\n",
    "\n",
    "sc = SparkContext.getOrCreate()\n",
    "sqlContext=SQLContext(sc);\n"
   ]
  },
  {
   "cell_type": "code",
   "execution_count": 66,
   "metadata": {},
   "outputs": [],
   "source": [
    "# spark=sqlContext.sparkSession\n",
    "# master_dchen = spark.read.csv(os.path.join(DATAFOLDER,'decision_sched_merge_adjdate.csv'),\n",
    "#                 header=True,mode=\"DROPMALFORMED\")\n",
    "# master_dchen.printSchema()\n",
    "# master_dchen.show(3)\n",
    "master_dchen = None"
   ]
  },
  {
   "cell_type": "code",
   "execution_count": 67,
   "metadata": {},
   "outputs": [
    {
     "name": "stdout",
     "output_type": "stream",
     "text": [
      "root\n",
      " |-- idnAppeal: string (nullable = true)\n",
      " |-- idncase: string (nullable = true)\n",
      " |-- idnProceeding: string (nullable = true)\n",
      " |-- strAppealCategory: string (nullable = true)\n",
      " |-- strAppealType: string (nullable = true)\n",
      " |-- datAppealFiled: string (nullable = true)\n",
      " |-- strFiledBy: string (nullable = true)\n",
      " |-- datAttorneyE27: string (nullable = true)\n",
      " |-- datBIADecision: string (nullable = true)\n",
      " |-- strBIADecision: string (nullable = true)\n",
      " |-- strBIADecisionType: string (nullable = true)\n",
      " |-- strCaseType: string (nullable = true)\n",
      " |-- strLang: string (nullable = true)\n",
      " |-- strNat: string (nullable = true)\n",
      " |-- strProceedingIHP: string (nullable = true)\n",
      " |-- strCustody: string (nullable = true)\n",
      " |-- strProbono: string (nullable = true)\n",
      "\n",
      "+---------+-------+-------------+-----------------+-------------+-------------------+----------+--------------+-------------------+--------------+------------------+-----------+-------+------+----------------+----------+----------+\n",
      "|idnAppeal|idncase|idnProceeding|strAppealCategory|strAppealType|     datAppealFiled|strFiledBy|datAttorneyE27|     datBIADecision|strBIADecision|strBIADecisionType|strCaseType|strLang|strNat|strProceedingIHP|strCustody|strProbono|\n",
      "+---------+-------+-------------+-----------------+-------------+-------------------+----------+--------------+-------------------+--------------+------------------+-----------+-------+------+----------------+----------+----------+\n",
      "|   186861|2048412|        93517|               MA|  Case Appeal|1994-03-23 00:00:00|         A|          null|1994-04-15 00:00:00|           SUS|                 P|        EXC|   null|    CA|            null|         D|      null|\n",
      "|  4389457|2050726|        98250|               IJ|  Case Appeal|1998-07-13 00:00:00|         A|          null|1999-02-09 00:00:00|           DIS|                 P|        RMV|    ENG|    DR|               S|         D|      null|\n",
      "|    53050|2050833|        97672|               IJ|  Case Appeal|1991-09-16 00:00:00|         A|          null|1992-10-02 00:00:00|           DIS|                 R|        DEP|     SP|    MX|            null|      null|      null|\n",
      "+---------+-------+-------------+-----------------+-------------+-------------------+----------+--------------+-------------------+--------------+------------------+-----------+-------+------+----------------+----------+----------+\n",
      "only showing top 3 rows\n",
      "\n",
      "648223\n"
     ]
    }
   ],
   "source": [
    "spark=sqlContext.sparkSession\n",
    "\n",
    "tblAppeal = spark.read.csv(os.path.join(DATAFOLDER, 'raw/tblAppeal.csv'),\n",
    "                header=True,mode=\"DROPMALFORMED\")\n",
    "tblAppeal = tblAppeal.dropDuplicates(['idncase'])\n",
    "\n",
    "tblAppeal.printSchema()\n",
    "tblAppeal.show(3)\n",
    "print(tblAppeal.count())"
   ]
  },
  {
   "cell_type": "code",
   "execution_count": 71,
   "metadata": {},
   "outputs": [
    {
     "name": "stdout",
     "output_type": "stream",
     "text": [
      "5664752\n",
      "root\n",
      " |-- case_id: string (nullable = true)\n",
      " |-- proceeding_id: string (nullable = true)\n",
      " |-- year: string (nullable = true)\n",
      " |-- judge_id: string (nullable = true)\n",
      " |-- nationality: string (nullable = true)\n",
      " |-- lawyer: string (nullable = true)\n",
      " |-- city_id: string (nullable = true)\n",
      " |-- decision: string (nullable = true)\n",
      "\n",
      "+-------+-------------+------+--------+-----------+------+-------+--------------------+\n",
      "|case_id|proceeding_id|  year|judge_id|nationality|lawyer|city_id|            decision|\n",
      "+-------+-------------+------+--------+-----------+------+-------+--------------------+\n",
      "|2046985|      3200124|2004.0|     325|         MO|     1|      9|      RELIEF GRANTED|\n",
      "|2047073|      3200025|2003.0|     325|         KU|     0|     25|          TERMINATED|\n",
      "|2047074|      3200026|2003.0|     402|         MX|     0|     15|              REMOVE|\n",
      "|2047255|            8|1987.0|     335|         CA|     1|     28|           TERMINATE|\n",
      "|2047428|        91604|1998.0|     134|         MX|     1|     49|               OTHER|\n",
      "|2047465|      3199807|2003.0|     194|         HO|     0|     25|              REMOVE|\n",
      "|2047615|      3199354|2003.0|     115|         BR|     1|     20|     CHANGE OF VENUE|\n",
      "|2048200|        92804|2001.0|      73|         MX|     1|     12|              REMOVE|\n",
      "|2048378|        92902|1987.0|     338|         MX|     0|     16|              DEPORT|\n",
      "|2048731|        93656|1987.0|     308|         ES|     1|     47|ADMINISTRATIVE CL...|\n",
      "+-------+-------------+------+--------+-----------+------+-------+--------------------+\n",
      "only showing top 10 rows\n",
      "\n",
      "4976392\n"
     ]
    }
   ],
   "source": [
    "spark=sqlContext.sparkSession\n",
    "#case_id,proceeding_id,year,judge_id,nationality,lawyer,city_id\n",
    "nationals = spark.read.csv(os.path.join(DATAFOLDER,'final_subset.csv'),\n",
    "                header=True,mode=\"DROPMALFORMED\")\n",
    "print(nationals.count())\n",
    "nationals = nationals.dropDuplicates(['case_id', 'year'])\n",
    "nationals.printSchema()\n",
    "nationals.show(10)\n",
    "print(nationals.count())\n",
    "#5664752\n",
    "#4508147 - without year drop\n",
    "#4976392 - with year drop"
   ]
  },
  {
   "cell_type": "code",
   "execution_count": 24,
   "metadata": {},
   "outputs": [],
   "source": [
    "nationals.createOrReplaceTempView(\"NATIONALS\")\n",
    "tblAppeal.createOrReplaceTempView(\"APPEALS\")\n",
    "appeal_caseids = spark.sql(\"SELECT DISTINCT idncase as caseId FROM APPEALS\")\n",
    "appeal_caseids.createOrReplaceTempView(\"APPEAL_CASE_IDS\")\n",
    "\n",
    "appeals_sql = \"\"\"\n",
    "SELECT B.case_id, B.nationality\n",
    "FROM\n",
    "(\n",
    "SELECT M.case_id, A.caseId, M.nationality\n",
    "FROM NATIONALS M\n",
    "JOIN APPEAL_CASE_IDS A\n",
    "ON M.case_id = A.caseId\n",
    ") B\n",
    "\"\"\"\n",
    "appeals = spark.sql(appeals_sql)\n",
    "# appeals.show()\n",
    "# num_appeals = appeals.count()\n",
    "# print(num_appeals)\n",
    "\n",
    "non_appeals_sql = \"\"\"\n",
    "SELECT B.case_id, B.nationality\n",
    "FROM\n",
    "(\n",
    "SELECT M.case_id, A.caseId, M.nationality\n",
    "FROM NATIONALS M\n",
    "LEFT JOIN APPEAL_CASE_IDS A\n",
    "ON M.case_id = A.caseId\n",
    ") B\n",
    "WHERE caseId IS NULL\n",
    "\"\"\"\n",
    "non_appeals = spark.sql(non_appeals_sql)\n",
    "# non_appeals.show()\n",
    "# num_non_appeals = non_appeals.count()\n",
    "# print(num_non_appeals)\n",
    "        \n",
    "appeals.createOrReplaceTempView(\"APPEALS_POP\")\n",
    "non_appeals.createOrReplaceTempView(\"NON_APPEALS_POP\")"
   ]
  },
  {
   "cell_type": "code",
   "execution_count": 25,
   "metadata": {
    "collapsed": true
   },
   "outputs": [],
   "source": [
    "num_appeals = appeals.count()\n",
    "num_non_appeals = non_appeals.count()"
   ]
  },
  {
   "cell_type": "code",
   "execution_count": 26,
   "metadata": {},
   "outputs": [
    {
     "data": {
      "image/png": "[encoded data removed]",
      "text/plain": [
       "<matplotlib.figure.Figure at 0x114dde898>"
      ]
     },
     "metadata": {},
     "output_type": "display_data"
    }
   ],
   "source": [
    "\n",
    "\n",
    "labels = 'Appealed Cases', 'Non-appealed Cases'\n",
    "sizes = [num_appeals, num_non_appeals]\n",
    "\n",
    "fig1, ax1 = plt.subplots()\n",
    "ax1.pie(sizes, labels=labels, autopct='%1.1f%%', shadow=True, startangle=90)\n",
    "ax1.axis('equal')  # Equal aspect ratio ensures that pie is drawn as a circle.\n",
    "\n",
    "plt.show()"
   ]
  },
  {
   "cell_type": "code",
   "execution_count": 27,
   "metadata": {},
   "outputs": [
    {
     "name": "stdout",
     "output_type": "stream",
     "text": [
      "544855\n",
      "3963292\n"
     ]
    }
   ],
   "source": [
    "print(num_appeals)\n",
    "print(num_non_appeals)"
   ]
  },
  {
   "cell_type": "code",
   "execution_count": 28,
   "metadata": {},
   "outputs": [
    {
     "name": "stdout",
     "output_type": "stream",
     "text": [
      "+-----------+----------+------+\n",
      "|nationality|percentage| count|\n",
      "+-----------+----------+------+\n",
      "|         MX|     21.93|119488|\n",
      "|         CH|      9.07| 49434|\n",
      "|         ES|      8.02| 43688|\n",
      "|         HA|      6.82| 37154|\n",
      "|         GT|      5.65| 30758|\n",
      "|         CO|      3.82| 20833|\n",
      "|         NU|       3.5| 19075|\n",
      "|         IN|      2.51| 13682|\n",
      "|         HO|      2.33| 12676|\n",
      "|         DR|      2.11| 11486|\n",
      "+-----------+----------+------+\n",
      "\n",
      "+-----------+----------+-------+\n",
      "|nationality|percentage|  count|\n",
      "+-----------+----------+-------+\n",
      "|         MX|     41.38|1639911|\n",
      "|         ES|      9.78| 387775|\n",
      "|         GT|      7.43| 294294|\n",
      "|         HO|      6.83| 270866|\n",
      "|         CH|      2.55| 100869|\n",
      "|         CU|      2.15|  85284|\n",
      "|         DR|      1.97|  78027|\n",
      "|         CO|      1.88|  74444|\n",
      "|         NU|      1.87|  74093|\n",
      "|         BR|      1.85|  73282|\n",
      "+-----------+----------+-------+\n",
      "\n"
     ]
    }
   ],
   "source": [
    "appeals_sql = \"\"\"\n",
    "SELECT *\n",
    "FROM\n",
    "(\n",
    "SELECT nationality, ROUND(COUNT(case_id) *100 / 544855, 2) as percentage, COUNT(case_id) as count\n",
    "FROM APPEALS_POP\n",
    "GROUP BY nationality\n",
    ") B\n",
    "ORDER BY B.count desc\n",
    "LIMIT 10\n",
    "\"\"\"\n",
    "appeals_nat = spark.sql(appeals_sql)\n",
    "appeals_nat.show()\n",
    "\n",
    "non_appeals_sql = \"\"\"\n",
    "SELECT *\n",
    "FROM\n",
    "(\n",
    "SELECT nationality, ROUND(COUNT(case_id) *100 / 3963292, 2) as percentage, COUNT(case_id) as count\n",
    "FROM NON_APPEALS_POP\n",
    "GROUP BY nationality\n",
    ") B\n",
    "ORDER BY B.count desc\n",
    "LIMIT 10\n",
    "\"\"\"\n",
    "non_appeals_nat = spark.sql(non_appeals_sql)\n",
    "non_appeals_nat.show()"
   ]
  },
  {
   "cell_type": "code",
   "execution_count": 72,
   "metadata": {},
   "outputs": [],
   "source": [
    "nationals.createOrReplaceTempView(\"NATIONALS\")\n",
    "tblAppeal.createOrReplaceTempView(\"APPEALS\")\n",
    "appeal_caseids = spark.sql(\"SELECT DISTINCT idncase as caseId FROM APPEALS\")\n",
    "appeal_caseids.createOrReplaceTempView(\"APPEAL_CASE_IDS\")\n"
   ]
  },
  {
   "cell_type": "code",
   "execution_count": 74,
   "metadata": {},
   "outputs": [
    {
     "name": "stdout",
     "output_type": "stream",
     "text": [
      "+------------------------------------------------------+\n",
      "|decision                                              |\n",
      "+------------------------------------------------------+\n",
      "|RELIEF GRANTED                                        |\n",
      "|GRANT                                                 |\n",
      "|SUSTAIN                                               |\n",
      "|VOLUNTARY DEPARTURE                                   |\n",
      "|null                                                  |\n",
      "|FAILURE TO PROSECUTE (DHS CASES ONLY)                 |\n",
      "|OTHER ADMINISTRATIVE COMPLETION                       |\n",
      "|TRANSFER                                              |\n",
      "|PROSECUTORIAL DISCRETION Ð TERMINATED                 |\n",
      "|DISMISSED                                             |\n",
      "|WITHDRAW                                              |\n",
      "|HAITIAN                                               |\n",
      "|VACATE - DHS DECISION AND ALIEN'S CLAIMED STATUS VALID|\n",
      "|VACATE - DHS DECISION AND CREDIBLE FEAR               |\n",
      "|DEPORT                                                |\n",
      "|ABANDONMENT                                           |\n",
      "|AFFIRMED - DHS DECISION                               |\n",
      "|ADMIT                                                 |\n",
      "|TERMINATE                                             |\n",
      "|AFFIRMED - DHS DECISION AND NO CREDIBLE FEAR          |\n",
      "+------------------------------------------------------+\n",
      "only showing top 20 rows\n",
      "\n"
     ]
    }
   ],
   "source": [
    "distinct_sql = \"\"\"\n",
    "SELECT DISTINCT decision\n",
    "FROM NATIONALS\n",
    "\"\"\"\n",
    "decisions = spark.sql(distinct_sql)\n",
    "decisions.show(20, False)"
   ]
  },
  {
   "cell_type": "code",
   "execution_count": 79,
   "metadata": {
    "collapsed": true
   },
   "outputs": [],
   "source": [
    "appeal_proportion_by_year_sql = \"\"\"\n",
    "SELECT year, COUNT(caseId) / COUNT(case_id) * 100 as appeal_rate, \n",
    "COUNT(caseId) as appeal_ct, \n",
    "COUNT(case_id) case_ct\n",
    "FROM\n",
    "(\n",
    "SELECT M.case_id, A.caseId, M.nationality, M.year\n",
    "FROM NATIONALS M\n",
    "LEFT JOIN APPEAL_CASE_IDS A\n",
    "ON M.case_id = A.caseId\n",
    "WHERE M.decision NOT IN ('GRANT','RELIEF GRANTED')\n",
    ") B\n",
    "GROUP BY year\n",
    "ORDER BY year\n",
    "\"\"\"\n",
    "    \n",
    "appeal_proportion_by_year = spark.sql(appeal_proportion_by_year_sql)\n",
    "df_pd_appeals_by_year = appeal_proportion_by_year.toPandas()"
   ]
  },
  {
   "cell_type": "code",
   "execution_count": 85,
   "metadata": {},
   "outputs": [
    {
     "data": {
      "text/html": [
       "<div>\n",
       "<style>\n",
       "    .dataframe thead tr:only-child th {\n",
       "        text-align: right;\n",
       "    }\n",
       "\n",
       "    .dataframe thead th {\n",
       "        text-align: left;\n",
       "    }\n",
       "\n",
       "    .dataframe tbody tr th {\n",
       "        vertical-align: top;\n",
       "    }\n",
       "</style>\n",
       "<table border=\"1\" class=\"dataframe\">\n",
       "  <thead>\n",
       "    <tr style=\"text-align: right;\">\n",
       "      <th></th>\n",
       "      <th>year</th>\n",
       "      <th>appeal_rate</th>\n",
       "      <th>appeal_ct</th>\n",
       "      <th>case_ct</th>\n",
       "    </tr>\n",
       "  </thead>\n",
       "  <tbody>\n",
       "    <tr>\n",
       "      <th>25</th>\n",
       "      <td>1976</td>\n",
       "      <td>30.845771</td>\n",
       "      <td>62</td>\n",
       "      <td>201</td>\n",
       "    </tr>\n",
       "    <tr>\n",
       "      <th>26</th>\n",
       "      <td>1977</td>\n",
       "      <td>31.250000</td>\n",
       "      <td>70</td>\n",
       "      <td>224</td>\n",
       "    </tr>\n",
       "    <tr>\n",
       "      <th>27</th>\n",
       "      <td>1978</td>\n",
       "      <td>30.463576</td>\n",
       "      <td>92</td>\n",
       "      <td>302</td>\n",
       "    </tr>\n",
       "    <tr>\n",
       "      <th>28</th>\n",
       "      <td>1979</td>\n",
       "      <td>30.215827</td>\n",
       "      <td>168</td>\n",
       "      <td>556</td>\n",
       "    </tr>\n",
       "    <tr>\n",
       "      <th>29</th>\n",
       "      <td>1980</td>\n",
       "      <td>30.802603</td>\n",
       "      <td>284</td>\n",
       "      <td>922</td>\n",
       "    </tr>\n",
       "    <tr>\n",
       "      <th>30</th>\n",
       "      <td>1981</td>\n",
       "      <td>32.286996</td>\n",
       "      <td>720</td>\n",
       "      <td>2230</td>\n",
       "    </tr>\n",
       "    <tr>\n",
       "      <th>31</th>\n",
       "      <td>1982</td>\n",
       "      <td>40.122200</td>\n",
       "      <td>1182</td>\n",
       "      <td>2946</td>\n",
       "    </tr>\n",
       "    <tr>\n",
       "      <th>32</th>\n",
       "      <td>1983</td>\n",
       "      <td>42.379651</td>\n",
       "      <td>2016</td>\n",
       "      <td>4757</td>\n",
       "    </tr>\n",
       "    <tr>\n",
       "      <th>33</th>\n",
       "      <td>1984</td>\n",
       "      <td>44.446629</td>\n",
       "      <td>4522</td>\n",
       "      <td>10174</td>\n",
       "    </tr>\n",
       "    <tr>\n",
       "      <th>34</th>\n",
       "      <td>1985</td>\n",
       "      <td>33.117903</td>\n",
       "      <td>7379</td>\n",
       "      <td>22281</td>\n",
       "    </tr>\n",
       "  </tbody>\n",
       "</table>\n",
       "</div>"
      ],
      "text/plain": [
       "    year  appeal_rate  appeal_ct  case_ct\n",
       "25  1976    30.845771         62      201\n",
       "26  1977    31.250000         70      224\n",
       "27  1978    30.463576         92      302\n",
       "28  1979    30.215827        168      556\n",
       "29  1980    30.802603        284      922\n",
       "30  1981    32.286996        720     2230\n",
       "31  1982    40.122200       1182     2946\n",
       "32  1983    42.379651       2016     4757\n",
       "33  1984    44.446629       4522    10174\n",
       "34  1985    33.117903       7379    22281"
      ]
     },
     "execution_count": 85,
     "metadata": {},
     "output_type": "execute_result"
    }
   ],
   "source": [
    "df_pd_appeals_by_year.dropna(inplace=True)\n",
    "df_pd_appeals_by_year.year = df_pd_appeals_by_year.year.astype(float)\n",
    "df_pd_appeals_by_year.year = df_pd_appeals_by_year.year.astype(int)\n",
    "df_pd_appeals_by_year = df_pd_appeals_by_year.query('year>1975')\n",
    "df_pd_appeals_by_year.head(10)\n"
   ]
  },
  {
   "cell_type": "code",
   "execution_count": 89,
   "metadata": {},
   "outputs": [
    {
     "data": {
      "text/plain": [
       "<matplotlib.text.Text at 0x1162c89b0>"
      ]
     },
     "execution_count": 89,
     "metadata": {},
     "output_type": "execute_result"
    },
    {
     "data": {
      "text/plain": [
       "<matplotlib.figure.Figure at 0x114e85d30>"
      ]
     },
     "metadata": {},
     "output_type": "display_data"
    },
    {
     "data": {
      "image/png": "[encoded data removed]",
      "text/plain": [
       "<matplotlib.figure.Figure at 0x114e219e8>"
      ]
     },
     "metadata": {},
     "output_type": "display_data"
    }
   ],
   "source": [
    "    \n",
    "plt.figure()\n",
    "df_pd_total_appeals_by_year = df_pd_appeals_by_year.drop(['appeal_rate'], axis=1)\n",
    "df_pd_total_appeals_by_year.plot(x='year')\n",
    "plt.title('Comparing Total Appeals Over Time')\n",
    "plt.xlim(1975,2012)\n",
    "# plt.ylim(0, 50)\n",
    "plt.ylabel('Total Cases')"
   ]
  },
  {
   "cell_type": "code",
   "execution_count": 91,
   "metadata": {},
   "outputs": [
    {
     "data": {
      "text/plain": [
       "<matplotlib.text.Text at 0x114e86198>"
      ]
     },
     "execution_count": 91,
     "metadata": {},
     "output_type": "execute_result"
    },
    {
     "data": {
      "text/plain": [
       "<matplotlib.figure.Figure at 0x115f37898>"
      ]
     },
     "metadata": {},
     "output_type": "display_data"
    },
    {
     "data": {
      "image/png": "[encoded data removed]",
      "text/plain": [
       "<matplotlib.figure.Figure at 0x115f23f28>"
      ]
     },
     "metadata": {},
     "output_type": "display_data"
    }
   ],
   "source": [
    "    \n",
    "plt.figure()\n",
    "df_pd_appeals_by_year.plot(x='year', legend=None)\n",
    "plt.title('Comparing Appeal Rate Over Time')\n",
    "plt.xlim(1975,2012)\n",
    "plt.ylim(0, 50)\n",
    "plt.ylabel('Rate of Appeal (%)')"
   ]
  }
 ],
 "metadata": {
  "kernelspec": {
   "display_name": "Python 3",
   "language": "python",
   "name": "python3"
  },
  "language_info": {
   "codemirror_mode": {
    "name": "ipython",
    "version": 3
   },
   "file_extension": ".py",
   "mimetype": "text/x-python",
   "name": "python",
   "nbconvert_exporter": "python",
   "pygments_lexer": "ipython3",
   "version": "3.6.1"
  }
 },
 "nbformat": 4,
 "nbformat_minor": 1
}
