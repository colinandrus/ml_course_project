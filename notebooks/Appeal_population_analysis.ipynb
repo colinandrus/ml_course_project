{
 "cells": [
  {
   "cell_type": "code",
   "execution_count": 1,
   "metadata": {
    "collapsed": true
   },
   "outputs": [],
   "source": [
    "import numpy as np \n",
    "import pandas as pd \n",
    "import random\n",
    "import matplotlib.pyplot as plt \n",
    "import os\n",
    "pd.set_option('display.max_rows', 200)\n",
    "%matplotlib inline"
   ]
  },
  {
   "cell_type": "code",
   "execution_count": 2,
   "metadata": {
    "collapsed": true
   },
   "outputs": [],
   "source": [
    "# define folder where data resides \n",
    "DATAFOLDER = \"/Users/snuffles753/Documents/NYU-GSAS/ds1003/term-project/data\""
   ]
  },
  {
   "cell_type": "code",
   "execution_count": null,
   "metadata": {
    "collapsed": true
   },
   "outputs": [],
   "source": [
    "import csv\n",
    "import os\n",
    "first = True\n",
    "with open(os.path.join(DATAFOLDER,'final_subset.csv'), 'w') as f_write:\n",
    "    with open(os.path.join(DATAFOLDER,'decision_sched_merge_adjdate.csv'), \"r\") as f:\n",
    "        read = csv.DictReader(f, delimiter=',')\n",
    "        for row in read:\n",
    "            if first:\n",
    "                f_write.write(\"case_id,proceeding_id,year,judge_id,nationality,lawyer,city_id\\n\")\n",
    "                first = False\n",
    "            else:\n",
    "                f_write.write(\"{},{},{},{},{},{},{}\\n\".format(row['idncase'], row['idnproceeding'],\n",
    "                                                              row['input_year'], row['judgeid'],\n",
    "                                                              row['nat'],row['lawyer'],row['cityid']))"
   ]
  },
  {
   "cell_type": "code",
   "execution_count": 3,
   "metadata": {},
   "outputs": [],
   "source": [
    "from pyspark.sql import SparkSession\n",
    "from pyspark import SparkContext\n",
    "# conf = SparkConf().setAppName(\"App\")\n",
    "# conf = conf.setMaster('local[*]').set('spark.executor.memory', '5G')\\\n",
    "# .set('spark.driver.memory', '5G')\\\n",
    "# .set('spark.driver.maxResultSize', '5G')\n",
    "\n",
    "sc = SparkContext.getOrCreate()\n",
    "sqlContext=SQLContext(sc);\n"
   ]
  },
  {
   "cell_type": "code",
   "execution_count": 4,
   "metadata": {},
   "outputs": [
    {
     "name": "stdout",
     "output_type": "stream",
     "text": [
      "root\n",
      " |-- _c0: string (nullable = true)\n",
      " |-- idncase: string (nullable = true)\n",
      " |-- nat: string (nullable = true)\n",
      " |-- case_type: string (nullable = true)\n",
      " |-- c_asy_type: string (nullable = true)\n",
      " |-- idnproceeding: string (nullable = true)\n",
      " |-- base_city_code: string (nullable = true)\n",
      " |-- hearing_loc_code: string (nullable = true)\n",
      " |-- dec_type: string (nullable = true)\n",
      " |-- dec_code: string (nullable = true)\n",
      " |-- other_comp: string (nullable = true)\n",
      " |-- attorney_flag: string (nullable = true)\n",
      " |-- ij_code: string (nullable = true)\n",
      " |-- tracid: string (nullable = true)\n",
      " |-- comp_year: string (nullable = true)\n",
      " |-- comp_month: string (nullable = true)\n",
      " |-- comp_day: string (nullable = true)\n",
      " |-- comp_date: string (nullable = true)\n",
      " |-- osc_year: string (nullable = true)\n",
      " |-- osc_month: string (nullable = true)\n",
      " |-- osc_day: string (nullable = true)\n",
      " |-- osc_date: string (nullable = true)\n",
      " |-- input_year: string (nullable = true)\n",
      " |-- input_month: string (nullable = true)\n",
      " |-- input_day: string (nullable = true)\n",
      " |-- input_date: string (nullable = true)\n",
      " |-- lawyer: string (nullable = true)\n",
      " |-- defensive: string (nullable = true)\n",
      " |-- affirmative: string (nullable = true)\n",
      " |-- case_type_string: string (nullable = true)\n",
      " |-- _mcase: string (nullable = true)\n",
      " |-- dec_type_string: string (nullable = true)\n",
      " |-- _mdectype: string (nullable = true)\n",
      " |-- outcome_recorded_in_field: string (nullable = true)\n",
      " |-- dec_string: string (nullable = true)\n",
      " |-- _mdecproceeddec: string (nullable = true)\n",
      " |-- _mdecproceedoth: string (nullable = true)\n",
      " |-- nat_string: string (nullable = true)\n",
      " |-- _mnat: string (nullable = true)\n",
      " |-- base_city_street: string (nullable = true)\n",
      " |-- base_city_string: string (nullable = true)\n",
      " |-- base_city_state: string (nullable = true)\n",
      " |-- base_city_zip5: string (nullable = true)\n",
      " |-- base_city_zip4: string (nullable = true)\n",
      " |-- base_city_phone: string (nullable = true)\n",
      " |-- _mbasecity: string (nullable = true)\n",
      " |-- hearing_loc_string1: string (nullable = true)\n",
      " |-- hearing_loc_string2: string (nullable = true)\n",
      " |-- hearing_loc_street: string (nullable = true)\n",
      " |-- hearing_loc_city: string (nullable = true)\n",
      " |-- hearing_loc_state: string (nullable = true)\n",
      " |-- hearing_loc_zip5: string (nullable = true)\n",
      " |-- hearing_loc_phone: string (nullable = true)\n",
      " |-- _mhearingloc: string (nullable = true)\n",
      " |-- judge_name_caps: string (nullable = true)\n",
      " |-- _mlookupijcode: string (nullable = true)\n",
      " |-- cityid: string (nullable = true)\n",
      " |-- judgeid: string (nullable = true)\n",
      " |-- natid: string (nullable = true)\n",
      " |-- venue_change: string (nullable = true)\n",
      " |-- deport: string (nullable = true)\n",
      " |-- relief_granted: string (nullable = true)\n",
      " |-- remove: string (nullable = true)\n",
      " |-- terminated: string (nullable = true)\n",
      " |-- voluntary_departure: string (nullable = true)\n",
      " |-- oral: string (nullable = true)\n",
      " |-- written: string (nullable = true)\n",
      " |-- deport_form: string (nullable = true)\n",
      " |-- voluntary_form: string (nullable = true)\n",
      " |-- deportation_proceeding: string (nullable = true)\n",
      " |-- exclusion_proceeding: string (nullable = true)\n",
      " |-- removal_proceeding: string (nullable = true)\n",
      " |-- asylum_only_proceeding: string (nullable = true)\n",
      " |-- withholding_only_proceeding: string (nullable = true)\n",
      " |-- idncode: string (nullable = true)\n",
      " |-- strdescription_chicago: string (nullable = true)\n",
      " |-- flag_decisionerror_strdes: string (nullable = true)\n",
      " |-- decision1_chicago: string (nullable = true)\n",
      " |-- grantordeny_chicago: string (nullable = true)\n",
      " |-- flag_decisionerror_idncaseproc: string (nullable = true)\n",
      " |-- decision2_chicago: string (nullable = true)\n",
      " |-- grant_asylum_chicago: string (nullable = true)\n",
      " |-- grant_withhold_chicago: string (nullable = true)\n",
      " |-- grant_cat_chicago: string (nullable = true)\n",
      " |-- _mmasterappl: string (nullable = true)\n",
      " |-- strdescription_holger: string (nullable = true)\n",
      " |-- decision1_holger: string (nullable = true)\n",
      " |-- grantordeny_holger: string (nullable = true)\n",
      " |-- decision2_holger: string (nullable = true)\n",
      " |-- grant_asylum_holger: string (nullable = true)\n",
      " |-- grant_withhold_holger: string (nullable = true)\n",
      " |-- grant_cat_holger: string (nullable = true)\n",
      " |-- _mmasterappl2: string (nullable = true)\n",
      " |-- adj_hearing_loc_code: string (nullable = true)\n",
      " |-- adj_base_city_code: string (nullable = true)\n",
      " |-- adj_time_start: string (nullable = true)\n",
      " |-- adj_date: string (nullable = true)\n",
      " |-- adj_input_date: string (nullable = true)\n",
      " |-- adj_osc_date: string (nullable = true)\n",
      " |-- flag_earlystarttime: string (nullable = true)\n",
      " |-- eoirattyid: string (nullable = true)\n",
      " |-- alienattyid: string (nullable = true)\n",
      " |-- _mschedcompdate: string (nullable = true)\n",
      " |-- flag_mismatch_base_city: string (nullable = true)\n",
      " |-- flag_mismatch_hearing: string (nullable = true)\n",
      " |-- _mscheddatetime: string (nullable = true)\n",
      " |-- flag_datemismatch: string (nullable = true)\n",
      "\n",
      "+---+-------+---+---------+----------+-------------+--------------+----------------+--------+--------+----------+-------------+-------+------+---------+----------+--------+---------+--------+---------+-------+--------+----------+-----------+---------+----------+------+---------+-----------+----------------+-----------+---------------+-----------+-------------------------+----------+---------------+---------------+----------+-----------+--------------------+----------------+---------------+--------------+--------------+---------------+-----------+-------------------+-------------------+--------------------+----------------+-----------------+----------------+-----------------+------------+--------------------+--------------+------+-------+-----+------------+------+--------------+------+----------+-------------------+----+-------+-----------+--------------+----------------------+--------------------+------------------+----------------------+---------------------------+---------+----------------------+-------------------------+-----------------+-------------------+------------------------------+-----------------+--------------------+----------------------+-----------------+---------------+---------------------+----------------+------------------+----------------+-------------------+---------------------+----------------+---------------+--------------------+------------------+--------------+--------+--------------+------------+-------------------+----------+-----------+---------------+-----------------------+---------------------+---------------+-----------------+\n",
      "|_c0|idncase|nat|case_type|c_asy_type|idnproceeding|base_city_code|hearing_loc_code|dec_type|dec_code|other_comp|attorney_flag|ij_code|tracid|comp_year|comp_month|comp_day|comp_date|osc_year|osc_month|osc_day|osc_date|input_year|input_month|input_day|input_date|lawyer|defensive|affirmative|case_type_string|     _mcase|dec_type_string|  _mdectype|outcome_recorded_in_field|dec_string|_mdecproceeddec|_mdecproceedoth|nat_string|      _mnat|    base_city_street|base_city_string|base_city_state|base_city_zip5|base_city_zip4|base_city_phone| _mbasecity|hearing_loc_string1|hearing_loc_string2|  hearing_loc_street|hearing_loc_city|hearing_loc_state|hearing_loc_zip5|hearing_loc_phone|_mhearingloc|     judge_name_caps|_mlookupijcode|cityid|judgeid|natid|venue_change|deport|relief_granted|remove|terminated|voluntary_departure|oral|written|deport_form|voluntary_form|deportation_proceeding|exclusion_proceeding|removal_proceeding|asylum_only_proceeding|withholding_only_proceeding|  idncode|strdescription_chicago|flag_decisionerror_strdes|decision1_chicago|grantordeny_chicago|flag_decisionerror_idncaseproc|decision2_chicago|grant_asylum_chicago|grant_withhold_chicago|grant_cat_chicago|   _mmasterappl|strdescription_holger|decision1_holger|grantordeny_holger|decision2_holger|grant_asylum_holger|grant_withhold_holger|grant_cat_holger|  _mmasterappl2|adj_hearing_loc_code|adj_base_city_code|adj_time_start|adj_date|adj_input_date|adj_osc_date|flag_earlystarttime|eoirattyid|alienattyid|_mschedcompdate|flag_mismatch_base_city|flag_mismatch_hearing|_mscheddatetime|flag_datemismatch|\n",
      "+---+-------+---+---------+----------+-------------+--------------+----------------+--------+--------+----------+-------------+-------+------+---------+----------+--------+---------+--------+---------+-------+--------+----------+-----------+---------+----------+------+---------+-----------+----------------+-----------+---------------+-----------+-------------------------+----------+---------------+---------------+----------+-----------+--------------------+----------------+---------------+--------------+--------------+---------------+-----------+-------------------+-------------------+--------------------+----------------+-----------------+----------------+-----------------+------------+--------------------+--------------+------+-------+-----+------------+------+--------------+------+----------+-------------------+----+-------+-----------+--------------+----------------------+--------------------+------------------+----------------------+---------------------------+---------+----------------------+-------------------------+-----------------+-------------------+------------------------------+-----------------+--------------------+----------------------+-----------------+---------------+---------------------+----------------+------------------+----------------+-------------------+---------------------+----------------+---------------+--------------------+------------------+--------------+--------+--------------+------------+-------------------+----------+-----------+---------------+-----------------------+---------------------+---------------+-----------------+\n",
      "|  0|2046920| MX|      RMV|      null|      3200048|           CHI|             CHD|       O|       X|      null|         null|    RDV|  31.0|     2004|         8|      11|    16294|  2004.0|      8.0|    6.0| 16289.0|    2004.0|        8.0|     11.0|   16294.0|     0|     null|       null|         REMOVAL|matched (3)|  ORAL DECISION|matched (3)|                        C|    REMOVE|    matched (3)|master only (1)|    MEXICO|matched (3)|525 W. VAN BUREN,...|         CHICAGO|             IL|         60607|           0.0|   3126975800.0|matched (3)|   CHICAGO DETAINED|  IMMIGRATION COURT|525 W. VAN BUREN,...|         CHICAGO|               IL|         60607.0|       3126975800| matched (3)|  ROBERT D. VINIKOOR|   matched (3)|     9|    325|152.0|         0.0|   0.0|           0.0|   1.0|       0.0|                0.0| 1.0|    0.0|        0.0|           0.0|                   0.0|                 0.0|               1.0|                   0.0|                        0.0|3152160.0|                  null|                     null|             null|               null|                          null|             null|                null|                  null|             null|master only (1)|                 null|            null|              null|            null|               null|                 null|            null|master only (1)|                 CHD|               CHI|        1630.0|   16294|         17389|     16289.0|                  0|      null|       null|    matched (3)|                      0|                  0.0|           null|             null|\n",
      "|  1|2046921| MX|      RMV|      null|      3200049|           CHI|             CHD|       O|       X|      null|         null|    RDV|  31.0|     2004|         8|      11|    16294|  2004.0|      8.0|    6.0| 16289.0|    2004.0|        8.0|     10.0|   16293.0|     0|     null|       null|         REMOVAL|matched (3)|  ORAL DECISION|matched (3)|                        C|    REMOVE|    matched (3)|master only (1)|    MEXICO|matched (3)|525 W. VAN BUREN,...|         CHICAGO|             IL|         60607|           0.0|   3126975800.0|matched (3)|   CHICAGO DETAINED|  IMMIGRATION COURT|525 W. VAN BUREN,...|         CHICAGO|               IL|         60607.0|       3126975800| matched (3)|  ROBERT D. VINIKOOR|   matched (3)|     9|    325|152.0|         0.0|   0.0|           0.0|   1.0|       0.0|                0.0| 1.0|    0.0|        0.0|           0.0|                   0.0|                 0.0|               1.0|                   0.0|                        0.0|3152161.0|                  null|                     null|             null|               null|                          null|             null|                null|                  null|             null|master only (1)|                 null|            null|              null|            null|               null|                 null|            null|master only (1)|                 CHD|               CHI|        1630.0|   16294|         17389|     16289.0|                  0|      null|       null|    matched (3)|                      0|                  0.0|           null|             null|\n",
      "|  2|2046922| MX|      RMV|      null|      3200050|           CHI|             CHD|       O|       X|      null|         null|    JLG|  29.0|     2004|         8|      19|    16302|  2004.0|      8.0|    9.0| 16292.0|    2004.0|        8.0|     19.0|   16302.0|     0|     null|       null|         REMOVAL|matched (3)|  ORAL DECISION|matched (3)|                        C|    REMOVE|    matched (3)|master only (1)|    MEXICO|matched (3)|525 W. VAN BUREN,...|         CHICAGO|             IL|         60607|           0.0|   3126975800.0|matched (3)|   CHICAGO DETAINED|  IMMIGRATION COURT|525 W. VAN BUREN,...|         CHICAGO|               IL|         60607.0|       3126975800| matched (3)|JENNIE L. GIAMBAS...|   matched (3)|     9|    194|152.0|         0.0|   0.0|           0.0|   1.0|       0.0|                0.0| 1.0|    0.0|        0.0|           0.0|                   0.0|                 0.0|               1.0|                   0.0|                        0.0|3152162.0|                  null|                     null|             null|               null|                          null|             null|                null|                  null|             null|master only (1)|                 null|            null|              null|            null|               null|                 null|            null|master only (1)|                 CHD|               CHI|        1630.0|   16302|         17389|     16292.0|                  0|      null|       null|    matched (3)|                      0|                  0.0|           null|             null|\n",
      "+---+-------+---+---------+----------+-------------+--------------+----------------+--------+--------+----------+-------------+-------+------+---------+----------+--------+---------+--------+---------+-------+--------+----------+-----------+---------+----------+------+---------+-----------+----------------+-----------+---------------+-----------+-------------------------+----------+---------------+---------------+----------+-----------+--------------------+----------------+---------------+--------------+--------------+---------------+-----------+-------------------+-------------------+--------------------+----------------+-----------------+----------------+-----------------+------------+--------------------+--------------+------+-------+-----+------------+------+--------------+------+----------+-------------------+----+-------+-----------+--------------+----------------------+--------------------+------------------+----------------------+---------------------------+---------+----------------------+-------------------------+-----------------+-------------------+------------------------------+-----------------+--------------------+----------------------+-----------------+---------------+---------------------+----------------+------------------+----------------+-------------------+---------------------+----------------+---------------+--------------------+------------------+--------------+--------+--------------+------------+-------------------+----------+-----------+---------------+-----------------------+---------------------+---------------+-----------------+\n",
      "only showing top 3 rows\n",
      "\n"
     ]
    }
   ],
   "source": [
    "spark=sqlContext.sparkSession\n",
    "master_dchen = spark.read.csv(os.path.join(DATAFOLDER,'decision_sched_merge_adjdate.csv'),\n",
    "                header=True,mode=\"DROPMALFORMED\")\n",
    "master_dchen.printSchema()\n",
    "master_dchen.show(3)"
   ]
  },
  {
   "cell_type": "code",
   "execution_count": 18,
   "metadata": {},
   "outputs": [
    {
     "name": "stdout",
     "output_type": "stream",
     "text": [
      "root\n",
      " |-- idnAppeal: string (nullable = true)\n",
      " |-- idncase: string (nullable = true)\n",
      " |-- idnProceeding: string (nullable = true)\n",
      " |-- strAppealCategory: string (nullable = true)\n",
      " |-- strAppealType: string (nullable = true)\n",
      " |-- datAppealFiled: string (nullable = true)\n",
      " |-- strFiledBy: string (nullable = true)\n",
      " |-- datAttorneyE27: string (nullable = true)\n",
      " |-- datBIADecision: string (nullable = true)\n",
      " |-- strBIADecision: string (nullable = true)\n",
      " |-- strBIADecisionType: string (nullable = true)\n",
      " |-- strCaseType: string (nullable = true)\n",
      " |-- strLang: string (nullable = true)\n",
      " |-- strNat: string (nullable = true)\n",
      " |-- strProceedingIHP: string (nullable = true)\n",
      " |-- strCustody: string (nullable = true)\n",
      " |-- strProbono: string (nullable = true)\n",
      "\n",
      "+---------+-------+-------------+-----------------+-------------+-------------------+----------+--------------+-------------------+--------------+------------------+-----------+-------+------+----------------+----------+----------+\n",
      "|idnAppeal|idncase|idnProceeding|strAppealCategory|strAppealType|     datAppealFiled|strFiledBy|datAttorneyE27|     datBIADecision|strBIADecision|strBIADecisionType|strCaseType|strLang|strNat|strProceedingIHP|strCustody|strProbono|\n",
      "+---------+-------+-------------+-----------------+-------------+-------------------+----------+--------------+-------------------+--------------+------------------+-----------+-------+------+----------------+----------+----------+\n",
      "|   186861|2048412|        93517|               MA|  Case Appeal|1994-03-23 00:00:00|         A|          null|1994-04-15 00:00:00|           SUS|                 P|        EXC|   null|    CA|            null|         D|      null|\n",
      "|  4389457|2050726|        98250|               IJ|  Case Appeal|1998-07-13 00:00:00|         A|          null|1999-02-09 00:00:00|           DIS|                 P|        RMV|    ENG|    DR|               S|         D|      null|\n",
      "|    53050|2050833|        97672|               IJ|  Case Appeal|1991-09-16 00:00:00|         A|          null|1992-10-02 00:00:00|           DIS|                 R|        DEP|     SP|    MX|            null|      null|      null|\n",
      "+---------+-------+-------------+-----------------+-------------+-------------------+----------+--------------+-------------------+--------------+------------------+-----------+-------+------+----------------+----------+----------+\n",
      "only showing top 3 rows\n",
      "\n",
      "648223\n"
     ]
    }
   ],
   "source": [
    "spark=sqlContext.sparkSession\n",
    "\n",
    "tblAppeal = spark.read.csv(os.path.join(DATAFOLDER, 'raw/tblAppeal.csv'),\n",
    "                header=True,mode=\"DROPMALFORMED\")\n",
    "tblAppeal = tblAppeal.dropDuplicates(['idncase'])\n",
    "\n",
    "tblAppeal.printSchema()\n",
    "tblAppeal.show(3)\n",
    "print(tblAppeal.count())"
   ]
  },
  {
   "cell_type": "code",
   "execution_count": 56,
   "metadata": {},
   "outputs": [
    {
     "name": "stdout",
     "output_type": "stream",
     "text": [
      "5664752\n",
      "root\n",
      " |-- case_id: string (nullable = true)\n",
      " |-- proceeding_id: string (nullable = true)\n",
      " |-- year: string (nullable = true)\n",
      " |-- judge_id: string (nullable = true)\n",
      " |-- nationality: string (nullable = true)\n",
      " |-- lawyer: string (nullable = true)\n",
      " |-- city_id: string (nullable = true)\n",
      "\n",
      "+-------+-------------+------+--------+-----------+------+-------+\n",
      "|case_id|proceeding_id|  year|judge_id|nationality|lawyer|city_id|\n",
      "+-------+-------------+------+--------+-----------+------+-------+\n",
      "|2046985|      3200124|2004.0|     325|         MO|     1|      9|\n",
      "|2047073|      3200025|2003.0|     325|         KU|     0|     25|\n",
      "|2047074|      3200026|2003.0|     402|         MX|     0|     15|\n",
      "|2047255|            8|1987.0|     335|         CA|     1|     28|\n",
      "|2047428|        91604|1998.0|     134|         MX|     1|     49|\n",
      "|2047465|      3199807|2003.0|     194|         HO|     0|     25|\n",
      "|2047615|      3199354|2003.0|     115|         BR|     1|     20|\n",
      "|2048200|        92804|2001.0|      73|         MX|     1|     12|\n",
      "|2048378|        92902|1987.0|     338|         MX|     0|     16|\n",
      "|2048731|        93656|1987.0|     308|         ES|     1|     47|\n",
      "+-------+-------------+------+--------+-----------+------+-------+\n",
      "only showing top 10 rows\n",
      "\n",
      "4976392\n"
     ]
    }
   ],
   "source": [
    "spark=sqlContext.sparkSession\n",
    "#case_id,proceeding_id,year,judge_id,nationality,lawyer,city_id\n",
    "nationals = spark.read.csv(os.path.join(DATAFOLDER,'final_subset.csv'),\n",
    "                header=True,mode=\"DROPMALFORMED\")\n",
    "print(nationals.count())\n",
    "nationals = nationals.dropDuplicates(['case_id', 'year'])\n",
    "nationals.printSchema()\n",
    "nationals.show(10)\n",
    "print(nationals.count())\n",
    "#5664752\n",
    "#4508147 - without year drop\n",
    "#4976392 - with year drop"
   ]
  },
  {
   "cell_type": "code",
   "execution_count": 24,
   "metadata": {},
   "outputs": [],
   "source": [
    "nationals.createOrReplaceTempView(\"NATIONALS\")\n",
    "tblAppeal.createOrReplaceTempView(\"APPEALS\")\n",
    "appeal_caseids = spark.sql(\"SELECT DISTINCT idncase as caseId FROM APPEALS\")\n",
    "appeal_caseids.createOrReplaceTempView(\"APPEAL_CASE_IDS\")\n",
    "\n",
    "appeals_sql = \"\"\"\n",
    "SELECT B.case_id, B.nationality\n",
    "FROM\n",
    "(\n",
    "SELECT M.case_id, A.caseId, M.nationality\n",
    "FROM NATIONALS M\n",
    "JOIN APPEAL_CASE_IDS A\n",
    "ON M.case_id = A.caseId\n",
    ") B\n",
    "\"\"\"\n",
    "appeals = spark.sql(appeals_sql)\n",
    "# appeals.show()\n",
    "# num_appeals = appeals.count()\n",
    "# print(num_appeals)\n",
    "\n",
    "non_appeals_sql = \"\"\"\n",
    "SELECT B.case_id, B.nationality\n",
    "FROM\n",
    "(\n",
    "SELECT M.case_id, A.caseId, M.nationality\n",
    "FROM NATIONALS M\n",
    "LEFT JOIN APPEAL_CASE_IDS A\n",
    "ON M.case_id = A.caseId\n",
    ") B\n",
    "WHERE caseId IS NULL\n",
    "\"\"\"\n",
    "non_appeals = spark.sql(non_appeals_sql)\n",
    "# non_appeals.show()\n",
    "# num_non_appeals = non_appeals.count()\n",
    "# print(num_non_appeals)\n",
    "        \n",
    "appeals.createOrReplaceTempView(\"APPEALS_POP\")\n",
    "non_appeals.createOrReplaceTempView(\"NON_APPEALS_POP\")"
   ]
  },
  {
   "cell_type": "code",
   "execution_count": 25,
   "metadata": {
    "collapsed": true
   },
   "outputs": [],
   "source": [
    "num_appeals = appeals.count()\n",
    "num_non_appeals = non_appeals.count()"
   ]
  },
  {
   "cell_type": "code",
   "execution_count": 26,
   "metadata": {},
   "outputs": [
    {
     "data": {
      "image/png": "[encoded data removed]",
      "text/plain": [
       "<matplotlib.figure.Figure at 0x114dde898>"
      ]
     },
     "metadata": {},
     "output_type": "display_data"
    }
   ],
   "source": [
    "\n",
    "\n",
    "labels = 'Appealed Cases', 'Non-appealed Cases'\n",
    "sizes = [num_appeals, num_non_appeals]\n",
    "\n",
    "fig1, ax1 = plt.subplots()\n",
    "ax1.pie(sizes, labels=labels, autopct='%1.1f%%', shadow=True, startangle=90)\n",
    "ax1.axis('equal')  # Equal aspect ratio ensures that pie is drawn as a circle.\n",
    "\n",
    "plt.show()"
   ]
  },
  {
   "cell_type": "code",
   "execution_count": 27,
   "metadata": {},
   "outputs": [
    {
     "name": "stdout",
     "output_type": "stream",
     "text": [
      "544855\n",
      "3963292\n"
     ]
    }
   ],
   "source": [
    "print(num_appeals)\n",
    "print(num_non_appeals)"
   ]
  },
  {
   "cell_type": "code",
   "execution_count": 28,
   "metadata": {},
   "outputs": [
    {
     "name": "stdout",
     "output_type": "stream",
     "text": [
      "+-----------+----------+------+\n",
      "|nationality|percentage| count|\n",
      "+-----------+----------+------+\n",
      "|         MX|     21.93|119488|\n",
      "|         CH|      9.07| 49434|\n",
      "|         ES|      8.02| 43688|\n",
      "|         HA|      6.82| 37154|\n",
      "|         GT|      5.65| 30758|\n",
      "|         CO|      3.82| 20833|\n",
      "|         NU|       3.5| 19075|\n",
      "|         IN|      2.51| 13682|\n",
      "|         HO|      2.33| 12676|\n",
      "|         DR|      2.11| 11486|\n",
      "+-----------+----------+------+\n",
      "\n",
      "+-----------+----------+-------+\n",
      "|nationality|percentage|  count|\n",
      "+-----------+----------+-------+\n",
      "|         MX|     41.38|1639911|\n",
      "|         ES|      9.78| 387775|\n",
      "|         GT|      7.43| 294294|\n",
      "|         HO|      6.83| 270866|\n",
      "|         CH|      2.55| 100869|\n",
      "|         CU|      2.15|  85284|\n",
      "|         DR|      1.97|  78027|\n",
      "|         CO|      1.88|  74444|\n",
      "|         NU|      1.87|  74093|\n",
      "|         BR|      1.85|  73282|\n",
      "+-----------+----------+-------+\n",
      "\n"
     ]
    }
   ],
   "source": [
    "appeals_sql = \"\"\"\n",
    "SELECT *\n",
    "FROM\n",
    "(\n",
    "SELECT nationality, ROUND(COUNT(case_id) *100 / 544855, 2) as percentage, COUNT(case_id) as count\n",
    "FROM APPEALS_POP\n",
    "GROUP BY nationality\n",
    ") B\n",
    "ORDER BY B.count desc\n",
    "LIMIT 10\n",
    "\"\"\"\n",
    "appeals_nat = spark.sql(appeals_sql)\n",
    "appeals_nat.show()\n",
    "\n",
    "non_appeals_sql = \"\"\"\n",
    "SELECT *\n",
    "FROM\n",
    "(\n",
    "SELECT nationality, ROUND(COUNT(case_id) *100 / 3963292, 2) as percentage, COUNT(case_id) as count\n",
    "FROM NON_APPEALS_POP\n",
    "GROUP BY nationality\n",
    ") B\n",
    "ORDER BY B.count desc\n",
    "LIMIT 10\n",
    "\"\"\"\n",
    "non_appeals_nat = spark.sql(non_appeals_sql)\n",
    "non_appeals_nat.show()"
   ]
  },
  {
   "cell_type": "code",
   "execution_count": 41,
   "metadata": {},
   "outputs": [],
   "source": [
    "nationals.createOrReplaceTempView(\"NATIONALS\")\n",
    "tblAppeal.createOrReplaceTempView(\"APPEALS\")\n",
    "appeal_caseids = spark.sql(\"SELECT DISTINCT idncase as caseId FROM APPEALS\")\n",
    "appeal_caseids.createOrReplaceTempView(\"APPEAL_CASE_IDS\")\n",
    "\n",
    "appeal_proportion_by_year_sql = \"\"\"\n",
    "SELECT year, COUNT(caseId) / COUNT(case_id) * 100 as appeal_rate\n",
    "FROM\n",
    "(\n",
    "SELECT M.case_id, A.caseId, M.nationality, M.year\n",
    "FROM NATIONALS M\n",
    "LEFT JOIN APPEAL_CASE_IDS A\n",
    "ON M.case_id = A.caseId\n",
    ") B\n",
    "GROUP BY year\n",
    "ORDER BY year\n",
    "\"\"\"\n",
    "    \n",
    "appeal_proportion_by_year = spark.sql(appeal_proportion_by_year_sql)\n",
    "df_pd_appeals_by_year = appeal_proportion_by_year.toPandas()\n"
   ]
  },
  {
   "cell_type": "code",
   "execution_count": 51,
   "metadata": {},
   "outputs": [
    {
     "data": {
      "text/html": [
       "<div>\n",
       "<style>\n",
       "    .dataframe thead tr:only-child th {\n",
       "        text-align: right;\n",
       "    }\n",
       "\n",
       "    .dataframe thead th {\n",
       "        text-align: left;\n",
       "    }\n",
       "\n",
       "    .dataframe tbody tr th {\n",
       "        vertical-align: top;\n",
       "    }\n",
       "</style>\n",
       "<table border=\"1\" class=\"dataframe\">\n",
       "  <thead>\n",
       "    <tr style=\"text-align: right;\">\n",
       "      <th></th>\n",
       "      <th>year</th>\n",
       "      <th>appeal_rate</th>\n",
       "    </tr>\n",
       "  </thead>\n",
       "  <tbody>\n",
       "    <tr>\n",
       "      <th>22</th>\n",
       "      <td>1976</td>\n",
       "      <td>26.865672</td>\n",
       "    </tr>\n",
       "    <tr>\n",
       "      <th>23</th>\n",
       "      <td>1977</td>\n",
       "      <td>25.454545</td>\n",
       "    </tr>\n",
       "    <tr>\n",
       "      <th>24</th>\n",
       "      <td>1978</td>\n",
       "      <td>28.112450</td>\n",
       "    </tr>\n",
       "    <tr>\n",
       "      <th>25</th>\n",
       "      <td>1979</td>\n",
       "      <td>26.033058</td>\n",
       "    </tr>\n",
       "    <tr>\n",
       "      <th>26</th>\n",
       "      <td>1980</td>\n",
       "      <td>27.036199</td>\n",
       "    </tr>\n",
       "  </tbody>\n",
       "</table>\n",
       "</div>"
      ],
      "text/plain": [
       "    year  appeal_rate\n",
       "22  1976    26.865672\n",
       "23  1977    25.454545\n",
       "24  1978    28.112450\n",
       "25  1979    26.033058\n",
       "26  1980    27.036199"
      ]
     },
     "execution_count": 51,
     "metadata": {},
     "output_type": "execute_result"
    }
   ],
   "source": [
    "df_pd_appeals_by_year.dropna(inplace=True)\n",
    "df_pd_appeals_by_year.year = df_pd_appeals_by_year.year.astype(float)\n",
    "df_pd_appeals_by_year.year = df_pd_appeals_by_year.year.astype(int)\n",
    "df_pd_appeals_by_year = df_pd_appeals_by_year.query('year>1975')\n",
    "df_pd_appeals_by_year.head()\n"
   ]
  },
  {
   "cell_type": "code",
   "execution_count": 60,
   "metadata": {},
   "outputs": [
    {
     "data": {
      "text/plain": [
       "<matplotlib.text.Text at 0x1160ddc18>"
      ]
     },
     "execution_count": 60,
     "metadata": {},
     "output_type": "execute_result"
    },
    {
     "data": {
      "text/plain": [
       "<matplotlib.figure.Figure at 0x1160c5978>"
      ]
     },
     "metadata": {},
     "output_type": "display_data"
    },
    {
     "data": {
      "image/png": "[encoded data removed]",
      "text/plain": [
       "<matplotlib.figure.Figure at 0x115fb94a8>"
      ]
     },
     "metadata": {},
     "output_type": "display_data"
    }
   ],
   "source": [
    "    \n",
    "plt.figure()\n",
    "df_pd_appeals_by_year.plot(x='year', legend=None)\n",
    "plt.title('Comparing Appeal Rate Over Time')\n",
    "plt.xlim(1975,2015)\n",
    "plt.ylim(0, 50)\n",
    "plt.ylabel('Rate of Appeal (%)')"
   ]
  }
 ],
 "metadata": {
  "kernelspec": {
   "display_name": "Python 3",
   "language": "python",
   "name": "python3"
  },
  "language_info": {
   "codemirror_mode": {
    "name": "ipython",
    "version": 3
   },
   "file_extension": ".py",
   "mimetype": "text/x-python",
   "name": "python",
   "nbconvert_exporter": "python",
   "pygments_lexer": "ipython3",
   "version": "3.6.1"
  }
 },
 "nbformat": 4,
 "nbformat_minor": 1
}
