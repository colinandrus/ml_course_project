{
 "cells": [
  {
   "cell_type": "code",
   "execution_count": 1,
   "metadata": {
    "collapsed": true
   },
   "outputs": [],
   "source": [
    "import numpy as np \n",
    "import pandas as pd \n",
    "import matplotlib.pyplot as plt\n",
    "%matplotlib inline "
   ]
  },
  {
   "cell_type": "markdown",
   "metadata": {},
   "source": [
    "# Bayesian Adjustment"
   ]
  },
  {
   "cell_type": "markdown",
   "metadata": {},
   "source": [
    "### Background and Motivation "
   ]
  },
  {
   "cell_type": "markdown",
   "metadata": {},
   "source": [
    "Since we are segmenting judge's grant/appeal/appeal-grant rates within various appeal segments, we need an elegant way to derive these rates for groups that have very small, or no sample sizes. To this end, we will leverage the beta-binomial Bayesian model, where we assign priors that approximate the overall grant rate within each segment aggregated across judges. We then update the posterior distribution with each judge's data to obtain the 'Bayesian-adjusted' judge's rate (this is also known as the posterior mean). We will define this formally below: "
   ]
  },
  {
   "cell_type": "markdown",
   "metadata": {},
   "source": [
    "### Formal Definition  "
   ]
  },
  {
   "cell_type": "markdown",
   "metadata": {},
   "source": [
    "Let $n_{i,j}$ be the total number of cases belonging to segment $i$ (e.g. Chinese Nationality is an example of a segment) and judge $j$\n",
    "\n",
    "and $g_{i,j}$ be the number of such cases that were granted (or appealed, or appeal-granted) \n",
    "\n",
    "and $\\theta_{i,j}$ be the probability that the judge grants a given case from segment $i$\n",
    "\n",
    "We then assume $\\theta_{i,j} \\sim Beta(\\alpha, \\beta)$ and choose Beta priors $\\alpha_i$ and $\\beta_i$ such that: \n",
    "- the effective sample size is $\\alpha_i + \\beta_i = 10$ \n",
    "- the prior mean $\\frac{\\alpha_i}{\\alpha_i + \\beta_i}$ approximates the aggregate grant rate, rounded to the nearest 10% (e.g. if aggregate grant rate is 30%, set $\\alpha_i=3$ and $\\beta_i=7$) \n",
    "\n",
    "After observing each judge $i$'s data (i.e. granting $g_{i,j}$ out of $n_{i,j}$), we then update our posterior distribution to $\\theta_{i,j} \\sim Beta(\\alpha_i + g_{i,j}, \\beta_i + n_{i,j} - g_{i,j})$. This yields a posterior mean that we would use as our Bayesian-adjusted judge's appeal grant rate: $\\frac{\\alpha_i + g_{i,j}}{(\\alpha_i + \\beta_i) + n_{i,j}}$. "
   ]
  },
  {
   "cell_type": "markdown",
   "metadata": {},
   "source": [
    "### Worked Example "
   ]
  },
  {
   "cell_type": "markdown",
   "metadata": {},
   "source": [
    "Suppose there are 40000 cases in which respondents are of Chinese Nationality in total, of which 11000 were granted. \n",
    "\n",
    "This means the aggregate grant rate is $\\frac{11000}{40000} = 0.275 = 0.3$ (rounded to nearest 10%). \n",
    "\n",
    "We would then chose Beta priors $\\alpha_i=3$ and $\\beta_i=7$ such that $\\frac{\\alpha_i}{\\alpha_i + \\beta_i} = \\frac{3}{3 + 7} = 0.3 $ to reflect this judge-agnostic aggregate grant rate for Chinese Nationality, while maintaining an effective sample size of $\\alpha_i + \\beta_i = 3 + 7 = 10$. Effectively this means that our prior beliefs are given weight equivalent to that of 10 observed samples. \n",
    "\n",
    "Now suppose we have a Judge 1 that saw $n_{i,1}=40$ cases in which respondents are of Chinese nationality, of which he granted $g_{i,1}=28$ (or 70%) of them. Then his 'Bayesian-adjusted' grant rate (i.e. posterior mean) is $\\frac{\\alpha_i + g_{i,j}}{(\\alpha_i + \\beta_i) + n_{i,j}} = \\frac{3 + 28}{10 + 40}$ = 62%\n",
    "\n",
    "Contrast this with Judge 2 that saw $n_{i,2}=10$ cases of Chinese nationality, of which he granted 7 (or 70%) of them. Empirically, Judge 2 approved the same percentage of cases as Judge 1, but we have much less data and thus lower certainty that Judge 2 is indeed predisposed to granting more Chinese nationals than average. This is reflected in his 'Bayesian-adjusted' grant rate, which works out to $\\frac{3 + 7}{10 + 10}$ = 50%, which deviates less from the prior mean than Judge 1. "
   ]
  },
  {
   "cell_type": "markdown",
   "metadata": {},
   "source": [
    "### Code"
   ]
  },
  {
   "cell_type": "markdown",
   "metadata": {},
   "source": [
    "Below are methods that can be used to: \n",
    "- calibrate Beta priors ($\\alpha, \\beta$) based on the aggregate grant rate for a given segment \n",
    "- compute 'Bayesian-adjusted' grant rate (or posterior mean) based on calibrated priors and observed data (num_total, num_positives)\n",
    "- tie the above into a single function  "
   ]
  },
  {
   "cell_type": "code",
   "execution_count": 32,
   "metadata": {
    "collapsed": true
   },
   "outputs": [],
   "source": [
    "# calibrate beta priors \n",
    "\n",
    "def calibrate_beta_priors(aggregate_mean): \n",
    "    \"\"\"\n",
    "    Takes aggregate rate and return Beta priors (alpha, beta) with prior mean approximating aggregate rate, \n",
    "    with effective sample size of 10 \n",
    "    \"\"\"\n",
    "    \n",
    "    rounded_rate = np.round(aggregate_mean, 1)\n",
    "    alpha = int(rounded_rate * 10) \n",
    "    beta = 10 - alpha \n",
    "    \n",
    "    return alpha, beta "
   ]
  },
  {
   "cell_type": "code",
   "execution_count": 33,
   "metadata": {
    "collapsed": false
   },
   "outputs": [
    {
     "data": {
      "text/plain": [
       "(3, 7)"
      ]
     },
     "execution_count": 33,
     "metadata": {},
     "output_type": "execute_result"
    }
   ],
   "source": [
    "calibrate_beta_priors(aggregate_mean=0.275)"
   ]
  },
  {
   "cell_type": "code",
   "execution_count": 34,
   "metadata": {
    "collapsed": true
   },
   "outputs": [],
   "source": [
    "# compute posterior mean given beta priors and observed data \n",
    "\n",
    "def compute_posterior_mean(alpha_prior, beta_prior, num_positives, num_total): \n",
    "    \"\"\" \n",
    "    Takes Beta priors (alpha, beta) along with observed data (num_total, num_positives) \n",
    "    and returns posterior mean \n",
    "    \"\"\"\n",
    "    \n",
    "    updated_alpha = alpha_prior + num_positives \n",
    "    updated_beta = beta_prior + num_total - num_positives \n",
    "    \n",
    "    posterior_mean = float(updated_alpha) / (updated_alpha + updated_beta)\n",
    "    \n",
    "    return posterior_mean "
   ]
  },
  {
   "cell_type": "code",
   "execution_count": 35,
   "metadata": {
    "collapsed": false
   },
   "outputs": [
    {
     "data": {
      "text/plain": [
       "0.62"
      ]
     },
     "execution_count": 35,
     "metadata": {},
     "output_type": "execute_result"
    }
   ],
   "source": [
    "compute_posterior_mean(alpha_prior=3, beta_prior=7, num_positives=28, num_total=40)"
   ]
  },
  {
   "cell_type": "code",
   "execution_count": 37,
   "metadata": {
    "collapsed": true
   },
   "outputs": [],
   "source": [
    "# calibrate beta priors \n",
    "\n",
    "def get_beta_adj_rate(aggregate_mean, num_positives, num_total): \n",
    "    \"\"\" \n",
    "    Takes aggregate mean as a float (from 0 to 1), num_total (integer), and num_positives (integer) \n",
    "    and return the 'Beta-adjusted' rate. \n",
    "    Example: if in total 30% of Chinese nationality cases were granted, and a specific judge saw 20 cases \n",
    "    and granted 14 of them, input aggregate_mean=0.3, num_total=20, and num_positives=14 \n",
    "    \"\"\"\n",
    "    \n",
    "    if type(aggregate_mean) is not float: \n",
    "        raise ValueError(\"Please enter a float for aggregate mean!\")\n",
    "        \n",
    "    if aggregate_mean < 0 or aggregate_mean > 1: \n",
    "        raise ValueError(\"Aggregate mean must be between 0 and 1!\")\n",
    "            \n",
    "    alpha_prior, beta_prior = calibrate_beta_priors(aggregate_mean)\n",
    "    posterior_mean = compute_posterior_mean(alpha_prior, beta_prior, num_positives, num_total)\n",
    "    \n",
    "    return posterior_mean"
   ]
  },
  {
   "cell_type": "code",
   "execution_count": 39,
   "metadata": {
    "collapsed": false
   },
   "outputs": [
    {
     "data": {
      "text/plain": [
       "0.62"
      ]
     },
     "execution_count": 39,
     "metadata": {},
     "output_type": "execute_result"
    }
   ],
   "source": [
    "get_beta_adj_rate(aggregate_mean=0.3, num_positives=28, num_total=40)"
   ]
  }
 ],
 "metadata": {
  "kernelspec": {
   "display_name": "Python 2",
   "language": "python",
   "name": "python2"
  },
  "language_info": {
   "codemirror_mode": {
    "name": "ipython",
    "version": 2
   },
   "file_extension": ".py",
   "mimetype": "text/x-python",
   "name": "python",
   "nbconvert_exporter": "python",
   "pygments_lexer": "ipython2",
   "version": "2.7.11"
  }
 },
 "nbformat": 4,
 "nbformat_minor": 0
}
